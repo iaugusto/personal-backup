{
 "cells": [
  {
   "cell_type": "markdown",
   "id": "f5f87e42",
   "metadata": {},
   "source": [
    "# Spacy Entity Recognition"
   ]
  },
  {
   "cell_type": "code",
   "execution_count": 1,
   "id": "2c881d11",
   "metadata": {},
   "outputs": [],
   "source": [
    "# %pip install awswrangler\n",
    "# !pip install spacy && python -m spacy download pt_core_news_sm"
   ]
  },
  {
   "cell_type": "code",
   "execution_count": 2,
   "id": "b133c43b",
   "metadata": {},
   "outputs": [
    {
     "name": "stdout",
     "output_type": "stream",
     "text": [
      "added  /home/ec2-user/SageMaker/ons-poc-manobras-catalog/src  to sys.\n"
     ]
    },
    {
     "name": "stderr",
     "output_type": "stream",
     "text": [
      "[nltk_data] Downloading package punkt to /home/ec2-user/nltk_data...\n",
      "[nltk_data]   Package punkt is already up-to-date!\n"
     ]
    }
   ],
   "source": [
    "import os \n",
    "import sys\n",
    "import json\n",
    "import boto3 \n",
    "import spacy\n",
    "import random\n",
    "import numpy as np\n",
    "import pandas as pd\n",
    "import awswrangler as wr\n",
    "from spacy.tokens import DocBin\n",
    "import matplotlib.pyplot as plt\n",
    "from spacy.training import Example\n",
    "from spacy.util import minibatch, compounding\n",
    "\n",
    "from sagemaker import get_execution_role\n",
    "role = get_execution_role()\n",
    "\n",
    "sys.path.append(os.path.dirname(os.getcwd()) + '/src')\n",
    "print('added ', os.path.dirname(os.getcwd()) + '/src', ' to sys.')\n",
    "from preprocess import preprocess_data"
   ]
  },
  {
   "cell_type": "code",
   "execution_count": 3,
   "id": "3a158b56",
   "metadata": {},
   "outputs": [
    {
     "data": {
      "text/html": [
       "<div>\n",
       "<style scoped>\n",
       "    .dataframe tbody tr th:only-of-type {\n",
       "        vertical-align: middle;\n",
       "    }\n",
       "\n",
       "    .dataframe tbody tr th {\n",
       "        vertical-align: top;\n",
       "    }\n",
       "\n",
       "    .dataframe thead th {\n",
       "        text-align: right;\n",
       "    }\n",
       "</style>\n",
       "<table border=\"1\" class=\"dataframe\">\n",
       "  <thead>\n",
       "    <tr style=\"text-align: right;\">\n",
       "      <th></th>\n",
       "      <th>region</th>\n",
       "      <th>text</th>\n",
       "      <th>start</th>\n",
       "      <th>end</th>\n",
       "      <th>label</th>\n",
       "    </tr>\n",
       "  </thead>\n",
       "  <tbody>\n",
       "    <tr>\n",
       "      <th>0</th>\n",
       "      <td>cosr-nco</td>\n",
       "      <td>passocoordenaçãocontrolecomando / execuçãoproc...</td>\n",
       "      <td>97</td>\n",
       "      <td>106</td>\n",
       "      <td>ACAO_A_EXECUTAR</td>\n",
       "    </tr>\n",
       "    <tr>\n",
       "      <th>1</th>\n",
       "      <td>cosr-nco</td>\n",
       "      <td>passocoordenaçãocontrolecomando / execuçãoproc...</td>\n",
       "      <td>270</td>\n",
       "      <td>279</td>\n",
       "      <td>ACAO_A_EXECUTAR</td>\n",
       "    </tr>\n",
       "    <tr>\n",
       "      <th>2</th>\n",
       "      <td>cosr-nco</td>\n",
       "      <td>passocoordenaçãocontrolecomando / execuçãoproc...</td>\n",
       "      <td>373</td>\n",
       "      <td>381</td>\n",
       "      <td>ACAO_A_EXECUTAR</td>\n",
       "    </tr>\n",
       "    <tr>\n",
       "      <th>3</th>\n",
       "      <td>cosr-nco</td>\n",
       "      <td>passocoordenaçãocontrolecomando / execuçãoproc...</td>\n",
       "      <td>460</td>\n",
       "      <td>474</td>\n",
       "      <td>ACAO_A_EXECUTAR</td>\n",
       "    </tr>\n",
       "    <tr>\n",
       "      <th>4</th>\n",
       "      <td>cosr-nco</td>\n",
       "      <td>passocoordenaçãocontrolecomando / execuçãoproc...</td>\n",
       "      <td>493</td>\n",
       "      <td>502</td>\n",
       "      <td>ACAO_A_EXECUTAR</td>\n",
       "    </tr>\n",
       "    <tr>\n",
       "      <th>...</th>\n",
       "      <td>...</td>\n",
       "      <td>...</td>\n",
       "      <td>...</td>\n",
       "      <td>...</td>\n",
       "      <td>...</td>\n",
       "    </tr>\n",
       "    <tr>\n",
       "      <th>28059</th>\n",
       "      <td>cosr-se</td>\n",
       "      <td>passocoordenaçãocontrolecomando / execuçãoproc...</td>\n",
       "      <td>369</td>\n",
       "      <td>390</td>\n",
       "      <td>INEQUACAO</td>\n",
       "    </tr>\n",
       "    <tr>\n",
       "      <th>28060</th>\n",
       "      <td>cosr-se</td>\n",
       "      <td>passocoordenaçãocontrolecomando / execuçãoproc...</td>\n",
       "      <td>369</td>\n",
       "      <td>375</td>\n",
       "      <td>VALOR_COM_UNID.MEDIDA</td>\n",
       "    </tr>\n",
       "    <tr>\n",
       "      <th>28061</th>\n",
       "      <td>cosr-se</td>\n",
       "      <td>passocoordenaçãocontrolecomando / execuçãoproc...</td>\n",
       "      <td>376</td>\n",
       "      <td>377</td>\n",
       "      <td>OPERADOR_MATEMATICO</td>\n",
       "    </tr>\n",
       "    <tr>\n",
       "      <th>28062</th>\n",
       "      <td>cosr-se</td>\n",
       "      <td>passocoordenaçãocontrolecomando / execuçãoproc...</td>\n",
       "      <td>378</td>\n",
       "      <td>379</td>\n",
       "      <td>VALOR_COM_UNID.MEDIDA</td>\n",
       "    </tr>\n",
       "    <tr>\n",
       "      <th>28063</th>\n",
       "      <td>cosr-se</td>\n",
       "      <td>passocoordenaçãocontrolecomando / execuçãoproc...</td>\n",
       "      <td>380</td>\n",
       "      <td>389</td>\n",
       "      <td>SUBESTACAO</td>\n",
       "    </tr>\n",
       "  </tbody>\n",
       "</table>\n",
       "<p>28064 rows × 5 columns</p>\n",
       "</div>"
      ],
      "text/plain": [
       "         region                                               text  start  \\\n",
       "0      cosr-nco  passocoordenaçãocontrolecomando / execuçãoproc...     97   \n",
       "1      cosr-nco  passocoordenaçãocontrolecomando / execuçãoproc...    270   \n",
       "2      cosr-nco  passocoordenaçãocontrolecomando / execuçãoproc...    373   \n",
       "3      cosr-nco  passocoordenaçãocontrolecomando / execuçãoproc...    460   \n",
       "4      cosr-nco  passocoordenaçãocontrolecomando / execuçãoproc...    493   \n",
       "...         ...                                                ...    ...   \n",
       "28059   cosr-se  passocoordenaçãocontrolecomando / execuçãoproc...    369   \n",
       "28060   cosr-se  passocoordenaçãocontrolecomando / execuçãoproc...    369   \n",
       "28061   cosr-se  passocoordenaçãocontrolecomando / execuçãoproc...    376   \n",
       "28062   cosr-se  passocoordenaçãocontrolecomando / execuçãoproc...    378   \n",
       "28063   cosr-se  passocoordenaçãocontrolecomando / execuçãoproc...    380   \n",
       "\n",
       "       end                  label  \n",
       "0      106        ACAO_A_EXECUTAR  \n",
       "1      279        ACAO_A_EXECUTAR  \n",
       "2      381        ACAO_A_EXECUTAR  \n",
       "3      474        ACAO_A_EXECUTAR  \n",
       "4      502        ACAO_A_EXECUTAR  \n",
       "...    ...                    ...  \n",
       "28059  390              INEQUACAO  \n",
       "28060  375  VALOR_COM_UNID.MEDIDA  \n",
       "28061  377    OPERADOR_MATEMATICO  \n",
       "28062  379  VALOR_COM_UNID.MEDIDA  \n",
       "28063  389             SUBESTACAO  \n",
       "\n",
       "[28064 rows x 5 columns]"
      ]
     },
     "execution_count": 3,
     "metadata": {},
     "output_type": "execute_result"
    }
   ],
   "source": [
    "bucket = 'ons-dl-dev-landing'\n",
    "prefix = 'ons/mpo_ds_nlp/data/preprocessed_output/spacy.parquet'\n",
    "input_uri = 's3://{}/{}'.format(bucket, prefix)\n",
    "df = pd.read_parquet(input_uri)\n",
    "df['text'] = df['text'].str.lower()\n",
    "df"
   ]
  },
  {
   "cell_type": "markdown",
   "id": "86d44847",
   "metadata": {},
   "source": [
    "## Equipment column"
   ]
  },
  {
   "cell_type": "code",
   "execution_count": 4,
   "id": "37595eb9",
   "metadata": {},
   "outputs": [],
   "source": [
    "# preproc = preprocess_data()\n",
    "\n",
    "# # reading file contents from s3 bucket\n",
    "# df_raw = preproc.get_baseline_text()\n",
    "# df_raw['texto'] = df_raw['texto'].str.lower()\n",
    "# df_raw.head()"
   ]
  },
  {
   "cell_type": "code",
   "execution_count": 5,
   "id": "86a2ace4",
   "metadata": {},
   "outputs": [],
   "source": [
    "#df_raw.columns"
   ]
  },
  {
   "cell_type": "code",
   "execution_count": 6,
   "id": "ed0ec284",
   "metadata": {},
   "outputs": [],
   "source": [
    "# df['equipment'] = None\n",
    "# unique_txt = list(set(df['text']))\n",
    "\n",
    "# for text in unique_txt:\n",
    "#     df_map = df_raw[df_raw['texto'] == text]\n",
    "#     df_aux = df[df['text'] == text]\n",
    "#     index_list = list(df_aux.index)\n",
    "#     df['equipment'].iloc[index_list] = str(df_map['MpoEquipamentos'].values[0])\n",
    "#     equip_dict['text'].append(text)\n",
    "\n",
    "# df"
   ]
  },
  {
   "cell_type": "markdown",
   "id": "41e89180",
   "metadata": {},
   "source": [
    "## "
   ]
  },
  {
   "cell_type": "markdown",
   "id": "a195a3b1",
   "metadata": {},
   "source": [
    "## Selecting one region for testing"
   ]
  },
  {
   "cell_type": "code",
   "execution_count": 7,
   "id": "863a66d5",
   "metadata": {},
   "outputs": [
    {
     "data": {
      "text/html": [
       "<div>\n",
       "<style scoped>\n",
       "    .dataframe tbody tr th:only-of-type {\n",
       "        vertical-align: middle;\n",
       "    }\n",
       "\n",
       "    .dataframe tbody tr th {\n",
       "        vertical-align: top;\n",
       "    }\n",
       "\n",
       "    .dataframe thead th {\n",
       "        text-align: right;\n",
       "    }\n",
       "</style>\n",
       "<table border=\"1\" class=\"dataframe\">\n",
       "  <thead>\n",
       "    <tr style=\"text-align: right;\">\n",
       "      <th></th>\n",
       "      <th>region</th>\n",
       "      <th>text</th>\n",
       "      <th>start</th>\n",
       "      <th>end</th>\n",
       "      <th>label</th>\n",
       "    </tr>\n",
       "  </thead>\n",
       "  <tbody>\n",
       "    <tr>\n",
       "      <th>0</th>\n",
       "      <td>cosr-s</td>\n",
       "      <td>3.33.2.1.  energização da lt 230 kv cascavel o...</td>\n",
       "      <td>12</td>\n",
       "      <td>23</td>\n",
       "      <td>ACAO_A_EXECUTAR</td>\n",
       "    </tr>\n",
       "    <tr>\n",
       "      <th>1</th>\n",
       "      <td>cosr-s</td>\n",
       "      <td>3.33.2.1.  energização da lt 230 kv cascavel o...</td>\n",
       "      <td>63</td>\n",
       "      <td>69</td>\n",
       "      <td>ACAO_A_EXECUTAR</td>\n",
       "    </tr>\n",
       "    <tr>\n",
       "      <th>2</th>\n",
       "      <td>cosr-s</td>\n",
       "      <td>3.33.2.1.  energização da lt 230 kv cascavel o...</td>\n",
       "      <td>92</td>\n",
       "      <td>106</td>\n",
       "      <td>ACAO_A_EXECUTAR</td>\n",
       "    </tr>\n",
       "    <tr>\n",
       "      <th>3</th>\n",
       "      <td>cosr-s</td>\n",
       "      <td>3.33.2.1.  energização da lt 230 kv cascavel o...</td>\n",
       "      <td>504</td>\n",
       "      <td>513</td>\n",
       "      <td>ACAO_A_EXECUTAR</td>\n",
       "    </tr>\n",
       "    <tr>\n",
       "      <th>4</th>\n",
       "      <td>cosr-s</td>\n",
       "      <td>3.33.2.1.  energização da lt 230 kv cascavel o...</td>\n",
       "      <td>600</td>\n",
       "      <td>606</td>\n",
       "      <td>ACAO_A_EXECUTAR</td>\n",
       "    </tr>\n",
       "    <tr>\n",
       "      <th>...</th>\n",
       "      <td>...</td>\n",
       "      <td>...</td>\n",
       "      <td>...</td>\n",
       "      <td>...</td>\n",
       "      <td>...</td>\n",
       "    </tr>\n",
       "    <tr>\n",
       "      <th>1793</th>\n",
       "      <td>cosr-s</td>\n",
       "      <td>passocoordenaçãocontrolecomando e execuçãoproc...</td>\n",
       "      <td>375</td>\n",
       "      <td>432</td>\n",
       "      <td>ACAO_A_EXECUTAR</td>\n",
       "    </tr>\n",
       "    <tr>\n",
       "      <th>1794</th>\n",
       "      <td>cosr-s</td>\n",
       "      <td>passocoordenaçãocontrolecomando e execuçãoproc...</td>\n",
       "      <td>479</td>\n",
       "      <td>517</td>\n",
       "      <td>ACAO_A_EXECUTAR</td>\n",
       "    </tr>\n",
       "    <tr>\n",
       "      <th>1795</th>\n",
       "      <td>cosr-s</td>\n",
       "      <td>passocoordenaçãocontrolecomando e execuçãoproc...</td>\n",
       "      <td>108</td>\n",
       "      <td>113</td>\n",
       "      <td>ACAO_A_EXECUTAR</td>\n",
       "    </tr>\n",
       "    <tr>\n",
       "      <th>1796</th>\n",
       "      <td>cosr-s</td>\n",
       "      <td>passocoordenaçãocontrolecomando e execuçãoproc...</td>\n",
       "      <td>434</td>\n",
       "      <td>478</td>\n",
       "      <td>ESTADO_OPERATIVO</td>\n",
       "    </tr>\n",
       "    <tr>\n",
       "      <th>1797</th>\n",
       "      <td>cosr-s</td>\n",
       "      <td>passocoordenaçãocontrolecomando e execuçãoproc...</td>\n",
       "      <td>535</td>\n",
       "      <td>545</td>\n",
       "      <td>ESTADO_OPERATIVO</td>\n",
       "    </tr>\n",
       "  </tbody>\n",
       "</table>\n",
       "<p>1798 rows × 5 columns</p>\n",
       "</div>"
      ],
      "text/plain": [
       "      region                                               text  start  end  \\\n",
       "0     cosr-s  3.33.2.1.  energização da lt 230 kv cascavel o...     12   23   \n",
       "1     cosr-s  3.33.2.1.  energização da lt 230 kv cascavel o...     63   69   \n",
       "2     cosr-s  3.33.2.1.  energização da lt 230 kv cascavel o...     92  106   \n",
       "3     cosr-s  3.33.2.1.  energização da lt 230 kv cascavel o...    504  513   \n",
       "4     cosr-s  3.33.2.1.  energização da lt 230 kv cascavel o...    600  606   \n",
       "...      ...                                                ...    ...  ...   \n",
       "1793  cosr-s  passocoordenaçãocontrolecomando e execuçãoproc...    375  432   \n",
       "1794  cosr-s  passocoordenaçãocontrolecomando e execuçãoproc...    479  517   \n",
       "1795  cosr-s  passocoordenaçãocontrolecomando e execuçãoproc...    108  113   \n",
       "1796  cosr-s  passocoordenaçãocontrolecomando e execuçãoproc...    434  478   \n",
       "1797  cosr-s  passocoordenaçãocontrolecomando e execuçãoproc...    535  545   \n",
       "\n",
       "                 label  \n",
       "0      ACAO_A_EXECUTAR  \n",
       "1      ACAO_A_EXECUTAR  \n",
       "2      ACAO_A_EXECUTAR  \n",
       "3      ACAO_A_EXECUTAR  \n",
       "4      ACAO_A_EXECUTAR  \n",
       "...                ...  \n",
       "1793   ACAO_A_EXECUTAR  \n",
       "1794   ACAO_A_EXECUTAR  \n",
       "1795   ACAO_A_EXECUTAR  \n",
       "1796  ESTADO_OPERATIVO  \n",
       "1797  ESTADO_OPERATIVO  \n",
       "\n",
       "[1798 rows x 5 columns]"
      ]
     },
     "execution_count": 7,
     "metadata": {},
     "output_type": "execute_result"
    }
   ],
   "source": [
    "# # cnos\n",
    "# aux_region='cnos-equipnull'\n",
    "# selected_region='cnos'\n",
    "# df_se_aux = df[df['region']==aux_region].reset_index(drop=True)\n",
    "# df_se = df[df['region']==selected_region].reset_index(drop=True)\n",
    "# df_se = pd.concat([df_se, df_se_aux], axis=0)\n",
    "# df_se\n",
    "\n",
    "# # cosr-nco\n",
    "# aux_region='cosr-nco-debug-1'\n",
    "# selected_region='cosr-nco'\n",
    "# df_se_aux = df[df['region']==aux_region].reset_index(drop=True)\n",
    "# df_se = df[df['region']==selected_region].reset_index(drop=True)\n",
    "# df_se = pd.concat([df_se, df_se_aux], axis=0)\n",
    "# df_se\n",
    "\n",
    "# # cosr-ne\n",
    "# selected_region='cosr-ne'\n",
    "# df_se = df[df['region']==selected_region].reset_index(drop=True)\n",
    "# df_se\n",
    "\n",
    "# # cosr-se\n",
    "# selected_region='cosr-se'\n",
    "# df_se = df[df['region']==selected_region].reset_index(drop=True)\n",
    "# df_se\n",
    "\n",
    "# cosr-s\n",
    "selected_region='cosr-s'\n",
    "df_se = df[df['region']==selected_region].reset_index(drop=True)\n",
    "df_se"
   ]
  },
  {
   "cell_type": "markdown",
   "id": "e9de5cc4",
   "metadata": {},
   "source": [
    "## Feature engineering for model training"
   ]
  },
  {
   "cell_type": "code",
   "execution_count": 8,
   "id": "721e0049",
   "metadata": {},
   "outputs": [
    {
     "name": "stderr",
     "output_type": "stream",
     "text": [
      "/home/ec2-user/anaconda3/envs/chainer_p36/lib/python3.6/site-packages/ipykernel/__main__.py:5: SettingWithCopyWarning: \n",
      "A value is trying to be set on a copy of a slice from a DataFrame\n",
      "\n",
      "See the caveats in the documentation: https://pandas.pydata.org/pandas-docs/stable/user_guide/indexing.html#returning-a-view-versus-a-copy\n"
     ]
    }
   ],
   "source": [
    "training_set = []\n",
    "unique_text = set(df_se['text'])\n",
    "for samp in unique_text:\n",
    "    df_loop = df_se[df_se['text']==samp]\n",
    "    df_loop.drop_duplicates(inplace=True)\n",
    "    df_loop = df_loop[df_loop['label']!='INEQUACAO']\n",
    "    df_loop.sort_values(by=['start','end'], axis=0, ascending=True, inplace=True)\n",
    "    sliding_ref = -1\n",
    "    ent_list = []\n",
    "    for index, row in df_loop.iterrows():\n",
    "        if row['start'] > sliding_ref:\n",
    "            ent_list.append([row['start']-1, row['end']-1, row['label']])\n",
    "            sliding_ref = row['end']\n",
    "    training_set.append([samp, {'entities': tuple(ent_list)}])"
   ]
  },
  {
   "cell_type": "code",
   "execution_count": 9,
   "id": "929a051a",
   "metadata": {},
   "outputs": [],
   "source": [
    "# print(len(training_set))\n",
    "# training_set[2]"
   ]
  },
  {
   "cell_type": "code",
   "execution_count": 10,
   "id": "3bd47715",
   "metadata": {},
   "outputs": [],
   "source": [
    "# ''.join(list(training_set[0][0][1669:1687]))"
   ]
  },
  {
   "cell_type": "markdown",
   "id": "6d5f200b",
   "metadata": {},
   "source": [
    "## Model initialization"
   ]
  },
  {
   "cell_type": "code",
   "execution_count": 11,
   "id": "2d17fd23",
   "metadata": {},
   "outputs": [
    {
     "data": {
      "text/plain": [
       "['tok2vec', 'morphologizer', 'parser', 'attribute_ruler', 'lemmatizer', 'ner']"
      ]
     },
     "execution_count": 11,
     "metadata": {},
     "output_type": "execute_result"
    }
   ],
   "source": [
    "# loading spacy pt-br dependencies - training with preset\n",
    "nlp = spacy.load(\"pt_core_news_sm\")\n",
    "optimizer = nlp.create_optimizer()\n",
    "\n",
    "# alternative - start blank model\n",
    "# nlp = spacy.blank('pt')\n",
    "# optimizer = nlp.begin_training()\n",
    "\n",
    "# if NER not in pipeline modules within spacy, download it\n",
    "if 'ner' not in nlp.pipe_names:\n",
    "    ner = nlp.create_pipe(\"ner\")\n",
    "    nlp.add_pipe(\"ner\")\n",
    "else:\n",
    "    ner = nlp.get_pipe(\"ner\")\n",
    "\n",
    "# printing pipelines\n",
    "nlp.pipe_names"
   ]
  },
  {
   "cell_type": "markdown",
   "id": "e617c8eb",
   "metadata": {},
   "source": [
    "## training from initial spacy model"
   ]
  },
  {
   "cell_type": "code",
   "execution_count": 12,
   "id": "626fca45",
   "metadata": {},
   "outputs": [
    {
     "data": {
      "text/plain": [
       "('ACAO_A_EXECUTAR',\n",
       " 'EQUIPAMENTO',\n",
       " 'ESTADO_OPERATIVO',\n",
       " 'INEQUACAO',\n",
       " 'LOC',\n",
       " 'MISC',\n",
       " 'OPERADOR_MATEMATICO',\n",
       " 'ORG',\n",
       " 'PER',\n",
       " 'SUBESTACAO',\n",
       " 'USINA',\n",
       " 'VALOR_COM_UNID.MEDIDA')"
      ]
     },
     "execution_count": 12,
     "metadata": {},
     "output_type": "execute_result"
    }
   ],
   "source": [
    "# adding labels to spacy NER module\n",
    "for label in set(df['label'].to_list()):\n",
    "    ner.add_label(label)\n",
    "\n",
    "#spacy.training.offsets_to_biluo_tags(nlp.make_doc(text), entities)\n",
    "ner.labels"
   ]
  },
  {
   "cell_type": "code",
   "execution_count": 13,
   "id": "67a7d228",
   "metadata": {},
   "outputs": [],
   "source": [
    "# Creates DocBin file for spacy\n",
    "\n",
    "# db = DocBin()\n",
    "# for text, annotations in training_set:\n",
    "#     example = Example.from_dict(nlp.make_doc(text), annotations)\n",
    "#     db.add(example.reference)\n",
    "# db"
   ]
  },
  {
   "cell_type": "code",
   "execution_count": 14,
   "id": "e6a35d8a",
   "metadata": {},
   "outputs": [],
   "source": [
    "# best number of iterations for each region\n",
    "if selected_region == 'cosr-se':\n",
    "    n_iterations = 30\n",
    "elif selected_region == 'cnos':\n",
    "    n_iterations = 35\n",
    "elif selected_region == 'cosr-nco':\n",
    "    n_iterations = 35\n",
    "elif selected_region == 'cosr-s':\n",
    "    n_iterations = 22\n",
    "elif selected_region == 'cosr-ne':\n",
    "    n_iterations = 25"
   ]
  },
  {
   "cell_type": "code",
   "execution_count": 15,
   "id": "f6024fd8",
   "metadata": {},
   "outputs": [
    {
     "name": "stdout",
     "output_type": "stream",
     "text": [
      "iterations:  1 Loss:  {'ner': 1603.1784562708813}\n",
      "iterations:  2 Loss:  {'ner': 1693.1571670137857}\n",
      "iterations:  3 Loss:  {'ner': 1279.6865881606923}\n",
      "iterations:  4 Loss:  {'ner': 1115.4527011184987}\n",
      "iterations:  5 Loss:  {'ner': 1155.49652668532}\n",
      "iterations:  6 Loss:  {'ner': 1092.6089979994197}\n",
      "iterations:  7 Loss:  {'ner': 701.3430210339575}\n",
      "iterations:  8 Loss:  {'ner': 752.7816775233682}\n",
      "iterations:  9 Loss:  {'ner': 659.4412563085183}\n",
      "iterations:  10 Loss:  {'ner': 679.6441969250297}\n",
      "iterations:  11 Loss:  {'ner': 901.0190919597043}\n",
      "iterations:  12 Loss:  {'ner': 543.7117397981032}\n",
      "iterations:  13 Loss:  {'ner': 528.0665866505225}\n",
      "iterations:  14 Loss:  {'ner': 481.98507501976655}\n",
      "iterations:  15 Loss:  {'ner': 696.540262355544}\n",
      "iterations:  16 Loss:  {'ner': 457.45927161519853}\n",
      "iterations:  17 Loss:  {'ner': 483.4446358954764}\n",
      "iterations:  18 Loss:  {'ner': 425.6834048133439}\n",
      "iterations:  19 Loss:  {'ner': 422.64827164606766}\n",
      "iterations:  20 Loss:  {'ner': 388.32853349366576}\n",
      "iterations:  21 Loss:  {'ner': 409.48809055930025}\n",
      "iterations:  22 Loss:  {'ner': 399.64605430181723}\n"
     ]
    }
   ],
   "source": [
    "import warnings\n",
    "warnings.simplefilter(\"ignore\")\n",
    "loss_list = []\n",
    "pipes_except_ner = [pipe for pipe in nlp.pipe_names if pipe != 'ner']\n",
    "\n",
    "# only training NER module - no other module can be retrained in this section\n",
    "with nlp.disable_pipes(*pipes_except_ner):\n",
    "    for it in range(n_iterations):\n",
    "        random.shuffle(training_set)\n",
    "        losses = {}       \n",
    "        batch_size = 10\n",
    "        batches = minibatch(\n",
    "            training_set,\n",
    "            size=batch_size\n",
    "            )\n",
    "        for batch in batches:\n",
    "            texts, annotations = zip(*batch)\n",
    "            for text, annot in zip(texts, annotations):\n",
    "                doc = nlp.make_doc(text)\n",
    "                example = Example.from_dict(doc, annot)\n",
    "                #spacy.training.offsets_to_biluo_tags(doc, annot['entities'])\n",
    "                nlp.update(\n",
    "                    [example],\n",
    "                    sgd=optimizer, \n",
    "                    drop=0.40, \n",
    "                    losses=losses\n",
    "                    )\n",
    "        print('iterations: ', it+1, 'Loss: ', losses)\n",
    "        loss_list.append(losses['ner'])"
   ]
  },
  {
   "cell_type": "code",
   "execution_count": 16,
   "id": "54d173a2",
   "metadata": {},
   "outputs": [
    {
     "data": {
      "image/png": "[encoded data removed]",
      "text/plain": [
       "<Figure size 432x288 with 1 Axes>"
      ]
     },
     "metadata": {
      "needs_background": "light"
     },
     "output_type": "display_data"
    }
   ],
   "source": [
    "# loss plot\n",
    "plt.plot(range(n_iterations), loss_list)\n",
    "plt.show()"
   ]
  },
  {
   "cell_type": "code",
   "execution_count": 17,
   "id": "73aec650",
   "metadata": {},
   "outputs": [
    {
     "name": "stdout",
     "output_type": "stream",
     "text": [
      "Saved model to /home/ec2-user/SageMaker/ons-poc-manobras-catalog/artifacts/cosr-s\n"
     ]
    }
   ],
   "source": [
    "# Save model\n",
    "nlp.meta['name'] = selected_region\n",
    "\n",
    "art_path = os.path.dirname(os.getcwd()) + '/artifacts/'+selected_region\n",
    "nlp.to_disk(art_path)\n",
    "print(\"Saved model to\", art_path)"
   ]
  },
  {
   "cell_type": "markdown",
   "id": "c1d46e87",
   "metadata": {},
   "source": [
    "## Loading trained model"
   ]
  },
  {
   "cell_type": "code",
   "execution_count": 18,
   "id": "2f55c399",
   "metadata": {},
   "outputs": [
    {
     "data": {
      "text/plain": [
       "<spacy.lang.pt.Portuguese at 0x7fc886345f28>"
      ]
     },
     "execution_count": 18,
     "metadata": {},
     "output_type": "execute_result"
    }
   ],
   "source": [
    "art_path = os.path.dirname(os.getcwd()) + '/artifacts/'+selected_region\n",
    "saved_model = spacy.load(art_path)\n",
    "saved_model"
   ]
  },
  {
   "cell_type": "code",
   "execution_count": 19,
   "id": "70aa3e02",
   "metadata": {},
   "outputs": [
    {
     "data": {
      "text/plain": [
       "{'entity': ['se teste desenergização',\n",
       "  'lt 230 kv ariquemes / ji-paraná c4',\n",
       "  'sentido normal)passocoordenaçãocontrolecomando /execuçãoprocedimentoobjetivo / item de',\n",
       "  'terminal',\n",
       "  'lt 230 kv ariquemes / ji-paraná c4',\n",
       "  'se ji-paraná'],\n",
       " 'type': ['ESTADO_OPERATIVO',\n",
       "  'EQUIPAMENTO',\n",
       "  'EQUIPAMENTO',\n",
       "  'ACAO_A_EXECUTAR',\n",
       "  'EQUIPAMENTO',\n",
       "  'SUBESTACAO']}"
      ]
     },
     "execution_count": 19,
     "metadata": {},
     "output_type": "execute_result"
    }
   ],
   "source": [
    "# running entity recognition in dataset\n",
    "recognition_dict = {\n",
    "    'entity':[],\n",
    "    'type':[]\n",
    "}\n",
    "\n",
    "doc = saved_model('3.4.2.1. SE Teste Desenergização da LT 230 kV Ariquemes / Ji-Paraná C4 (Sentido Normal)PassoCoordenaçãoControleComando /ExecuçãoProcedimentoObjetivo / Item de Controle1COSR-NCOCOSR-NCOARGOAbrir o terminal da LT 230 kV Ariquemes / Ji-Paraná C4, na SE Ji-Paraná.'.lower())\n",
    "for i in range(len(doc.ents)):\n",
    "    recognition_dict['entity'].append(str(doc.ents[i]))\n",
    "    recognition_dict['type'].append(doc.ents[i].label_)\n",
    "    \n",
    "recognition_dict"
   ]
  },
  {
   "cell_type": "code",
   "execution_count": 20,
   "id": "b8775a13",
   "metadata": {},
   "outputs": [
    {
     "data": {
      "text/html": [
       "<div>\n",
       "<style scoped>\n",
       "    .dataframe tbody tr th:only-of-type {\n",
       "        vertical-align: middle;\n",
       "    }\n",
       "\n",
       "    .dataframe tbody tr th {\n",
       "        vertical-align: top;\n",
       "    }\n",
       "\n",
       "    .dataframe thead th {\n",
       "        text-align: right;\n",
       "    }\n",
       "</style>\n",
       "<table border=\"1\" class=\"dataframe\">\n",
       "  <thead>\n",
       "    <tr style=\"text-align: right;\">\n",
       "      <th></th>\n",
       "      <th>entity</th>\n",
       "      <th>type</th>\n",
       "    </tr>\n",
       "  </thead>\n",
       "  <tbody>\n",
       "    <tr>\n",
       "      <th>0</th>\n",
       "      <td>se teste desenergização</td>\n",
       "      <td>ESTADO_OPERATIVO</td>\n",
       "    </tr>\n",
       "    <tr>\n",
       "      <th>1</th>\n",
       "      <td>lt 230 kv ariquemes / ji-paraná c4</td>\n",
       "      <td>EQUIPAMENTO</td>\n",
       "    </tr>\n",
       "    <tr>\n",
       "      <th>2</th>\n",
       "      <td>sentido normal)passocoordenaçãocontrolecomando...</td>\n",
       "      <td>EQUIPAMENTO</td>\n",
       "    </tr>\n",
       "    <tr>\n",
       "      <th>3</th>\n",
       "      <td>terminal</td>\n",
       "      <td>ACAO_A_EXECUTAR</td>\n",
       "    </tr>\n",
       "    <tr>\n",
       "      <th>4</th>\n",
       "      <td>lt 230 kv ariquemes / ji-paraná c4</td>\n",
       "      <td>EQUIPAMENTO</td>\n",
       "    </tr>\n",
       "    <tr>\n",
       "      <th>5</th>\n",
       "      <td>se ji-paraná</td>\n",
       "      <td>SUBESTACAO</td>\n",
       "    </tr>\n",
       "  </tbody>\n",
       "</table>\n",
       "</div>"
      ],
      "text/plain": [
       "                                              entity              type\n",
       "0                            se teste desenergização  ESTADO_OPERATIVO\n",
       "1                 lt 230 kv ariquemes / ji-paraná c4       EQUIPAMENTO\n",
       "2  sentido normal)passocoordenaçãocontrolecomando...       EQUIPAMENTO\n",
       "3                                           terminal   ACAO_A_EXECUTAR\n",
       "4                 lt 230 kv ariquemes / ji-paraná c4       EQUIPAMENTO\n",
       "5                                       se ji-paraná        SUBESTACAO"
      ]
     },
     "execution_count": 20,
     "metadata": {},
     "output_type": "execute_result"
    }
   ],
   "source": [
    "recognition_df = pd.DataFrame(recognition_dict)\n",
    "recognition_df"
   ]
  },
  {
   "cell_type": "markdown",
   "id": "113eb477",
   "metadata": {},
   "source": [
    "## Entity Recognition with custom model "
   ]
  },
  {
   "cell_type": "code",
   "execution_count": 21,
   "id": "aa6abc1c",
   "metadata": {},
   "outputs": [
    {
     "data": {
      "text/html": [
       "<div>\n",
       "<style scoped>\n",
       "    .dataframe tbody tr th:only-of-type {\n",
       "        vertical-align: middle;\n",
       "    }\n",
       "\n",
       "    .dataframe tbody tr th {\n",
       "        vertical-align: top;\n",
       "    }\n",
       "\n",
       "    .dataframe thead th {\n",
       "        text-align: right;\n",
       "    }\n",
       "</style>\n",
       "<table border=\"1\" class=\"dataframe\">\n",
       "  <thead>\n",
       "    <tr style=\"text-align: right;\">\n",
       "      <th></th>\n",
       "      <th>samples</th>\n",
       "    </tr>\n",
       "  </thead>\n",
       "  <tbody>\n",
       "    <tr>\n",
       "      <th>0</th>\n",
       "      <td>passocoordenaçãocontrolecomando / execuçãoproc...</td>\n",
       "    </tr>\n",
       "    <tr>\n",
       "      <th>1</th>\n",
       "      <td>3.1.2.1. energização da lt 440 kv ilha solteir...</td>\n",
       "    </tr>\n",
       "    <tr>\n",
       "      <th>2</th>\n",
       "      <td>passocoordenaçãocontrolecomando / execuçãoproc...</td>\n",
       "    </tr>\n",
       "    <tr>\n",
       "      <th>3</th>\n",
       "      <td>3.10.2.1.                     energização da l...</td>\n",
       "    </tr>\n",
       "    <tr>\n",
       "      <th>4</th>\n",
       "      <td>passocoordenaçãocontrolecomando / execuçãoproc...</td>\n",
       "    </tr>\n",
       "  </tbody>\n",
       "</table>\n",
       "</div>"
      ],
      "text/plain": [
       "                                             samples\n",
       "0  passocoordenaçãocontrolecomando / execuçãoproc...\n",
       "1  3.1.2.1. energização da lt 440 kv ilha solteir...\n",
       "2  passocoordenaçãocontrolecomando / execuçãoproc...\n",
       "3  3.10.2.1.                     energização da l...\n",
       "4  passocoordenaçãocontrolecomando / execuçãoproc..."
      ]
     },
     "execution_count": 21,
     "metadata": {},
     "output_type": "execute_result"
    }
   ],
   "source": [
    "bucket = 'ons-dl-dev-landing'\n",
    "prefix = 'ons/mpo_ds_nlp/regioes-newjob/'+selected_region+'/samples.csv'\n",
    "input_uri = 's3://{}/{}'.format(bucket, prefix)\n",
    "\n",
    "# reading samples from s3\n",
    "sample = wr.s3.read_csv(input_uri)\n",
    "\n",
    "# the first row has to be extracted from the column name \n",
    "# as the csv file has no header\n",
    "extra_sample = pd.DataFrame(columns=['samples'])\n",
    "extra_sample['samples'] = [sample.columns[0]]\n",
    "sample.columns = ['samples']\n",
    "sample = pd.concat([extra_sample, sample], axis=0)\n",
    "sample.reset_index(inplace=True,drop=True)\n",
    "sample.columns=['samples']\n",
    "sample['samples'] = sample['samples'].str.lower()\n",
    "sample.head()"
   ]
  },
  {
   "cell_type": "code",
   "execution_count": 22,
   "id": "238ca328",
   "metadata": {},
   "outputs": [
    {
     "name": "stdout",
     "output_type": "stream",
     "text": [
      "Preprocessing module\n",
      "started at  2021-11-04 15:51:48.627134\n"
     ]
    },
    {
     "data": {
      "text/html": [
       "<div>\n",
       "<style scoped>\n",
       "    .dataframe tbody tr th:only-of-type {\n",
       "        vertical-align: middle;\n",
       "    }\n",
       "\n",
       "    .dataframe tbody tr th {\n",
       "        vertical-align: top;\n",
       "    }\n",
       "\n",
       "    .dataframe thead th {\n",
       "        text-align: right;\n",
       "    }\n",
       "</style>\n",
       "<table border=\"1\" class=\"dataframe\">\n",
       "  <thead>\n",
       "    <tr style=\"text-align: right;\">\n",
       "      <th></th>\n",
       "      <th>samples</th>\n",
       "      <th>equipment</th>\n",
       "    </tr>\n",
       "  </thead>\n",
       "  <tbody>\n",
       "    <tr>\n",
       "      <th>0</th>\n",
       "      <td>passocoordenaçãocontrolecomando / execuçãoproc...</td>\n",
       "      <td>LT 440 kV Ilha Solteira / Ilha Solteira 2 C1, ...</td>\n",
       "    </tr>\n",
       "    <tr>\n",
       "      <th>1</th>\n",
       "      <td>3.1.2.1. energização da lt 440 kv ilha solteir...</td>\n",
       "      <td>LT 440 kV Ilha Solteira / Ilha Solteira 2 C1, ...</td>\n",
       "    </tr>\n",
       "    <tr>\n",
       "      <th>2</th>\n",
       "      <td>passocoordenaçãocontrolecomando / execuçãoproc...</td>\n",
       "      <td>LT 230 kV Campo Grande 2 / Rio Brilhante</td>\n",
       "    </tr>\n",
       "    <tr>\n",
       "      <th>3</th>\n",
       "      <td>3.10.2.1.                     energização da l...</td>\n",
       "      <td>LT 230 kV Campo Grande 2 / Rio Brilhante</td>\n",
       "    </tr>\n",
       "    <tr>\n",
       "      <th>4</th>\n",
       "      <td>passocoordenaçãocontrolecomando / execuçãoproc...</td>\n",
       "      <td>LT 230 kV Dourados / Ivinhema 2</td>\n",
       "    </tr>\n",
       "    <tr>\n",
       "      <th>...</th>\n",
       "      <td>...</td>\n",
       "      <td>...</td>\n",
       "    </tr>\n",
       "    <tr>\n",
       "      <th>744</th>\n",
       "      <td>4.82.2.1. energização do transformador tr-2 23...</td>\n",
       "      <td>SE Venâncio Aires – Transformador TR-1 230/69/...</td>\n",
       "    </tr>\n",
       "    <tr>\n",
       "      <th>745</th>\n",
       "      <td>passocoordenaçãocontrolecomando e execuçãoproc...</td>\n",
       "      <td>UHE Passo Real – Transformador AT-1 230/138/13...</td>\n",
       "    </tr>\n",
       "    <tr>\n",
       "      <th>746</th>\n",
       "      <td>4.84.2.1. energização do transformador at-1 23...</td>\n",
       "      <td>UHE Passo Real – Transformador AT-1 230/138/13...</td>\n",
       "    </tr>\n",
       "    <tr>\n",
       "      <th>747</th>\n",
       "      <td>passocoordenaçãocontrolecomando e execuçãoproc...</td>\n",
       "      <td>UHE Passo Real – Transformador AT-1 230/138/13...</td>\n",
       "    </tr>\n",
       "    <tr>\n",
       "      <th>748</th>\n",
       "      <td>4.85.2.1. energização do transformador at-2 23...</td>\n",
       "      <td>UHE Passo Real – Transformador AT-1 230/138/13...</td>\n",
       "    </tr>\n",
       "  </tbody>\n",
       "</table>\n",
       "<p>749 rows × 2 columns</p>\n",
       "</div>"
      ],
      "text/plain": [
       "                                               samples  \\\n",
       "0    passocoordenaçãocontrolecomando / execuçãoproc...   \n",
       "1    3.1.2.1. energização da lt 440 kv ilha solteir...   \n",
       "2    passocoordenaçãocontrolecomando / execuçãoproc...   \n",
       "3    3.10.2.1.                     energização da l...   \n",
       "4    passocoordenaçãocontrolecomando / execuçãoproc...   \n",
       "..                                                 ...   \n",
       "744  4.82.2.1. energização do transformador tr-2 23...   \n",
       "745  passocoordenaçãocontrolecomando e execuçãoproc...   \n",
       "746  4.84.2.1. energização do transformador at-1 23...   \n",
       "747  passocoordenaçãocontrolecomando e execuçãoproc...   \n",
       "748  4.85.2.1. energização do transformador at-2 23...   \n",
       "\n",
       "                                             equipment  \n",
       "0    LT 440 kV Ilha Solteira / Ilha Solteira 2 C1, ...  \n",
       "1    LT 440 kV Ilha Solteira / Ilha Solteira 2 C1, ...  \n",
       "2             LT 230 kV Campo Grande 2 / Rio Brilhante  \n",
       "3             LT 230 kV Campo Grande 2 / Rio Brilhante  \n",
       "4                      LT 230 kV Dourados / Ivinhema 2  \n",
       "..                                                 ...  \n",
       "744  SE Venâncio Aires – Transformador TR-1 230/69/...  \n",
       "745  UHE Passo Real – Transformador AT-1 230/138/13...  \n",
       "746  UHE Passo Real – Transformador AT-1 230/138/13...  \n",
       "747  UHE Passo Real – Transformador AT-1 230/138/13...  \n",
       "748  UHE Passo Real – Transformador AT-1 230/138/13...  \n",
       "\n",
       "[749 rows x 2 columns]"
      ]
     },
     "execution_count": 22,
     "metadata": {},
     "output_type": "execute_result"
    }
   ],
   "source": [
    "preproc = preprocess_data()\n",
    "\n",
    "# reading file contents from s3 bucket\n",
    "df_raw = preproc.get_baseline_text()\n",
    "df_raw['texto'] = df_raw['texto'].str.lower()\n",
    "df_raw.head()\n",
    "\n",
    "sample['equipment'] = None\n",
    "unique_txt = list(set(sample['samples']))\n",
    "\n",
    "for text in unique_txt:\n",
    "    df_map = df_raw[df_raw['texto'] == text]\n",
    "    df_aux = sample[sample['samples'] == text]\n",
    "    index_list = list(df_aux.index)\n",
    "    sample['equipment'].iloc[index_list] = str(df_map['MpoEquipamentos'].values[0])\n",
    "\n",
    "sample"
   ]
  },
  {
   "cell_type": "code",
   "execution_count": 23,
   "id": "a0067862",
   "metadata": {},
   "outputs": [
    {
     "name": "stdout",
     "output_type": "stream",
     "text": [
      "Saved output file in  s3://ons-dl-dev-landing/ons/mpo_ds_nlp/data/postprocessed_output/spacy/samples/entities-cosr-s.parquet\n"
     ]
    }
   ],
   "source": [
    "# running entity recognition in dataset\n",
    "recognition_dict = {\n",
    "    'text':[],\n",
    "    'entity':[],\n",
    "    'type':[],\n",
    "    'equipment':[]\n",
    "}\n",
    "\n",
    "for index, samp in sample.iterrows():\n",
    "    doc = saved_model(samp['samples'])\n",
    "    local_entity_list = []\n",
    "    local_label_list = []\n",
    "    for i in range(len(doc.ents)):\n",
    "        local_entity_list.append(str(doc.ents[i]))\n",
    "        local_label_list.append(doc.ents[i].label_)\n",
    "    recognition_dict['text'].append(samp['samples'])\n",
    "    recognition_dict['entity'].append(local_entity_list)\n",
    "    recognition_dict['type'].append(local_label_list)\n",
    "    recognition_dict['equipment'].append(samp['equipment'])\n",
    "\n",
    "recognition_df = pd.DataFrame(recognition_dict)\n",
    "    \n",
    "bucket = 'ons-dl-dev-landing'\n",
    "prefix = 'ons/mpo_ds_nlp/data/postprocessed_output/spacy/samples/entities-'+selected_region+'.parquet'\n",
    "output_uri = 's3://{}/{}'.format(bucket, prefix)\n",
    "\n",
    "recognition_df.to_parquet(output_uri)\n",
    "print('Saved output file in ', output_uri)"
   ]
  },
  {
   "cell_type": "code",
   "execution_count": 24,
   "id": "300592a0",
   "metadata": {},
   "outputs": [
    {
     "name": "stdout",
     "output_type": "stream",
     "text": [
      "Preprocessing module\n",
      "started at  2021-11-04 15:53:50.882735\n",
      "Saved output file in  s3://ons-dl-dev-landing/ons/mpo_ds_nlp/data/postprocessed_output/spacy/sentences/entities-cosr-s.parquet\n"
     ]
    }
   ],
   "source": [
    "preproc = preprocess_data()\n",
    "\n",
    "# breaking into sentences\n",
    "output_dataset = preproc.get_split_entity_sequence(\n",
    "        dataset=sample,\n",
    "        column='samples'\n",
    "        )\n",
    "\n",
    "# running entity recognition in dataset\n",
    "recognition_dict = {\n",
    "    'text':[],\n",
    "    'entity':[],\n",
    "    'type':[],\n",
    "    'equipment':[]\n",
    "}\n",
    "\n",
    "for index, samp in output_dataset.iterrows():\n",
    "    doc = saved_model(samp['samples'])\n",
    "    local_entity_list = []\n",
    "    local_label_list = []\n",
    "    for i in range(len(doc.ents)):\n",
    "        local_entity_list.append(str(doc.ents[i]))\n",
    "        local_label_list.append(doc.ents[i].label_)\n",
    "    recognition_dict['text'].append(samp['samples'])\n",
    "    recognition_dict['entity'].append(local_entity_list)\n",
    "    recognition_dict['type'].append(local_label_list)\n",
    "    recognition_dict['equipment'].append(samp['equipment'])\n",
    "\n",
    "recognition_df = pd.DataFrame(recognition_dict)\n",
    "recognition_df = recognition_df[recognition_df['entity'].map(lambda i: len(i)) > 0]\n",
    "recognition_df.reset_index(drop=True, inplace=True)\n",
    "\n",
    "bucket = 'ons-dl-dev-landing'\n",
    "prefix = 'ons/mpo_ds_nlp/data/postprocessed_output/spacy/sentences/entities-'+selected_region+'.parquet'\n",
    "output_uri = 's3://{}/{}'.format(bucket, prefix)\n",
    "\n",
    "recognition_df.to_parquet(output_uri)\n",
    "print('Saved output file in ', output_uri)"
   ]
  },
  {
   "cell_type": "code",
   "execution_count": 25,
   "id": "ae52d107",
   "metadata": {},
   "outputs": [
    {
     "name": "stdout",
     "output_type": "stream",
     "text": [
      "nas demais situações o fechamento dos disjuntores será coordenado pelo cosr-se -> ESTADO_OPERATIVO\n",
      "em anel ou energizando o barramento de 440 kv -> ACAO_A_EXECUTAR\n",
      "lt 440 kv ilha solteira / ilha solteira 2 c1 (ou c2 -> EQUIPAMENTO\n",
      "se ilha solteira 2 -> SUBESTACAO\n"
     ]
    }
   ],
   "source": [
    "n=5\n",
    "for i in range(len(recognition_df['entity'].iloc[n])):\n",
    "    print(recognition_df['entity'].iloc[n][i], '->', recognition_df['type'].iloc[n][i])"
   ]
  }
 ],
 "metadata": {
  "kernelspec": {
   "display_name": "conda_chainer_p36",
   "language": "python",
   "name": "conda_chainer_p36"
  },
  "language_info": {
   "codemirror_mode": {
    "name": "ipython",
    "version": 3
   },
   "file_extension": ".py",
   "mimetype": "text/x-python",
   "name": "python",
   "nbconvert_exporter": "python",
   "pygments_lexer": "ipython3",
   "version": "3.6.13"
  }
 },
 "nbformat": 4,
 "nbformat_minor": 5
}
