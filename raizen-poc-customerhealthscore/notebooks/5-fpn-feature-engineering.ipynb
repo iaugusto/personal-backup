{
 "cells": [
  {
   "cell_type": "code",
   "execution_count": 28,
   "id": "97c3b195-d708-4141-9060-4a4648023b94",
   "metadata": {},
   "outputs": [],
   "source": [
    "import pandas as pd\n",
    "import numpy as np\n",
    "\n",
    "pd.set_option('display.max_columns', None)"
   ]
  },
  {
   "cell_type": "code",
   "execution_count": 2,
   "id": "42df9c3a-6a98-4538-afde-4c682082b1c1",
   "metadata": {},
   "outputs": [],
   "source": [
    "df_nps = pd.read_parquet('../data/stage/3m/customers_nps_churn_palive.parquet')"
   ]
  },
  {
   "cell_type": "code",
   "execution_count": 29,
   "id": "a800fb30-e0b3-4e97-9878-ac98e27597c6",
   "metadata": {},
   "outputs": [],
   "source": [
    "columns = ['consumer_id', 'nps', 'mercadopago_id', 'allow_promos'] \n",
    "features = pd.DataFrame()\n",
    "features[columns] =  df_nps[columns]"
   ]
  },
  {
   "cell_type": "code",
   "execution_count": 4,
   "id": "a7ef0431-26d2-4039-8607-698515ec4564",
   "metadata": {},
   "outputs": [],
   "source": [
    "df_push = pd.read_parquet('../data/stage/3m/customers_push.parquet')\n",
    "df_email_open = pd.read_parquet('../data/raw/3m/80464_open.snappy.parquet')\n",
    "df_email_sent = pd.read_parquet('../data/raw/3m/80464_sent.snappy.parquet')\n",
    "df_zendesk = pd.read_parquet('../data/stage/3m/customers_zendesk.parquet')\n",
    "df_nps_loyalty = pd.read_parquet('../data/stage/3m/customers_loyalty.parquet')\n",
    "df_transactions = pd.read_parquet('../data/stage/3m/customers_transactions_vouchers_ratings.parquet')"
   ]
  },
  {
   "cell_type": "markdown",
   "id": "e4c98dc7-26f0-45a8-98f4-f88a9f6ae0ef",
   "metadata": {},
   "source": [
    "### Push features"
   ]
  },
  {
   "cell_type": "code",
   "execution_count": 30,
   "id": "515812c4-9809-4ffc-bf47-60adc5444ff1",
   "metadata": {},
   "outputs": [],
   "source": [
    "df_push['month_ptt'] = pd.to_numeric(df_push['month_ptt'], errors='coerce', downcast='integer')\n",
    "df_push['year_ptt'] = pd.to_numeric(df_push['year_ptt'], errors='coerce', downcast='integer')"
   ]
  },
  {
   "cell_type": "code",
   "execution_count": 31,
   "id": "ee0536ec-c950-4c92-baaa-36cfd7f77ee7",
   "metadata": {
    "tags": []
   },
   "outputs": [],
   "source": [
    "mask_year = df_push['year_ptt'] == 2021\n",
    "mask_month_1m = df_push['month_ptt'] > 9\n",
    "mask_month_3m = df_push['month_ptt'] > 7"
   ]
  },
  {
   "cell_type": "code",
   "execution_count": 32,
   "id": "0df9b40a-76dc-4781-8c02-64d11d862b7e",
   "metadata": {},
   "outputs": [],
   "source": [
    "# PUSH_BOUNCED PUSH_OPEN\n",
    "'''\n",
    "total_pushs_bounced_1m\n",
    "total_pushs_bounced_3m\n",
    "total_open_pushs_1m\n",
    "total_sent_pushs_1m\n",
    "'''\n",
    "\n",
    "df_push_ = df_push[mask_year & mask_month_1m][['consumer_id', 'EVENT_UUID']].groupby('consumer_id').count()\\\n",
    "    .rename(columns={'EVENT_UUID':'total_sent_pushs_1m'})\n",
    "features = features.merge(df_push_, on='consumer_id', how='left')\n",
    "\n",
    "df_push_ = df_push[mask_year & mask_month_1m][['consumer_id', 'PUSH_OPEN']].groupby('consumer_id').sum()\\\n",
    "    .rename(columns={'PUSH_OPEN':'total_open_pushs_1m'})\n",
    "features = features.merge(df_push_, on='consumer_id', how='left')\n",
    "\n",
    "df_push_ = df_push[mask_year & mask_month_1m][['consumer_id', 'PUSH_BOUNCED']].groupby('consumer_id').sum()\\\n",
    "    .rename(columns={'PUSH_BOUNCED':'total_pushs_bounced_1m'})\n",
    "features = features.merge(df_push_, on='consumer_id', how='left')\n",
    "\n",
    "df_push_ = df_push[mask_year & mask_month_3m][['consumer_id', 'PUSH_BOUNCED']].groupby('consumer_id').sum()\\\n",
    "    .rename(columns={'PUSH_BOUNCED':'total_pushs_bounced_3m'})\n",
    "features = features.merge(df_push_, on='consumer_id', how='left')\n",
    "features = features.fillna(0)"
   ]
  },
  {
   "cell_type": "markdown",
   "id": "dbf88279-4512-4e7b-a73e-75ee05b6ed2f",
   "metadata": {},
   "source": [
    "### Emails Open"
   ]
  },
  {
   "cell_type": "code",
   "execution_count": 33,
   "id": "4f7218ab-eddf-4ab5-ae37-197de18d069d",
   "metadata": {},
   "outputs": [],
   "source": [
    "df_email_open = df_email_open.rename(columns={'CUSTOMER_ID':'consumer_id'})\n",
    "\n",
    "df_email_open['month_ptt'] = pd.to_numeric(df_email_open['month_ptt'], errors='coerce', downcast='integer')\n",
    "df_email_open['year_ptt'] = pd.to_numeric(df_email_open['year_ptt'], errors='coerce', downcast='integer')\n",
    "df_email_open['consumer_id'] = pd.to_numeric(df_email_open['consumer_id'], errors='coerce', downcast='integer')"
   ]
  },
  {
   "cell_type": "code",
   "execution_count": 34,
   "id": "fae81e7f-0644-49f1-9a3b-afa8e9ea973a",
   "metadata": {},
   "outputs": [],
   "source": [
    "mask_year = df_email_open['year_ptt'] == 2021\n",
    "mask_month_1m = df_email_open['month_ptt'] > 9\n",
    "mask_month_3m = df_email_open['month_ptt'] > 7"
   ]
  },
  {
   "cell_type": "code",
   "execution_count": 35,
   "id": "f253d2a8-3bab-49da-949a-d6f34a17ad4c",
   "metadata": {},
   "outputs": [],
   "source": [
    "df_open_ = df_email_open[mask_year & mask_month_1m][['consumer_id', 'BROWSER']].groupby('consumer_id').count()\\\n",
    "    .rename(columns={'BROWSER':'total_emails_open_1m'})\n",
    "features = features.merge(df_open_, on='consumer_id', how='left')\n",
    "\n",
    "df_open_ = df_email_open[mask_year & mask_month_3m][['consumer_id', 'BROWSER']].groupby('consumer_id').count()\\\n",
    "    .rename(columns={'BROWSER':'total_emails_open_3m'})\n",
    "features = features.merge(df_open_, on='consumer_id', how='left')"
   ]
  },
  {
   "cell_type": "markdown",
   "id": "8f8d0bac-b5c9-49d1-91da-12b3de318f71",
   "metadata": {},
   "source": [
    "### Emails Sent"
   ]
  },
  {
   "cell_type": "code",
   "execution_count": 36,
   "id": "46fb57e8-a262-4b86-acc4-cb6ad06b10d1",
   "metadata": {},
   "outputs": [],
   "source": [
    "df_email_sent = df_email_sent.rename(columns={'CUSTOMER_ID':'consumer_id'})\n",
    "\n",
    "df_email_sent['month_ptt'] = pd.to_numeric(df_email_sent['month_ptt'], errors='coerce', downcast='integer')\n",
    "df_email_sent['year_ptt'] = pd.to_numeric(df_email_sent['year_ptt'], errors='coerce', downcast='integer')\n",
    "df_email_sent['consumer_id'] = pd.to_numeric(df_email_sent['consumer_id'], errors='coerce', downcast='integer')"
   ]
  },
  {
   "cell_type": "code",
   "execution_count": 37,
   "id": "66ef1aac-f4e8-42af-8f2c-3c7fbe502054",
   "metadata": {},
   "outputs": [],
   "source": [
    "mask_year = df_email_sent['year_ptt'] == 2021\n",
    "mask_month_1m = df_email_sent['month_ptt'] > 9\n",
    "mask_month_3m = df_email_sent['month_ptt'] > 7"
   ]
  },
  {
   "cell_type": "code",
   "execution_count": 38,
   "id": "97175d32-e0b2-49a2-a82f-4934dc58f019",
   "metadata": {},
   "outputs": [],
   "source": [
    "df_sent_ = df_email_sent[mask_year & mask_month_1m][['consumer_id', 'EMAIL']].groupby('consumer_id').count()\\\n",
    "    .rename(columns={'EMAIL':'total_emails_sent_1m'})\n",
    "features = features.merge(df_sent_, on='consumer_id', how='left')\n",
    "\n",
    "df_sent_ = df_email_sent[mask_year & mask_month_3m][['consumer_id', 'EMAIL']].groupby('consumer_id').count()\\\n",
    "    .rename(columns={'EMAIL':'total_emails_sent_3m'})\n",
    "features = features.merge(df_sent_, on='consumer_id', how='left')"
   ]
  },
  {
   "cell_type": "markdown",
   "id": "81f8b713-dc1b-4c7f-b87e-74c28baa4f2d",
   "metadata": {},
   "source": [
    "### Transactions DataFrame"
   ]
  },
  {
   "cell_type": "code",
   "execution_count": 39,
   "id": "36b9f1c5-3d8e-4960-8c43-724a3f7edf83",
   "metadata": {},
   "outputs": [],
   "source": [
    "df_transactions['consumer_id'] = pd.to_numeric(df_transactions['consumer_id'], errors='coerce', downcast='integer')\n",
    "df_transactions['rating_value'] = pd.to_numeric(df_transactions['rating_value'], errors='coerce', downcast='integer')"
   ]
  },
  {
   "cell_type": "code",
   "execution_count": 40,
   "id": "9e0a46d6-a5ed-4620-80ef-1a110f025c1d",
   "metadata": {},
   "outputs": [],
   "source": [
    "mask_month_1m = df_transactions['created_at'] > '2021-10-01'\n",
    "mask_month_3m = df_transactions['created_at'] > '2021-08-01'\n",
    "mask_month_3m_u = (df_transactions['created_at'] > '2021-08-01') & (df_transactions['created_at'] < '2021-09-01')\n",
    "mask_rating_reason = df_transactions['rating_reason'] != ''\n",
    "mask_partner = df_transactions['payout_partner_id'].notna()"
   ]
  },
  {
   "cell_type": "code",
   "execution_count": 41,
   "id": "1679ad17-21fe-4cb6-8727-b99fcaadc882",
   "metadata": {},
   "outputs": [],
   "source": [
    "#distinct_reason_1m\n",
    "df_transaction_ = df_transactions[mask_month_1m][['consumer_id', 'rating_reason']].groupby('consumer_id')\\\n",
    "    .nunique().rename(columns={'rating_reason':'distinct_reason_1m'})\n",
    "features = features.merge(df_transaction_, on='consumer_id', how='left')\n",
    "\n",
    "#distinct_reason_3m\n",
    "df_transaction_ = df_transactions[mask_month_3m][['consumer_id', 'rating_reason']].groupby('consumer_id')\\\n",
    "    .nunique().rename(columns={'rating_reason':'distinct_reason_3m'})\n",
    "features = features.merge(df_transaction_, on='consumer_id', how='left')\n",
    "\n",
    "#mode_rating_reason_3m\n",
    "df_transaction_ = df_transactions[mask_month_3m][['consumer_id', 'rating_reason']].groupby('consumer_id')\\\n",
    "    .agg(pd.Series.mode).rename(columns={'rating_reason':'mode_rating_reason_3m'})\n",
    "features = features.merge(df_transaction_, on='consumer_id', how='left')\n",
    "\n",
    "#max_diff_total_ratings\n",
    "df_transaction_ = df_transactions[mask_month_3m][['consumer_id', 'rating_value']].groupby('consumer_id')\\\n",
    "    .max().rename(columns={'rating_value':'max_rating'})\n",
    "df_transaction_2 = df_transactions[mask_month_3m][['consumer_id', 'rating_value']].groupby('consumer_id')\\\n",
    "    .min().rename(columns={'rating_value':'max_rating'})\n",
    "\n",
    "df_transaction_['max_diff_total_ratings'] = df_transaction_ - df_transaction_2\n",
    "df_transaction_ = df_transaction_[['max_diff_total_ratings']]\n",
    "features = features.merge(df_transaction_, on='consumer_id', how='left')\n",
    "\n",
    "#mm_total_ratings_reason\n",
    "df_transaction_ = df_transactions[mask_month_3m & mask_rating_reason][['consumer_id', 'rating_value']].groupby('consumer_id')\\\n",
    "    .mean().rename(columns={'rating_value':'mm_total_ratings_reason'})\n",
    "features = features.merge(df_transaction_, on='consumer_id', how='left')\n",
    "\n",
    "#mm_total_ratings\n",
    "df_transaction_ = df_transactions[mask_month_3m][['consumer_id', 'rating_value']].groupby('consumer_id')\\\n",
    "    .sum().rename(columns={'rating_value':'mm_total_ratings'})/3\n",
    "features = features.merge(df_transaction_, on='consumer_id', how='left')\n",
    "\n",
    "#trend_total_ratings\n",
    "df_transaction_ = df_transactions[mask_month_1m][['consumer_id', 'rating_value']].groupby('consumer_id')\\\n",
    "    .mean().rename(columns={'rating_value':'trend_total_ratings_'})\n",
    "df_transaction_2 = df_transactions[mask_month_3m_u][['consumer_id', 'rating_value']].groupby('consumer_id')\\\n",
    "    .mean().rename(columns={'rating_value':'trend_total_ratings_'})\n",
    "\n",
    "df_transaction_['trend_total_ratings'] = df_transaction_ - df_transaction_2\n",
    "df_transaction_ = df_transaction_[['trend_total_ratings']]\n",
    "features = features.merge(df_transaction_, on='consumer_id', how='left')\n",
    "\n",
    "#mean_rating_1m\n",
    "df_transaction_ = df_transactions[mask_month_1m][['consumer_id', 'rating_value']].groupby('consumer_id')\\\n",
    "    .mean().rename(columns={'rating_value':'mean_rating_1m'})\n",
    "features = features.merge(df_transaction_, on='consumer_id', how='left')\n",
    "\n",
    "#mean_rating_3m\n",
    "df_transaction_ = df_transactions[mask_month_3m][['consumer_id', 'rating_value']].groupby('consumer_id')\\\n",
    "    .mean().rename(columns={'rating_value':'mean_rating_3m'})\n",
    "features = features.merge(df_transaction_, on='consumer_id', how='left')"
   ]
  },
  {
   "cell_type": "markdown",
   "id": "3a4ef8e2-5c24-421a-acef-f6a9c8399c38",
   "metadata": {},
   "source": [
    "#### Vouchers"
   ]
  },
  {
   "cell_type": "code",
   "execution_count": 42,
   "id": "d823d0a4-038b-4d5c-83c4-8d4bb17f4790",
   "metadata": {},
   "outputs": [],
   "source": [
    "#distinct_voucher_id_1m\n",
    "df_transaction_ = df_transactions[mask_month_1m][['consumer_id', 'voucher_id_vouchers']].groupby('consumer_id')\\\n",
    "    .nunique().rename(columns={'voucher_id_vouchers':'distinct_voucher_id_1m'})\n",
    "features = features.merge(df_transaction_, on='consumer_id', how='left')\n",
    "\n",
    "#distinct_voucher_id_3m\n",
    "df_transaction_ = df_transactions[mask_month_3m][['consumer_id', 'voucher_id_vouchers']].groupby('consumer_id')\\\n",
    "    .nunique().rename(columns={'voucher_id_vouchers':'distinct_voucher_id_3m'})\n",
    "features = features.merge(df_transaction_, on='consumer_id', how='left')\n",
    "\n",
    "#mode_channel_3m\n",
    "df_transaction_ = df_transactions[mask_month_3m][['consumer_id', 'reward_id_vouchers']].groupby('consumer_id')\\\n",
    "    .agg(pd.Series.mode).rename(columns={'reward_id_vouchers':'mode_channel_3m'})\n",
    "features = features.merge(df_transaction_, on='consumer_id', how='left')\n",
    "\n",
    "#mm_vouchers\n",
    "df_transaction_ = df_transactions[mask_month_3m][['consumer_id', 'reward_id_vouchers']].groupby('consumer_id')\\\n",
    "    .count().rename(columns={'reward_id_vouchers':'mm_vouchers'})/3\n",
    "features = features.merge(df_transaction_, on='consumer_id', how='left')\n",
    "\n",
    "#distinct_redeemed_voucher_id_1m\n",
    "\n",
    "#mm_redeemed_vouchers\n",
    "df_transaction_ = df_transactions[mask_month_3m][['consumer_id', 'voucher_id_vouchers']].groupby('consumer_id')\\\n",
    "    .count().rename(columns={'voucher_id_vouchers':'mm_redeemed_vouchers'})/3\n",
    "features = features.merge(df_transaction_, on='consumer_id', how='left')\n",
    "\n",
    "#trend_redeemed_vouchers\n",
    "df_transaction_ = df_transactions[mask_month_1m][['consumer_id', 'voucher_id_vouchers']].groupby('consumer_id')\\\n",
    "    .count().rename(columns={'voucher_id_vouchers':'trend_redeemed_vouchers'})\n",
    "df_transaction_2 = df_transactions[mask_month_3m_u][['consumer_id', 'voucher_id_vouchers']].groupby('consumer_id')\\\n",
    "    .count().rename(columns={'voucher_id_vouchers':'trend_redeemed_vouchers'})\n",
    "\n",
    "df_transaction_['trend_redeemed_vouchers'] = df_transaction_ - df_transaction_2\n",
    "df_transaction_ = df_transaction_[['trend_redeemed_vouchers']]\n",
    "features = features.merge(df_transaction_, on='consumer_id', how='left')\n",
    "\n",
    "#distinct_reward_id_3m\n",
    "df_transaction_ = df_transactions[mask_month_3m][['consumer_id', 'voucher_discount']].groupby('consumer_id')\\\n",
    "    .nunique().rename(columns={'voucher_discount':'distinct_reward_id_3m'})\n",
    "features = features.merge(df_transaction_, on='consumer_id', how='left')\n",
    "\n",
    "#mean_redeemed_discount_amount_3m\n",
    "df_transaction_ = df_transactions[mask_month_3m][['consumer_id', 'voucher_discount']].groupby('consumer_id')\\\n",
    "    .mean().rename(columns={'voucher_discount':'mean_redeemed_discount_amount_3m'})\n",
    "features = features.merge(df_transaction_, on='consumer_id', how='left')\n",
    "\n",
    "#sum_redeemed_discount_amount_3m\n",
    "df_transaction_ = df_transactions[mask_month_3m][['consumer_id', 'voucher_discount']].groupby('consumer_id')\\\n",
    "    .sum().rename(columns={'voucher_discount':'sum_redeemed_discount_amount_3m'})\n",
    "features = features.merge(df_transaction_, on='consumer_id', how='left')"
   ]
  },
  {
   "cell_type": "markdown",
   "id": "e51b49e4-fada-4b8a-98c5-084ff2d29d8f",
   "metadata": {
    "tags": []
   },
   "source": [
    "### Transactions"
   ]
  },
  {
   "cell_type": "code",
   "execution_count": 43,
   "id": "ec573cfe-d814-487e-a74c-2418b6c6fe23",
   "metadata": {},
   "outputs": [],
   "source": [
    "#p_discount_1m\n",
    "df_transaction_ = df_transactions[mask_month_1m][['consumer_id', 'discount_amount']].groupby('consumer_id')\\\n",
    "    .sum().rename(columns={'discount_amount':'discount_amount'})\n",
    "df_transaction_1 = df_transactions[mask_month_1m][['consumer_id', 'total_in_cents']].groupby('consumer_id')\\\n",
    "    .sum().rename(columns={'total_in_cents':'total_in_cents'})\n",
    "\n",
    "df_transactions['discount_amount'] = pd.to_numeric(df_transactions['discount_amount'], errors='coerce', downcast='integer')\n",
    "df_transaction_['discount_amount'] = df_transaction_['discount_amount'].fillna(0).astype('float')\n",
    "\n",
    "df_transaction_['p_discount_1m'] = (df_transaction_['discount_amount']*100)/df_transaction_1['total_in_cents']\n",
    "\n",
    "df_transaction_ = df_transaction_.drop('discount_amount', axis=1)\n",
    "features = features.merge(df_transaction_, on='consumer_id', how='left')\n",
    "\n",
    "#mean_total_value_3m\n",
    "df_transaction_ = df_transactions[mask_month_3m][['consumer_id', 'total_in_cents']].groupby('consumer_id')\\\n",
    "    .mean().rename(columns={'total_in_cents':'mean_total_value_3m'})\n",
    "features = features.merge(df_transaction_, on='consumer_id', how='left')\n",
    "\n",
    "#sum_total_discont_3m\n",
    "df_transaction_ = df_transactions[mask_month_3m][['consumer_id', 'discount_amount']].groupby('consumer_id')\\\n",
    "    .sum().rename(columns={'discount_amount':'sum_total_discont_3m'})\n",
    "features = features.merge(df_transaction_, on='consumer_id', how='left')\n",
    "\n",
    "#max_diff_stores\n",
    "df_transaction_ = df_transactions[mask_month_3m][['consumer_id', 'store_id_ratings']].groupby('consumer_id')\\\n",
    "    .nunique().rename(columns={'store_id_ratings':'max_diff_stores'})\n",
    "features = features.merge(df_transaction_, on='consumer_id', how='left')\n",
    "\n",
    "#mm_transactions_partners\n",
    "df_transaction_ = df_transactions[mask_month_3m & mask_partner][['consumer_id', 'transaction_id']].groupby('consumer_id')\\\n",
    "    .count().rename(columns={'transaction_id':'mm_transactions_partners'})/3\n",
    "features = features.merge(df_transaction_, on='consumer_id', how='left')\n",
    "\n",
    "#mm_total_value_partners\n",
    "df_transaction_ = df_transactions[mask_month_3m & mask_partner][['consumer_id', 'total_in_cents']].groupby('consumer_id')\\\n",
    "    .sum().rename(columns={'total_in_cents':'mm_total_value_partners'})/3\n",
    "features = features.merge(df_transaction_, on='consumer_id', how='left')\n",
    "\n",
    "#mob\n",
    "columns = ['consumer_id', 'created_at_transactions']\n",
    "df_transactions = df_transactions.sort_values(columns)\n",
    "df_transaction_ = df_transactions[columns]\\\n",
    "    .groupby('consumer_id').first().rename(columns={'created_at_transactions':'mob'})\n",
    "\n",
    "df_transaction_['mob_'] = '2021-11-01'\n",
    "df_transaction_['mob_'] = pd.to_datetime(df_transaction_['mob_'])\n",
    "df_transaction_['mob'] = pd.to_datetime(df_transaction_['mob'])\n",
    "\n",
    "df_transaction_['mob'] = df_transaction_['mob_'].dt.to_period('M').view(int)\\\n",
    "    - df_transaction_['mob'].dt.to_period('M').view(int)\n",
    "features = features.merge(df_transaction_, on='consumer_id', how='left')\n"
   ]
  },
  {
   "cell_type": "code",
   "execution_count": 44,
   "id": "a17dd8ac-791c-4b6f-82b5-fb488ddbf224",
   "metadata": {},
   "outputs": [],
   "source": [
    "features['mercadopago_id'] = features['mercadopago_id'] != 0"
   ]
  },
  {
   "cell_type": "markdown",
   "id": "570694f8-ac78-440c-bcff-2f80eb716351",
   "metadata": {
    "tags": []
   },
   "source": [
    "### Loyalty"
   ]
  },
  {
   "cell_type": "code",
   "execution_count": 45,
   "id": "59ee1826-c952-40ef-989a-311a2f47da0b",
   "metadata": {},
   "outputs": [],
   "source": [
    "df_nps_loyalty['month_ptt'] = pd.to_numeric(df_nps_loyalty['month_ptt'], errors='coerce', downcast='integer')\n",
    "df_nps_loyalty['year_ptt'] = pd.to_numeric(df_nps_loyalty['year_ptt'], errors='coerce', downcast='integer')\n",
    "df_nps_loyalty['consumer_id'] = pd.to_numeric(df_nps_loyalty['consumer_id'], errors='coerce', downcast='integer')\n",
    "df_nps_loyalty['value'] = pd.to_numeric(df_nps_loyalty['value'], errors='coerce', downcast='integer')"
   ]
  },
  {
   "cell_type": "code",
   "execution_count": 46,
   "id": "bf0daefe-2495-4410-9ac6-39de20786d2e",
   "metadata": {},
   "outputs": [],
   "source": [
    "mask_year = df_nps_loyalty['year_ptt'] == 2021\n",
    "mask_month_1m = df_nps_loyalty['month_ptt'] > 9\n",
    "mask_month_3m = df_nps_loyalty['month_ptt'] > 7"
   ]
  },
  {
   "cell_type": "code",
   "execution_count": 47,
   "id": "11e31b88-a644-4188-9b40-21e7b15e1cc1",
   "metadata": {},
   "outputs": [],
   "source": [
    "#sum_loyalty_discount_amount_1m\n",
    "df_nps_loyalty_ = df_nps_loyalty[mask_month_1m][['consumer_id', 'value']].groupby('consumer_id')\\\n",
    "    .sum().rename(columns={'value':'sum_loyalty_discount_amount_1m'})\n",
    "features = features.merge(df_nps_loyalty_, on='consumer_id', how='left')\n",
    "\n",
    "#mm_loyalty_amount\n",
    "df_nps_loyalty_ = df_nps_loyalty[mask_month_3m][['consumer_id', 'value']].groupby('consumer_id')\\\n",
    "    .sum().rename(columns={'value':'mm_loyalty_amount'})/3\n",
    "features = features.merge(df_nps_loyalty_, on='consumer_id', how='left')"
   ]
  },
  {
   "cell_type": "markdown",
   "id": "72b7a5e4-0360-42b4-9851-4f876429edb1",
   "metadata": {},
   "source": [
    "### ZenDesk"
   ]
  },
  {
   "cell_type": "code",
   "execution_count": 48,
   "id": "61dcc73a-3ce0-46fe-a055-07c0908c1d86",
   "metadata": {},
   "outputs": [],
   "source": [
    "df_zendesk['consumer_id'] = pd.to_numeric(df_zendesk['consumer_id'], errors='coerce', downcast='integer')"
   ]
  },
  {
   "cell_type": "code",
   "execution_count": 49,
   "id": "2bdb8eb6-dbfa-4645-8719-18b96489c71f",
   "metadata": {},
   "outputs": [],
   "source": [
    "mask_month_1m = df_zendesk['created_at_y'] > '2021-10-01'\n",
    "mask_month_3m = df_zendesk['created_at_y'] > '2021-08-01'\n",
    "mask_bad_ticket = df_zendesk['satisfaction_rating_score'] == 'bad'"
   ]
  },
  {
   "cell_type": "code",
   "execution_count": 50,
   "id": "2a0277e9-eeda-4f7a-b8f4-f5b8c6ced903",
   "metadata": {},
   "outputs": [],
   "source": [
    "#max_num_comments_3m\n",
    "df_zendesk_ = df_zendesk[mask_month_3m][['consumer_id', 'num_comments']].groupby('consumer_id')\\\n",
    "    .max().rename(columns={'num_comments':'max_num_comments_3m'})\n",
    "features = features.merge(df_zendesk_, on='consumer_id', how='left')\n",
    "\n",
    "#tickets_1m\n",
    "df_zendesk_ = df_zendesk[mask_month_1m][['consumer_id', 'ticket_id']].groupby('consumer_id')\\\n",
    "    .count().rename(columns={'ticket_id':'tickets_1m'})\n",
    "features = features.merge(df_zendesk_, on='consumer_id', how='left')\n",
    "\n",
    "#tickets_3m\n",
    "df_zendesk_ = df_zendesk[mask_month_3m][['consumer_id', 'ticket_id']].groupby('consumer_id')\\\n",
    "    .count().rename(columns={'ticket_id':'tickets_3m'})\n",
    "features = features.merge(df_zendesk_, on='consumer_id', how='left')\n",
    "\n",
    "#sum_bad_rating_score_tickets\n",
    "df_zendesk_ = df_zendesk[mask_month_3m & mask_bad_ticket][['consumer_id', 'ticket_id']].groupby('consumer_id')\\\n",
    "    .count().rename(columns={'ticket_id':'sum_bad_rating_score_tickets'})\n",
    "features = features.merge(df_zendesk_, on='consumer_id', how='left')"
   ]
  },
  {
   "cell_type": "markdown",
   "id": "eb81921c-6ba9-4cc2-9391-d8944041f99d",
   "metadata": {},
   "source": [
    "### Saving DataFrame"
   ]
  },
  {
   "cell_type": "code",
   "execution_count": 51,
   "id": "6c9336ae-9f2c-4091-b40b-25a9337f8074",
   "metadata": {},
   "outputs": [],
   "source": [
    "#Salvando em Parquet\n",
    "features.to_csv('../data/stage/3m/features_raw.csv')"
   ]
  },
  {
   "cell_type": "code",
   "execution_count": 1,
   "id": "8103cb80-dd6f-43b9-9196-8eb8692f4bb1",
   "metadata": {},
   "outputs": [],
   "source": [
    "import pandas as pd"
   ]
  },
  {
   "cell_type": "code",
   "execution_count": 2,
   "id": "16a5338a-53ef-45e6-b155-3e87c992092d",
   "metadata": {},
   "outputs": [],
   "source": [
    "features = pd.read_csv('../data/stage/3m/features_raw.csv')"
   ]
  },
  {
   "cell_type": "code",
   "execution_count": 3,
   "id": "00e0e56c-c608-420e-911c-4178bd201fa0",
   "metadata": {},
   "outputs": [
    {
     "data": {
      "text/html": [
       "<div>\n",
       "<style scoped>\n",
       "    .dataframe tbody tr th:only-of-type {\n",
       "        vertical-align: middle;\n",
       "    }\n",
       "\n",
       "    .dataframe tbody tr th {\n",
       "        vertical-align: top;\n",
       "    }\n",
       "\n",
       "    .dataframe thead th {\n",
       "        text-align: right;\n",
       "    }\n",
       "</style>\n",
       "<table border=\"1\" class=\"dataframe\">\n",
       "  <thead>\n",
       "    <tr style=\"text-align: right;\">\n",
       "      <th></th>\n",
       "      <th>Unnamed: 0</th>\n",
       "      <th>consumer_id</th>\n",
       "      <th>nps</th>\n",
       "      <th>mercadopago_id</th>\n",
       "      <th>allow_promos</th>\n",
       "      <th>total_sent_pushs_1m</th>\n",
       "      <th>total_open_pushs_1m</th>\n",
       "      <th>total_pushs_bounced_1m</th>\n",
       "      <th>total_pushs_bounced_3m</th>\n",
       "      <th>total_emails_open_1m</th>\n",
       "      <th>...</th>\n",
       "      <th>mm_transactions_partners</th>\n",
       "      <th>mm_total_value_partners</th>\n",
       "      <th>mob</th>\n",
       "      <th>mob_</th>\n",
       "      <th>sum_loyalty_discount_amount_1m</th>\n",
       "      <th>mm_loyalty_amount</th>\n",
       "      <th>max_num_comments_3m</th>\n",
       "      <th>tickets_1m</th>\n",
       "      <th>tickets_3m</th>\n",
       "      <th>sum_bad_rating_score_tickets</th>\n",
       "    </tr>\n",
       "  </thead>\n",
       "  <tbody>\n",
       "    <tr>\n",
       "      <th>0</th>\n",
       "      <td>0</td>\n",
       "      <td>3923437</td>\n",
       "      <td>1</td>\n",
       "      <td>True</td>\n",
       "      <td>1</td>\n",
       "      <td>0.0</td>\n",
       "      <td>0.0</td>\n",
       "      <td>0.0</td>\n",
       "      <td>5.0</td>\n",
       "      <td>NaN</td>\n",
       "      <td>...</td>\n",
       "      <td>4.000000</td>\n",
       "      <td>26693.666667</td>\n",
       "      <td>3</td>\n",
       "      <td>2021-11-01</td>\n",
       "      <td>220.0</td>\n",
       "      <td>-374.000000</td>\n",
       "      <td>NaN</td>\n",
       "      <td>NaN</td>\n",
       "      <td>NaN</td>\n",
       "      <td>NaN</td>\n",
       "    </tr>\n",
       "    <tr>\n",
       "      <th>1</th>\n",
       "      <td>1</td>\n",
       "      <td>3913125</td>\n",
       "      <td>1</td>\n",
       "      <td>True</td>\n",
       "      <td>1</td>\n",
       "      <td>0.0</td>\n",
       "      <td>0.0</td>\n",
       "      <td>0.0</td>\n",
       "      <td>0.0</td>\n",
       "      <td>2.0</td>\n",
       "      <td>...</td>\n",
       "      <td>0.666667</td>\n",
       "      <td>23106.666667</td>\n",
       "      <td>3</td>\n",
       "      <td>2021-11-01</td>\n",
       "      <td>-38.0</td>\n",
       "      <td>-12.666667</td>\n",
       "      <td>NaN</td>\n",
       "      <td>NaN</td>\n",
       "      <td>NaN</td>\n",
       "      <td>NaN</td>\n",
       "    </tr>\n",
       "    <tr>\n",
       "      <th>2</th>\n",
       "      <td>2</td>\n",
       "      <td>3927102</td>\n",
       "      <td>1</td>\n",
       "      <td>False</td>\n",
       "      <td>1</td>\n",
       "      <td>0.0</td>\n",
       "      <td>0.0</td>\n",
       "      <td>0.0</td>\n",
       "      <td>0.0</td>\n",
       "      <td>2.0</td>\n",
       "      <td>...</td>\n",
       "      <td>NaN</td>\n",
       "      <td>NaN</td>\n",
       "      <td>3</td>\n",
       "      <td>2021-11-01</td>\n",
       "      <td>323.0</td>\n",
       "      <td>184.666667</td>\n",
       "      <td>NaN</td>\n",
       "      <td>NaN</td>\n",
       "      <td>NaN</td>\n",
       "      <td>NaN</td>\n",
       "    </tr>\n",
       "    <tr>\n",
       "      <th>3</th>\n",
       "      <td>3</td>\n",
       "      <td>3923444</td>\n",
       "      <td>0</td>\n",
       "      <td>True</td>\n",
       "      <td>1</td>\n",
       "      <td>0.0</td>\n",
       "      <td>0.0</td>\n",
       "      <td>0.0</td>\n",
       "      <td>0.0</td>\n",
       "      <td>1.0</td>\n",
       "      <td>...</td>\n",
       "      <td>NaN</td>\n",
       "      <td>NaN</td>\n",
       "      <td>3</td>\n",
       "      <td>2021-11-01</td>\n",
       "      <td>NaN</td>\n",
       "      <td>11.333333</td>\n",
       "      <td>NaN</td>\n",
       "      <td>NaN</td>\n",
       "      <td>NaN</td>\n",
       "      <td>NaN</td>\n",
       "    </tr>\n",
       "    <tr>\n",
       "      <th>4</th>\n",
       "      <td>4</td>\n",
       "      <td>3928419</td>\n",
       "      <td>1</td>\n",
       "      <td>True</td>\n",
       "      <td>1</td>\n",
       "      <td>0.0</td>\n",
       "      <td>0.0</td>\n",
       "      <td>0.0</td>\n",
       "      <td>1.0</td>\n",
       "      <td>1.0</td>\n",
       "      <td>...</td>\n",
       "      <td>0.666667</td>\n",
       "      <td>2666.666667</td>\n",
       "      <td>3</td>\n",
       "      <td>2021-11-01</td>\n",
       "      <td>23.0</td>\n",
       "      <td>7.666667</td>\n",
       "      <td>NaN</td>\n",
       "      <td>NaN</td>\n",
       "      <td>NaN</td>\n",
       "      <td>NaN</td>\n",
       "    </tr>\n",
       "  </tbody>\n",
       "</table>\n",
       "<p>5 rows × 45 columns</p>\n",
       "</div>"
      ],
      "text/plain": [
       "   Unnamed: 0  consumer_id  nps  mercadopago_id  allow_promos  \\\n",
       "0           0      3923437    1            True             1   \n",
       "1           1      3913125    1            True             1   \n",
       "2           2      3927102    1           False             1   \n",
       "3           3      3923444    0            True             1   \n",
       "4           4      3928419    1            True             1   \n",
       "\n",
       "   total_sent_pushs_1m  total_open_pushs_1m  total_pushs_bounced_1m  \\\n",
       "0                  0.0                  0.0                     0.0   \n",
       "1                  0.0                  0.0                     0.0   \n",
       "2                  0.0                  0.0                     0.0   \n",
       "3                  0.0                  0.0                     0.0   \n",
       "4                  0.0                  0.0                     0.0   \n",
       "\n",
       "   total_pushs_bounced_3m  total_emails_open_1m  ...  \\\n",
       "0                     5.0                   NaN  ...   \n",
       "1                     0.0                   2.0  ...   \n",
       "2                     0.0                   2.0  ...   \n",
       "3                     0.0                   1.0  ...   \n",
       "4                     1.0                   1.0  ...   \n",
       "\n",
       "   mm_transactions_partners  mm_total_value_partners  mob        mob_  \\\n",
       "0                  4.000000             26693.666667    3  2021-11-01   \n",
       "1                  0.666667             23106.666667    3  2021-11-01   \n",
       "2                       NaN                      NaN    3  2021-11-01   \n",
       "3                       NaN                      NaN    3  2021-11-01   \n",
       "4                  0.666667              2666.666667    3  2021-11-01   \n",
       "\n",
       "   sum_loyalty_discount_amount_1m mm_loyalty_amount  max_num_comments_3m  \\\n",
       "0                           220.0       -374.000000                  NaN   \n",
       "1                           -38.0        -12.666667                  NaN   \n",
       "2                           323.0        184.666667                  NaN   \n",
       "3                             NaN         11.333333                  NaN   \n",
       "4                            23.0          7.666667                  NaN   \n",
       "\n",
       "   tickets_1m  tickets_3m  sum_bad_rating_score_tickets  \n",
       "0         NaN         NaN                           NaN  \n",
       "1         NaN         NaN                           NaN  \n",
       "2         NaN         NaN                           NaN  \n",
       "3         NaN         NaN                           NaN  \n",
       "4         NaN         NaN                           NaN  \n",
       "\n",
       "[5 rows x 45 columns]"
      ]
     },
     "execution_count": 3,
     "metadata": {},
     "output_type": "execute_result"
    }
   ],
   "source": [
    "features.head()"
   ]
  }
 ],
 "metadata": {
  "kernelspec": {
   "display_name": "Python 3 (ipykernel)",
   "language": "python",
   "name": "python3"
  },
  "language_info": {
   "codemirror_mode": {
    "name": "ipython",
    "version": 3
   },
   "file_extension": ".py",
   "mimetype": "text/x-python",
   "name": "python",
   "nbconvert_exporter": "python",
   "pygments_lexer": "ipython3",
   "version": "3.7.12"
  }
 },
 "nbformat": 4,
 "nbformat_minor": 5
}
