{
 "cells": [
  {
   "cell_type": "code",
   "execution_count": 1,
   "metadata": {},
   "outputs": [],
   "source": [
    "import json\n",
    "import requests\n",
    "from datetime import datetime"
   ]
  },
  {
   "cell_type": "code",
   "execution_count": 2,
   "metadata": {},
   "outputs": [],
   "source": [
    "api_url = 'https://wgijvb9i44.execute-api.us-east-1.amazonaws.com/dev/predict'"
   ]
  },
  {
   "cell_type": "code",
   "execution_count": 3,
   "metadata": {},
   "outputs": [],
   "source": [
    "data = {\n",
    "    \"auth\":\"987cc44828f553dd1c37910843ab2eb7\",\n",
    "    \"fragmento\": \"A UHE Itaipu 60 hz deve ter a sua geração limitada. Tensao da SE que inicia a manobra inferior ou igual a 242 kV\"\n",
    "}\n",
    "data = json.dumps(data)"
   ]
  },
  {
   "cell_type": "code",
   "execution_count": 4,
   "metadata": {},
   "outputs": [
    {
     "data": {
      "text/plain": [
       "'[{\"tipo_entidade\": \"USINA\", \"entidade\": \"UHE Itaipu\"}, {\"tipo_entidade\": \"VALOR_COM_UNID.MEDIDA\", \"entidade\": \"60 hz\"}, {\"tipo_entidade\": \"SUBESTACAO\", \"entidade\": \"SE que inicia a\"}, {\"tipo_entidade\": \"OPERADOR_MATEMATICO\", \"entidade\": \"inferior ou igual a\"}, {\"tipo_entidade\": \"VALOR_COM_UNID.MEDIDA\", \"entidade\": \"242 kV\"}, {\"tipo_entidade\": \"INEQUACAO\", \"entidade\": \"Tensao da SE que inicia a manobra inferior ou igual a 242 kV\"}]'"
      ]
     },
     "execution_count": 4,
     "metadata": {},
     "output_type": "execute_result"
    }
   ],
   "source": [
    "response = requests.post(api_url, data)\n",
    "response.text"
   ]
  }
 ],
 "metadata": {
  "kernelspec": {
   "display_name": "Python 3 (Data Science)",
   "language": "python",
   "name": "python3__SAGEMAKER_INTERNAL__arn:aws:sagemaker:us-east-1:081325390199:image/datascience-1.0"
  },
  "language_info": {
   "codemirror_mode": {
    "name": "ipython",
    "version": 3
   },
   "file_extension": ".py",
   "mimetype": "text/x-python",
   "name": "python",
   "nbconvert_exporter": "python",
   "pygments_lexer": "ipython3",
   "version": "3.7.10"
  }
 },
 "nbformat": 4,
 "nbformat_minor": 4
}
