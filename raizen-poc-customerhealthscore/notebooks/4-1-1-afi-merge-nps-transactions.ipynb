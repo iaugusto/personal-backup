{
 "cells": [
  {
   "cell_type": "code",
   "execution_count": 1,
   "id": "981a2e9d-cd2b-43e9-901f-ebb4bc98bc42",
   "metadata": {},
   "outputs": [],
   "source": [
    "import pandas as pd\n",
    "import numpy as np\n",
    "\n",
    "pd.set_option('display.max_columns', None)"
   ]
  },
  {
   "cell_type": "markdown",
   "id": "19f6a032-f6b8-4285-a2a8-85e77964b77c",
   "metadata": {
    "tags": []
   },
   "source": [
    "# Import Dataset"
   ]
  },
  {
   "cell_type": "code",
   "execution_count": 2,
   "id": "3200a951-13bb-4a77-a297-20fb6d9a76b5",
   "metadata": {},
   "outputs": [],
   "source": [
    "# Importando o dataset completo de 'nps' (notebook2)\n",
    "nps = pd.read_parquet('../data/stage/3m/customers_nps_churn_palive.parquet')\n",
    "\n",
    "# Importando o dataset completo de 'transações' (notebook1)\n",
    "transactions = pd.read_parquet('../data/stage/3m/full_transactions.parquet')"
   ]
  },
  {
   "cell_type": "code",
   "execution_count": 3,
   "id": "7eb4a8b5-2f26-4dd2-8b9e-8e4a3a88156b",
   "metadata": {},
   "outputs": [],
   "source": [
    "columns = ['transaction_id', 'consumer_id', 'app_origin', 'payable_id', 'type', 'status',\n",
    "           'created_at', 'updated_at', 'finished_at', 'payout_status', 'payment_partner_id',\n",
    "          'payment_option_id', 'payout_partner_id', 'payment_status', 'gross_payment_in_cents',\n",
    "          'payment_transaction_id', 'gas_type_id', 'quantity_in_litres', 'nozzle_id',\n",
    "           'price_per_litre', 'total_in_cents', 'total_discont_in_cents', 'voucher_id',\n",
    "          'fueling_status', 'volume_totalizer', 'credit_account_id',\n",
    "          'credits_transaction_id', 'credits_total_in_cents', 'reward_id',\n",
    "           'reward_discount', 'pos_id', 'accumulated_discount_99_in_cents',\n",
    "           'voucher_discount', 'payout_date']"
   ]
  },
  {
   "cell_type": "code",
   "execution_count": 4,
   "id": "6671f3ba-aa98-4412-926c-03a885114c46",
   "metadata": {},
   "outputs": [],
   "source": [
    "transactions = transactions[columns]"
   ]
  },
  {
   "cell_type": "code",
   "execution_count": 5,
   "id": "0e494120-18fa-4fbd-8628-71fc854c1132",
   "metadata": {},
   "outputs": [],
   "source": [
    "transactions = transactions[transactions['consumer_id'].notna()]"
   ]
  },
  {
   "cell_type": "code",
   "execution_count": 6,
   "id": "8eb78d76-5dc4-4a77-b631-3ed4b0e77322",
   "metadata": {},
   "outputs": [],
   "source": [
    "transactions.loc[:,'consumer_id'] = transactions['consumer_id'].astype('int')\n",
    "transactions.loc[:,'transaction_id'] = transactions['transaction_id'].astype('int')\n",
    "transactions.loc[:,'payable_id'] = transactions['payable_id'].astype('int')"
   ]
  },
  {
   "cell_type": "code",
   "execution_count": 7,
   "id": "1706c9b9-2d2a-485e-8fa1-dd3da5d15a71",
   "metadata": {
    "tags": []
   },
   "outputs": [
    {
     "name": "stdout",
     "output_type": "stream",
     "text": [
      "<class 'pandas.core.frame.DataFrame'>\n",
      "Int64Index: 5062 entries, 0 to 5061\n",
      "Data columns (total 46 columns):\n",
      " #   Column                          Non-Null Count  Dtype  \n",
      "---  ------                          --------------  -----  \n",
      " 0   consumer_id                     5062 non-null   int64  \n",
      " 1   role_id                         5062 non-null   int64  \n",
      " 2   cpf                             5062 non-null   float64\n",
      " 3   email                           5062 non-null   object \n",
      " 4   birthdate                       5062 non-null   object \n",
      " 5   city                            4517 non-null   object \n",
      " 6   state                           4517 non-null   object \n",
      " 7   phonenumber                     5062 non-null   float64\n",
      " 8   created_at                      5062 non-null   object \n",
      " 9   updated_at                      5062 non-null   object \n",
      " 10  eou_synced_at                   799 non-null    object \n",
      " 11  last_activity_date              5062 non-null   object \n",
      " 12  completed_at                    4441 non-null   object \n",
      " 13  paypal_linked_at                914 non-null    object \n",
      " 14  braintree_id                    752 non-null    object \n",
      " 15  braintree_token                 701 non-null    object \n",
      " 16  paypal_id                       3 non-null      object \n",
      " 17  paypal_billing_agreement        876 non-null    object \n",
      " 18  paypal_email                    876 non-null    object \n",
      " 19  paypal_cpf                      833 non-null    float64\n",
      " 20  paydiant_uri                    0 non-null      object \n",
      " 21  paydiant_linked_at              0 non-null      object \n",
      " 22  stone_wallet_id                 0 non-null      object \n",
      " 23  stone_linked_at                 0 non-null      object \n",
      " 24  allow_newsletter                5048 non-null   float64\n",
      " 25  allow_promos                    5062 non-null   int64  \n",
      " 26  paypal_allow_automatic_payment  5062 non-null   int64  \n",
      " 27  allow_automatic_payment         5062 non-null   int64  \n",
      " 28  paypal_subscription_canceled    5062 non-null   int64  \n",
      " 29  active                          5062 non-null   int64  \n",
      " 30  signup_complete                 5062 non-null   int64  \n",
      " 31  legacy_email                    0 non-null      object \n",
      " 32  legacy_paypal_id                0 non-null      object \n",
      " 33  legacy_paypal_subscription      0 non-null      object \n",
      " 34  city_id                         4522 non-null   float64\n",
      " 35  referral_code                   5062 non-null   object \n",
      " 36  mercadopago_linked_at           3699 non-null   object \n",
      " 37  mercadopago_email               3699 non-null   object \n",
      " 38  mercadopago_id                  3699 non-null   object \n",
      " 39  mfa_validated                   5062 non-null   object \n",
      " 40  country                         5062 non-null   object \n",
      " 41  nota_recomendacao_customer      863 non-null    float64\n",
      " 42  nota_recomendacao_nps           4240 non-null   float64\n",
      " 43  nps                             5062 non-null   int64  \n",
      " 44  p_churn                         4522 non-null   float64\n",
      " 45  p_currently_alive               3002 non-null   float64\n",
      "dtypes: float64(9), int64(9), object(28)\n",
      "memory usage: 1.8+ MB\n"
     ]
    }
   ],
   "source": [
    "# Este dataset contém 129274 registros, e 74 colunas.\n",
    "nps.info()"
   ]
  },
  {
   "cell_type": "code",
   "execution_count": 8,
   "id": "d687cb1b-6537-40d7-978e-4896d600a727",
   "metadata": {
    "tags": []
   },
   "outputs": [
    {
     "name": "stdout",
     "output_type": "stream",
     "text": [
      "<class 'pandas.core.frame.DataFrame'>\n",
      "Int64Index: 12296099 entries, 0 to 12313165\n",
      "Data columns (total 34 columns):\n",
      " #   Column                            Dtype  \n",
      "---  ------                            -----  \n",
      " 0   transaction_id                    int64  \n",
      " 1   consumer_id                       int64  \n",
      " 2   app_origin                        int32  \n",
      " 3   payable_id                        int64  \n",
      " 4   type                              object \n",
      " 5   status                            int32  \n",
      " 6   created_at                        object \n",
      " 7   updated_at                        object \n",
      " 8   finished_at                       object \n",
      " 9   payout_status                     object \n",
      " 10  payment_partner_id                object \n",
      " 11  payment_option_id                 object \n",
      " 12  payout_partner_id                 object \n",
      " 13  payment_status                    object \n",
      " 14  gross_payment_in_cents            int32  \n",
      " 15  payment_transaction_id            object \n",
      " 16  gas_type_id                       object \n",
      " 17  quantity_in_litres                float32\n",
      " 18  nozzle_id                         int32  \n",
      " 19  price_per_litre                   float32\n",
      " 20  total_in_cents                    int32  \n",
      " 21  total_discont_in_cents            int32  \n",
      " 22  voucher_id                        object \n",
      " 23  fueling_status                    object \n",
      " 24  volume_totalizer                  float32\n",
      " 25  credit_account_id                 float64\n",
      " 26  credits_transaction_id            float64\n",
      " 27  credits_total_in_cents            int32  \n",
      " 28  reward_id                         float64\n",
      " 29  reward_discount                   float64\n",
      " 30  pos_id                            float64\n",
      " 31  accumulated_discount_99_in_cents  int32  \n",
      " 32  voucher_discount                  float64\n",
      " 33  payout_date                       object \n",
      "dtypes: float32(3), float64(6), int32(8), int64(3), object(14)\n",
      "memory usage: 2.7+ GB\n"
     ]
    }
   ],
   "source": [
    "# Este dataset contém 12313166, e 71 colunas.\n",
    "transactions.info()"
   ]
  },
  {
   "cell_type": "markdown",
   "id": "3ade67ad-1788-4d32-bc30-08f40e203b40",
   "metadata": {},
   "source": [
    "### How many customer had a transaction in the last 3 months?"
   ]
  },
  {
   "cell_type": "code",
   "execution_count": 12,
   "id": "04c36d83-9343-427b-a016-690cece4a98a",
   "metadata": {},
   "outputs": [
    {
     "data": {
      "text/plain": [
       "2277877"
      ]
     },
     "execution_count": 12,
     "metadata": {},
     "output_type": "execute_result"
    }
   ],
   "source": [
    "transactions['consumer_id'].value_counts().shape[0]"
   ]
  },
  {
   "cell_type": "markdown",
   "id": "53b6f197-b018-49bb-b317-e91ca3e7c6a5",
   "metadata": {},
   "source": [
    "# Merge 'nps' + 'transactions'"
   ]
  },
  {
   "cell_type": "code",
   "execution_count": 9,
   "id": "848fcd12-12d2-44b5-aa98-3f97ce0c5f2d",
   "metadata": {},
   "outputs": [],
   "source": [
    "tabelao_transactions = pd.merge(nps, transactions, on='consumer_id', how='left', suffixes=('_nps', '_transactions'))"
   ]
  },
  {
   "cell_type": "code",
   "execution_count": 10,
   "id": "685ea3c6-23ae-41dc-90a7-236503635675",
   "metadata": {},
   "outputs": [
    {
     "data": {
      "text/plain": [
       "32892"
      ]
     },
     "execution_count": 10,
     "metadata": {},
     "output_type": "execute_result"
    }
   ],
   "source": [
    "tabelao_transactions['nota_recomendacao_customer'].isnull().sum()"
   ]
  },
  {
   "cell_type": "code",
   "execution_count": 16,
   "id": "04f57260-9316-4e9b-a209-d37825a57c2f",
   "metadata": {},
   "outputs": [
    {
     "data": {
      "text/plain": [
       "0        10.0\n",
       "1        10.0\n",
       "2        10.0\n",
       "3        10.0\n",
       "4        10.0\n",
       "         ... \n",
       "60294     NaN\n",
       "60295     NaN\n",
       "60296     NaN\n",
       "60297     NaN\n",
       "60298     NaN\n",
       "Name: nota_recomendacao_customer, Length: 60299, dtype: float64"
      ]
     },
     "execution_count": 16,
     "metadata": {},
     "output_type": "execute_result"
    }
   ],
   "source": [
    "tabelao_transactions['nota_recomendacao_customer']"
   ]
  },
  {
   "cell_type": "code",
   "execution_count": 20,
   "id": "59598d1a-6428-4ebb-a322-fdf358cd750d",
   "metadata": {},
   "outputs": [],
   "source": [
    "#Salvando em Parquet\n",
    "tabelao_transactions.to_parquet('../data/stage/3m/customers_transactions.parquet')"
   ]
  },
  {
   "cell_type": "code",
   "execution_count": 19,
   "id": "4615b439-057b-47cf-9934-554311418efb",
   "metadata": {},
   "outputs": [
    {
     "name": "stdout",
     "output_type": "stream",
     "text": [
      "<class 'pandas.core.frame.DataFrame'>\n",
      "Int64Index: 60299 entries, 0 to 60298\n",
      "Data columns (total 79 columns):\n",
      " #   Column                            Non-Null Count  Dtype  \n",
      "---  ------                            --------------  -----  \n",
      " 0   consumer_id                       60299 non-null  int64  \n",
      " 1   role_id                           60299 non-null  int64  \n",
      " 2   cpf                               60299 non-null  float64\n",
      " 3   email                             60299 non-null  object \n",
      " 4   birthdate                         60299 non-null  object \n",
      " 5   city                              55084 non-null  object \n",
      " 6   state                             55084 non-null  object \n",
      " 7   phonenumber                       60299 non-null  float64\n",
      " 8   created_at_nps                    60299 non-null  object \n",
      " 9   updated_at_nps                    60299 non-null  object \n",
      " 10  eou_synced_at                     8131 non-null   object \n",
      " 11  last_activity_date                60299 non-null  object \n",
      " 12  completed_at                      53209 non-null  object \n",
      " 13  paypal_linked_at                  8658 non-null   object \n",
      " 14  braintree_id                      6966 non-null   object \n",
      " 15  braintree_token                   6450 non-null   object \n",
      " 16  paypal_id                         12 non-null     object \n",
      " 17  paypal_billing_agreement          8227 non-null   object \n",
      " 18  paypal_email                      8227 non-null   object \n",
      " 19  paypal_cpf                        7878 non-null   float64\n",
      " 20  paydiant_uri                      0 non-null      object \n",
      " 21  paydiant_linked_at                0 non-null      object \n",
      " 22  stone_wallet_id                   0 non-null      object \n",
      " 23  stone_linked_at                   0 non-null      object \n",
      " 24  allow_newsletter                  60133 non-null  float64\n",
      " 25  allow_promos                      60299 non-null  int64  \n",
      " 26  paypal_allow_automatic_payment    60299 non-null  int64  \n",
      " 27  allow_automatic_payment           60299 non-null  int64  \n",
      " 28  paypal_subscription_canceled      60299 non-null  int64  \n",
      " 29  active                            60299 non-null  int64  \n",
      " 30  signup_complete                   60299 non-null  int64  \n",
      " 31  legacy_email                      0 non-null      object \n",
      " 32  legacy_paypal_id                  0 non-null      object \n",
      " 33  legacy_paypal_subscription        0 non-null      object \n",
      " 34  city_id                           55133 non-null  float64\n",
      " 35  referral_code                     60299 non-null  object \n",
      " 36  mercadopago_linked_at             47934 non-null  object \n",
      " 37  mercadopago_email                 47934 non-null  object \n",
      " 38  mercadopago_id                    47934 non-null  object \n",
      " 39  mfa_validated                     60299 non-null  object \n",
      " 40  country                           60299 non-null  object \n",
      " 41  nota_recomendacao_customer        27407 non-null  float64\n",
      " 42  nota_recomendacao_nps             34724 non-null  float64\n",
      " 43  nps                               60299 non-null  int64  \n",
      " 44  p_churn                           56537 non-null  float64\n",
      " 45  p_currently_alive                 50649 non-null  float64\n",
      " 46  transaction_id                    60257 non-null  float64\n",
      " 47  app_origin                        60257 non-null  float64\n",
      " 48  payable_id                        60257 non-null  float64\n",
      " 49  type                              60257 non-null  object \n",
      " 50  status                            60257 non-null  float64\n",
      " 51  created_at_transactions           60257 non-null  object \n",
      " 52  updated_at_transactions           60257 non-null  object \n",
      " 53  finished_at                       60257 non-null  object \n",
      " 54  payout_status                     58050 non-null  object \n",
      " 55  payment_partner_id                59699 non-null  object \n",
      " 56  payment_option_id                 59695 non-null  object \n",
      " 57  payout_partner_id                 31180 non-null  object \n",
      " 58  payment_status                    59700 non-null  object \n",
      " 59  gross_payment_in_cents            60257 non-null  float64\n",
      " 60  payment_transaction_id            32591 non-null  object \n",
      " 61  gas_type_id                       59834 non-null  object \n",
      " 62  quantity_in_litres                60257 non-null  float32\n",
      " 63  nozzle_id                         60257 non-null  float64\n",
      " 64  price_per_litre                   60257 non-null  float32\n",
      " 65  total_in_cents                    60257 non-null  float64\n",
      " 66  total_discont_in_cents            60257 non-null  float64\n",
      " 67  voucher_id                        29165 non-null  object \n",
      " 68  fueling_status                    60257 non-null  object \n",
      " 69  volume_totalizer                  59834 non-null  float32\n",
      " 70  credit_account_id                 0 non-null      float64\n",
      " 71  credits_transaction_id            578 non-null    float64\n",
      " 72  credits_total_in_cents            60257 non-null  float64\n",
      " 73  reward_id                         31245 non-null  float64\n",
      " 74  reward_discount                   58050 non-null  float64\n",
      " 75  pos_id                            0 non-null      float64\n",
      " 76  accumulated_discount_99_in_cents  60257 non-null  float64\n",
      " 77  voucher_discount                  58050 non-null  float64\n",
      " 78  payout_date                       31183 non-null  object \n",
      "dtypes: float32(3), float64(25), int64(9), object(42)\n",
      "memory usage: 36.1+ MB\n"
     ]
    }
   ],
   "source": [
    "tabelao_transactions.info(max_cols=144)"
   ]
  },
  {
   "cell_type": "code",
   "execution_count": null,
   "id": "78444ef4-b6e5-48ab-853b-ff2e7b3447b8",
   "metadata": {
    "jupyter": {
     "source_hidden": true
    },
    "tags": []
   },
   "outputs": [],
   "source": [
    "# Vamos transformar esse array em um dataframe, para podermos concaternar na nossa base de dados\n",
    "df = pd.DataFrame(nota_recomendacao, columns = ['nota_recomendacao'])"
   ]
  }
 ],
 "metadata": {
  "kernelspec": {
   "display_name": "Python 3 (ipykernel)",
   "language": "python",
   "name": "python3"
  },
  "language_info": {
   "codemirror_mode": {
    "name": "ipython",
    "version": 3
   },
   "file_extension": ".py",
   "mimetype": "text/x-python",
   "name": "python",
   "nbconvert_exporter": "python",
   "pygments_lexer": "ipython3",
   "version": "3.7.12"
  }
 },
 "nbformat": 4,
 "nbformat_minor": 5
}
