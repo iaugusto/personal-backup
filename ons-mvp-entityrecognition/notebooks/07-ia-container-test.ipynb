{
 "cells": [
  {
   "cell_type": "code",
   "execution_count": null,
   "metadata": {},
   "outputs": [],
   "source": [
    "!pip install sagemaker-studio-image-build"
   ]
  },
  {
   "cell_type": "code",
   "execution_count": null,
   "metadata": {},
   "outputs": [],
   "source": [
    "!sm-docker --help"
   ]
  },
  {
   "cell_type": "code",
   "execution_count": 44,
   "metadata": {},
   "outputs": [],
   "source": [
    "import boto3\n",
    "from sagemaker import get_execution_role\n",
    "\n",
    "sm_client = boto3.client(service_name='sagemaker')\n",
    "runtime_sm_client = boto3.client(service_name='sagemaker-runtime')\n",
    "\n",
    "account_id = boto3.client('sts').get_caller_identity()['Account']\n",
    "region = boto3.Session().region_name\n",
    "\n",
    "#not really used in this use case, use when need to store model artifacts (Ex: MME)\n",
    "s3_bucket = 'spacy-sagemaker-us-east-1-bucket'\n",
    "\n",
    "role = get_execution_role()"
   ]
  },
  {
   "cell_type": "code",
   "execution_count": 45,
   "metadata": {},
   "outputs": [
    {
     "name": "stdout",
     "output_type": "stream",
     "text": [
      "Model name: ons-mvp-entity-recognition-2022-08-24-18-00-32\n",
      "Model data Url: s3://spacy-sagemaker-us-east-1-bucket/spacy/\n",
      "Container image: 478704051461.dkr.ecr.us-east-1.amazonaws.com/ons-mvp-entity-recognition:latest\n",
      "Model Arn: arn:aws:sagemaker:us-east-1:478704051461:model/ons-mvp-entity-recognition-2022-08-24-18-00-32\n"
     ]
    }
   ],
   "source": [
    "from time import gmtime, strftime\n",
    "\n",
    "model_name = 'ons-mvp-entity-recognition-' + strftime(\"%Y-%m-%d-%H-%M-%S\", gmtime())\n",
    "model_url = 's3://{}/spacy/'.format(s3_bucket) ## MODEL S3 URL\n",
    "container = '{}.dkr.ecr.{}.amazonaws.com/ons-mvp-entity-recognition:latest'.format(account_id, region)\n",
    "instance_type = 'ml.c5d.18xlarge'\n",
    "\n",
    "print('Model name: ' + model_name)\n",
    "print('Model data Url: ' + model_url)\n",
    "print('Container image: ' + container)\n",
    "\n",
    "container = {\n",
    "    'Image': container\n",
    "}\n",
    "\n",
    "create_model_response = sm_client.create_model(\n",
    "    ModelName = model_name,\n",
    "    ExecutionRoleArn = role,\n",
    "    Containers = [container])\n",
    "\n",
    "print(\"Model Arn: \" + create_model_response['ModelArn'])"
   ]
  },
  {
   "cell_type": "code",
   "execution_count": 46,
   "metadata": {},
   "outputs": [
    {
     "name": "stdout",
     "output_type": "stream",
     "text": [
      "Endpoint config name: ons-mvp-entity-recognition-config2022-08-24-18-00-34\n",
      "Endpoint config Arn: arn:aws:sagemaker:us-east-1:478704051461:endpoint-config/ons-mvp-entity-recognition-config2022-08-24-18-00-34\n"
     ]
    }
   ],
   "source": [
    "endpoint_config_name = 'ons-mvp-entity-recognition-config' + strftime(\"%Y-%m-%d-%H-%M-%S\", gmtime())\n",
    "print('Endpoint config name: ' + endpoint_config_name)\n",
    "\n",
    "create_endpoint_config_response = sm_client.create_endpoint_config(\n",
    "    EndpointConfigName = endpoint_config_name,\n",
    "    ProductionVariants=[{\n",
    "        'InstanceType': instance_type,\n",
    "        'InitialInstanceCount': 1,\n",
    "        'InitialVariantWeight': 1,\n",
    "        'ModelName': model_name,\n",
    "        'VariantName': 'AllTraffic'}])\n",
    "\n",
    "print(\"Endpoint config Arn: \" + create_endpoint_config_response['EndpointConfigArn'])"
   ]
  },
  {
   "cell_type": "code",
   "execution_count": 50,
   "metadata": {},
   "outputs": [
    {
     "name": "stdout",
     "output_type": "stream",
     "text": [
      "Endpoint name: ons-mvp-entity-recognition-endpoint2022-08-24-18-07-18\n",
      "Endpoint Arn: arn:aws:sagemaker:us-east-1:478704051461:endpoint/ons-mvp-entity-recognition-endpoint2022-08-24-18-07-18\n",
      "Endpoint Status: Creating\n",
      "Waiting for ons-mvp-entity-recognition-endpoint2022-08-24-18-07-18 endpoint to be in service...\n",
      "CPU times: user 63.6 ms, sys: 14.2 ms, total: 77.8 ms\n",
      "Wall time: 2min\n"
     ]
    }
   ],
   "source": [
    "\n",
    "%%time\n",
    "\n",
    "import time\n",
    "\n",
    "endpoint_name = 'ons-mvp-entity-recognition-endpoint' + strftime(\"%Y-%m-%d-%H-%M-%S\", gmtime())\n",
    "print('Endpoint name: ' + endpoint_name)\n",
    "\n",
    "create_endpoint_response = sm_client.create_endpoint(\n",
    "    EndpointName=endpoint_name,\n",
    "    EndpointConfigName=endpoint_config_name)\n",
    "print('Endpoint Arn: ' + create_endpoint_response['EndpointArn'])\n",
    "\n",
    "resp = sm_client.describe_endpoint(EndpointName=endpoint_name)\n",
    "status = resp['EndpointStatus']\n",
    "print(\"Endpoint Status: \" + status)\n",
    "\n",
    "print('Waiting for {} endpoint to be in service...'.format(endpoint_name))\n",
    "waiter = sm_client.get_waiter('endpoint_in_service')\n",
    "waiter.wait(EndpointName=endpoint_name)"
   ]
  },
  {
   "cell_type": "code",
   "execution_count": 59,
   "metadata": {},
   "outputs": [
    {
     "data": {
      "text/plain": [
       "[['uhe itaipu', 'USINA'], ['60 hz', 'VALOR_COM_UNID.MEDIDA']]"
      ]
     },
     "execution_count": 59,
     "metadata": {},
     "output_type": "execute_result"
    }
   ],
   "source": [
    "import json\n",
    "content_type = \"application/json\"\n",
    "request_body = {\"input\": \"a uhe itaipu 60 hz deve ter a sua geração limitada\"}\n",
    "\n",
    "#Serialize data for endpoint\n",
    "data = json.loads(json.dumps(request_body))\n",
    "payload = json.dumps(data)\n",
    "\n",
    "#Endpoint invocation\n",
    "response = runtime_sm_client.invoke_endpoint(\n",
    "    EndpointName=endpoint_name,\n",
    "    ContentType=content_type,\n",
    "    Body=payload)\n",
    "\n",
    "#Parse results\n",
    "result = json.loads(response['Body'].read().decode())['output']\n",
    "result"
   ]
  },
  {
   "cell_type": "code",
   "execution_count": 63,
   "metadata": {},
   "outputs": [
    {
     "data": {
      "text/plain": [
       "{'EndpointName': 'ons-mvp-entity-recognition-endpoint2022-08-24-18-07-18',\n",
       " 'EndpointArn': 'arn:aws:sagemaker:us-east-1:478704051461:endpoint/ons-mvp-entity-recognition-endpoint2022-08-24-18-07-18',\n",
       " 'EndpointConfigName': 'ons-mvp-entity-recognition-config2022-08-24-18-00-34',\n",
       " 'ProductionVariants': [{'VariantName': 'AllTraffic',\n",
       "   'DeployedImages': [{'SpecifiedImage': '478704051461.dkr.ecr.us-east-1.amazonaws.com/ons-mvp-entity-recognition:latest',\n",
       "     'ResolvedImage': '478704051461.dkr.ecr.us-east-1.amazonaws.com/ons-mvp-entity-recognition@sha256:d7fabbe0739eb25d8f817c4166dda3b517ca19818fc5eece2ac585a38f7c88c2',\n",
       "     'ResolutionTime': datetime.datetime(2022, 8, 24, 18, 7, 19, 422000, tzinfo=tzlocal())}],\n",
       "   'CurrentWeight': 1.0,\n",
       "   'DesiredWeight': 1.0,\n",
       "   'CurrentInstanceCount': 1,\n",
       "   'DesiredInstanceCount': 1}],\n",
       " 'EndpointStatus': 'InService',\n",
       " 'CreationTime': datetime.datetime(2022, 8, 24, 18, 7, 18, 840000, tzinfo=tzlocal()),\n",
       " 'LastModifiedTime': datetime.datetime(2022, 8, 24, 18, 9, 13, 4000, tzinfo=tzlocal()),\n",
       " 'ResponseMetadata': {'RequestId': '29a66be6-8f0e-4522-a5ef-8618232de993',\n",
       "  'HTTPStatusCode': 200,\n",
       "  'HTTPHeaders': {'x-amzn-requestid': '29a66be6-8f0e-4522-a5ef-8618232de993',\n",
       "   'content-type': 'application/x-amz-json-1.1',\n",
       "   'content-length': '823',\n",
       "   'date': 'Wed, 24 Aug 2022 18:37:58 GMT'},\n",
       "  'RetryAttempts': 0}}"
      ]
     },
     "execution_count": 63,
     "metadata": {},
     "output_type": "execute_result"
    }
   ],
   "source": [
    "response = sm_client.describe_endpoint(\n",
    "    EndpointName=endpoint_name\n",
    ")\n",
    "response"
   ]
  }
 ],
 "metadata": {
  "instance_type": "ml.t3.medium",
  "kernelspec": {
   "display_name": "Python 3 (Data Science 2.0)",
   "language": "python",
   "name": "python3__SAGEMAKER_INTERNAL__arn:aws:sagemaker:us-east-1:081325390199:image/sagemaker-data-science-38"
  },
  "language_info": {
   "codemirror_mode": {
    "name": "ipython",
    "version": 3
   },
   "file_extension": ".py",
   "mimetype": "text/x-python",
   "name": "python",
   "nbconvert_exporter": "python",
   "pygments_lexer": "ipython3",
   "version": "3.8.13"
  }
 },
 "nbformat": 4,
 "nbformat_minor": 4
}
