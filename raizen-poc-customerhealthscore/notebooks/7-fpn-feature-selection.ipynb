{
 "cells": [
  {
   "cell_type": "code",
   "execution_count": 5,
   "id": "785730c7-b2e4-4564-9e17-1467c87e12e0",
   "metadata": {},
   "outputs": [],
   "source": [
    "import numpy as np\n",
    "import pandas as pd\n",
    "import sys\n",
    "\n",
    "sys.path.insert(1, '../src/')\n",
    "\n",
    "from guara.feature_selection.feature_selection import FeatureSelection\n",
    "fs = FeatureSelection()\n",
    "\n",
    "seed = 42\n",
    "pd.set_option('display.max_columns', None)"
   ]
  },
  {
   "cell_type": "code",
   "execution_count": 2,
   "id": "5bc294af-8631-420a-98bd-f54ecf1a16a7",
   "metadata": {},
   "outputs": [],
   "source": [
    "df = pd.read_parquet('../data/stage/3m/features_gold.parquet')"
   ]
  },
  {
   "cell_type": "code",
   "execution_count": 6,
   "id": "1e5a4f9a-b9d5-4961-863d-fb9fd8f209a2",
   "metadata": {},
   "outputs": [],
   "source": [
    "y_column = 'target'\n",
    "x_columns = [\n",
    "    'mercadopago_id', 'allow_promos', 'total_sent_pushs_1m', 'total_open_pushs_1m',\n",
    "    'total_pushs_bounced_1m', 'total_pushs_bounced_3m', 'total_emails_open_1m',\n",
    "    'total_emails_open_3m', 'total_emails_sent_1m', 'total_emails_sent_3m', 'distinct_reason_1m',\n",
    "    'distinct_reason_3m', 'max_diff_total_ratings', 'distinct_voucher_id_1m',\n",
    "    'trend_redeemed_vouchers', 'distinct_reward_id_3m', 'max_diff_stores', 'mob',\n",
    "    'mm_total_ratings_reason', 'mm_total_ratings', 'trend_total_ratings', 'mean_rating_1m',\n",
    "    'mean_rating_3m', 'mm_redeemed_vouchers', 'mm_vouchers',\n",
    "    'sum_redeemed_discount_amount_3m', 'p_discount_1m', 'mean_total_value_3m',\n",
    "    'sum_total_discont_3m', 'mm_transactions_partners',\n",
    "    'mean_redeemed_discount_amount_3m',\n",
    "    'sum_loyalty_discount_amount_1m', 'mm_loyalty_amount', 'max_num_comments_3m',\n",
    "    'tickets_1m', 'tickets_3m', 'sum_bad_rating_score_tickets'\n",
    "]"
   ]
  },
  {
   "cell_type": "code",
   "execution_count": 10,
   "id": "6e97d279-6186-4af3-83a1-fdcd288dbc19",
   "metadata": {},
   "outputs": [
    {
     "name": "stdout",
     "output_type": "stream",
     "text": [
      "There are no constant features\n",
      "Starting process to remove duplicate features\n",
      "Completed process for removing duplicate assets\n",
      "Duplicate features removed are: ['mm_vouchers']\n",
      "Removing multicollinearity through VIF(Variance Inflation Factor)\n",
      "RESULTS:\n",
      "=================================================================\n",
      "Original number of columns: 36\n",
      "Number of columns after feature selection: 33\n",
      "\n",
      " Features selected:\n",
      "['total_emails_open_1m', 'total_sent_pushs_1m', 'total_open_pushs_1m', 'distinct_reward_id_3m', 'mm_total_ratings_reason', 'max_diff_total_ratings', 'sum_loyalty_discount_amount_1m', 'max_num_comments_3m', 'total_pushs_bounced_3m', 'total_emails_sent_1m', 'mm_loyalty_amount', 'trend_redeemed_vouchers', 'mob', 'mean_rating_1m', 'trend_total_ratings', 'max_diff_stores', 'mm_total_ratings', 'sum_redeemed_discount_amount_3m', 'mean_redeemed_discount_amount_3m', 'mean_total_value_3m', 'allow_promos', 'sum_bad_rating_score_tickets', 'distinct_reason_1m', 'total_emails_sent_3m', 'mercadopago_id', 'tickets_3m', 'tickets_1m', 'distinct_voucher_id_1m', 'mean_rating_3m', 'total_pushs_bounced_1m', 'p_discount_1m', 'distinct_reason_3m', 'total_emails_open_3m']\n",
      "\n",
      " Features removed:\n",
      "['mm_redeemed_vouchers', 'sum_total_discont_3m', 'mm_transactions_partners']\n",
      " \n",
      "allow_promos                        0.066848\n",
      "mercadopago_id                      0.385326\n",
      "total_emails_open_3m                0.770200\n",
      "total_emails_sent_3m                0.781821\n",
      "total_emails_open_1m                0.852970\n",
      "total_pushs_bounced_3m              0.914722\n",
      "total_emails_sent_1m                0.922238\n",
      "total_sent_pushs_1m                 0.925507\n",
      "mean_rating_3m                      0.959392\n",
      "mm_total_ratings_reason             0.963853\n",
      "max_diff_stores                     0.970830\n",
      "p_discount_1m                       0.986845\n",
      "total_open_pushs_1m                 0.996580\n",
      "distinct_reason_3m                  0.996819\n",
      "sum_bad_rating_score_tickets        0.999705\n",
      "trend_total_ratings                 1.000016\n",
      "max_diff_total_ratings              1.000050\n",
      "max_num_comments_3m                 1.000980\n",
      "tickets_3m                          1.003011\n",
      "tickets_1m                          1.003539\n",
      "sum_redeemed_discount_amount_3m     1.005802\n",
      "mm_loyalty_amount                   1.006594\n",
      "distinct_reason_1m                  1.009707\n",
      "mean_rating_1m                      1.012461\n",
      "mob                                 1.014911\n",
      "total_pushs_bounced_1m              1.017634\n",
      "sum_loyalty_discount_amount_1m      1.019159\n",
      "mean_total_value_3m                 1.074738\n",
      "distinct_reward_id_3m               1.133001\n",
      "mean_redeemed_discount_amount_3m    1.246691\n",
      "trend_redeemed_vouchers             1.268107\n",
      "mm_total_ratings                    1.336266\n",
      "distinct_voucher_id_1m              4.697429\n",
      "dtype: float64\n"
     ]
    }
   ],
   "source": [
    "X = df[x_columns]\n",
    "y = df[y_column]\n",
    "\n",
    "_, constant_features = fs.remove_constant_features(X)\n",
    "\n",
    "X, _ = fs.remove_duplicated_features(X)\n",
    "\n",
    "good_features, bad_features, vif_table = fs.remove_multicollinearity(X, search_limit=3)"
   ]
  },
  {
   "cell_type": "code",
   "execution_count": null,
   "id": "806969ed-b59a-42c7-8502-2e2c67f462dd",
   "metadata": {},
   "outputs": [],
   "source": []
  }
 ],
 "metadata": {
  "kernelspec": {
   "display_name": "Python 3 (ipykernel)",
   "language": "python",
   "name": "python3"
  },
  "language_info": {
   "codemirror_mode": {
    "name": "ipython",
    "version": 3
   },
   "file_extension": ".py",
   "mimetype": "text/x-python",
   "name": "python",
   "nbconvert_exporter": "python",
   "pygments_lexer": "ipython3",
   "version": "3.7.12"
  }
 },
 "nbformat": 4,
 "nbformat_minor": 5
}
