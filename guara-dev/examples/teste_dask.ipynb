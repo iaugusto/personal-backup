{
 "cells": [
  {
   "cell_type": "code",
   "execution_count": 1,
   "id": "critical-ambassador",
   "metadata": {},
   "outputs": [
    {
     "name": "stderr",
     "output_type": "stream",
     "text": [
      "/usr/local/lib/python3.6/site-packages/distributed/node.py:155: UserWarning: Port 8787 is already in use.\n",
      "Perhaps you already have a cluster running?\n",
      "Hosting the HTTP server on port 41291 instead\n",
      "  http_address[\"port\"], self.http_server.port\n"
     ]
    }
   ],
   "source": [
    "from dask.distributed import Client\n",
    "import dask.dataframe as dd\n",
    "\n",
    "\n",
    "client = Client(n_workers=4)"
   ]
  },
  {
   "cell_type": "code",
   "execution_count": 57,
   "id": "periodic-portugal",
   "metadata": {},
   "outputs": [
    {
     "data": {
      "text/plain": [
       "(6648000, 36)"
      ]
     },
     "execution_count": 57,
     "metadata": {},
     "output_type": "execute_result"
    }
   ],
   "source": [
    "import pandas as pd\n",
    "import multiprocessing\n",
    "\n",
    "df = pd.read_feather('../examples/downloaded_data/marketing.feather')\n",
    "df = pd.concat([df] * 3000, ignore_index = True)\n",
    "df.shape"
   ]
  },
  {
   "cell_type": "code",
   "execution_count": 58,
   "id": "alternate-interface",
   "metadata": {},
   "outputs": [
    {
     "name": "stdout",
     "output_type": "stream",
     "text": [
      "<class 'pandas.core.frame.DataFrame'>\n",
      "RangeIndex: 6648000 entries, 0 to 6647999\n",
      "Data columns (total 36 columns):\n",
      " #   Column                    Dtype  \n",
      "---  ------                    -----  \n",
      " 0   ID                        int64  \n",
      " 1   Education                 object \n",
      " 2   Marital_Status            object \n",
      " 3   Income                    float64\n",
      " 4   Kidhome                   int64  \n",
      " 5   Teenhome                  int64  \n",
      " 6   Recency                   int64  \n",
      " 7   MntWines                  float64\n",
      " 8   MntFruits                 float64\n",
      " 9   MntMeatProducts           float64\n",
      " 10  MntFishProducts           float64\n",
      " 11  MntSweetProducts          float64\n",
      " 12  MntGoldProds              float64\n",
      " 13  NumDealsPurchases         float64\n",
      " 14  NumWebPurchases           int64  \n",
      " 15  NumCatalogPurchases       float64\n",
      " 16  NumStorePurchases         int64  \n",
      " 17  NumWebVisitsMonth         int64  \n",
      " 18  Complain                  int64  \n",
      " 19  Response                  int64  \n",
      " 20  idade                     int64  \n",
      " 21  dias_cliente              int64  \n",
      " 22  education_n               int64  \n",
      " 23  parceiro                  int64  \n",
      " 24  pessoas_casa              int64  \n",
      " 25  renda_per_capta           float64\n",
      " 26  compra_total_ano          float64\n",
      " 27  porcentagem_compras_gold  float64\n",
      " 28  gasto_renda               float64\n",
      " 29  total_purchases           int64  \n",
      " 30  disc_purchases            float64\n",
      " 31  num_compras_ano           float64\n",
      " 32  percent_disc_compra       float64\n",
      " 33  ticket_medio              float64\n",
      " 34  conversao_site            float64\n",
      " 35  cupons_aceitados          int64  \n",
      "dtypes: float64(18), int64(16), object(2)\n",
      "memory usage: 2.5 GB\n"
     ]
    }
   ],
   "source": [
    "df.info(memory_usage='deep')"
   ]
  },
  {
   "cell_type": "code",
   "execution_count": 41,
   "id": "threatened-process",
   "metadata": {},
   "outputs": [
    {
     "data": {
      "text/plain": [
       "(2216, 36)"
      ]
     },
     "execution_count": 41,
     "metadata": {},
     "output_type": "execute_result"
    }
   ],
   "source": [
    "df.shape"
   ]
  },
  {
   "cell_type": "code",
   "execution_count": 59,
   "id": "entire-optics",
   "metadata": {},
   "outputs": [],
   "source": [
    "ddf = dd.from_pandas(df, npartitions = 4*multiprocessing.cpu_count())"
   ]
  },
  {
   "cell_type": "code",
   "execution_count": 46,
   "id": "selective-determination",
   "metadata": {},
   "outputs": [
    {
     "data": {
      "text/html": [
       "<div>\n",
       "<style scoped>\n",
       "    .dataframe tbody tr th:only-of-type {\n",
       "        vertical-align: middle;\n",
       "    }\n",
       "\n",
       "    .dataframe tbody tr th {\n",
       "        vertical-align: top;\n",
       "    }\n",
       "\n",
       "    .dataframe thead th {\n",
       "        text-align: right;\n",
       "    }\n",
       "</style>\n",
       "<table border=\"1\" class=\"dataframe\">\n",
       "  <thead>\n",
       "    <tr style=\"text-align: right;\">\n",
       "      <th></th>\n",
       "      <th>ID</th>\n",
       "      <th>Education</th>\n",
       "      <th>Marital_Status</th>\n",
       "      <th>Income</th>\n",
       "      <th>Kidhome</th>\n",
       "      <th>Teenhome</th>\n",
       "      <th>Recency</th>\n",
       "      <th>MntWines</th>\n",
       "      <th>MntFruits</th>\n",
       "      <th>MntMeatProducts</th>\n",
       "      <th>...</th>\n",
       "      <th>compra_total_ano</th>\n",
       "      <th>porcentagem_compras_gold</th>\n",
       "      <th>gasto_renda</th>\n",
       "      <th>total_purchases</th>\n",
       "      <th>disc_purchases</th>\n",
       "      <th>num_compras_ano</th>\n",
       "      <th>percent_disc_compra</th>\n",
       "      <th>ticket_medio</th>\n",
       "      <th>conversao_site</th>\n",
       "      <th>cupons_aceitados</th>\n",
       "    </tr>\n",
       "  </thead>\n",
       "  <tbody>\n",
       "    <tr>\n",
       "      <th>0</th>\n",
       "      <td>5524</td>\n",
       "      <td>Graduation</td>\n",
       "      <td>Single</td>\n",
       "      <td>10.970592</td>\n",
       "      <td>0</td>\n",
       "      <td>0</td>\n",
       "      <td>58</td>\n",
       "      <td>6.455199</td>\n",
       "      <td>4.488636</td>\n",
       "      <td>6.304449</td>\n",
       "      <td>...</td>\n",
       "      <td>764.5</td>\n",
       "      <td>0.055959</td>\n",
       "      <td>0.013064</td>\n",
       "      <td>22</td>\n",
       "      <td>1.386294</td>\n",
       "      <td>3.001869</td>\n",
       "      <td>0.136364</td>\n",
       "      <td>5.543906</td>\n",
       "      <td>0.012736</td>\n",
       "      <td>0</td>\n",
       "    </tr>\n",
       "    <tr>\n",
       "      <th>1</th>\n",
       "      <td>2174</td>\n",
       "      <td>Graduation</td>\n",
       "      <td>Single</td>\n",
       "      <td>10.743869</td>\n",
       "      <td>1</td>\n",
       "      <td>1</td>\n",
       "      <td>38</td>\n",
       "      <td>2.484907</td>\n",
       "      <td>0.693147</td>\n",
       "      <td>1.945910</td>\n",
       "      <td>...</td>\n",
       "      <td>10.5</td>\n",
       "      <td>0.251314</td>\n",
       "      <td>0.000227</td>\n",
       "      <td>4</td>\n",
       "      <td>1.098612</td>\n",
       "      <td>0.687059</td>\n",
       "      <td>0.500000</td>\n",
       "      <td>2.790093</td>\n",
       "      <td>0.002820</td>\n",
       "      <td>0</td>\n",
       "    </tr>\n",
       "    <tr>\n",
       "      <th>2</th>\n",
       "      <td>4141</td>\n",
       "      <td>Graduation</td>\n",
       "      <td>Together</td>\n",
       "      <td>11.179046</td>\n",
       "      <td>0</td>\n",
       "      <td>0</td>\n",
       "      <td>26</td>\n",
       "      <td>6.056784</td>\n",
       "      <td>3.912023</td>\n",
       "      <td>4.852030</td>\n",
       "      <td>...</td>\n",
       "      <td>367.0</td>\n",
       "      <td>0.055643</td>\n",
       "      <td>0.005112</td>\n",
       "      <td>20</td>\n",
       "      <td>0.693147</td>\n",
       "      <td>3.141136</td>\n",
       "      <td>0.050000</td>\n",
       "      <td>4.769300</td>\n",
       "      <td>0.025490</td>\n",
       "      <td>0</td>\n",
       "    </tr>\n",
       "    <tr>\n",
       "      <th>3</th>\n",
       "      <td>6182</td>\n",
       "      <td>Graduation</td>\n",
       "      <td>Together</td>\n",
       "      <td>10.190432</td>\n",
       "      <td>1</td>\n",
       "      <td>0</td>\n",
       "      <td>26</td>\n",
       "      <td>2.484907</td>\n",
       "      <td>1.609438</td>\n",
       "      <td>3.044522</td>\n",
       "      <td>...</td>\n",
       "      <td>24.0</td>\n",
       "      <td>0.099091</td>\n",
       "      <td>0.000900</td>\n",
       "      <td>6</td>\n",
       "      <td>1.098612</td>\n",
       "      <td>1.018131</td>\n",
       "      <td>0.333333</td>\n",
       "      <td>3.201632</td>\n",
       "      <td>0.004638</td>\n",
       "      <td>0</td>\n",
       "    </tr>\n",
       "    <tr>\n",
       "      <th>4</th>\n",
       "      <td>5324</td>\n",
       "      <td>PhD</td>\n",
       "      <td>Married</td>\n",
       "      <td>10.973254</td>\n",
       "      <td>1</td>\n",
       "      <td>0</td>\n",
       "      <td>94</td>\n",
       "      <td>5.159055</td>\n",
       "      <td>3.784190</td>\n",
       "      <td>4.779123</td>\n",
       "      <td>...</td>\n",
       "      <td>203.5</td>\n",
       "      <td>0.036192</td>\n",
       "      <td>0.003485</td>\n",
       "      <td>14</td>\n",
       "      <td>1.791759</td>\n",
       "      <td>2.351588</td>\n",
       "      <td>0.357143</td>\n",
       "      <td>4.472065</td>\n",
       "      <td>0.013711</td>\n",
       "      <td>0</td>\n",
       "    </tr>\n",
       "  </tbody>\n",
       "</table>\n",
       "<p>5 rows × 36 columns</p>\n",
       "</div>"
      ],
      "text/plain": [
       "     ID   Education Marital_Status     Income  Kidhome  Teenhome  Recency  \\\n",
       "0  5524  Graduation         Single  10.970592        0         0       58   \n",
       "1  2174  Graduation         Single  10.743869        1         1       38   \n",
       "2  4141  Graduation       Together  11.179046        0         0       26   \n",
       "3  6182  Graduation       Together  10.190432        1         0       26   \n",
       "4  5324         PhD        Married  10.973254        1         0       94   \n",
       "\n",
       "   MntWines  MntFruits  MntMeatProducts  ...  compra_total_ano  \\\n",
       "0  6.455199   4.488636         6.304449  ...             764.5   \n",
       "1  2.484907   0.693147         1.945910  ...              10.5   \n",
       "2  6.056784   3.912023         4.852030  ...             367.0   \n",
       "3  2.484907   1.609438         3.044522  ...              24.0   \n",
       "4  5.159055   3.784190         4.779123  ...             203.5   \n",
       "\n",
       "   porcentagem_compras_gold  gasto_renda  total_purchases  disc_purchases  \\\n",
       "0                  0.055959     0.013064               22        1.386294   \n",
       "1                  0.251314     0.000227                4        1.098612   \n",
       "2                  0.055643     0.005112               20        0.693147   \n",
       "3                  0.099091     0.000900                6        1.098612   \n",
       "4                  0.036192     0.003485               14        1.791759   \n",
       "\n",
       "   num_compras_ano  percent_disc_compra  ticket_medio  conversao_site  \\\n",
       "0         3.001869             0.136364      5.543906        0.012736   \n",
       "1         0.687059             0.500000      2.790093        0.002820   \n",
       "2         3.141136             0.050000      4.769300        0.025490   \n",
       "3         1.018131             0.333333      3.201632        0.004638   \n",
       "4         2.351588             0.357143      4.472065        0.013711   \n",
       "\n",
       "   cupons_aceitados  \n",
       "0                 0  \n",
       "1                 0  \n",
       "2                 0  \n",
       "3                 0  \n",
       "4                 0  \n",
       "\n",
       "[5 rows x 36 columns]"
      ]
     },
     "execution_count": 46,
     "metadata": {},
     "output_type": "execute_result"
    }
   ],
   "source": [
    "ddf.head()"
   ]
  },
  {
   "cell_type": "code",
   "execution_count": 68,
   "id": "incredible-uzbekistan",
   "metadata": {},
   "outputs": [],
   "source": [
    "def func(x):\n",
    "    sleep(1)\n",
    "    return "
   ]
  },
  {
   "cell_type": "code",
   "execution_count": 69,
   "id": "cooperative-calendar",
   "metadata": {},
   "outputs": [],
   "source": [
    "from time import time, sleep\n",
    "import numpy as np"
   ]
  },
  {
   "cell_type": "code",
   "execution_count": 70,
   "id": "inclusive-workshop",
   "metadata": {},
   "outputs": [
    {
     "name": "stderr",
     "output_type": "stream",
     "text": [
      "/usr/local/lib/python3.6/site-packages/ipykernel_launcher.py:1: UserWarning: `meta` is not specified, inferred from partial data. Please provide `meta` if the result is unexpected.\n",
      "  Before: .apply(func)\n",
      "  After:  .apply(func, meta={'x': 'f8', 'y': 'f8'}) for dataframe result\n",
      "  or:     .apply(func, meta=('x', 'f8'))            for series result\n",
      "  \"\"\"Entry point for launching an IPython kernel.\n"
     ]
    },
    {
     "name": "stdout",
     "output_type": "stream",
     "text": [
      "CPU times: user 9.82 s, sys: 10.1 s, total: 19.9 s\n",
      "Wall time: 35.3 s\n"
     ]
    },
    {
     "data": {
      "text/plain": [
       "Marital_Status\n",
       "Together    None\n",
       "Widow       None\n",
       "Divorced    None\n",
       "Single      None\n",
       "Married     None\n",
       "Name: Income, dtype: object"
      ]
     },
     "execution_count": 70,
     "metadata": {},
     "output_type": "execute_result"
    }
   ],
   "source": [
    "%time ddf.groupby('Marital_Status').Income.apply(func).compute()#(scheduler='processes')"
   ]
  },
  {
   "cell_type": "code",
   "execution_count": 71,
   "id": "lined-thanks",
   "metadata": {},
   "outputs": [
    {
     "name": "stdout",
     "output_type": "stream",
     "text": [
      "CPU times: user 1.55 s, sys: 245 ms, total: 1.8 s\n",
      "Wall time: 6.28 s\n"
     ]
    },
    {
     "data": {
      "text/plain": [
       "Marital_Status\n",
       "Divorced    None\n",
       "Married     None\n",
       "Single      None\n",
       "Together    None\n",
       "Widow       None\n",
       "Name: Income, dtype: object"
      ]
     },
     "execution_count": 71,
     "metadata": {},
     "output_type": "execute_result"
    }
   ],
   "source": [
    "%time df.groupby('Marital_Status').Income.apply(func)"
   ]
  },
  {
   "cell_type": "code",
   "execution_count": null,
   "id": "eight-heritage",
   "metadata": {},
   "outputs": [],
   "source": []
  },
  {
   "cell_type": "code",
   "execution_count": null,
   "id": "silver-substance",
   "metadata": {},
   "outputs": [],
   "source": []
  },
  {
   "cell_type": "code",
   "execution_count": null,
   "id": "legitimate-harrison",
   "metadata": {},
   "outputs": [],
   "source": []
  },
  {
   "cell_type": "code",
   "execution_count": 31,
   "id": "bronze-material",
   "metadata": {},
   "outputs": [
    {
     "data": {
      "text/plain": [
       "Married     857\n",
       "Together    573\n",
       "Single      478\n",
       "Divorced    232\n",
       "Widow        76\n",
       "Name: Marital_Status, dtype: int64"
      ]
     },
     "execution_count": 31,
     "metadata": {},
     "output_type": "execute_result"
    }
   ],
   "source": [
    "df.Marital_Status.value_counts()"
   ]
  },
  {
   "cell_type": "code",
   "execution_count": null,
   "id": "portuguese-costume",
   "metadata": {},
   "outputs": [],
   "source": []
  }
 ],
 "metadata": {
  "kernelspec": {
   "display_name": "Python 3",
   "language": "python",
   "name": "python3"
  },
  "language_info": {
   "codemirror_mode": {
    "name": "ipython",
    "version": 3
   },
   "file_extension": ".py",
   "mimetype": "text/x-python",
   "name": "python",
   "nbconvert_exporter": "python",
   "pygments_lexer": "ipython3",
   "version": "3.6.13"
  }
 },
 "nbformat": 4,
 "nbformat_minor": 5
}
