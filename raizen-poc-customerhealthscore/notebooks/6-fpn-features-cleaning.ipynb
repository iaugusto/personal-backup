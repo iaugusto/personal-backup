{
 "cells": [
  {
   "cell_type": "code",
   "execution_count": 1,
   "id": "561aaea0-0c57-4553-98f2-1701b83d31d2",
   "metadata": {},
   "outputs": [],
   "source": [
    "import pandas as pd\n",
    "import numpy as np\n",
    "\n",
    "pd.set_option('display.max_columns', None)"
   ]
  },
  {
   "cell_type": "code",
   "execution_count": 2,
   "id": "c105c688-8422-4f49-b38f-6fe53619a2c7",
   "metadata": {},
   "outputs": [],
   "source": [
    "df = pd.read_csv('../data/stage/3m/features_raw.csv')"
   ]
  },
  {
   "cell_type": "code",
   "execution_count": 3,
   "id": "b5a91b5d-5a29-418f-a338-35865e7a55e6",
   "metadata": {},
   "outputs": [
    {
     "data": {
      "text/plain": [
       "45"
      ]
     },
     "execution_count": 3,
     "metadata": {},
     "output_type": "execute_result"
    }
   ],
   "source": [
    "len(df.columns.tolist())"
   ]
  },
  {
   "cell_type": "code",
   "execution_count": 4,
   "id": "59ca7b27-444d-428f-bdf6-3e05ad9cfe12",
   "metadata": {},
   "outputs": [],
   "source": [
    "rename_columns = {\n",
    "    'mob_x': 'mob',\n",
    "    'sum_loyalty_discount_amount_1m_x': 'sum_loyalty_discount_amount_1m',\n",
    "    'sum_loyalty_discount_amount_1m_y': 'mm_loyalty_amount',\n",
    "    'distinct_voucher_id_1m_x': 'distinct_voucher_id_1m',\n",
    "    'distinct_voucher_id_1m_y': 'mode_channel_3m',\n",
    "    'nps': 'target'\n",
    "}\n",
    "df = df.rename(columns=rename_columns)"
   ]
  },
  {
   "cell_type": "code",
   "execution_count": 5,
   "id": "73c3832c-a99e-4e88-a111-8ee49a299d1f",
   "metadata": {},
   "outputs": [],
   "source": [
    "columns = [\n",
    "    'consumer_id', 'target', 'mercadopago_id', 'allow_promos','total_sent_pushs_1m',\n",
    "    'total_open_pushs_1m', 'total_pushs_bounced_1m','total_pushs_bounced_3m',\n",
    "    'total_emails_open_1m','total_emails_open_3m','total_emails_sent_1m','total_emails_sent_3m',\n",
    "    'distinct_reason_1m','distinct_reason_3m','mode_rating_reason_3m','max_diff_total_ratings',\n",
    "    'mm_total_ratings_reason','mm_total_ratings','trend_total_ratings',\n",
    "    'mean_rating_1m','mean_rating_3m','distinct_voucher_id_1m','mode_channel_3m',\n",
    "    'mode_channel_3m','mm_vouchers','mm_redeemed_vouchers','trend_redeemed_vouchers',\n",
    "    'distinct_reward_id_3m','mean_redeemed_discount_amount_3m','sum_redeemed_discount_amount_3m',\n",
    "    'p_discount_1m','mean_total_value_3m','sum_total_discont_3m','max_diff_stores',\n",
    "    'mm_transactions_partners','mm_total_value_partners','mob',\n",
    "    'sum_loyalty_discount_amount_1m','mm_loyalty_amount', 'max_num_comments_3m',\n",
    "    'tickets_1m', 'tickets_3m', 'sum_bad_rating_score_tickets'\n",
    "]\n",
    "df = df[columns]"
   ]
  },
  {
   "cell_type": "code",
   "execution_count": 6,
   "id": "dfa58a29-4251-4622-b9c1-3bd6da6f1bc2",
   "metadata": {},
   "outputs": [],
   "source": [
    "df['mode_rating_reason_3m'] = df['mode_rating_reason_3m'].replace({'[]':np.nan})"
   ]
  },
  {
   "cell_type": "code",
   "execution_count": 16,
   "id": "61202f47-67fa-4ba9-8789-3b46e85eb84f",
   "metadata": {},
   "outputs": [
    {
     "data": {
      "text/plain": [
       "0               884.0\n",
       "1         [112. 884.]\n",
       "2                 NaN\n",
       "3                 NaN\n",
       "4       [ 112. 1030.]\n",
       "            ...      \n",
       "5057              NaN\n",
       "5058              NaN\n",
       "5059            983.0\n",
       "5060              NaN\n",
       "5061            983.0\n",
       "Name: mode_channel_3m, Length: 5062, dtype: object"
      ]
     },
     "execution_count": 16,
     "metadata": {},
     "output_type": "execute_result"
    }
   ],
   "source": [
    "df['mode_channel_3m']"
   ]
  },
  {
   "cell_type": "code",
   "execution_count": 14,
   "id": "0304dcab-ea7d-4550-9155-e8997a660c1f",
   "metadata": {
    "collapsed": true,
    "jupyter": {
     "outputs_hidden": true
    },
    "tags": []
   },
   "outputs": [
    {
     "ename": "IndexingError",
     "evalue": "Too many indexers",
     "output_type": "error",
     "traceback": [
      "\u001b[0;31m---------------------------------------------------------------------------\u001b[0m",
      "\u001b[0;31mIndexingError\u001b[0m                             Traceback (most recent call last)",
      "\u001b[0;32m/tmp/ipykernel_11703/1348523986.py\u001b[0m in \u001b[0;36m<module>\u001b[0;34m\u001b[0m\n\u001b[0;32m----> 1\u001b[0;31m \u001b[0mdf\u001b[0m\u001b[0;34m[\u001b[0m\u001b[0;34m'mode_channel_3m_'\u001b[0m\u001b[0;34m]\u001b[0m \u001b[0;34m=\u001b[0m \u001b[0mdf\u001b[0m\u001b[0;34m[\u001b[0m\u001b[0;34m'mode_channel_3m'\u001b[0m\u001b[0;34m]\u001b[0m\u001b[0;34m.\u001b[0m\u001b[0miloc\u001b[0m\u001b[0;34m[\u001b[0m\u001b[0;34m:\u001b[0m\u001b[0;34m,\u001b[0m \u001b[0;36m0\u001b[0m\u001b[0;34m]\u001b[0m\u001b[0;34m\u001b[0m\u001b[0;34m\u001b[0m\u001b[0m\n\u001b[0m\u001b[1;32m      2\u001b[0m \u001b[0;31m#df = df.drop('mode_channel_3m', axis=1)\u001b[0m\u001b[0;34m\u001b[0m\u001b[0;34m\u001b[0m\u001b[0;34m\u001b[0m\u001b[0m\n\u001b[1;32m      3\u001b[0m \u001b[0;34m\u001b[0m\u001b[0m\n\u001b[1;32m      4\u001b[0m \u001b[0;31m#df = df.rename(columns={'mode_channel_3m_':'mode_channel_3m'})\u001b[0m\u001b[0;34m\u001b[0m\u001b[0;34m\u001b[0m\u001b[0;34m\u001b[0m\u001b[0m\n",
      "\u001b[0;32m/usr/local/lib/python3.7/site-packages/pandas/core/indexing.py\u001b[0m in \u001b[0;36m__getitem__\u001b[0;34m(self, key)\u001b[0m\n\u001b[1;32m    923\u001b[0m                 \u001b[0;32mwith\u001b[0m \u001b[0msuppress\u001b[0m\u001b[0;34m(\u001b[0m\u001b[0mKeyError\u001b[0m\u001b[0;34m,\u001b[0m \u001b[0mIndexError\u001b[0m\u001b[0;34m)\u001b[0m\u001b[0;34m:\u001b[0m\u001b[0;34m\u001b[0m\u001b[0;34m\u001b[0m\u001b[0m\n\u001b[1;32m    924\u001b[0m                     \u001b[0;32mreturn\u001b[0m \u001b[0mself\u001b[0m\u001b[0;34m.\u001b[0m\u001b[0mobj\u001b[0m\u001b[0;34m.\u001b[0m\u001b[0m_get_value\u001b[0m\u001b[0;34m(\u001b[0m\u001b[0;34m*\u001b[0m\u001b[0mkey\u001b[0m\u001b[0;34m,\u001b[0m \u001b[0mtakeable\u001b[0m\u001b[0;34m=\u001b[0m\u001b[0mself\u001b[0m\u001b[0;34m.\u001b[0m\u001b[0m_takeable\u001b[0m\u001b[0;34m)\u001b[0m\u001b[0;34m\u001b[0m\u001b[0;34m\u001b[0m\u001b[0m\n\u001b[0;32m--> 925\u001b[0;31m             \u001b[0;32mreturn\u001b[0m \u001b[0mself\u001b[0m\u001b[0;34m.\u001b[0m\u001b[0m_getitem_tuple\u001b[0m\u001b[0;34m(\u001b[0m\u001b[0mkey\u001b[0m\u001b[0;34m)\u001b[0m\u001b[0;34m\u001b[0m\u001b[0;34m\u001b[0m\u001b[0m\n\u001b[0m\u001b[1;32m    926\u001b[0m         \u001b[0;32melse\u001b[0m\u001b[0;34m:\u001b[0m\u001b[0;34m\u001b[0m\u001b[0;34m\u001b[0m\u001b[0m\n\u001b[1;32m    927\u001b[0m             \u001b[0;31m# we by definition only have the 0th axis\u001b[0m\u001b[0;34m\u001b[0m\u001b[0;34m\u001b[0m\u001b[0;34m\u001b[0m\u001b[0m\n",
      "\u001b[0;32m/usr/local/lib/python3.7/site-packages/pandas/core/indexing.py\u001b[0m in \u001b[0;36m_getitem_tuple\u001b[0;34m(self, tup)\u001b[0m\n\u001b[1;32m   1504\u001b[0m     \u001b[0;32mdef\u001b[0m \u001b[0m_getitem_tuple\u001b[0m\u001b[0;34m(\u001b[0m\u001b[0mself\u001b[0m\u001b[0;34m,\u001b[0m \u001b[0mtup\u001b[0m\u001b[0;34m:\u001b[0m \u001b[0mtuple\u001b[0m\u001b[0;34m)\u001b[0m\u001b[0;34m:\u001b[0m\u001b[0;34m\u001b[0m\u001b[0;34m\u001b[0m\u001b[0m\n\u001b[1;32m   1505\u001b[0m \u001b[0;34m\u001b[0m\u001b[0m\n\u001b[0;32m-> 1506\u001b[0;31m         \u001b[0mself\u001b[0m\u001b[0;34m.\u001b[0m\u001b[0m_has_valid_tuple\u001b[0m\u001b[0;34m(\u001b[0m\u001b[0mtup\u001b[0m\u001b[0;34m)\u001b[0m\u001b[0;34m\u001b[0m\u001b[0;34m\u001b[0m\u001b[0m\n\u001b[0m\u001b[1;32m   1507\u001b[0m         \u001b[0;32mwith\u001b[0m \u001b[0msuppress\u001b[0m\u001b[0;34m(\u001b[0m\u001b[0mIndexingError\u001b[0m\u001b[0;34m)\u001b[0m\u001b[0;34m:\u001b[0m\u001b[0;34m\u001b[0m\u001b[0;34m\u001b[0m\u001b[0m\n\u001b[1;32m   1508\u001b[0m             \u001b[0;32mreturn\u001b[0m \u001b[0mself\u001b[0m\u001b[0;34m.\u001b[0m\u001b[0m_getitem_lowerdim\u001b[0m\u001b[0;34m(\u001b[0m\u001b[0mtup\u001b[0m\u001b[0;34m)\u001b[0m\u001b[0;34m\u001b[0m\u001b[0;34m\u001b[0m\u001b[0m\n",
      "\u001b[0;32m/usr/local/lib/python3.7/site-packages/pandas/core/indexing.py\u001b[0m in \u001b[0;36m_has_valid_tuple\u001b[0;34m(self, key)\u001b[0m\n\u001b[1;32m    749\u001b[0m         \u001b[0mCheck\u001b[0m \u001b[0mthe\u001b[0m \u001b[0mkey\u001b[0m \u001b[0;32mfor\u001b[0m \u001b[0mvalid\u001b[0m \u001b[0mkeys\u001b[0m \u001b[0macross\u001b[0m \u001b[0mmy\u001b[0m \u001b[0mindexer\u001b[0m\u001b[0;34m.\u001b[0m\u001b[0;34m\u001b[0m\u001b[0;34m\u001b[0m\u001b[0m\n\u001b[1;32m    750\u001b[0m         \"\"\"\n\u001b[0;32m--> 751\u001b[0;31m         \u001b[0mself\u001b[0m\u001b[0;34m.\u001b[0m\u001b[0m_validate_key_length\u001b[0m\u001b[0;34m(\u001b[0m\u001b[0mkey\u001b[0m\u001b[0;34m)\u001b[0m\u001b[0;34m\u001b[0m\u001b[0;34m\u001b[0m\u001b[0m\n\u001b[0m\u001b[1;32m    752\u001b[0m         \u001b[0;32mfor\u001b[0m \u001b[0mi\u001b[0m\u001b[0;34m,\u001b[0m \u001b[0mk\u001b[0m \u001b[0;32min\u001b[0m \u001b[0menumerate\u001b[0m\u001b[0;34m(\u001b[0m\u001b[0mkey\u001b[0m\u001b[0;34m)\u001b[0m\u001b[0;34m:\u001b[0m\u001b[0;34m\u001b[0m\u001b[0;34m\u001b[0m\u001b[0m\n\u001b[1;32m    753\u001b[0m             \u001b[0;32mtry\u001b[0m\u001b[0;34m:\u001b[0m\u001b[0;34m\u001b[0m\u001b[0;34m\u001b[0m\u001b[0m\n",
      "\u001b[0;32m/usr/local/lib/python3.7/site-packages/pandas/core/indexing.py\u001b[0m in \u001b[0;36m_validate_key_length\u001b[0;34m(self, key)\u001b[0m\n\u001b[1;32m    790\u001b[0m     \u001b[0;32mdef\u001b[0m \u001b[0m_validate_key_length\u001b[0m\u001b[0;34m(\u001b[0m\u001b[0mself\u001b[0m\u001b[0;34m,\u001b[0m \u001b[0mkey\u001b[0m\u001b[0;34m:\u001b[0m \u001b[0mSequence\u001b[0m\u001b[0;34m[\u001b[0m\u001b[0mAny\u001b[0m\u001b[0;34m]\u001b[0m\u001b[0;34m)\u001b[0m \u001b[0;34m->\u001b[0m \u001b[0;32mNone\u001b[0m\u001b[0;34m:\u001b[0m\u001b[0;34m\u001b[0m\u001b[0;34m\u001b[0m\u001b[0m\n\u001b[1;32m    791\u001b[0m         \u001b[0;32mif\u001b[0m \u001b[0mlen\u001b[0m\u001b[0;34m(\u001b[0m\u001b[0mkey\u001b[0m\u001b[0;34m)\u001b[0m \u001b[0;34m>\u001b[0m \u001b[0mself\u001b[0m\u001b[0;34m.\u001b[0m\u001b[0mndim\u001b[0m\u001b[0;34m:\u001b[0m\u001b[0;34m\u001b[0m\u001b[0;34m\u001b[0m\u001b[0m\n\u001b[0;32m--> 792\u001b[0;31m             \u001b[0;32mraise\u001b[0m \u001b[0mIndexingError\u001b[0m\u001b[0;34m(\u001b[0m\u001b[0;34m\"Too many indexers\"\u001b[0m\u001b[0;34m)\u001b[0m\u001b[0;34m\u001b[0m\u001b[0;34m\u001b[0m\u001b[0m\n\u001b[0m\u001b[1;32m    793\u001b[0m \u001b[0;34m\u001b[0m\u001b[0m\n\u001b[1;32m    794\u001b[0m     \u001b[0;32mdef\u001b[0m \u001b[0m_getitem_tuple_same_dim\u001b[0m\u001b[0;34m(\u001b[0m\u001b[0mself\u001b[0m\u001b[0;34m,\u001b[0m \u001b[0mtup\u001b[0m\u001b[0;34m:\u001b[0m \u001b[0mtuple\u001b[0m\u001b[0;34m)\u001b[0m\u001b[0;34m:\u001b[0m\u001b[0;34m\u001b[0m\u001b[0;34m\u001b[0m\u001b[0m\n",
      "\u001b[0;31mIndexingError\u001b[0m: Too many indexers"
     ]
    }
   ],
   "source": [
    "df['mode_channel_3m_'] = df['mode_channel_3m'].iloc[:, 0]\n",
    "df = df.drop('mode_channel_3m', axis=1)\n",
    "\n",
    "df = df.rename(columns={'mode_channel_3m_':'mode_channel_3m'})"
   ]
  },
  {
   "cell_type": "code",
   "execution_count": 8,
   "id": "eb80a4d5-880c-4acd-9563-955c08242f7c",
   "metadata": {},
   "outputs": [],
   "source": [
    "df['mercadopago_id'] = df['mercadopago_id'].astype(int)"
   ]
  },
  {
   "cell_type": "code",
   "execution_count": 17,
   "id": "50d9f16a-af95-4efb-a994-7298cc5a9cd3",
   "metadata": {},
   "outputs": [],
   "source": [
    "interger_columns = [\n",
    "    'target', 'mercadopago_id', 'allow_promos', 'total_sent_pushs_1m', 'total_open_pushs_1m',\n",
    "    'total_pushs_bounced_1m', 'total_pushs_bounced_3m', 'total_emails_open_1m',\n",
    "    'total_emails_open_3m', 'total_emails_sent_1m', 'total_emails_sent_3m', 'distinct_reason_1m',\n",
    "    'distinct_reason_3m', 'max_diff_total_ratings', 'distinct_voucher_id_1m',\n",
    "    'trend_redeemed_vouchers', 'distinct_reward_id_3m', 'max_diff_stores', 'mob',\n",
    "    'max_num_comments_3m', 'tickets_1m', 'tickets_3m', 'sum_bad_rating_score_tickets'\n",
    "]\n",
    "\n",
    "float_features = [\n",
    "    'mm_total_ratings_reason', 'mm_total_ratings', 'trend_total_ratings', 'mean_rating_1m',\n",
    "    'mean_rating_3m', 'mm_redeemed_vouchers'\n",
    "]\n",
    "float_features_2 = [\n",
    "    'mm_vouchers', 'mean_redeemed_discount_amount_3m',\n",
    "    'sum_redeemed_discount_amount_3m', 'p_discount_1m', 'mean_total_value_3m',\n",
    "    'sum_total_discont_3m', 'mm_transactions_partners'\n",
    "]\n",
    "float_features_3 = [\n",
    "    'sum_loyalty_discount_amount_1m', 'mm_loyalty_amount'\n",
    "]\n",
    "\n",
    "#mode_rating_reason_3m\n",
    "#mode_channel_3m\n",
    "#'mercadopago_id', 'allow_promos'"
   ]
  },
  {
   "cell_type": "code",
   "execution_count": 18,
   "id": "17c138af-2a74-4d10-8dac-83c0000befc3",
   "metadata": {},
   "outputs": [],
   "source": [
    "df[interger_columns] = df[interger_columns].fillna(0).astype('int')"
   ]
  },
  {
   "cell_type": "code",
   "execution_count": 25,
   "id": "2893259d-f927-49c7-9066-b4b5ed78493d",
   "metadata": {},
   "outputs": [],
   "source": [
    "df[float_features] = df[float_features].fillna(0).astype('float')\n",
    "df[float_features_2] = df[float_features_2].fillna(0).astype('float')\n",
    "df[float_features_3] = df[float_features_3].fillna(0).astype('float')"
   ]
  },
  {
   "cell_type": "code",
   "execution_count": 26,
   "id": "9cdfff36-d226-4523-972e-2527fff4c2b2",
   "metadata": {},
   "outputs": [],
   "source": [
    "df = df.reset_index(drop=True)"
   ]
  },
  {
   "cell_type": "code",
   "execution_count": 27,
   "id": "9c623b31-2050-47f9-9365-752ab4e03d19",
   "metadata": {},
   "outputs": [],
   "source": [
    "categorical_features = [\n",
    "    'mode_rating_reason_3m', 'mode_channel_3m', 'mercadopago_id', 'allow_promos'\n",
    "]\n",
    "numerical_features = [\n",
    "    'mercadopago_id', 'allow_promos', 'total_sent_pushs_1m', 'total_open_pushs_1m',\n",
    "    'total_pushs_bounced_1m', 'total_pushs_bounced_3m', 'total_emails_open_1m',\n",
    "    'total_emails_open_3m', 'total_emails_sent_1m', 'total_emails_sent_3m', 'distinct_reason_1m',\n",
    "    'distinct_reason_3m', 'max_diff_total_ratings', 'distinct_voucher_id_1m', 'mode_channel_3m',\n",
    "    'trend_redeemed_vouchers', 'distinct_reward_id_3m', 'max_diff_stores', 'mob',\n",
    "    'mm_total_ratings_reason', 'mm_total_ratings', 'trend_total_ratings', 'mean_rating_1m',\n",
    "    'mean_rating_3m', 'mm_redeemed_vouchers', 'mm_vouchers', 'mean_redeemed_discount_amount_3m',\n",
    "    'sum_redeemed_discount_amount_3m', 'p_discount_1m', 'mean_total_value_3m',\n",
    "    'sum_total_discont_3m', 'mm_transactions_partners', 'mm_vouchers',\n",
    "    'mean_redeemed_discount_amount_3m', 'sum_redeemed_discount_amount_3m',\n",
    "    'p_discount_1m', 'mean_total_value_3m', 'sum_total_discont_3m', 'mm_transactions_partners',\n",
    "    'sum_loyalty_discount_amount_1m', 'mm_loyalty_amount', 'max_num_comments_3m',\n",
    "    'tickets_1m', 'tickets_3m', 'sum_bad_rating_score_tickets'\n",
    "]\n",
    "target_column = 'target'"
   ]
  },
  {
   "cell_type": "markdown",
   "id": "1efe5fea-a448-402d-a01f-e358cc23294b",
   "metadata": {},
   "source": [
    "### Saving DataFrame"
   ]
  },
  {
   "cell_type": "code",
   "execution_count": 28,
   "id": "1bcc5c6c-c8ab-4130-a96e-a30089d56e80",
   "metadata": {},
   "outputs": [],
   "source": [
    "#Salvando em Parquet\n",
    "df.to_parquet('../data/stage/3m/features_gold.parquet')"
   ]
  }
 ],
 "metadata": {
  "kernelspec": {
   "display_name": "Python 3 (ipykernel)",
   "language": "python",
   "name": "python3"
  },
  "language_info": {
   "codemirror_mode": {
    "name": "ipython",
    "version": 3
   },
   "file_extension": ".py",
   "mimetype": "text/x-python",
   "name": "python",
   "nbconvert_exporter": "python",
   "pygments_lexer": "ipython3",
   "version": "3.7.12"
  }
 },
 "nbformat": 4,
 "nbformat_minor": 5
}
