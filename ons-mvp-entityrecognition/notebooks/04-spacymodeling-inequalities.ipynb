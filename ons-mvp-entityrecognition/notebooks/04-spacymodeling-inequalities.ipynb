{
 "cells": [
  {
   "cell_type": "code",
   "execution_count": 1,
   "metadata": {},
   "outputs": [],
   "source": [
    "# pip install awswrangler"
   ]
  },
  {
   "cell_type": "code",
   "execution_count": 2,
   "metadata": {},
   "outputs": [],
   "source": [
    "# pip install spacy"
   ]
  },
  {
   "cell_type": "code",
   "execution_count": 3,
   "metadata": {},
   "outputs": [],
   "source": [
    "#!python -m spacy download pt"
   ]
  },
  {
   "cell_type": "code",
   "execution_count": 4,
   "metadata": {},
   "outputs": [],
   "source": [
    "# pip install spacy && python -m spacy download pt_core_news_sm"
   ]
  },
  {
   "cell_type": "code",
   "execution_count": 5,
   "metadata": {},
   "outputs": [],
   "source": [
    "import re\n",
    "import os\n",
    "import sys\n",
    "import spacy\n",
    "import random\n",
    "import numpy as np\n",
    "import pandas as pd\n",
    "import awswrangler as wr\n",
    "from spacy.training import Example\n",
    "from spacy.util import minibatch, compounding\n",
    "\n",
    "sys.path.append(os.path.dirname(os.getcwd())+'/src')\n",
    "from preprocess import preprocess_module"
   ]
  },
  {
   "cell_type": "markdown",
   "metadata": {},
   "source": [
    "---\n",
    "\n",
    "### Reading processed data for training"
   ]
  },
  {
   "cell_type": "code",
   "execution_count": 6,
   "metadata": {},
   "outputs": [],
   "source": [
    "bucket = 'ons-ds-dev-entityrecognition'\n",
    "path = 'mpo/mvp/data/processed/inequality_samples.parquet'\n",
    "train_dataset = wr.s3.read_parquet(f's3://{bucket}/{path}') #pd.read_parquet(os.path.dirname(os.getcwd())+'/data/dataset_0.parquet')\n",
    "train_dataset.sort_values(by=['text','start', 'end'], inplace=True)"
   ]
  },
  {
   "cell_type": "code",
   "execution_count": 7,
   "metadata": {},
   "outputs": [],
   "source": [
    "train_dataset[['start','end']] = train_dataset[['start','end']].astype('int')"
   ]
  },
  {
   "cell_type": "code",
   "execution_count": 8,
   "metadata": {},
   "outputs": [
    {
     "data": {
      "text/html": [
       "<div>\n",
       "<style scoped>\n",
       "    .dataframe tbody tr th:only-of-type {\n",
       "        vertical-align: middle;\n",
       "    }\n",
       "\n",
       "    .dataframe tbody tr th {\n",
       "        vertical-align: top;\n",
       "    }\n",
       "\n",
       "    .dataframe thead th {\n",
       "        text-align: right;\n",
       "    }\n",
       "</style>\n",
       "<table border=\"1\" class=\"dataframe\">\n",
       "  <thead>\n",
       "    <tr style=\"text-align: right;\">\n",
       "      <th></th>\n",
       "      <th>text</th>\n",
       "      <th>entity</th>\n",
       "      <th>label</th>\n",
       "      <th>start</th>\n",
       "      <th>end</th>\n",
       "    </tr>\n",
       "  </thead>\n",
       "  <tbody>\n",
       "    <tr>\n",
       "      <th>331</th>\n",
       "      <td>1 . Desenergização iniciando pela SE Biguaçu ...</td>\n",
       "      <td>tensão na SE Gaspar 2 inferior a 239 kV</td>\n",
       "      <td>INEQUACAO</td>\n",
       "      <td>261</td>\n",
       "      <td>300</td>\n",
       "    </tr>\n",
       "    <tr>\n",
       "      <th>330</th>\n",
       "      <td>1 . Desenergização iniciando pela SE Biguaçu ...</td>\n",
       "      <td>SE Gaspar 2 inferior a 239 kV</td>\n",
       "      <td>INEQUACAO</td>\n",
       "      <td>271</td>\n",
       "      <td>300</td>\n",
       "    </tr>\n",
       "    <tr>\n",
       "      <th>56</th>\n",
       "      <td>1 . Desenergização iniciando pela SE Cachoeir...</td>\n",
       "      <td>SE Taubaté 500 kV ≤ 549 kV</td>\n",
       "      <td>INEQUACAO</td>\n",
       "      <td>417</td>\n",
       "      <td>443</td>\n",
       "    </tr>\n",
       "    <tr>\n",
       "      <th>57</th>\n",
       "      <td>1 . Desenergização iniciando pela SE Cachoeir...</td>\n",
       "      <td>SE Taubaté 500 kV ≤ 547 kV</td>\n",
       "      <td>INEQUACAO</td>\n",
       "      <td>587</td>\n",
       "      <td>613</td>\n",
       "    </tr>\n",
       "    <tr>\n",
       "      <th>58</th>\n",
       "      <td>1 . Desenergização iniciando pela SE Cachoeir...</td>\n",
       "      <td>SE Taubaté 500 kV ≤ 546 kV</td>\n",
       "      <td>INEQUACAO</td>\n",
       "      <td>709</td>\n",
       "      <td>735</td>\n",
       "    </tr>\n",
       "  </tbody>\n",
       "</table>\n",
       "</div>"
      ],
      "text/plain": [
       "                                                  text  \\\n",
       "331   1 . Desenergização iniciando pela SE Biguaçu ...   \n",
       "330   1 . Desenergização iniciando pela SE Biguaçu ...   \n",
       "56    1 . Desenergização iniciando pela SE Cachoeir...   \n",
       "57    1 . Desenergização iniciando pela SE Cachoeir...   \n",
       "58    1 . Desenergização iniciando pela SE Cachoeir...   \n",
       "\n",
       "                                      entity      label  start  end  \n",
       "331  tensão na SE Gaspar 2 inferior a 239 kV  INEQUACAO    261  300  \n",
       "330            SE Gaspar 2 inferior a 239 kV  INEQUACAO    271  300  \n",
       "56                SE Taubaté 500 kV ≤ 549 kV  INEQUACAO    417  443  \n",
       "57                SE Taubaté 500 kV ≤ 547 kV  INEQUACAO    587  613  \n",
       "58                SE Taubaté 500 kV ≤ 546 kV  INEQUACAO    709  735  "
      ]
     },
     "execution_count": 8,
     "metadata": {},
     "output_type": "execute_result"
    }
   ],
   "source": [
    "train_dataset.head()"
   ]
  },
  {
   "cell_type": "code",
   "execution_count": 9,
   "metadata": {},
   "outputs": [],
   "source": [
    "# train_dataset[train_dataset['text']==train_dataset['text'].iloc[0]]"
   ]
  },
  {
   "cell_type": "markdown",
   "metadata": {},
   "source": [
    "---\n",
    "\n",
    "### Feature Engineering"
   ]
  },
  {
   "cell_type": "code",
   "execution_count": 10,
   "metadata": {},
   "outputs": [
    {
     "name": "stderr",
     "output_type": "stream",
     "text": [
      "/opt/conda/lib/python3.7/site-packages/pandas/util/_decorators.py:311: SettingWithCopyWarning: \n",
      "A value is trying to be set on a copy of a slice from a DataFrame\n",
      "\n",
      "See the caveats in the documentation: https://pandas.pydata.org/pandas-docs/stable/user_guide/indexing.html#returning-a-view-versus-a-copy\n",
      "  return func(*args, **kwargs)\n"
     ]
    }
   ],
   "source": [
    "training_set = []\n",
    "unique_text = sorted(set(train_dataset['text']))\n",
    "for samp in unique_text:\n",
    "    df_loop = train_dataset[train_dataset['text']==samp]\n",
    "    df_loop.drop_duplicates(inplace=True)\n",
    "    df_loop.sort_values(by=['start','end'], axis=0, ascending=True, inplace=True)\n",
    "    sliding_ref = -1\n",
    "    ent_list = []\n",
    "    for index, row in df_loop.iterrows():\n",
    "        if row['start'] > sliding_ref:\n",
    "            ent_list.append([row['start'], row['end'], row['label']])\n",
    "            sliding_ref = row['end']\n",
    "    training_set.append([samp, {'entities': tuple(ent_list)}])"
   ]
  },
  {
   "cell_type": "code",
   "execution_count": 11,
   "metadata": {},
   "outputs": [
    {
     "data": {
      "text/plain": [
       "[' 1 . Desenergização iniciando pela SE Biguaçu ( Sentido Único ) PassoCoordenaçãoControleComando / ExecuçãoProcedimentoObjetivo / Item de Controle 1COSR-SCOSR-SCGT ELETROSULDesligar , na SE Biguaçu , a LT 230 kV Biguaçu / Gaspar 2 . Todos os períodos de carga : tensão na SE Gaspar 2 inferior a 239 kV . 2COSR-SCOSR-SCGT ELETROSULDesenergizar , na SE Gaspar 2 , a LT 230 kV Biguaçu / Gaspar 2 . ',\n",
       " {'entities': ([261, 300, 'INEQUACAO'],)}]"
      ]
     },
     "execution_count": 11,
     "metadata": {},
     "output_type": "execute_result"
    }
   ],
   "source": [
    "training_set[0]"
   ]
  },
  {
   "cell_type": "code",
   "execution_count": 12,
   "metadata": {},
   "outputs": [],
   "source": [
    "# train_dataset[train_dataset['text']==train_dataset['text'].iloc[0]]"
   ]
  },
  {
   "cell_type": "markdown",
   "metadata": {},
   "source": [
    "---\n",
    "\n",
    "### Model initialization"
   ]
  },
  {
   "cell_type": "code",
   "execution_count": 42,
   "metadata": {},
   "outputs": [
    {
     "data": {
      "text/plain": [
       "['tok2vec', 'morphologizer', 'parser', 'lemmatizer', 'attribute_ruler', 'ner']"
      ]
     },
     "execution_count": 42,
     "metadata": {},
     "output_type": "execute_result"
    }
   ],
   "source": [
    "# loading spacy pt-br dependencies - training with preset\n",
    "nlp = spacy.load(\"pt_core_news_sm\")\n",
    "optimizer = nlp.create_optimizer()\n",
    "\n",
    "# alternative - start blank model\n",
    "# nlp = spacy.blank('pt')\n",
    "# optimizer = nlp.begin_training()\n",
    "\n",
    "# if NER not in pipeline modules within spacy, download it\n",
    "if 'ner' not in nlp.pipe_names:\n",
    "    ner = nlp.create_pipe(\"ner\")\n",
    "    nlp.add_pipe(\"ner\")\n",
    "else:\n",
    "    ner = nlp.get_pipe(\"ner\")\n",
    "\n",
    "# printing pipelines\n",
    "nlp.pipe_names"
   ]
  },
  {
   "cell_type": "code",
   "execution_count": 43,
   "metadata": {},
   "outputs": [
    {
     "name": "stdout",
     "output_type": "stream",
     "text": [
      "[(Carrefour, 'ORG')]\n"
     ]
    }
   ],
   "source": [
    "texto = 'Olá, bom dia. Hoje fui ao Carrefour e comprei uma televisão.'\n",
    "doc = nlp(texto)\n",
    "print([(entity, entity.label_) for entity in doc.ents])"
   ]
  },
  {
   "cell_type": "markdown",
   "metadata": {},
   "source": [
    "### Adding custom labels to blank spacy model"
   ]
  },
  {
   "cell_type": "code",
   "execution_count": 44,
   "metadata": {},
   "outputs": [
    {
     "data": {
      "text/plain": [
       "('INEQUACAO', 'LOC', 'MISC', 'ORG', 'PER')"
      ]
     },
     "execution_count": 44,
     "metadata": {},
     "output_type": "execute_result"
    }
   ],
   "source": [
    "# adding labels to spacy NER module\n",
    "for label in set(train_dataset['label'].to_list()):\n",
    "    ner.add_label(label)\n",
    "\n",
    "#spacy.training.offsets_to_biluo_tags(nlp.make_doc(text), entities)\n",
    "ner.labels"
   ]
  },
  {
   "cell_type": "code",
   "execution_count": 45,
   "metadata": {},
   "outputs": [
    {
     "name": "stdout",
     "output_type": "stream",
     "text": [
      "iterations:  1 Loss:  {'ner': 1634.804493885034}\n",
      "iterations:  2 Loss:  {'ner': 213.3340974128402}\n",
      "iterations:  3 Loss:  {'ner': 90.88965525176535}\n",
      "iterations:  4 Loss:  {'ner': 182.00396905998844}\n",
      "iterations:  5 Loss:  {'ner': 83.53795162265367}\n",
      "iterations:  6 Loss:  {'ner': 83.51287262942745}\n",
      "iterations:  7 Loss:  {'ner': 59.54584050714286}\n",
      "iterations:  8 Loss:  {'ner': 63.58214283052588}\n",
      "iterations:  9 Loss:  {'ner': 85.94864023936256}\n",
      "iterations:  10 Loss:  {'ner': 74.97133138601802}\n",
      "iterations:  11 Loss:  {'ner': 87.8462128355446}\n",
      "iterations:  12 Loss:  {'ner': 47.7574962268493}\n",
      "iterations:  13 Loss:  {'ner': 63.64518468770076}\n",
      "iterations:  14 Loss:  {'ner': 93.70272307817457}\n",
      "iterations:  15 Loss:  {'ner': 180.4355483798839}\n",
      "iterations:  16 Loss:  {'ner': 40.06420261926083}\n",
      "iterations:  17 Loss:  {'ner': 37.34368752260705}\n",
      "iterations:  18 Loss:  {'ner': 57.60132942326628}\n",
      "iterations:  19 Loss:  {'ner': 46.883298265852495}\n",
      "iterations:  20 Loss:  {'ner': 52.256014113639495}\n"
     ]
    }
   ],
   "source": [
    "import warnings\n",
    "warnings.simplefilter(\"ignore\")\n",
    "n_iterations = 20\n",
    "batch_size = 30\n",
    "loss_list = []\n",
    "pipes_except_ner = [pipe for pipe in nlp.pipe_names if pipe != 'ner']\n",
    "\n",
    "# only training NER module - no other module can be retrained in this section\n",
    "with nlp.disable_pipes(*pipes_except_ner):\n",
    "    for it in range(n_iterations):\n",
    "        random.shuffle(training_set)\n",
    "        losses = {}       \n",
    "        batches = minibatch(\n",
    "            training_set,\n",
    "            size=batch_size\n",
    "            )\n",
    "        for batch in batches:\n",
    "            texts, annotations = zip(*batch)\n",
    "            for text, annot in zip(texts, annotations):\n",
    "                doc = nlp.make_doc(text)\n",
    "                example = Example.from_dict(doc, annot)\n",
    "                #spacy.training.offsets_to_biluo_tags(doc, annot['entities'])\n",
    "                nlp.update(\n",
    "                    [example],\n",
    "                    sgd=optimizer, \n",
    "                    drop=0.30, \n",
    "                    losses=losses\n",
    "                    )\n",
    "        print('iterations: ', it+1, 'Loss: ', losses)\n",
    "        loss_list.append(losses['ner'])"
   ]
  },
  {
   "cell_type": "code",
   "execution_count": 47,
   "metadata": {},
   "outputs": [
    {
     "data": {
      "image/png": "[encoded data removed]",
      "text/plain": [
       "<Figure size 640x480 with 1 Axes>"
      ]
     },
     "metadata": {},
     "output_type": "display_data"
    }
   ],
   "source": [
    "# loss plot\n",
    "import matplotlib.pyplot as plt\n",
    "plt.plot(range(n_iterations), loss_list)\n",
    "plt.xlabel('Número de iterações')\n",
    "plt.ylabel('Função de Loss')\n",
    "plt.show()"
   ]
  },
  {
   "cell_type": "code",
   "execution_count": 69,
   "metadata": {},
   "outputs": [
    {
     "name": "stdout",
     "output_type": "stream",
     "text": [
      " 1 . Energização iniciando pela SE Blumenau ( Sentido Normal ) PassoCoordenaçãoControleComando / ExecuçãoProcedimentoObjetivo / Item de ControleA energização desta LT , com autonomia pelo agente , somente é realizada em caso de desligamento automático , quando não ocorreu desligamento total da SE Blumenau e se as condições especificadas na IO-OI . S . BLU estiverem atendidas . Nas demais situações , a energização será coordenada pelo COSR-S , conforme procedimentos a seguir : 1COSR-SCOSR-SCGT ELETROSULEnergizar a LT 230 kV Blumenau / Gaspar 2 C1 ( ou C2 ), pela SE Blumenau . Opção 1 ( condição de autonomia do agente ): Não ter ocorrido desligamento total da SE BlumenauTensão na SE Blumenauigual ou inferior a 242 kVFluxo de potência ativa na LT 525 kV Blumenau / Curitiba , na LT 525 Blumenau / Campos Novos , e em pelo menos um dos transformadores 525/230/13 , 8 kV da SE Blumenau . Opção 2 : Estar fechada a Área Itá com a Área Gov . Ney Aminthas de Barros Braga , conforme IO-RR . STensão na SE Blumenauigual ou inferior a 242 kVFluxo de potência ativa na LT 525 kV Blumenau / Curitiba , na LT 525 Blumenau / Campos Novos , e em pelo menos um dos transformadores 525/230/13 , 8 kV da SE Blumenau . O fechamento desta LT , com autonomia pelo agente , somente é realizado se as condições especificadas na IO-OI . S . GAS2 estiverem atendidas . Nas demais situações , o fechamento será coordenado pelo COSR-S , conforme procedimentos a seguir : 2COSR-SCOSR-SCGT ELETROSULLigar , em anel ou energizando o barramento de 230 kV , a LT 230 kV Blumenau / Gaspar 2 C1 ( ou C2 ), na SE Gaspar 2 . Sem restrição . 2 . Energização iniciando pela SE Gaspar 2 ( Sentido Inverso ) PassoCoordenaçãoControleComando / ExecuçãoProcedimentoObjetivo / Item de ControleA energização desta LT é coordenada pelo COSR-S , conforme procedimentos a seguir : 1COSR-SCOSR-SCGT ELETROSULEnergizar a LT 230 kV Blumenau / Gaspar 2 C1 ( ou C2 ), pela SE Gaspar 2 . Opção 1 : Tensão na SE Gaspar 2igual ou inferior a 240 kVFluxo de potência ativana LT 230 kV Biguaçu / Gaspar 2 Opção 2 : Tensão na SE Gaspar 2igual ou inferior a 240 kVFluxo de potência ativana LT 230 kV Gaspar 2 / PalhoçaO fechamento desta LT , com autonomia pelo agente , somente é realizado se as condições especificadas na IO-OI . S . BLU estiverem atendidas . Nas demais situações , o fechamento será coordenado pelo COSR-S , conforme procedimentos a seguir : 2COSR-SCOSR-SCGT ELETROSULLigar , em anel , LT 230 kV Blumenau / Gaspar 2 C1 ( ou C2 ), na SE Blumenau . Sem restrição . \n"
     ]
    },
    {
     "data": {
      "text/plain": [
       "{'entity': ['STensão na SE Blumenauigual ou inferior a 242 kVFluxo',\n",
       "  'Tensão na SE Gaspar 2igual ou inferior a 240 kVFluxo',\n",
       "  'Tensão na SE Gaspar 2igual ou inferior a 240 kVFluxo'],\n",
       " 'type': ['INEQUACAO', 'INEQUACAO', 'INEQUACAO']}"
      ]
     },
     "execution_count": 69,
     "metadata": {},
     "output_type": "execute_result"
    }
   ],
   "source": [
    "# running entity recognition in dataset\n",
    "recognition_dict = {\n",
    "    'entity':[],\n",
    "    'type':[]\n",
    "}\n",
    "\n",
    "text = training_set[60][0]\n",
    "print(text)\n",
    "doc = nlp(text)\n",
    "for i in range(len(doc.ents)):\n",
    "    recognition_dict['entity'].append(str(doc.ents[i]))\n",
    "    recognition_dict['type'].append(doc.ents[i].label_)\n",
    "    \n",
    "recognition_dict"
   ]
  },
  {
   "cell_type": "code",
   "execution_count": 32,
   "metadata": {},
   "outputs": [
    {
     "data": {
      "text/plain": [
       "'/root/ons-mvp-entity-recognition/notebooks/entity-recognition-model-2022-08-29-18-07-02.zip'"
      ]
     },
     "execution_count": 32,
     "metadata": {},
     "output_type": "execute_result"
    }
   ],
   "source": [
    "import shutil\n",
    "from datetime import datetime\n",
    "model_id = 'entity-recognition-model-' + datetime.now().strftime('%Y-%m-%d-%H-%M-%S')\n",
    "shutil.make_archive(model_id, 'zip', 'model')"
   ]
  },
  {
   "cell_type": "code",
   "execution_count": 35,
   "metadata": {},
   "outputs": [],
   "source": [
    "import boto3\n",
    "s3 = boto3.resource('s3')\n",
    "s3.Bucket(bucket).upload_file(f'{model_id}.zip', f'mpo/mvp/artifacts/model/{model_id}.zip')"
   ]
  },
  {
   "cell_type": "code",
   "execution_count": 33,
   "metadata": {},
   "outputs": [],
   "source": [
    "nlp.to_disk('../artifacts/spacy_inequalities')"
   ]
  },
  {
   "cell_type": "markdown",
   "metadata": {},
   "source": [
    "### Metrics"
   ]
  },
  {
   "cell_type": "code",
   "execution_count": 27,
   "metadata": {},
   "outputs": [],
   "source": [
    "from spacy.scorer import Scorer"
   ]
  },
  {
   "cell_type": "code",
   "execution_count": 28,
   "metadata": {},
   "outputs": [],
   "source": [
    "examples = []\n",
    "scorer = Scorer()\n",
    "for text, annotations in training_set:\n",
    "    doc = nlp.make_doc(text)\n",
    "    example = Example.from_dict(doc, annotations)\n",
    "    example.predicted = nlp(str(example.predicted))\n",
    "    examples.append(example)\n",
    "\n",
    "score_result_se = scorer.score(examples)"
   ]
  },
  {
   "cell_type": "code",
   "execution_count": 29,
   "metadata": {},
   "outputs": [
    {
     "data": {
      "text/plain": [
       "{'INEQUACAO': {'p': 0.7555555555555555,\n",
       "  'r': 0.7727272727272727,\n",
       "  'f': 0.7640449438202247}}"
      ]
     },
     "execution_count": 29,
     "metadata": {},
     "output_type": "execute_result"
    }
   ],
   "source": [
    "metrics = score_result_se['ents_per_type']\n",
    "metrics"
   ]
  },
  {
   "cell_type": "code",
   "execution_count": 30,
   "metadata": {},
   "outputs": [
    {
     "data": {
      "text/html": [
       "<div>\n",
       "<style scoped>\n",
       "    .dataframe tbody tr th:only-of-type {\n",
       "        vertical-align: middle;\n",
       "    }\n",
       "\n",
       "    .dataframe tbody tr th {\n",
       "        vertical-align: top;\n",
       "    }\n",
       "\n",
       "    .dataframe thead th {\n",
       "        text-align: right;\n",
       "    }\n",
       "</style>\n",
       "<table border=\"1\" class=\"dataframe\">\n",
       "  <thead>\n",
       "    <tr style=\"text-align: right;\">\n",
       "      <th></th>\n",
       "      <th>INEQUACAO</th>\n",
       "    </tr>\n",
       "  </thead>\n",
       "  <tbody>\n",
       "    <tr>\n",
       "      <th>f</th>\n",
       "      <td>0.764045</td>\n",
       "    </tr>\n",
       "    <tr>\n",
       "      <th>p</th>\n",
       "      <td>0.755556</td>\n",
       "    </tr>\n",
       "    <tr>\n",
       "      <th>r</th>\n",
       "      <td>0.772727</td>\n",
       "    </tr>\n",
       "  </tbody>\n",
       "</table>\n",
       "</div>"
      ],
      "text/plain": [
       "   INEQUACAO\n",
       "f   0.764045\n",
       "p   0.755556\n",
       "r   0.772727"
      ]
     },
     "execution_count": 30,
     "metadata": {},
     "output_type": "execute_result"
    }
   ],
   "source": [
    "metrics = pd.DataFrame(score_result_se['ents_per_type'])\n",
    "metrics.head()"
   ]
  },
  {
   "cell_type": "code",
   "execution_count": 41,
   "metadata": {},
   "outputs": [
    {
     "data": {
      "text/plain": [
       "{'SUBESTACAO': {'p': 0.9888810030754672,\n",
       "  'r': 0.9945277182964549,\n",
       "  'f': 0.9916963226571769},\n",
       " 'EQUIPAMENTO': {'p': 0.9928905843592856,\n",
       "  'r': 0.9939246658566221,\n",
       "  'f': 0.9934073560027759},\n",
       " 'VALOR_COM_UNID.MEDIDA': {'p': 0.9136636636636637,\n",
       "  'r': 0.9008142116950407,\n",
       "  'f': 0.9071934401789042},\n",
       " 'USINA': {'p': 0.9887640449438202,\n",
       "  'r': 0.9723756906077348,\n",
       "  'f': 0.9805013927576601},\n",
       " 'ACAO_MANUAL': {'p': 0.8617672790901137,\n",
       "  'r': 0.9889558232931727,\n",
       "  'f': 0.9209911173445535},\n",
       " 'OPERADOR_MATEMATICO': {'p': 0.8926174496644296,\n",
       "  'r': 0.9833641404805915,\n",
       "  'f': 0.9357959542656112},\n",
       " 'ESTADO_OPERATIVO': {'p': 0.8351145038167939,\n",
       "  'r': 0.988256549232159,\n",
       "  'f': 0.9052544476623914}}"
      ]
     },
     "execution_count": 41,
     "metadata": {},
     "output_type": "execute_result"
    }
   ],
   "source": [
    "metrics_original = {\n",
    "  'SUBESTACAO': {'p': 0.9888810030754672,\n",
    "  'r': 0.9945277182964549,\n",
    "  'f': 0.9916963226571769},\n",
    " 'EQUIPAMENTO': {'p': 0.9928905843592856,\n",
    "  'r': 0.9939246658566221,\n",
    "  'f': 0.9934073560027759},\n",
    " 'VALOR_COM_UNID.MEDIDA': {'p': 0.9136636636636637,\n",
    "  'r': 0.9008142116950407,\n",
    "  'f': 0.9071934401789042},\n",
    " 'USINA': {'p': 0.9887640449438202,\n",
    "  'r': 0.9723756906077348,\n",
    "  'f': 0.9805013927576601},\n",
    " 'ACAO_MANUAL': {'p': 0.8617672790901137,\n",
    "  'r': 0.9889558232931727,\n",
    "  'f': 0.9209911173445535},\n",
    " 'OPERADOR_MATEMATICO': {'p': 0.8926174496644296,\n",
    "  'r': 0.9833641404805915,\n",
    "  'f': 0.9357959542656112},\n",
    " 'ESTADO_OPERATIVO': {'p': 0.8351145038167939,\n",
    "  'r': 0.988256549232159,\n",
    "  'f': 0.9052544476623914}}\n",
    "\n",
    "metrics_original"
   ]
  },
  {
   "cell_type": "code",
   "execution_count": 44,
   "metadata": {},
   "outputs": [],
   "source": [
    "metrics_original.update(score_result_se['ents_per_type'])"
   ]
  },
  {
   "cell_type": "code",
   "execution_count": 45,
   "metadata": {},
   "outputs": [
    {
     "data": {
      "text/plain": [
       "{'SUBESTACAO': {'p': 0.9888810030754672,\n",
       "  'r': 0.9945277182964549,\n",
       "  'f': 0.9916963226571769},\n",
       " 'EQUIPAMENTO': {'p': 0.9928905843592856,\n",
       "  'r': 0.9939246658566221,\n",
       "  'f': 0.9934073560027759},\n",
       " 'VALOR_COM_UNID.MEDIDA': {'p': 0.9136636636636637,\n",
       "  'r': 0.9008142116950407,\n",
       "  'f': 0.9071934401789042},\n",
       " 'USINA': {'p': 0.9887640449438202,\n",
       "  'r': 0.9723756906077348,\n",
       "  'f': 0.9805013927576601},\n",
       " 'ACAO_MANUAL': {'p': 0.8617672790901137,\n",
       "  'r': 0.9889558232931727,\n",
       "  'f': 0.9209911173445535},\n",
       " 'OPERADOR_MATEMATICO': {'p': 0.8926174496644296,\n",
       "  'r': 0.9833641404805915,\n",
       "  'f': 0.9357959542656112},\n",
       " 'ESTADO_OPERATIVO': {'p': 0.8351145038167939,\n",
       "  'r': 0.988256549232159,\n",
       "  'f': 0.9052544476623914},\n",
       " 'INEQUACAO': {'p': 0.6770833333333334,\n",
       "  'r': 0.7386363636363636,\n",
       "  'f': 0.7065217391304348}}"
      ]
     },
     "execution_count": 45,
     "metadata": {},
     "output_type": "execute_result"
    }
   ],
   "source": [
    "metrics_original"
   ]
  },
  {
   "cell_type": "code",
   "execution_count": 47,
   "metadata": {},
   "outputs": [
    {
     "data": {
      "text/html": [
       "<div>\n",
       "<style scoped>\n",
       "    .dataframe tbody tr th:only-of-type {\n",
       "        vertical-align: middle;\n",
       "    }\n",
       "\n",
       "    .dataframe tbody tr th {\n",
       "        vertical-align: top;\n",
       "    }\n",
       "\n",
       "    .dataframe thead th {\n",
       "        text-align: right;\n",
       "    }\n",
       "</style>\n",
       "<table border=\"1\" class=\"dataframe\">\n",
       "  <thead>\n",
       "    <tr style=\"text-align: right;\">\n",
       "      <th></th>\n",
       "      <th>p</th>\n",
       "      <th>r</th>\n",
       "      <th>f</th>\n",
       "      <th>variant</th>\n",
       "    </tr>\n",
       "  </thead>\n",
       "  <tbody>\n",
       "    <tr>\n",
       "      <th>metrics</th>\n",
       "      <td>0.924814</td>\n",
       "      <td>0.974603</td>\n",
       "      <td>0.947834</td>\n",
       "      <td>entity-recognition-model-2022-08-29-18-07-02</td>\n",
       "    </tr>\n",
       "  </tbody>\n",
       "</table>\n",
       "</div>"
      ],
      "text/plain": [
       "                p         r         f  \\\n",
       "metrics  0.924814  0.974603  0.947834   \n",
       "\n",
       "                                              variant  \n",
       "metrics  entity-recognition-model-2022-08-29-18-07-02  "
      ]
     },
     "execution_count": 47,
     "metadata": {},
     "output_type": "execute_result"
    }
   ],
   "source": [
    "# metrics_original = pd.DataFrame(metrics_original.mean(axis=1), columns=['metrics']).transpose()\n",
    "# metrics_original['variant'] = model_id\n",
    "# metrics_original"
   ]
  },
  {
   "cell_type": "code",
   "execution_count": 52,
   "metadata": {},
   "outputs": [],
   "source": [
    "bucket = 'ons-ds-dev-entityrecognition'\n",
    "path = 'mpo/mvp/artifacts/model_info/metrics.parquet'\n",
    "obj_uri = f's3://{bucket}/{path}'\n",
    "metrics_original.to_parquet(obj_uri, compression='gzip')"
   ]
  },
  {
   "cell_type": "code",
   "execution_count": 73,
   "metadata": {},
   "outputs": [],
   "source": [
    "def insert_new_metric(\n",
    "    metrics_dict:dict,\n",
    "    bucket:str='ons-ds-dev-entityrecognition',\n",
    "    path:str='mpo/mvp/artifacts/model_info/metrics.parquet',\n",
    "    model_id:str='model-default'\n",
    "    ):\n",
    "    \n",
    "    metrics = pd.DataFrame(metrics_dict)\n",
    "    metrics = pd.DataFrame(metrics.mean(axis=1), columns=['metrics']).transpose()\n",
    "    metrics['variant'] = model_id\n",
    "    obj_uri = f's3://{bucket}/{path}'\n",
    "    \n",
    "    try:\n",
    "        s3_metrics = pd.read_parquet(obj_uri)\n",
    "        s3_metrics = pd.concat([s3_metrics, metrics], axis=0)\n",
    "    except:\n",
    "        s3_metrics = metrics\n",
    "    \n",
    "    s3_metrics.drop_duplicates(keep='first', inplace=True)\n",
    "    s3_metrics.sort_values(by=['variant'], inplace=True)\n",
    "    s3_metrics.to_parquet(obj_uri)\n",
    "    \n",
    "    return s3_metrics"
   ]
  },
  {
   "cell_type": "code",
   "execution_count": 74,
   "metadata": {},
   "outputs": [],
   "source": [
    "full_metrics = insert_new_metric(metrics_original, model_id = 'entity-recognition-model-2022-08-24-19-27-40')"
   ]
  },
  {
   "cell_type": "code",
   "execution_count": 75,
   "metadata": {},
   "outputs": [
    {
     "data": {
      "text/html": [
       "<div>\n",
       "<style scoped>\n",
       "    .dataframe tbody tr th:only-of-type {\n",
       "        vertical-align: middle;\n",
       "    }\n",
       "\n",
       "    .dataframe tbody tr th {\n",
       "        vertical-align: top;\n",
       "    }\n",
       "\n",
       "    .dataframe thead th {\n",
       "        text-align: right;\n",
       "    }\n",
       "</style>\n",
       "<table border=\"1\" class=\"dataframe\">\n",
       "  <thead>\n",
       "    <tr style=\"text-align: right;\">\n",
       "      <th></th>\n",
       "      <th>p</th>\n",
       "      <th>r</th>\n",
       "      <th>f</th>\n",
       "      <th>variant</th>\n",
       "    </tr>\n",
       "  </thead>\n",
       "  <tbody>\n",
       "    <tr>\n",
       "      <th>metrics</th>\n",
       "      <td>0.924814</td>\n",
       "      <td>0.974603</td>\n",
       "      <td>0.947834</td>\n",
       "      <td>entity-recognition-model-2022-08-24-19-27-40</td>\n",
       "    </tr>\n",
       "    <tr>\n",
       "      <th>metrics</th>\n",
       "      <td>0.880204</td>\n",
       "      <td>0.902734</td>\n",
       "      <td>0.886447</td>\n",
       "      <td>entity-recognition-model-2022-08-29-18-07-02</td>\n",
       "    </tr>\n",
       "  </tbody>\n",
       "</table>\n",
       "</div>"
      ],
      "text/plain": [
       "                p         r         f  \\\n",
       "metrics  0.924814  0.974603  0.947834   \n",
       "metrics  0.880204  0.902734  0.886447   \n",
       "\n",
       "                                              variant  \n",
       "metrics  entity-recognition-model-2022-08-24-19-27-40  \n",
       "metrics  entity-recognition-model-2022-08-29-18-07-02  "
      ]
     },
     "execution_count": 75,
     "metadata": {},
     "output_type": "execute_result"
    }
   ],
   "source": [
    "full_metrics"
   ]
  },
  {
   "cell_type": "code",
   "execution_count": 76,
   "metadata": {},
   "outputs": [],
   "source": [
    "def load_metrics_from_s3(\n",
    "    bucket:str='ons-ds-dev-entityrecognition',\n",
    "    path:str='mpo/mvp/artifacts/model_info/metrics.parquet'\n",
    "    ):\n",
    "    \n",
    "    obj_uri = f's3://{bucket}/{path}'\n",
    "    metrics = pd.read_parquet(obj_uri)\n",
    "    return metrics"
   ]
  },
  {
   "cell_type": "code",
   "execution_count": 77,
   "metadata": {},
   "outputs": [
    {
     "data": {
      "text/html": [
       "<div>\n",
       "<style scoped>\n",
       "    .dataframe tbody tr th:only-of-type {\n",
       "        vertical-align: middle;\n",
       "    }\n",
       "\n",
       "    .dataframe tbody tr th {\n",
       "        vertical-align: top;\n",
       "    }\n",
       "\n",
       "    .dataframe thead th {\n",
       "        text-align: right;\n",
       "    }\n",
       "</style>\n",
       "<table border=\"1\" class=\"dataframe\">\n",
       "  <thead>\n",
       "    <tr style=\"text-align: right;\">\n",
       "      <th></th>\n",
       "      <th>p</th>\n",
       "      <th>r</th>\n",
       "      <th>f</th>\n",
       "      <th>variant</th>\n",
       "    </tr>\n",
       "  </thead>\n",
       "  <tbody>\n",
       "    <tr>\n",
       "      <th>metrics</th>\n",
       "      <td>0.924814</td>\n",
       "      <td>0.974603</td>\n",
       "      <td>0.947834</td>\n",
       "      <td>entity-recognition-model-2022-08-24-19-27-40</td>\n",
       "    </tr>\n",
       "    <tr>\n",
       "      <th>metrics</th>\n",
       "      <td>0.880204</td>\n",
       "      <td>0.902734</td>\n",
       "      <td>0.886447</td>\n",
       "      <td>entity-recognition-model-2022-08-29-18-07-02</td>\n",
       "    </tr>\n",
       "  </tbody>\n",
       "</table>\n",
       "</div>"
      ],
      "text/plain": [
       "                p         r         f  \\\n",
       "metrics  0.924814  0.974603  0.947834   \n",
       "metrics  0.880204  0.902734  0.886447   \n",
       "\n",
       "                                              variant  \n",
       "metrics  entity-recognition-model-2022-08-24-19-27-40  \n",
       "metrics  entity-recognition-model-2022-08-29-18-07-02  "
      ]
     },
     "execution_count": 77,
     "metadata": {},
     "output_type": "execute_result"
    }
   ],
   "source": [
    "metrics_df = load_metrics_from_s3()\n",
    "metrics_df"
   ]
  },
  {
   "cell_type": "code",
   "execution_count": 78,
   "metadata": {},
   "outputs": [
    {
     "name": "stdout",
     "output_type": "stream",
     "text": [
      "Initialized training sequence at 2022-08-29 19:39:15.135911\n"
     ]
    }
   ],
   "source": [
    "print(f'Initialized training sequence at {datetime.now()}')"
   ]
  },
  {
   "cell_type": "code",
   "execution_count": 63,
   "metadata": {},
   "outputs": [],
   "source": [
    "full_metrics = insert_new_metric(metrics, model_id = 'entity-recognition-model-2022-08-29-18-07-02')"
   ]
  },
  {
   "cell_type": "code",
   "execution_count": 68,
   "metadata": {},
   "outputs": [
    {
     "data": {
      "text/plain": [
       "b'PAR1\\x15\\x04\\x15 \\x15$L\\x15\\x04\\x15\\x04\\x12\\x00\\x00\\x10<\\x08 \\'\\xb0\\x13\\x98\\xed?a}\\xde(\\xa1*\\xec?\\x15\\x00\\x15\\x12\\x15\\x16,\\x15\\x04\\x15\\x04\\x15\\x06\\x15\\x06\\x1c\\x18\\x08\\x08 \\'\\xb0\\x13\\x98\\xed?\\x18\\x08a}\\xde(\\xa1*\\xec?\\x16\\x00(\\x08\\x08 \\'\\xb0\\x13\\x98\\xed?\\x18\\x08a}\\xde(\\xa1*\\xec?\\x00\\x00\\x00\\t \\x02\\x00\\x00\\x00\\x04\\x01\\x01\\x03\\x02&\\xd8\\x01\\x1c\\x15\\n\\x195\\x04\\x00\\x06\\x19\\x18\\x01p\\x15\\x02\\x16\\x04\\x16\\xc8\\x01\\x16\\xd0\\x01&H&\\x08\\x1c\\x18\\x08\\x08 \\'\\xb0\\x13\\x98\\xed?\\x18\\x08a}\\xde(\\xa1*\\xec?\\x16\\x00(\\x08\\x08 \\'\\xb0\\x13\\x98\\xed?\\x18\\x08a}\\xde(\\xa1*\\xec?\\x00\\x19,\\x15\\x04\\x15\\x04\\x15\\x02\\x00\\x15\\x00\\x15\\x04\\x15\\x02\\x00\\x00\\x00\\x15\\x04\\x15 \\x15$L\\x15\\x04\\x15\\x04\\x12\\x00\\x00\\x10< \\x01\\xad\\xf8\\xf1/\\xef?P\\x86\"\\xbb1\\xe3\\xec?\\x15\\x00\\x15\\x12\\x15\\x16,\\x15\\x04\\x15\\x04\\x15\\x06\\x15\\x06\\x1c\\x18\\x08 \\x01\\xad\\xf8\\xf1/\\xef?\\x18\\x08P\\x86\"\\xbb1\\xe3\\xec?\\x16\\x00(\\x08 \\x01\\xad\\xf8\\xf1/\\xef?\\x18\\x08P\\x86\"\\xbb1\\xe3\\xec?\\x00\\x00\\x00\\t \\x02\\x00\\x00\\x00\\x04\\x01\\x01\\x03\\x02&\\xde\\x04\\x1c\\x15\\n\\x195\\x04\\x00\\x06\\x19\\x18\\x01r\\x15\\x02\\x16\\x04\\x16\\xc8\\x01\\x16\\xd0\\x01&\\xce\\x03&\\x8e\\x03\\x1c\\x18\\x08 \\x01\\xad\\xf8\\xf1/\\xef?\\x18\\x08P\\x86\"\\xbb1\\xe3\\xec?\\x16\\x00(\\x08 \\x01\\xad\\xf8\\xf1/\\xef?\\x18\\x08P\\x86\"\\xbb1\\xe3\\xec?\\x00\\x19,\\x15\\x04\\x15\\x04\\x15\\x02\\x00\\x15\\x00\\x15\\x04\\x15\\x02\\x00\\x00\\x00\\x15\\x04\\x15 \\x15$L\\x15\\x04\\x15\\x04\\x12\\x00\\x00\\x10<\\'\\x8a\\xc3\\x93\\xa8T\\xee?\\x08B7\\xd0\\xc6]\\xec?\\x15\\x00\\x15\\x12\\x15\\x16,\\x15\\x04\\x15\\x04\\x15\\x06\\x15\\x06\\x1c\\x18\\x08\\'\\x8a\\xc3\\x93\\xa8T\\xee?\\x18\\x08\\x08B7\\xd0\\xc6]\\xec?\\x16\\x00(\\x08\\'\\x8a\\xc3\\x93\\xa8T\\xee?\\x18\\x08\\x08B7\\xd0\\xc6]\\xec?\\x00\\x00\\x00\\t \\x02\\x00\\x00\\x00\\x04\\x01\\x01\\x03\\x02&\\xe8\\x07\\x1c\\x15\\n\\x195\\x04\\x00\\x06\\x19\\x18\\x01f\\x15\\x02\\x16\\x04\\x16\\xc8\\x01\\x16\\xd0\\x01&\\xd8\\x06&\\x98\\x06\\x1c\\x18\\x08\\'\\x8a\\xc3\\x93\\xa8T\\xee?\\x18\\x08\\x08B7\\xd0\\xc6]\\xec?\\x16\\x00(\\x08\\'\\x8a\\xc3\\x93\\xa8T\\xee?\\x18\\x08\\x08B7\\xd0\\xc6]\\xec?\\x00\\x19,\\x15\\x04\\x15\\x04\\x15\\x02\\x00\\x15\\x00\\x15\\x04\\x15\\x02\\x00\\x00\\x00\\x15\\x04\\x15\\xc0\\x01\\x15\\x86\\x01L\\x15\\x04\\x15\\x04\\x12\\x00\\x00`\\xc8,\\x00\\x00\\x00entity-recognition-model-2022-08-24-19-27-40,\\x00\\x00\\x8a0\\x00$9-18-07-02\\x15\\x00\\x15\\x12\\x15\\x16,\\x15\\x04\\x15\\x04\\x15\\x06\\x15\\x06\\x1c6\\x00(,entity-recognition-model-2022-08-29-18-07-02\\x18,entity-recognition-model-2022-08-24-19-27-40\\x00\\x00\\x00\\t \\x02\\x00\\x00\\x00\\x04\\x01\\x01\\x03\\x02&\\xc0\\x0c\\x1c\\x15\\x0c\\x195\\x04\\x00\\x06\\x19\\x18\\x07variant\\x15\\x02\\x16\\x04\\x16\\xd4\\x03\\x16\\x9e\\x03&\\xc8\\n&\\xa2\\t\\x1c6\\x00(,entity-recognition-model-2022-08-29-18-07-02\\x18,entity-recognition-model-2022-08-24-19-27-40\\x00\\x19,\\x15\\x04\\x15\\x04\\x15\\x02\\x00\\x15\\x00\\x15\\x04\\x15\\x02\\x00\\x00\\x00\\x15\\x04\\x15\\x16\\x15\\x1aL\\x15\\x02\\x15\\x04\\x12\\x00\\x00\\x0b(\\x07\\x00\\x00\\x00metrics\\x15\\x00\\x15\\x12\\x15\\x16,\\x15\\x04\\x15\\x04\\x15\\x06\\x15\\x06\\x1c6\\x00(\\x07metrics\\x18\\x07metrics\\x00\\x00\\x00\\t \\x02\\x00\\x00\\x00\\x04\\x01\\x01\\x04\\x00&\\x88\\x10\\x1c\\x15\\x0c\\x195\\x04\\x00\\x06\\x19\\x18\\x11__index_level_0__\\x15\\x02\\x16\\x04\\x16\\x92\\x01\\x16\\x9a\\x01&\\xa4\\x0f&\\xee\\x0e\\x1c6\\x00(\\x07metrics\\x18\\x07metrics\\x00\\x19,\\x15\\x04\\x15\\x04\\x15\\x02\\x00\\x15\\x00\\x15\\x04\\x15\\x02\\x00\\x00\\x00\\x15\\x02\\x19l5\\x00\\x18\\x06schema\\x15\\n\\x00\\x15\\n%\\x02\\x18\\x01p\\x00\\x15\\n%\\x02\\x18\\x01r\\x00\\x15\\n%\\x02\\x18\\x01f\\x00\\x15\\x0c%\\x02\\x18\\x07variant%\\x00L\\x1c\\x00\\x00\\x00\\x15\\x0c%\\x02\\x18\\x11__index_level_0__%\\x00L\\x1c\\x00\\x00\\x00\\x16\\x04\\x19\\x1c\\x19\\\\&\\xd8\\x01\\x1c\\x15\\n\\x195\\x04\\x00\\x06\\x19\\x18\\x01p\\x15\\x02\\x16\\x04\\x16\\xc8\\x01\\x16\\xd0\\x01&H&\\x08\\x1c\\x18\\x08\\x08 \\'\\xb0\\x13\\x98\\xed?\\x18\\x08a}\\xde(\\xa1*\\xec?\\x16\\x00(\\x08\\x08 \\'\\xb0\\x13\\x98\\xed?\\x18\\x08a}\\xde(\\xa1*\\xec?\\x00\\x19,\\x15\\x04\\x15\\x04\\x15\\x02\\x00\\x15\\x00\\x15\\x04\\x15\\x02\\x00\\x00\\x00&\\xde\\x04\\x1c\\x15\\n\\x195\\x04\\x00\\x06\\x19\\x18\\x01r\\x15\\x02\\x16\\x04\\x16\\xc8\\x01\\x16\\xd0\\x01&\\xce\\x03&\\x8e\\x03\\x1c\\x18\\x08 \\x01\\xad\\xf8\\xf1/\\xef?\\x18\\x08P\\x86\"\\xbb1\\xe3\\xec?\\x16\\x00(\\x08 \\x01\\xad\\xf8\\xf1/\\xef?\\x18\\x08P\\x86\"\\xbb1\\xe3\\xec?\\x00\\x19,\\x15\\x04\\x15\\x04\\x15\\x02\\x00\\x15\\x00\\x15\\x04\\x15\\x02\\x00\\x00\\x00&\\xe8\\x07\\x1c\\x15\\n\\x195\\x04\\x00\\x06\\x19\\x18\\x01f\\x15\\x02\\x16\\x04\\x16\\xc8\\x01\\x16\\xd0\\x01&\\xd8\\x06&\\x98\\x06\\x1c\\x18\\x08\\'\\x8a\\xc3\\x93\\xa8T\\xee?\\x18\\x08\\x08B7\\xd0\\xc6]\\xec?\\x16\\x00(\\x08\\'\\x8a\\xc3\\x93\\xa8T\\xee?\\x18\\x08\\x08B7\\xd0\\xc6]\\xec?\\x00\\x19,\\x15\\x04\\x15\\x04\\x15\\x02\\x00\\x15\\x00\\x15\\x04\\x15\\x02\\x00\\x00\\x00&\\xc0\\x0c\\x1c\\x15\\x0c\\x195\\x04\\x00\\x06\\x19\\x18\\x07variant\\x15\\x02\\x16\\x04\\x16\\xd4\\x03\\x16\\x9e\\x03&\\xc8\\n&\\xa2\\t\\x1c6\\x00(,entity-recognition-model-2022-08-29-18-07-02\\x18,entity-recognition-model-2022-08-24-19-27-40\\x00\\x19,\\x15\\x04\\x15\\x04\\x15\\x02\\x00\\x15\\x00\\x15\\x04\\x15\\x02\\x00\\x00\\x00&\\x88\\x10\\x1c\\x15\\x0c\\x195\\x04\\x00\\x06\\x19\\x18\\x11__index_level_0__\\x15\\x02\\x16\\x04\\x16\\x92\\x01\\x16\\x9a\\x01&\\xa4\\x0f&\\xee\\x0e\\x1c6\\x00(\\x07metrics\\x18\\x07metrics\\x00\\x19,\\x15\\x04\\x15\\x04\\x15\\x02\\x00\\x15\\x00\\x15\\x04\\x15\\x02\\x00\\x00\\x00\\x16\\xbe\\t\\x16\\x04&\\x08\\x16\\xa8\\t\\x14\\x00\\x00\\x19,\\x18\\x06pandas\\x18\\xb2\\x06{\"index_columns\": [\"__index_level_0__\"], \"column_indexes\": [{\"name\": null, \"field_name\": null, \"pandas_type\": \"unicode\", \"numpy_type\": \"object\", \"metadata\": {\"encoding\": \"UTF-8\"}}], \"columns\": [{\"name\": \"p\", \"field_name\": \"p\", \"pandas_type\": \"float64\", \"numpy_type\": \"float64\", \"metadata\": null}, {\"name\": \"r\", \"field_name\": \"r\", \"pandas_type\": \"float64\", \"numpy_type\": \"float64\", \"metadata\": null}, {\"name\": \"f\", \"field_name\": \"f\", \"pandas_type\": \"float64\", \"numpy_type\": \"float64\", \"metadata\": null}, {\"name\": \"variant\", \"field_name\": \"variant\", \"pandas_type\": \"unicode\", \"numpy_type\": \"object\", \"metadata\": null}, {\"name\": null, \"field_name\": \"__index_level_0__\", \"pandas_type\": \"unicode\", \"numpy_type\": \"object\", \"metadata\": null}], \"creator\": {\"library\": \"pyarrow\", \"version\": \"7.0.0\"}, \"pandas_version\": \"1.3.5\"}\\x00\\x18\\x0cARROW:schema\\x18\\xac\\x0c/////5gEAAAQAAAAAAAKAA4ABgAFAAgACgAAAAABBAAQAAAAAAAKAAwAAAAEAAgACgAAAGgDAAAEAAAAAQAAAAwAAAAIAAwABAAIAAgAAAAIAAAAEAAAAAYAAABwYW5kYXMAADIDAAB7ImluZGV4X2NvbHVtbnMiOiBbIl9faW5kZXhfbGV2ZWxfMF9fIl0sICJjb2x1bW5faW5kZXhlcyI6IFt7Im5hbWUiOiBudWxsLCAiZmllbGRfbmFtZSI6IG51bGwsICJwYW5kYXNfdHlwZSI6ICJ1bmljb2RlIiwgIm51bXB5X3R5cGUiOiAib2JqZWN0IiwgIm1ldGFkYXRhIjogeyJlbmNvZGluZyI6ICJVVEYtOCJ9fV0sICJjb2x1bW5zIjogW3sibmFtZSI6ICJwIiwgImZpZWxkX25hbWUiOiAicCIsICJwYW5kYXNfdHlwZSI6ICJmbG9hdDY0IiwgIm51bXB5X3R5cGUiOiAiZmxvYXQ2NCIsICJtZXRhZGF0YSI6IG51bGx9LCB7Im5hbWUiOiAiciIsICJmaWVsZF9uYW1lIjogInIiLCAicGFuZGFzX3R5cGUiOiAiZmxvYXQ2NCIsICJudW1weV90eXBlIjogImZsb2F0NjQiLCAibWV0YWRhdGEiOiBudWxsfSwgeyJuYW1lIjogImYiLCAiZmllbGRfbmFtZSI6ICJmIiwgInBhbmRhc190eXBlIjogImZsb2F0NjQiLCAibnVtcHlfdHlwZSI6ICJmbG9hdDY0IiwgIm1ldGFkYXRhIjogbnVsbH0sIHsibmFtZSI6ICJ2YXJpYW50IiwgImZpZWxkX25hbWUiOiAidmFyaWFudCIsICJwYW5kYXNfdHlwZSI6ICJ1bmljb2RlIiwgIm51bXB5X3R5cGUiOiAib2JqZWN0IiwgIm1ldGFkYXRhIjogbnVsbH0sIHsibmFtZSI6IG51bGwsICJmaWVsZF9uYW1lIjogIl9faW5kZXhfbGV2ZWxfMF9fIiwgInBhbmRhc190eXBlIjogInVuaWNvZGUiLCAibnVtcHlfdHlwZSI6ICJvYmplY3QiLCAibWV0YWRhdGEiOiBudWxsfV0sICJjcmVhdG9yIjogeyJsaWJyYXJ5IjogInB5YXJyb3ciLCAidmVyc2lvbiI6ICI3LjAuMCJ9LCAicGFuZGFzX3ZlcnNpb24iOiAiMS4zLjUifQAABQAAANQAAACYAAAAbAAAADwAAAAEAAAAUP///wAAAQUQAAAAJAAAAAQAAAAAAAAAEQAAAF9faW5kZXhfbGV2ZWxfMF9fAAAA2P///4T///8AAAEFEAAAABwAAAAEAAAAAAAAAAcAAAB2YXJpYW50AAQABAAEAAAAsP///wAAAQMQAAAAFAAAAAQAAAAAAAAAAQAAAGYAAACi////AAACANj///8AAAEDEAAAABQAAAAEAAAAAAAAAAEAAAByAAAAyv///wAAAgAQABQACAAGAAcADAAAABAAEAAAAAAAAQMQAAAAGAAAAAQAAAAAAAAAAQAAAHAABgAIAAYABgAAAAAAAgA=\\x00\\x18\\x1fparquet-cpp-arrow version 7.0.0\\x19\\\\\\x1c\\x00\\x00\\x1c\\x00\\x00\\x1c\\x00\\x00\\x1c\\x00\\x00\\x1c\\x00\\x00\\x00\"\\x0c\\x00\\x00PAR1'"
      ]
     },
     "execution_count": 68,
     "metadata": {},
     "output_type": "execute_result"
    }
   ],
   "source": [
    "bucket = 'ons-ds-dev-entityrecognition'\n",
    "path = 'mpo/mvp/artifacts/model_info/metrics.parquet'\n",
    "obj_uri = f's3://{bucket}/{path}'\n",
    "\n",
    "full_metrics_temp = full_metrics.iloc[[0,2]]\n",
    "full_metrics_temp.to_parquet()"
   ]
  },
  {
   "cell_type": "code",
   "execution_count": 69,
   "metadata": {},
   "outputs": [
    {
     "data": {
      "text/html": [
       "<div>\n",
       "<style scoped>\n",
       "    .dataframe tbody tr th:only-of-type {\n",
       "        vertical-align: middle;\n",
       "    }\n",
       "\n",
       "    .dataframe tbody tr th {\n",
       "        vertical-align: top;\n",
       "    }\n",
       "\n",
       "    .dataframe thead th {\n",
       "        text-align: right;\n",
       "    }\n",
       "</style>\n",
       "<table border=\"1\" class=\"dataframe\">\n",
       "  <thead>\n",
       "    <tr style=\"text-align: right;\">\n",
       "      <th></th>\n",
       "      <th>p</th>\n",
       "      <th>r</th>\n",
       "      <th>f</th>\n",
       "      <th>variant</th>\n",
       "    </tr>\n",
       "  </thead>\n",
       "  <tbody>\n",
       "    <tr>\n",
       "      <th>metrics</th>\n",
       "      <td>0.924814</td>\n",
       "      <td>0.974603</td>\n",
       "      <td>0.947834</td>\n",
       "      <td>entity-recognition-model-2022-08-24-19-27-40</td>\n",
       "    </tr>\n",
       "    <tr>\n",
       "      <th>metrics</th>\n",
       "      <td>0.924814</td>\n",
       "      <td>0.974603</td>\n",
       "      <td>0.947834</td>\n",
       "      <td>entity-recognition-model-2022-08-29-18-07-02</td>\n",
       "    </tr>\n",
       "    <tr>\n",
       "      <th>metrics</th>\n",
       "      <td>0.880204</td>\n",
       "      <td>0.902734</td>\n",
       "      <td>0.886447</td>\n",
       "      <td>entity-recognition-model-2022-08-29-18-07-02</td>\n",
       "    </tr>\n",
       "  </tbody>\n",
       "</table>\n",
       "</div>"
      ],
      "text/plain": [
       "                p         r         f  \\\n",
       "metrics  0.924814  0.974603  0.947834   \n",
       "metrics  0.924814  0.974603  0.947834   \n",
       "metrics  0.880204  0.902734  0.886447   \n",
       "\n",
       "                                              variant  \n",
       "metrics  entity-recognition-model-2022-08-24-19-27-40  \n",
       "metrics  entity-recognition-model-2022-08-29-18-07-02  \n",
       "metrics  entity-recognition-model-2022-08-29-18-07-02  "
      ]
     },
     "execution_count": 69,
     "metadata": {},
     "output_type": "execute_result"
    }
   ],
   "source": [
    "metrics_df = pd.read_parquet(obj_uri)\n",
    "metrics_df"
   ]
  },
  {
   "cell_type": "code",
   "execution_count": 66,
   "metadata": {},
   "outputs": [
    {
     "data": {
      "text/plain": [
       "0.9478342901241533"
      ]
     },
     "execution_count": 66,
     "metadata": {},
     "output_type": "execute_result"
    }
   ],
   "source": [
    "full_metrics_temp"
   ]
  },
  {
   "cell_type": "code",
   "execution_count": 44,
   "metadata": {},
   "outputs": [
    {
     "data": {
      "text/html": [
       "<div>\n",
       "<style scoped>\n",
       "    .dataframe tbody tr th:only-of-type {\n",
       "        vertical-align: middle;\n",
       "    }\n",
       "\n",
       "    .dataframe tbody tr th {\n",
       "        vertical-align: top;\n",
       "    }\n",
       "\n",
       "    .dataframe thead th {\n",
       "        text-align: right;\n",
       "    }\n",
       "</style>\n",
       "<table border=\"1\" class=\"dataframe\">\n",
       "  <thead>\n",
       "    <tr style=\"text-align: right;\">\n",
       "      <th></th>\n",
       "      <th>p</th>\n",
       "      <th>r</th>\n",
       "      <th>f</th>\n",
       "      <th>variant</th>\n",
       "    </tr>\n",
       "  </thead>\n",
       "  <tbody>\n",
       "    <tr>\n",
       "      <th>metrics</th>\n",
       "      <td>0.880204</td>\n",
       "      <td>0.902734</td>\n",
       "      <td>0.886447</td>\n",
       "      <td>entity-recognition-model-2022-08-29-18-07-02</td>\n",
       "    </tr>\n",
       "  </tbody>\n",
       "</table>\n",
       "</div>"
      ],
      "text/plain": [
       "                p         r         f  \\\n",
       "metrics  0.880204  0.902734  0.886447   \n",
       "\n",
       "                                              variant  \n",
       "metrics  entity-recognition-model-2022-08-29-18-07-02  "
      ]
     },
     "execution_count": 44,
     "metadata": {},
     "output_type": "execute_result"
    }
   ],
   "source": [
    "metrics = pd.DataFrame(metrics.mean(axis=1), columns=['metrics']).transpose()\n",
    "metrics['variant'] = 'entity-recognition-2022-08-24-19-27-40'\n",
    "metrics"
   ]
  },
  {
   "cell_type": "code",
   "execution_count": 26,
   "metadata": {},
   "outputs": [
    {
     "data": {
      "text/plain": [
       "'2022-08-24-19-27-40'"
      ]
     },
     "execution_count": 26,
     "metadata": {},
     "output_type": "execute_result"
    }
   ],
   "source": [
    "from datetime import datetime\n",
    "timehash = datetime.now().strftime('%Y-%m-%d-%H-%M-%S')\n",
    "timehash"
   ]
  },
  {
   "cell_type": "code",
   "execution_count": 27,
   "metadata": {},
   "outputs": [],
   "source": [
    "bucket = 'ons-ds-dev-entityrecognition'\n",
    "file_path = f'mpo/mvp/data/output/metrics-{timehash}.parquet'\n",
    "s3_uri = f's3://{bucket}/{file_path}'\n",
    "metrics.to_parquet(s3_uri)"
   ]
  }
 ],
 "metadata": {
  "instance_type": "ml.t3.medium",
  "kernelspec": {
   "display_name": "Python 3 (Data Science)",
   "language": "python",
   "name": "python3__SAGEMAKER_INTERNAL__arn:aws:sagemaker:us-east-1:081325390199:image/datascience-1.0"
  },
  "language_info": {
   "codemirror_mode": {
    "name": "ipython",
    "version": 3
   },
   "file_extension": ".py",
   "mimetype": "text/x-python",
   "name": "python",
   "nbconvert_exporter": "python",
   "pygments_lexer": "ipython3",
   "version": "3.7.10"
  }
 },
 "nbformat": 4,
 "nbformat_minor": 5
}
