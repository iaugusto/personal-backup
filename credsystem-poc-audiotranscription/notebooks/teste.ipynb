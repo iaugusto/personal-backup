{
 "cells": [
  {
   "cell_type": "code",
   "execution_count": 1,
   "metadata": {},
   "outputs": [],
   "source": [
    "import os\n",
    "import sys\n",
    "\n",
    "sys.path.append(os.path.dirname(os.getcwd()))\n",
    "from src.audio_processing import audio_processing"
   ]
  },
  {
   "cell_type": "code",
   "execution_count": 2,
   "metadata": {},
   "outputs": [
    {
     "data": {
      "text/html": [
       "<div>\n",
       "<style scoped>\n",
       "    .dataframe tbody tr th:only-of-type {\n",
       "        vertical-align: middle;\n",
       "    }\n",
       "\n",
       "    .dataframe tbody tr th {\n",
       "        vertical-align: top;\n",
       "    }\n",
       "\n",
       "    .dataframe thead th {\n",
       "        text-align: right;\n",
       "    }\n",
       "</style>\n",
       "<table border=\"1\" class=\"dataframe\">\n",
       "  <thead>\n",
       "    <tr style=\"text-align: right;\">\n",
       "      <th></th>\n",
       "      <th>nome_cliente</th>\n",
       "      <th>codigo_cliente</th>\n",
       "      <th>cpf</th>\n",
       "      <th>data_atendimento</th>\n",
       "      <th>codigo_de_atendimento</th>\n",
       "      <th>unknown_1</th>\n",
       "      <th>unknown_2</th>\n",
       "      <th>unknown_3</th>\n",
       "      <th>transcribed_audio</th>\n",
       "    </tr>\n",
       "  </thead>\n",
       "  <tbody>\n",
       "    <tr>\n",
       "      <th>0</th>\n",
       "      <td>CAMILA DE CARVALHO ALVES</td>\n",
       "      <td>109275626</td>\n",
       "      <td>175.471.348-31</td>\n",
       "      <td>23122021</td>\n",
       "      <td>1641</td>\n",
       "      <td>4º Ciclo</td>\n",
       "      <td>PREVENTIVO POSITIVO</td>\n",
       "      <td>Demanda Cliente.mp3</td>\n",
       "      <td>Alô Cristina da Valdirene Rodrigues de Souza M...</td>\n",
       "    </tr>\n",
       "  </tbody>\n",
       "</table>\n",
       "</div>"
      ],
      "text/plain": [
       "               nome_cliente codigo_cliente             cpf data_atendimento  \\\n",
       "0  CAMILA DE CARVALHO ALVES      109275626  175.471.348-31         23122021   \n",
       "\n",
       "  codigo_de_atendimento unknown_1            unknown_2            unknown_3  \\\n",
       "0                  1641  4º Ciclo  PREVENTIVO POSITIVO  Demanda Cliente.mp3   \n",
       "\n",
       "                                   transcribed_audio  \n",
       "0  Alô Cristina da Valdirene Rodrigues de Souza M...  "
      ]
     },
     "execution_count": 2,
     "metadata": {},
     "output_type": "execute_result"
    }
   ],
   "source": [
    "ap = audio_processing(os.path.dirname(os.getcwd()) + '/input')\n",
    "output_df = ap.structure_data_from_file_list()\n",
    "output_df"
   ]
  },
  {
   "cell_type": "code",
   "execution_count": 3,
   "metadata": {},
   "outputs": [
    {
     "data": {
      "text/plain": [
       "'Alô Cristina da Valdirene Rodrigues de Souza Morais e data de nascimento obrigado pela confirmação nós contatos é gravado o motivo do meu contato queria só para confirmar o pagamento agendado para o dia 16 valor de 78 e 80 e outros r$ 67 para conseguir estar efetuando o pagamento nessa data não não consegui o pagamento seria possível você só entre hoje ou amanhã tem como você mandar o boleto atualizado para hoje não tudo bem tem aquele e-mail já cadastrado que a Valdirene Anderlaine R arroba Hotmail eu não consigo pagar ele né não consegue comprar todo dia né Aí nós a cara deles não aceita também é possível pagamento na loja Fala RG CPF aí efetuando o pagamento né ela estiver negativado e vai sete dias úteis reabilita fechando ultrapassar para que não ocorra Angelis encargos ligações e se tiver algum cartão físico né entre em contato com a central depois para verificar melhores as informações é só para encerrar aqui o contato vou confirmar endereço e telefone endereço é o João Manoel da Cruz 390 telefone utilizando 9408-8793 ou então já foi encaminhado então boleto com a data de hoje dia 23 aí uma vai então de r$ 67 a outra do 7880 atualizado aí pagando né já paradas as ligações para ferir a uma dúvida mais ou menos 15 a 10 minutos para chegar no e-mail '"
      ]
     },
     "execution_count": 3,
     "metadata": {},
     "output_type": "execute_result"
    }
   ],
   "source": [
    "output_df.loc[0,'transcribed_audio']"
   ]
  }
 ],
 "metadata": {
  "interpreter": {
   "hash": "b3ba2566441a7c06988d0923437866b63cedc61552a5af99d1f4fb67d367b25f"
  },
  "kernelspec": {
   "display_name": "Python 3.8.8 64-bit ('base': conda)",
   "name": "python3"
  },
  "language_info": {
   "codemirror_mode": {
    "name": "ipython",
    "version": 3
   },
   "file_extension": ".py",
   "mimetype": "text/x-python",
   "name": "python",
   "nbconvert_exporter": "python",
   "pygments_lexer": "ipython3",
   "version": "3.8.5"
  },
  "orig_nbformat": 4
 },
 "nbformat": 4,
 "nbformat_minor": 2
}
