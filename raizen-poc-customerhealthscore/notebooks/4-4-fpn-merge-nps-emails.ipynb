{
 "cells": [
  {
   "cell_type": "code",
   "execution_count": 1,
   "id": "1edb3f28-c7d6-4a6b-880a-8a569e00e77f",
   "metadata": {},
   "outputs": [],
   "source": [
    "import pandas as pd\n",
    "\n",
    "pd.set_option('display.max_columns', None)"
   ]
  },
  {
   "cell_type": "code",
   "execution_count": 2,
   "id": "387687c6-d4e5-4932-9865-8389bca0a9b5",
   "metadata": {},
   "outputs": [],
   "source": [
    "# Importando o dataset completo de 'nps' (notebook2)\n",
    "nps = pd.read_parquet('../data/stage/3m/customers_nps_churn_palive.parquet')\n",
    "\n",
    "email_open = pd.read_parquet('../data/raw/3m/80464_open.snappy.parquet')\n",
    "email_sent = pd.read_parquet('../data/raw/3m/80464_sent.snappy.parquet')"
   ]
  },
  {
   "cell_type": "code",
   "execution_count": 3,
   "id": "17e15b1e-0b4b-47db-ab4a-e0c4d670756d",
   "metadata": {},
   "outputs": [],
   "source": [
    "email_sent['EMAIL_SENT'] = 1\n",
    "columns = [\n",
    "    'CUSTOMER_ID', 'EVENT_CAPTURED_DT', 'CAMPAIGN_ID', 'LAUNCH_ID',\n",
    "    'EMAIL_SENT'\n",
    "]\n",
    "email_sent = email_sent[columns]"
   ]
  },
  {
   "cell_type": "code",
   "execution_count": 4,
   "id": "4b59757c-9400-42af-95c5-3932bfa7de21",
   "metadata": {},
   "outputs": [],
   "source": [
    "email_open['EMAIL_OPEN'] = 1\n",
    "columns = [\n",
    "    'CUSTOMER_ID', 'EVENT_CAPTURED_DT', 'CAMPAIGN_ID', 'LAUNCH_ID',\n",
    "    'EMAIL_OPEN'\n",
    "]\n",
    "email_open = email_open[columns]"
   ]
  },
  {
   "cell_type": "code",
   "execution_count": 5,
   "id": "c00dd13c-03c0-48e3-910f-f72621509501",
   "metadata": {},
   "outputs": [],
   "source": [
    "email_open.loc[:,'CUSTOMER_ID'] = pd.to_numeric(email_open['CUSTOMER_ID'], errors='coerce', downcast='integer')"
   ]
  },
  {
   "cell_type": "code",
   "execution_count": 6,
   "id": "e04fce59-e969-4307-8050-dacea47b3202",
   "metadata": {},
   "outputs": [],
   "source": [
    "email_sent.loc[:,'CUSTOMER_ID'] = pd.to_numeric(email_sent['CUSTOMER_ID'], errors='coerce', downcast='integer')"
   ]
  },
  {
   "cell_type": "markdown",
   "id": "217cd160-cf78-4dfe-8f7e-52c76ddc2c2e",
   "metadata": {},
   "source": [
    "### Merge"
   ]
  },
  {
   "cell_type": "code",
   "execution_count": 7,
   "id": "901ceca0-5176-4a17-ba30-070237aacf33",
   "metadata": {},
   "outputs": [],
   "source": [
    "nps_email_open = pd.merge(nps, email_open, left_on='consumer_id', right_on='CUSTOMER_ID', how='left', suffixes=('_nps', '_EMAIL_OPEN'))"
   ]
  },
  {
   "cell_type": "code",
   "execution_count": 8,
   "id": "6538a6a3-91a1-4ede-8904-928832765874",
   "metadata": {},
   "outputs": [],
   "source": [
    "nps_email_sent = pd.merge(nps, email_sent, left_on='consumer_id', right_on='CUSTOMER_ID', how='left', suffixes=('_nps', '_EMAIL_SENT'))"
   ]
  },
  {
   "cell_type": "markdown",
   "id": "285769c7-d926-4e8f-844c-5b2bebf80865",
   "metadata": {},
   "source": [
    "### Saving DataFrame"
   ]
  },
  {
   "cell_type": "code",
   "execution_count": 12,
   "id": "3cf8ba41-845a-4ea2-95a2-528ad0438bd6",
   "metadata": {},
   "outputs": [],
   "source": [
    "nps_email_open.to_parquet('../data/stage/3m/customers_emails_open.parquet')"
   ]
  },
  {
   "cell_type": "code",
   "execution_count": 13,
   "id": "ba918e37-e4da-45df-aeb7-c6b94b5d0014",
   "metadata": {},
   "outputs": [],
   "source": [
    "nps_email_sent.to_parquet('../data/stage/3m/customers_emails_sent.parquet')"
   ]
  }
 ],
 "metadata": {
  "kernelspec": {
   "display_name": "Python 3 (ipykernel)",
   "language": "python",
   "name": "python3"
  },
  "language_info": {
   "codemirror_mode": {
    "name": "ipython",
    "version": 3
   },
   "file_extension": ".py",
   "mimetype": "text/x-python",
   "name": "python",
   "nbconvert_exporter": "python",
   "pygments_lexer": "ipython3",
   "version": "3.7.12"
  }
 },
 "nbformat": 4,
 "nbformat_minor": 5
}
