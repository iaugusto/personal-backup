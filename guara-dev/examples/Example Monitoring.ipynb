{
 "cells": [
  {
   "cell_type": "markdown",
   "metadata": {},
   "source": [
    "# Model Monitoring Example\n",
    "\n",
    "## Marketing dataset"
   ]
  },
  {
   "cell_type": "code",
   "execution_count": 1,
   "metadata": {
    "ExecuteTime": {
     "end_time": "2020-08-19T21:02:55.070934Z",
     "start_time": "2020-08-19T21:02:52.992740Z"
    }
   },
   "outputs": [],
   "source": [
    "import os\n",
    "import sys\n",
    "import joblib\n",
    "import pandas as pd\n",
    "from pathlib import Path\n",
    "\n",
    "%load_ext autoreload\n",
    "%autoreload 2\n",
    "\n",
    "sys.path.insert(1, '../src/')\n",
    "\n",
    "from guara.modeling.supervised_modelz import *\n",
    "from guara.monitoring.data_monitor import DataMonitor\n",
    "from guara.monitoring.model_monitor import ModelMonitor\n",
    "import utils\n",
    "\n",
    "pd.set_option('display.max_columns', None)"
   ]
  },
  {
   "cell_type": "markdown",
   "metadata": {},
   "source": [
    "# Import dataset"
   ]
  },
  {
   "cell_type": "code",
   "execution_count": 2,
   "metadata": {},
   "outputs": [
    {
     "name": "stdout",
     "output_type": "stream",
     "text": [
      "Baixando dataset MARKETING do S3...\n"
     ]
    },
    {
     "data": {
      "text/html": [
       "<div>\n",
       "<style scoped>\n",
       "    .dataframe tbody tr th:only-of-type {\n",
       "        vertical-align: middle;\n",
       "    }\n",
       "\n",
       "    .dataframe tbody tr th {\n",
       "        vertical-align: top;\n",
       "    }\n",
       "\n",
       "    .dataframe thead th {\n",
       "        text-align: right;\n",
       "    }\n",
       "</style>\n",
       "<table border=\"1\" class=\"dataframe\">\n",
       "  <thead>\n",
       "    <tr style=\"text-align: right;\">\n",
       "      <th></th>\n",
       "      <th>Education</th>\n",
       "      <th>Marital_Status</th>\n",
       "      <th>Income</th>\n",
       "      <th>Kidhome</th>\n",
       "      <th>Teenhome</th>\n",
       "      <th>Recency</th>\n",
       "      <th>MntWines</th>\n",
       "      <th>MntFruits</th>\n",
       "      <th>MntMeatProducts</th>\n",
       "      <th>MntFishProducts</th>\n",
       "      <th>MntSweetProducts</th>\n",
       "      <th>MntGoldProds</th>\n",
       "      <th>NumDealsPurchases</th>\n",
       "      <th>NumWebPurchases</th>\n",
       "      <th>NumCatalogPurchases</th>\n",
       "      <th>NumStorePurchases</th>\n",
       "      <th>NumWebVisitsMonth</th>\n",
       "      <th>Complain</th>\n",
       "      <th>Response</th>\n",
       "      <th>idade</th>\n",
       "      <th>dias_cliente</th>\n",
       "      <th>education_n</th>\n",
       "      <th>parceiro</th>\n",
       "      <th>pessoas_casa</th>\n",
       "      <th>renda_per_capta</th>\n",
       "      <th>compra_total_ano</th>\n",
       "      <th>porcentagem_compras_gold</th>\n",
       "      <th>gasto_renda</th>\n",
       "      <th>total_purchases</th>\n",
       "      <th>disc_purchases</th>\n",
       "      <th>num_compras_ano</th>\n",
       "      <th>percent_disc_compra</th>\n",
       "      <th>ticket_medio</th>\n",
       "      <th>conversao_site</th>\n",
       "      <th>cupons_aceitados</th>\n",
       "    </tr>\n",
       "  </thead>\n",
       "  <tbody>\n",
       "    <tr>\n",
       "      <th>0</th>\n",
       "      <td>Graduation</td>\n",
       "      <td>Single</td>\n",
       "      <td>10.970592</td>\n",
       "      <td>0</td>\n",
       "      <td>0</td>\n",
       "      <td>58</td>\n",
       "      <td>6.455199</td>\n",
       "      <td>4.488636</td>\n",
       "      <td>6.304449</td>\n",
       "      <td>5.153292</td>\n",
       "      <td>4.488636</td>\n",
       "      <td>4.488636</td>\n",
       "      <td>1.386294</td>\n",
       "      <td>8</td>\n",
       "      <td>2.397895</td>\n",
       "      <td>4</td>\n",
       "      <td>7</td>\n",
       "      <td>0</td>\n",
       "      <td>1</td>\n",
       "      <td>63</td>\n",
       "      <td>2675</td>\n",
       "      <td>2</td>\n",
       "      <td>0</td>\n",
       "      <td>1</td>\n",
       "      <td>10.970592</td>\n",
       "      <td>764.5</td>\n",
       "      <td>0.055959</td>\n",
       "      <td>0.013064</td>\n",
       "      <td>22</td>\n",
       "      <td>1.386294</td>\n",
       "      <td>3.001869</td>\n",
       "      <td>0.136364</td>\n",
       "      <td>5.543906</td>\n",
       "      <td>0.012736</td>\n",
       "      <td>0</td>\n",
       "    </tr>\n",
       "    <tr>\n",
       "      <th>1</th>\n",
       "      <td>Graduation</td>\n",
       "      <td>Single</td>\n",
       "      <td>10.743869</td>\n",
       "      <td>1</td>\n",
       "      <td>1</td>\n",
       "      <td>38</td>\n",
       "      <td>2.484907</td>\n",
       "      <td>0.693147</td>\n",
       "      <td>1.945910</td>\n",
       "      <td>1.098612</td>\n",
       "      <td>0.693147</td>\n",
       "      <td>1.945910</td>\n",
       "      <td>1.098612</td>\n",
       "      <td>1</td>\n",
       "      <td>0.693147</td>\n",
       "      <td>2</td>\n",
       "      <td>5</td>\n",
       "      <td>0</td>\n",
       "      <td>0</td>\n",
       "      <td>66</td>\n",
       "      <td>2125</td>\n",
       "      <td>2</td>\n",
       "      <td>0</td>\n",
       "      <td>3</td>\n",
       "      <td>9.645300</td>\n",
       "      <td>10.5</td>\n",
       "      <td>0.251314</td>\n",
       "      <td>0.000227</td>\n",
       "      <td>4</td>\n",
       "      <td>1.098612</td>\n",
       "      <td>0.687059</td>\n",
       "      <td>0.500000</td>\n",
       "      <td>2.790093</td>\n",
       "      <td>0.002820</td>\n",
       "      <td>0</td>\n",
       "    </tr>\n",
       "    <tr>\n",
       "      <th>2</th>\n",
       "      <td>Graduation</td>\n",
       "      <td>Together</td>\n",
       "      <td>11.179046</td>\n",
       "      <td>0</td>\n",
       "      <td>0</td>\n",
       "      <td>26</td>\n",
       "      <td>6.056784</td>\n",
       "      <td>3.912023</td>\n",
       "      <td>4.852030</td>\n",
       "      <td>4.718499</td>\n",
       "      <td>3.091042</td>\n",
       "      <td>3.761200</td>\n",
       "      <td>0.693147</td>\n",
       "      <td>8</td>\n",
       "      <td>1.098612</td>\n",
       "      <td>10</td>\n",
       "      <td>4</td>\n",
       "      <td>0</td>\n",
       "      <td>0</td>\n",
       "      <td>55</td>\n",
       "      <td>2324</td>\n",
       "      <td>2</td>\n",
       "      <td>1</td>\n",
       "      <td>2</td>\n",
       "      <td>10.485913</td>\n",
       "      <td>367.0</td>\n",
       "      <td>0.055643</td>\n",
       "      <td>0.005112</td>\n",
       "      <td>20</td>\n",
       "      <td>0.693147</td>\n",
       "      <td>3.141136</td>\n",
       "      <td>0.050000</td>\n",
       "      <td>4.769300</td>\n",
       "      <td>0.025490</td>\n",
       "      <td>0</td>\n",
       "    </tr>\n",
       "    <tr>\n",
       "      <th>3</th>\n",
       "      <td>Graduation</td>\n",
       "      <td>Together</td>\n",
       "      <td>10.190432</td>\n",
       "      <td>1</td>\n",
       "      <td>0</td>\n",
       "      <td>26</td>\n",
       "      <td>2.484907</td>\n",
       "      <td>1.609438</td>\n",
       "      <td>3.044522</td>\n",
       "      <td>2.397895</td>\n",
       "      <td>1.386294</td>\n",
       "      <td>1.791759</td>\n",
       "      <td>1.098612</td>\n",
       "      <td>2</td>\n",
       "      <td>0.000000</td>\n",
       "      <td>4</td>\n",
       "      <td>6</td>\n",
       "      <td>0</td>\n",
       "      <td>0</td>\n",
       "      <td>36</td>\n",
       "      <td>2151</td>\n",
       "      <td>2</td>\n",
       "      <td>1</td>\n",
       "      <td>3</td>\n",
       "      <td>9.091895</td>\n",
       "      <td>24.0</td>\n",
       "      <td>0.099091</td>\n",
       "      <td>0.000900</td>\n",
       "      <td>6</td>\n",
       "      <td>1.098612</td>\n",
       "      <td>1.018131</td>\n",
       "      <td>0.333333</td>\n",
       "      <td>3.201632</td>\n",
       "      <td>0.004638</td>\n",
       "      <td>0</td>\n",
       "    </tr>\n",
       "    <tr>\n",
       "      <th>4</th>\n",
       "      <td>PhD</td>\n",
       "      <td>Married</td>\n",
       "      <td>10.973254</td>\n",
       "      <td>1</td>\n",
       "      <td>0</td>\n",
       "      <td>94</td>\n",
       "      <td>5.159055</td>\n",
       "      <td>3.784190</td>\n",
       "      <td>4.779123</td>\n",
       "      <td>3.850148</td>\n",
       "      <td>3.332205</td>\n",
       "      <td>2.772589</td>\n",
       "      <td>1.791759</td>\n",
       "      <td>5</td>\n",
       "      <td>1.386294</td>\n",
       "      <td>6</td>\n",
       "      <td>5</td>\n",
       "      <td>0</td>\n",
       "      <td>0</td>\n",
       "      <td>39</td>\n",
       "      <td>2173</td>\n",
       "      <td>4</td>\n",
       "      <td>1</td>\n",
       "      <td>3</td>\n",
       "      <td>9.874676</td>\n",
       "      <td>203.5</td>\n",
       "      <td>0.036192</td>\n",
       "      <td>0.003485</td>\n",
       "      <td>14</td>\n",
       "      <td>1.791759</td>\n",
       "      <td>2.351588</td>\n",
       "      <td>0.357143</td>\n",
       "      <td>4.472065</td>\n",
       "      <td>0.013711</td>\n",
       "      <td>0</td>\n",
       "    </tr>\n",
       "  </tbody>\n",
       "</table>\n",
       "</div>"
      ],
      "text/plain": [
       "    Education Marital_Status     Income  Kidhome  Teenhome  Recency  MntWines  \\\n",
       "0  Graduation         Single  10.970592        0         0       58  6.455199   \n",
       "1  Graduation         Single  10.743869        1         1       38  2.484907   \n",
       "2  Graduation       Together  11.179046        0         0       26  6.056784   \n",
       "3  Graduation       Together  10.190432        1         0       26  2.484907   \n",
       "4         PhD        Married  10.973254        1         0       94  5.159055   \n",
       "\n",
       "   MntFruits  MntMeatProducts  MntFishProducts  MntSweetProducts  \\\n",
       "0   4.488636         6.304449         5.153292          4.488636   \n",
       "1   0.693147         1.945910         1.098612          0.693147   \n",
       "2   3.912023         4.852030         4.718499          3.091042   \n",
       "3   1.609438         3.044522         2.397895          1.386294   \n",
       "4   3.784190         4.779123         3.850148          3.332205   \n",
       "\n",
       "   MntGoldProds  NumDealsPurchases  NumWebPurchases  NumCatalogPurchases  \\\n",
       "0      4.488636           1.386294                8             2.397895   \n",
       "1      1.945910           1.098612                1             0.693147   \n",
       "2      3.761200           0.693147                8             1.098612   \n",
       "3      1.791759           1.098612                2             0.000000   \n",
       "4      2.772589           1.791759                5             1.386294   \n",
       "\n",
       "   NumStorePurchases  NumWebVisitsMonth  Complain  Response  idade  \\\n",
       "0                  4                  7         0         1     63   \n",
       "1                  2                  5         0         0     66   \n",
       "2                 10                  4         0         0     55   \n",
       "3                  4                  6         0         0     36   \n",
       "4                  6                  5         0         0     39   \n",
       "\n",
       "   dias_cliente  education_n  parceiro  pessoas_casa  renda_per_capta  \\\n",
       "0          2675            2         0             1        10.970592   \n",
       "1          2125            2         0             3         9.645300   \n",
       "2          2324            2         1             2        10.485913   \n",
       "3          2151            2         1             3         9.091895   \n",
       "4          2173            4         1             3         9.874676   \n",
       "\n",
       "   compra_total_ano  porcentagem_compras_gold  gasto_renda  total_purchases  \\\n",
       "0             764.5                  0.055959     0.013064               22   \n",
       "1              10.5                  0.251314     0.000227                4   \n",
       "2             367.0                  0.055643     0.005112               20   \n",
       "3              24.0                  0.099091     0.000900                6   \n",
       "4             203.5                  0.036192     0.003485               14   \n",
       "\n",
       "   disc_purchases  num_compras_ano  percent_disc_compra  ticket_medio  \\\n",
       "0        1.386294         3.001869             0.136364      5.543906   \n",
       "1        1.098612         0.687059             0.500000      2.790093   \n",
       "2        0.693147         3.141136             0.050000      4.769300   \n",
       "3        1.098612         1.018131             0.333333      3.201632   \n",
       "4        1.791759         2.351588             0.357143      4.472065   \n",
       "\n",
       "   conversao_site  cupons_aceitados  \n",
       "0        0.012736                 0  \n",
       "1        0.002820                 0  \n",
       "2        0.025490                 0  \n",
       "3        0.004638                 0  \n",
       "4        0.013711                 0  "
      ]
     },
     "execution_count": 2,
     "metadata": {},
     "output_type": "execute_result"
    }
   ],
   "source": [
    "df = utils.import_s3_example_dataset('marketing').drop('ID', axis = 1)\n",
    "df.head()"
   ]
  },
  {
   "cell_type": "code",
   "execution_count": 3,
   "metadata": {
    "ExecuteTime": {
     "end_time": "2020-08-19T21:02:55.321989Z",
     "start_time": "2020-08-19T21:02:55.267395Z"
    }
   },
   "outputs": [],
   "source": [
    "# transforma colunas object pra category\n",
    "# FAZER ISSO NO PIPELINE\n",
    "for col in df.columns:\n",
    "    if is_string_dtype(df[col]):\n",
    "        df[col] = df[col].astype('category')\n",
    "\n",
    "le = LabelEncoder()\n",
    "for col in df.columns:\n",
    "    if df[col].dtype.name == 'category':\n",
    "        df[col] = le.fit_transform(df[col])\n"
   ]
  },
  {
   "cell_type": "markdown",
   "metadata": {},
   "source": [
    "# Train, Val"
   ]
  },
  {
   "cell_type": "code",
   "execution_count": 4,
   "metadata": {
    "ExecuteTime": {
     "end_time": "2020-08-19T21:02:55.402276Z",
     "start_time": "2020-08-19T21:02:55.325122Z"
    }
   },
   "outputs": [],
   "source": [
    "train_split = 0.8\n",
    "n_train_split = int(train_split*len(df))\n",
    "var_resp = 'Response'\n",
    "\n",
    "train = df.iloc[:n_train_split, :].copy()\n",
    "val = df.iloc[n_train_split:, :].copy()\n",
    "\n",
    "Xtrain = train.drop(var_resp, axis = 1)\n",
    "ytrain = train[var_resp]\n",
    "\n",
    "Xval = val.drop(var_resp, axis = 1)\n",
    "yval = val[var_resp]"
   ]
  },
  {
   "cell_type": "markdown",
   "metadata": {},
   "source": [
    "# Creating data monitor's baseline from training data"
   ]
  },
  {
   "cell_type": "code",
   "execution_count": 5,
   "metadata": {},
   "outputs": [
    {
     "name": "stdout",
     "output_type": "stream",
     "text": [
      "Successfully created baseline for data monitor.\n"
     ]
    }
   ],
   "source": [
    "dm = DataMonitor(monitor=['input','distribution'])\n",
    "dm.make_baseline(Xtrain)"
   ]
  },
  {
   "cell_type": "markdown",
   "metadata": {},
   "source": [
    "-----------------------------------------------------------------"
   ]
  },
  {
   "cell_type": "markdown",
   "metadata": {},
   "source": [
    "# Training"
   ]
  },
  {
   "cell_type": "markdown",
   "metadata": {},
   "source": [
    "## LGBM"
   ]
  },
  {
   "cell_type": "code",
   "execution_count": 6,
   "metadata": {
    "ExecuteTime": {
     "end_time": "2020-08-19T22:06:24.440324Z",
     "start_time": "2020-08-19T22:06:24.389409Z"
    }
   },
   "outputs": [
    {
     "name": "stdout",
     "output_type": "stream",
     "text": [
      "xtrain.shape:  (1772, 34) xval.shape:  (444, 34)\n"
     ]
    }
   ],
   "source": [
    "print('xtrain.shape: ', Xtrain.shape, 'xval.shape: ', Xval.shape)"
   ]
  },
  {
   "cell_type": "code",
   "execution_count": 7,
   "metadata": {
    "ExecuteTime": {
     "end_time": "2020-08-19T22:06:28.307630Z",
     "start_time": "2020-08-19T22:06:26.092305Z"
    }
   },
   "outputs": [
    {
     "name": "stdout",
     "output_type": "stream",
     "text": [
      "Treinando o modelo LGBM, objetivo BINARY... \n",
      "\n",
      "[LightGBM] [Warning] Unknown parameter: sub_sample\n",
      "[LightGBM] [Warning] Unknown parameter: is_unbalanced\n",
      "[LightGBM] [Warning] Unknown parameter: sub_sample\n",
      "[LightGBM] [Warning] Unknown parameter: is_unbalanced\n",
      "[LightGBM] [Info] Number of positive: 261, number of negative: 1511\n",
      "[LightGBM] [Warning] Auto-choosing col-wise multi-threading, the overhead of testing was 0.001520 seconds.\n",
      "You can set `force_col_wise=true` to remove the overhead.\n",
      "[LightGBM] [Info] Total Bins 3712\n",
      "[LightGBM] [Info] Number of data points in the train set: 1772, number of used features: 33\n",
      "[LightGBM] [Warning] Unknown parameter: sub_sample\n",
      "[LightGBM] [Warning] Unknown parameter: is_unbalanced\n",
      "[LightGBM] [Info] [binary:BoostFromScore]: pavg=0.147291 -> initscore=-1.756007\n",
      "[LightGBM] [Info] Start training from score -1.756007\n"
     ]
    },
    {
     "name": "stderr",
     "output_type": "stream",
     "text": [
      "Found `n_estimators` in params. Will use it instead of argument\n"
     ]
    },
    {
     "name": "stdout",
     "output_type": "stream",
     "text": [
      "Modelo treinado em 0.03 minutos \n",
      "\n"
     ]
    },
    {
     "data": {
      "text/plain": [
       "['c:\\\\Users\\\\italo.avila\\\\OneDrive - tenbu.com.br\\\\Documentos\\\\desenvolvimentos\\\\python\\\\Tenbu\\\\guara/artifacts/production/model/model.joblib']"
      ]
     },
     "execution_count": 7,
     "metadata": {},
     "output_type": "execute_result"
    }
   ],
   "source": [
    "md = SupervisedModelz('lgbm', 'binary')\n",
    "\n",
    "params = {\n",
    "\n",
    "    'random_state': 501,\n",
    "    'boosting_type': 'gbdt',\n",
    "    'device_type': 'cpu', # 'cpu'\n",
    "    'is_unbalanced':'true',\n",
    "    'learning_rate': 0.01,\n",
    "    'colsample_bytree': 0.7,\n",
    "    'max_depth': -1,\n",
    "    'n_estimators': 2000,\n",
    "    'sub_sample': 0.8,\n",
    "    'num_leaves': 10,\n",
    "    'min_child_samples': 24,\n",
    "    \n",
    " }\n",
    "\n",
    "model = md.fit(Xtrain, Xval, ytrain, yval, params)\n",
    "\n",
    "Path(os.path.dirname(os.getcwd())+'/artifacts/production/model').mkdir(parents=True, exist_ok=True)\n",
    "joblib.dump(model, os.path.dirname(os.getcwd())+'/artifacts/production/model/model.joblib')"
   ]
  },
  {
   "cell_type": "code",
   "execution_count": 8,
   "metadata": {
    "ExecuteTime": {
     "end_time": "2020-08-19T17:08:23.292396Z",
     "start_time": "2020-08-19T17:08:22.614026Z"
    }
   },
   "outputs": [
    {
     "name": "stdout",
     "output_type": "stream",
     "text": [
      "Model best iteration: 832\n",
      "\n",
      "BINARY_LOGLOSS loss:\n",
      "Train: 0.1116\n",
      "Val  : 0.2444\n"
     ]
    },
    {
     "data": {
      "image/png": "[encoded data removed]",
      "text/plain": [
       "<Figure size 504x360 with 1 Axes>"
      ]
     },
     "metadata": {},
     "output_type": "display_data"
    }
   ],
   "source": [
    "md.plot_train_info()"
   ]
  },
  {
   "cell_type": "code",
   "execution_count": 9,
   "metadata": {
    "ExecuteTime": {
     "end_time": "2020-08-19T16:53:45.850886Z",
     "start_time": "2020-08-19T16:53:39.634016Z"
    }
   },
   "outputs": [
    {
     "name": "stderr",
     "output_type": "stream",
     "text": [
      "`distplot` is a deprecated function and will be removed in a future version. Please adapt your code to use either `displot` (a figure-level function with similar flexibility) or `histplot` (an axes-level function for histograms).\n",
      "`distplot` is a deprecated function and will be removed in a future version. Please adapt your code to use either `displot` (a figure-level function with similar flexibility) or `histplot` (an axes-level function for histograms).\n",
      "`distplot` is a deprecated function and will be removed in a future version. Please adapt your code to use either `displot` (a figure-level function with similar flexibility) or `histplot` (an axes-level function for histograms).\n"
     ]
    },
    {
     "data": {
      "image/png": "[encoded data removed]",
      "text/plain": [
       "<Figure size 1080x576 with 4 Axes>"
      ]
     },
     "metadata": {},
     "output_type": "display_data"
    },
    {
     "data": {
      "image/png": "[encoded data removed]",
      "text/plain": [
       "<Figure size 1080x360 with 2 Axes>"
      ]
     },
     "metadata": {},
     "output_type": "display_data"
    },
    {
     "name": "stdout",
     "output_type": "stream",
     "text": [
      "\n",
      "              precision    recall  f1-score   support\n",
      "\n",
      "           0       0.95      0.90      0.92       372\n",
      "           1       0.59      0.75      0.66        72\n",
      "\n",
      "    accuracy                           0.87       444\n",
      "   macro avg       0.77      0.82      0.79       444\n",
      "weighted avg       0.89      0.87      0.88       444\n",
      "\n"
     ]
    }
   ],
   "source": [
    "ytrain_pred = md.predict(Xtrain)\n",
    "yval_pred = md.predict(Xval)\n",
    "\n",
    "md.evaluation_plots(ytrain.values, ytrain_pred, yval.values, yval_pred)"
   ]
  },
  {
   "cell_type": "code",
   "execution_count": 10,
   "metadata": {
    "ExecuteTime": {
     "end_time": "2020-08-19T16:45:31.107319Z",
     "start_time": "2020-08-19T16:45:31.041455Z"
    },
    "scrolled": true,
    "tags": []
   },
   "outputs": [
    {
     "name": "stdout",
     "output_type": "stream",
     "text": [
      "TREINO:\n",
      "\n",
      "|   Accuracy |   Recall |   Precision |     F1 |   ROC_AUC |\n",
      "|------------|----------|-------------|--------|-----------|\n",
      "|     0.9464 |   0.9885 |      0.7371 | 0.8445 |    0.9638 |\n",
      "\n",
      "VALIDACAO:\n",
      "\n",
      "|   Accuracy |   Recall |   Precision |     F1 |   ROC_AUC |\n",
      "|------------|----------|-------------|--------|-----------|\n",
      "|     0.8739 |   0.7500 |      0.5870 | 0.6585 |    0.8239 |\n"
     ]
    }
   ],
   "source": [
    "metrics = ['Accuracy', 'Recall', 'Precision', 'F1', 'ROC_AUC']\n",
    "\n",
    "print('TREINO:\\n')\n",
    "metrics_train = md.metrics_print(ytrain.values, ytrain_pred, metrics)\n",
    "print('\\nVALIDACAO:\\n')\n",
    "metrics_val = md.metrics_print(yval.values, yval_pred, metrics)"
   ]
  },
  {
   "cell_type": "markdown",
   "metadata": {},
   "source": [
    "---\n",
    "\n",
    "# Data Monitoring"
   ]
  },
  {
   "cell_type": "markdown",
   "metadata": {},
   "source": [
    "### Initializing DataMonitor module for input schema and distribution mapping"
   ]
  },
  {
   "cell_type": "code",
   "execution_count": 11,
   "metadata": {},
   "outputs": [],
   "source": [
    "dm = DataMonitor(monitor=['input','distribution'])"
   ]
  },
  {
   "cell_type": "markdown",
   "metadata": {},
   "source": [
    "### Creating baseline for the initialized DataMonitor instance"
   ]
  },
  {
   "cell_type": "code",
   "execution_count": 12,
   "metadata": {},
   "outputs": [
    {
     "name": "stdout",
     "output_type": "stream",
     "text": [
      "Successfully created baseline for data monitor.\n"
     ]
    }
   ],
   "source": [
    "dm.make_baseline(Xtrain)"
   ]
  },
  {
   "cell_type": "markdown",
   "metadata": {},
   "source": [
    "### Probing validation data\n",
    "\n",
    "In production, the probe would be used to store API or Batch Jobs calls. In this case, we will use the validation data as a representation of the production data."
   ]
  },
  {
   "cell_type": "code",
   "execution_count": 13,
   "metadata": {},
   "outputs": [],
   "source": [
    "dm.probe(Xval,keep_ratio=1.0,shuffle_bool=True)"
   ]
  },
  {
   "cell_type": "markdown",
   "metadata": {},
   "source": [
    "### Running the monitor for the data acquired from the probe"
   ]
  },
  {
   "cell_type": "code",
   "execution_count": 14,
   "metadata": {},
   "outputs": [
    {
     "name": "stdout",
     "output_type": "stream",
     "text": [
      "Production input matches baseline from training.\n",
      "------------------------------------------------------------\n",
      "Production feature distribution doesn't match baseline from training.\n",
      "             feature property  baseline   current     ratio  distance  \\\n",
      "0             Income     skew -1.243178 -0.917433  0.737974 -0.262026   \n",
      "1          MntFruits     skew  0.086963  0.045984  0.528775 -0.471225   \n",
      "2    MntMeatProducts      min  0.693147  0.000000  0.000000 -1.000000   \n",
      "3    MntFishProducts     skew -0.046441 -0.086902  1.871232  0.871232   \n",
      "4  NumDealsPurchases     skew  0.689979  0.578280  0.838113 -0.161887   \n",
      "\n",
      "                     version  \n",
      "0 2021-12-08 16:43:58.191718  \n",
      "1 2021-12-08 16:43:58.191718  \n",
      "2 2021-12-08 16:43:58.191718  \n",
      "3 2021-12-08 16:43:58.191718  \n",
      "4 2021-12-08 16:43:58.191718  \n",
      "Use 'DataMonitor().dist_verification_df' to see detailed information.\n",
      "------------------------------------------------------------\n"
     ]
    },
    {
     "name": "stderr",
     "output_type": "stream",
     "text": [
      "invalid value encountered in double_scalars\n",
      "divide by zero encountered in double_scalars\n",
      "divide by zero encountered in double_scalars\n"
     ]
    }
   ],
   "source": [
    "dm.run_monitor_with_probe_data()"
   ]
  },
  {
   "cell_type": "markdown",
   "metadata": {},
   "source": [
    "The validation data's distribution doesn't match the distribution from the baseline. To see the distribution detailed information, we can use the dist_verification_df object from the initialized DataMonitor() class/instance."
   ]
  },
  {
   "cell_type": "code",
   "execution_count": 15,
   "metadata": {},
   "outputs": [
    {
     "data": {
      "text/html": [
       "<div>\n",
       "<style scoped>\n",
       "    .dataframe tbody tr th:only-of-type {\n",
       "        vertical-align: middle;\n",
       "    }\n",
       "\n",
       "    .dataframe tbody tr th {\n",
       "        vertical-align: top;\n",
       "    }\n",
       "\n",
       "    .dataframe thead th {\n",
       "        text-align: right;\n",
       "    }\n",
       "</style>\n",
       "<table border=\"1\" class=\"dataframe\">\n",
       "  <thead>\n",
       "    <tr style=\"text-align: right;\">\n",
       "      <th></th>\n",
       "      <th>feature</th>\n",
       "      <th>property</th>\n",
       "      <th>baseline</th>\n",
       "      <th>current</th>\n",
       "      <th>ratio</th>\n",
       "      <th>distance</th>\n",
       "      <th>version</th>\n",
       "    </tr>\n",
       "  </thead>\n",
       "  <tbody>\n",
       "    <tr>\n",
       "      <th>0</th>\n",
       "      <td>Income</td>\n",
       "      <td>skew</td>\n",
       "      <td>-1.243178</td>\n",
       "      <td>-0.917433</td>\n",
       "      <td>0.737974</td>\n",
       "      <td>-0.262026</td>\n",
       "      <td>2021-12-08 16:43:58.191718</td>\n",
       "    </tr>\n",
       "    <tr>\n",
       "      <th>1</th>\n",
       "      <td>MntFruits</td>\n",
       "      <td>skew</td>\n",
       "      <td>0.086963</td>\n",
       "      <td>0.045984</td>\n",
       "      <td>0.528775</td>\n",
       "      <td>-0.471225</td>\n",
       "      <td>2021-12-08 16:43:58.191718</td>\n",
       "    </tr>\n",
       "    <tr>\n",
       "      <th>2</th>\n",
       "      <td>MntMeatProducts</td>\n",
       "      <td>min</td>\n",
       "      <td>0.693147</td>\n",
       "      <td>0.000000</td>\n",
       "      <td>0.000000</td>\n",
       "      <td>-1.000000</td>\n",
       "      <td>2021-12-08 16:43:58.191718</td>\n",
       "    </tr>\n",
       "    <tr>\n",
       "      <th>3</th>\n",
       "      <td>MntFishProducts</td>\n",
       "      <td>skew</td>\n",
       "      <td>-0.046441</td>\n",
       "      <td>-0.086902</td>\n",
       "      <td>1.871232</td>\n",
       "      <td>0.871232</td>\n",
       "      <td>2021-12-08 16:43:58.191718</td>\n",
       "    </tr>\n",
       "    <tr>\n",
       "      <th>4</th>\n",
       "      <td>NumDealsPurchases</td>\n",
       "      <td>skew</td>\n",
       "      <td>0.689979</td>\n",
       "      <td>0.578280</td>\n",
       "      <td>0.838113</td>\n",
       "      <td>-0.161887</td>\n",
       "      <td>2021-12-08 16:43:58.191718</td>\n",
       "    </tr>\n",
       "    <tr>\n",
       "      <th>5</th>\n",
       "      <td>NumDealsPurchases</td>\n",
       "      <td>kurtosis</td>\n",
       "      <td>0.325625</td>\n",
       "      <td>0.400690</td>\n",
       "      <td>1.230526</td>\n",
       "      <td>0.230526</td>\n",
       "      <td>2021-12-08 16:43:58.191718</td>\n",
       "    </tr>\n",
       "    <tr>\n",
       "      <th>6</th>\n",
       "      <td>NumCatalogPurchases</td>\n",
       "      <td>max</td>\n",
       "      <td>3.367296</td>\n",
       "      <td>2.484907</td>\n",
       "      <td>0.737953</td>\n",
       "      <td>-0.262047</td>\n",
       "      <td>2021-12-08 16:43:58.191718</td>\n",
       "    </tr>\n",
       "    <tr>\n",
       "      <th>7</th>\n",
       "      <td>NumCatalogPurchases</td>\n",
       "      <td>skew</td>\n",
       "      <td>0.145437</td>\n",
       "      <td>0.066898</td>\n",
       "      <td>0.459977</td>\n",
       "      <td>-0.540023</td>\n",
       "      <td>2021-12-08 16:43:58.191718</td>\n",
       "    </tr>\n",
       "    <tr>\n",
       "      <th>8</th>\n",
       "      <td>NumCatalogPurchases</td>\n",
       "      <td>kurtosis</td>\n",
       "      <td>-1.043452</td>\n",
       "      <td>-1.294580</td>\n",
       "      <td>1.240671</td>\n",
       "      <td>0.240671</td>\n",
       "      <td>2021-12-08 16:43:58.191718</td>\n",
       "    </tr>\n",
       "    <tr>\n",
       "      <th>9</th>\n",
       "      <td>renda_per_capta</td>\n",
       "      <td>skew</td>\n",
       "      <td>0.083434</td>\n",
       "      <td>-0.105944</td>\n",
       "      <td>-1.269791</td>\n",
       "      <td>-2.269791</td>\n",
       "      <td>2021-12-08 16:43:58.191718</td>\n",
       "    </tr>\n",
       "  </tbody>\n",
       "</table>\n",
       "</div>"
      ],
      "text/plain": [
       "               feature  property  baseline   current     ratio  distance  \\\n",
       "0               Income      skew -1.243178 -0.917433  0.737974 -0.262026   \n",
       "1            MntFruits      skew  0.086963  0.045984  0.528775 -0.471225   \n",
       "2      MntMeatProducts       min  0.693147  0.000000  0.000000 -1.000000   \n",
       "3      MntFishProducts      skew -0.046441 -0.086902  1.871232  0.871232   \n",
       "4    NumDealsPurchases      skew  0.689979  0.578280  0.838113 -0.161887   \n",
       "5    NumDealsPurchases  kurtosis  0.325625  0.400690  1.230526  0.230526   \n",
       "6  NumCatalogPurchases       max  3.367296  2.484907  0.737953 -0.262047   \n",
       "7  NumCatalogPurchases      skew  0.145437  0.066898  0.459977 -0.540023   \n",
       "8  NumCatalogPurchases  kurtosis -1.043452 -1.294580  1.240671  0.240671   \n",
       "9      renda_per_capta      skew  0.083434 -0.105944 -1.269791 -2.269791   \n",
       "\n",
       "                     version  \n",
       "0 2021-12-08 16:43:58.191718  \n",
       "1 2021-12-08 16:43:58.191718  \n",
       "2 2021-12-08 16:43:58.191718  \n",
       "3 2021-12-08 16:43:58.191718  \n",
       "4 2021-12-08 16:43:58.191718  \n",
       "5 2021-12-08 16:43:58.191718  \n",
       "6 2021-12-08 16:43:58.191718  \n",
       "7 2021-12-08 16:43:58.191718  \n",
       "8 2021-12-08 16:43:58.191718  \n",
       "9 2021-12-08 16:43:58.191718  "
      ]
     },
     "execution_count": 15,
     "metadata": {},
     "output_type": "execute_result"
    }
   ],
   "source": [
    "dm.dist_verification_df.head(10)"
   ]
  },
  {
   "cell_type": "markdown",
   "metadata": {},
   "source": [
    "### Retrieve all warnings from the data monitor"
   ]
  },
  {
   "cell_type": "code",
   "execution_count": 16,
   "metadata": {},
   "outputs": [
    {
     "name": "stdout",
     "output_type": "stream",
     "text": [
      "------------------------------------------------------------\n",
      "INPUT MONITOR\n",
      "------------------------------------------------------------\n",
      "DISTRIBUTION MONITOR\n",
      "* Complain\n",
      "* NumWebPurchases\n",
      "* conversao_site\n",
      "* percent_disc_compra\n",
      "* gasto_renda\n",
      "* porcentagem_compras_gold\n",
      "------------------------------------------------------------\n",
      "Adjustments or model retraining might be advised.\n",
      "For the detailed information use DataMonitor().input_status_df (input monitor) and DataMonitor().dist_verification_df (distribution monitor).\n",
      "A list containing all shifted features can be accessed with 'DataMonitor().shifted_features'.\n"
     ]
    }
   ],
   "source": [
    "dm.list_warnings()"
   ]
  },
  {
   "cell_type": "markdown",
   "metadata": {},
   "source": [
    "To retrieve the shifted features, use DataMonitor().shifted_features:"
   ]
  },
  {
   "cell_type": "code",
   "execution_count": 17,
   "metadata": {},
   "outputs": [
    {
     "data": {
      "text/plain": [
       "['Complain',\n",
       " 'NumWebPurchases',\n",
       " 'conversao_site',\n",
       " 'gasto_renda',\n",
       " 'percent_disc_compra',\n",
       " 'porcentagem_compras_gold']"
      ]
     },
     "execution_count": 17,
     "metadata": {},
     "output_type": "execute_result"
    }
   ],
   "source": [
    "dm.shifted_features"
   ]
  },
  {
   "cell_type": "markdown",
   "metadata": {},
   "source": [
    "percentage of shifted features:"
   ]
  },
  {
   "cell_type": "code",
   "execution_count": 18,
   "metadata": {},
   "outputs": [
    {
     "data": {
      "text/plain": [
       "0.17647058823529413"
      ]
     },
     "execution_count": 18,
     "metadata": {},
     "output_type": "execute_result"
    }
   ],
   "source": [
    "len(dm.shifted_features)/len(list(Xtrain.columns))"
   ]
  },
  {
   "cell_type": "markdown",
   "metadata": {},
   "source": [
    "---\n",
    "\n",
    "# Model Monitor\n",
    "\n",
    "## Creating model performance baseline"
   ]
  },
  {
   "cell_type": "code",
   "execution_count": 19,
   "metadata": {},
   "outputs": [],
   "source": [
    "mm = ModelMonitor(objective='binary')\n",
    "mm.create_performance_baseline(model=model, X=Xval, Y=yval)"
   ]
  },
  {
   "cell_type": "code",
   "execution_count": 20,
   "metadata": {},
   "outputs": [
    {
     "data": {
      "text/html": [
       "<div>\n",
       "<style scoped>\n",
       "    .dataframe tbody tr th:only-of-type {\n",
       "        vertical-align: middle;\n",
       "    }\n",
       "\n",
       "    .dataframe tbody tr th {\n",
       "        vertical-align: top;\n",
       "    }\n",
       "\n",
       "    .dataframe thead th {\n",
       "        text-align: right;\n",
       "    }\n",
       "</style>\n",
       "<table border=\"1\" class=\"dataframe\">\n",
       "  <thead>\n",
       "    <tr style=\"text-align: right;\">\n",
       "      <th></th>\n",
       "      <th>model_id</th>\n",
       "      <th>version</th>\n",
       "      <th>accuracy</th>\n",
       "      <th>balanced_accuracy</th>\n",
       "      <th>precision</th>\n",
       "      <th>averaged_precision</th>\n",
       "      <th>micro_recall</th>\n",
       "      <th>macro_recall</th>\n",
       "      <th>weighted_recall</th>\n",
       "      <th>micro_f1</th>\n",
       "      <th>macro_f1</th>\n",
       "      <th>weighted_f1</th>\n",
       "      <th>roc_auc</th>\n",
       "      <th>micro_jaccard</th>\n",
       "      <th>macro_jaccard</th>\n",
       "      <th>weighted_jaccard</th>\n",
       "      <th>log_loss</th>\n",
       "      <th>neg_brier_loss</th>\n",
       "    </tr>\n",
       "  </thead>\n",
       "  <tbody>\n",
       "    <tr>\n",
       "      <th>0</th>\n",
       "      <td>baseline</td>\n",
       "      <td>2021-12-08 16:44:03</td>\n",
       "      <td>0.88964</td>\n",
       "      <td>0.721326</td>\n",
       "      <td>0.755556</td>\n",
       "      <td>0.442376</td>\n",
       "      <td>0.88964</td>\n",
       "      <td>0.721326</td>\n",
       "      <td>0.88964</td>\n",
       "      <td>0.88964</td>\n",
       "      <td>0.758821</td>\n",
       "      <td>0.878838</td>\n",
       "      <td>0.721326</td>\n",
       "      <td>0.801217</td>\n",
       "      <td>0.645063</td>\n",
       "      <td>0.804134</td>\n",
       "      <td>3.811732</td>\n",
       "      <td>0.078129</td>\n",
       "    </tr>\n",
       "  </tbody>\n",
       "</table>\n",
       "</div>"
      ],
      "text/plain": [
       "   model_id              version  accuracy  balanced_accuracy  precision  \\\n",
       "0  baseline  2021-12-08 16:44:03   0.88964           0.721326   0.755556   \n",
       "\n",
       "   averaged_precision  micro_recall  macro_recall  weighted_recall  micro_f1  \\\n",
       "0            0.442376       0.88964      0.721326          0.88964   0.88964   \n",
       "\n",
       "   macro_f1  weighted_f1   roc_auc  micro_jaccard  macro_jaccard  \\\n",
       "0  0.758821     0.878838  0.721326       0.801217       0.645063   \n",
       "\n",
       "   weighted_jaccard  log_loss  neg_brier_loss  \n",
       "0          0.804134  3.811732        0.078129  "
      ]
     },
     "execution_count": 20,
     "metadata": {},
     "output_type": "execute_result"
    }
   ],
   "source": [
    "mm.metrics_df"
   ]
  },
  {
   "cell_type": "markdown",
   "metadata": {},
   "source": [
    "## Creating new variants\n",
    "\n",
    "During production, the variants can be developed using different algorithms and training sets. In this case, we will use the same algorithm and dataset, with different parameters, just as an example of the model monitor module usage."
   ]
  },
  {
   "cell_type": "code",
   "execution_count": 21,
   "metadata": {},
   "outputs": [],
   "source": [
    "Path(os.path.dirname(os.getcwd())+'/artifacts/variant/model').mkdir(parents=True, exist_ok=True)"
   ]
  },
  {
   "cell_type": "code",
   "execution_count": 22,
   "metadata": {},
   "outputs": [
    {
     "name": "stdout",
     "output_type": "stream",
     "text": [
      "Treinando o modelo LGBM, objetivo BINARY... \n",
      "\n",
      "[LightGBM] [Warning] Unknown parameter: sub_sample\n",
      "[LightGBM] [Warning] Unknown parameter: is_unbalanced\n",
      "[LightGBM] [Warning] Unknown parameter: sub_sample\n",
      "[LightGBM] [Warning] Unknown parameter: is_unbalanced\n",
      "[LightGBM] [Info] Number of positive: 261, number of negative: 1511\n",
      "[LightGBM] [Warning] Auto-choosing col-wise multi-threading, the overhead of testing was 0.001791 seconds.\n",
      "You can set `force_col_wise=true` to remove the overhead.\n",
      "[LightGBM] [Info] Total Bins 3712\n",
      "[LightGBM] [Info] Number of data points in the train set: 1772, number of used features: 33\n",
      "[LightGBM] [Warning] Unknown parameter: sub_sample\n",
      "[LightGBM] [Warning] Unknown parameter: is_unbalanced\n",
      "[LightGBM] [Info] [binary:BoostFromScore]: pavg=0.147291 -> initscore=-1.756007\n",
      "[LightGBM] [Info] Start training from score -1.756007\n"
     ]
    },
    {
     "name": "stderr",
     "output_type": "stream",
     "text": [
      "Found `n_estimators` in params. Will use it instead of argument\n"
     ]
    },
    {
     "name": "stdout",
     "output_type": "stream",
     "text": [
      "Modelo treinado em 0.05 minutos \n",
      "\n"
     ]
    }
   ],
   "source": [
    "params = {\n",
    "\n",
    "    'random_state': 501,\n",
    "    'boosting_type': 'gbdt',\n",
    "    'device_type': 'cpu', # 'cpu'\n",
    "    'is_unbalanced':'true',\n",
    "    'learning_rate': 0.005,\n",
    "    'colsample_bytree': 0.7,\n",
    "    'max_depth': -1,\n",
    "    'n_estimators': 2200,\n",
    "    'sub_sample': 0.8,\n",
    "    'num_leaves': 12,\n",
    "    'min_child_samples': 24,\n",
    "    \n",
    " }\n",
    "\n",
    "variant1 = md.fit(Xtrain, Xval, ytrain, yval, params)"
   ]
  },
  {
   "cell_type": "code",
   "execution_count": 23,
   "metadata": {},
   "outputs": [
    {
     "data": {
      "text/plain": [
       "['c:\\\\Users\\\\italo.avila\\\\OneDrive - tenbu.com.br\\\\Documentos\\\\desenvolvimentos\\\\python\\\\Tenbu\\\\guara/artifacts/variant/model/variant1.joblib']"
      ]
     },
     "execution_count": 23,
     "metadata": {},
     "output_type": "execute_result"
    }
   ],
   "source": [
    "joblib.dump(variant1, os.path.dirname(os.getcwd())+'/artifacts/variant/model/variant1.joblib')"
   ]
  },
  {
   "cell_type": "code",
   "execution_count": 24,
   "metadata": {},
   "outputs": [
    {
     "name": "stdout",
     "output_type": "stream",
     "text": [
      "Treinando o modelo LGBM, objetivo BINARY... \n",
      "\n",
      "[LightGBM] [Warning] Unknown parameter: sub_sample\n",
      "[LightGBM] [Warning] Unknown parameter: is_unbalanced\n",
      "[LightGBM] [Warning] Unknown parameter: sub_sample\n",
      "[LightGBM] [Warning] Unknown parameter: is_unbalanced\n",
      "[LightGBM] [Info] Number of positive: 261, number of negative: 1511\n",
      "[LightGBM] [Warning] Auto-choosing col-wise multi-threading, the overhead of testing was 0.001802 seconds.\n",
      "You can set `force_col_wise=true` to remove the overhead.\n",
      "[LightGBM] [Info] Total Bins 3712\n",
      "[LightGBM] [Info] Number of data points in the train set: 1772, number of used features: 33\n",
      "[LightGBM] [Warning] Unknown parameter: sub_sample\n",
      "[LightGBM] [Warning] Unknown parameter: is_unbalanced\n",
      "[LightGBM] [Info] [binary:BoostFromScore]: pavg=0.147291 -> initscore=-1.756007\n",
      "[LightGBM] [Info] Start training from score -1.756007\n",
      "Modelo treinado em 0.04 minutos \n",
      "\n"
     ]
    }
   ],
   "source": [
    "params = {\n",
    "\n",
    "    'random_state': 505,\n",
    "    'boosting_type': 'gbdt',\n",
    "    'device_type': 'cpu', # 'cpu'\n",
    "    'is_unbalanced':'true',\n",
    "    'learning_rate': 0.005,\n",
    "    'colsample_bytree': 0.7,\n",
    "    'max_depth': -1,\n",
    "    'n_estimators': 2500,\n",
    "    'sub_sample': 0.8,\n",
    "    'num_leaves': 10,\n",
    "    'min_child_samples': 24,\n",
    "    \n",
    " }\n",
    "\n",
    "variant2 = md.fit(Xtrain, Xval, ytrain, yval, params)"
   ]
  },
  {
   "cell_type": "code",
   "execution_count": 25,
   "metadata": {},
   "outputs": [
    {
     "data": {
      "text/plain": [
       "['c:\\\\Users\\\\italo.avila\\\\OneDrive - tenbu.com.br\\\\Documentos\\\\desenvolvimentos\\\\python\\\\Tenbu\\\\guara/artifacts/variant/model/variant2.joblib']"
      ]
     },
     "execution_count": 25,
     "metadata": {},
     "output_type": "execute_result"
    }
   ],
   "source": [
    "joblib.dump(variant2, os.path.dirname(os.getcwd())+'/artifacts/variant/model/variant2.joblib')"
   ]
  },
  {
   "cell_type": "code",
   "execution_count": 26,
   "metadata": {},
   "outputs": [
    {
     "name": "stdout",
     "output_type": "stream",
     "text": [
      "Treinando o modelo LGBM, objetivo BINARY... \n",
      "\n",
      "[LightGBM] [Warning] Unknown parameter: sub_sample\n",
      "[LightGBM] [Warning] Unknown parameter: is_unbalanced\n",
      "[LightGBM] [Warning] Unknown parameter: sub_sample\n",
      "[LightGBM] [Warning] Unknown parameter: is_unbalanced\n",
      "[LightGBM] [Info] Number of positive: 261, number of negative: 1511\n",
      "[LightGBM] [Warning] Auto-choosing col-wise multi-threading, the overhead of testing was 0.001844 seconds.\n",
      "You can set `force_col_wise=true` to remove the overhead.\n",
      "[LightGBM] [Info] Total Bins 3712\n",
      "[LightGBM] [Info] Number of data points in the train set: 1772, number of used features: 33\n",
      "[LightGBM] [Warning] Unknown parameter: sub_sample\n",
      "[LightGBM] [Warning] Unknown parameter: is_unbalanced\n",
      "[LightGBM] [Info] [binary:BoostFromScore]: pavg=0.147291 -> initscore=-1.756007\n",
      "[LightGBM] [Info] Start training from score -1.756007\n",
      "Modelo treinado em 0.04 minutos \n",
      "\n"
     ]
    }
   ],
   "source": [
    "params = {\n",
    "\n",
    "    'random_state': 247,\n",
    "    'boosting_type': 'gbdt',\n",
    "    'device_type': 'cpu', # 'cpu'\n",
    "    'is_unbalanced':'true',\n",
    "    'learning_rate': 0.005,\n",
    "    'colsample_bytree': 0.7,\n",
    "    'max_depth': -1,\n",
    "    'n_estimators': 3200,\n",
    "    'sub_sample': 0.8,\n",
    "    'num_leaves': 7,\n",
    "    'min_child_samples': 24,\n",
    "    \n",
    " }\n",
    "\n",
    "variant3 = md.fit(Xtrain, Xval, ytrain, yval, params)"
   ]
  },
  {
   "cell_type": "code",
   "execution_count": 27,
   "metadata": {},
   "outputs": [
    {
     "data": {
      "text/plain": [
       "['c:\\\\Users\\\\italo.avila\\\\OneDrive - tenbu.com.br\\\\Documentos\\\\desenvolvimentos\\\\python\\\\Tenbu\\\\guara/artifacts/variant/model/variant3.joblib']"
      ]
     },
     "execution_count": 27,
     "metadata": {},
     "output_type": "execute_result"
    }
   ],
   "source": [
    "joblib.dump(variant3, os.path.dirname(os.getcwd())+'/artifacts/variant/model/variant3.joblib')"
   ]
  },
  {
   "cell_type": "markdown",
   "metadata": {},
   "source": [
    "## Inserting the new models to the performance registry"
   ]
  },
  {
   "cell_type": "code",
   "execution_count": 28,
   "metadata": {},
   "outputs": [],
   "source": [
    "mm.input_variants_from_artifacts()"
   ]
  },
  {
   "cell_type": "markdown",
   "metadata": {},
   "source": [
    "To check the model registry, access the ModelMonitor().model_registry object:"
   ]
  },
  {
   "cell_type": "code",
   "execution_count": 29,
   "metadata": {},
   "outputs": [
    {
     "data": {
      "text/html": [
       "<div>\n",
       "<style scoped>\n",
       "    .dataframe tbody tr th:only-of-type {\n",
       "        vertical-align: middle;\n",
       "    }\n",
       "\n",
       "    .dataframe tbody tr th {\n",
       "        vertical-align: top;\n",
       "    }\n",
       "\n",
       "    .dataframe thead th {\n",
       "        text-align: right;\n",
       "    }\n",
       "</style>\n",
       "<table border=\"1\" class=\"dataframe\">\n",
       "  <thead>\n",
       "    <tr style=\"text-align: right;\">\n",
       "      <th></th>\n",
       "      <th>id</th>\n",
       "      <th>model</th>\n",
       "    </tr>\n",
       "  </thead>\n",
       "  <tbody>\n",
       "    <tr>\n",
       "      <th>0</th>\n",
       "      <td>baseline</td>\n",
       "      <td>&lt;lightgbm.basic.Booster object at 0x0000022FB2...</td>\n",
       "    </tr>\n",
       "    <tr>\n",
       "      <th>1</th>\n",
       "      <td>variant1.joblib</td>\n",
       "      <td>&lt;lightgbm.basic.Booster object at 0x0000022FB2...</td>\n",
       "    </tr>\n",
       "    <tr>\n",
       "      <th>2</th>\n",
       "      <td>variant2.joblib</td>\n",
       "      <td>&lt;lightgbm.basic.Booster object at 0x0000022FB2...</td>\n",
       "    </tr>\n",
       "    <tr>\n",
       "      <th>3</th>\n",
       "      <td>variant3.joblib</td>\n",
       "      <td>&lt;lightgbm.basic.Booster object at 0x0000022FB2...</td>\n",
       "    </tr>\n",
       "  </tbody>\n",
       "</table>\n",
       "</div>"
      ],
      "text/plain": [
       "                id                                              model\n",
       "0         baseline  <lightgbm.basic.Booster object at 0x0000022FB2...\n",
       "1  variant1.joblib  <lightgbm.basic.Booster object at 0x0000022FB2...\n",
       "2  variant2.joblib  <lightgbm.basic.Booster object at 0x0000022FB2...\n",
       "3  variant3.joblib  <lightgbm.basic.Booster object at 0x0000022FB2..."
      ]
     },
     "execution_count": 29,
     "metadata": {},
     "output_type": "execute_result"
    }
   ],
   "source": [
    "mm.model_registry"
   ]
  },
  {
   "cell_type": "code",
   "execution_count": 30,
   "metadata": {},
   "outputs": [
    {
     "name": "stdout",
     "output_type": "stream",
     "text": [
      "Model performance reference successfully updated with model registry.\n"
     ]
    }
   ],
   "source": [
    "mm.run_model_registry()"
   ]
  },
  {
   "cell_type": "markdown",
   "metadata": {},
   "source": [
    "To access the performance registry, access the metrics_df object from the initialized ModelMonitor() class/instance."
   ]
  },
  {
   "cell_type": "code",
   "execution_count": 31,
   "metadata": {},
   "outputs": [
    {
     "data": {
      "text/html": [
       "<div>\n",
       "<style scoped>\n",
       "    .dataframe tbody tr th:only-of-type {\n",
       "        vertical-align: middle;\n",
       "    }\n",
       "\n",
       "    .dataframe tbody tr th {\n",
       "        vertical-align: top;\n",
       "    }\n",
       "\n",
       "    .dataframe thead th {\n",
       "        text-align: right;\n",
       "    }\n",
       "</style>\n",
       "<table border=\"1\" class=\"dataframe\">\n",
       "  <thead>\n",
       "    <tr style=\"text-align: right;\">\n",
       "      <th></th>\n",
       "      <th>model_id</th>\n",
       "      <th>version</th>\n",
       "      <th>accuracy</th>\n",
       "      <th>balanced_accuracy</th>\n",
       "      <th>precision</th>\n",
       "      <th>averaged_precision</th>\n",
       "      <th>micro_recall</th>\n",
       "      <th>macro_recall</th>\n",
       "      <th>weighted_recall</th>\n",
       "      <th>micro_f1</th>\n",
       "      <th>macro_f1</th>\n",
       "      <th>weighted_f1</th>\n",
       "      <th>roc_auc</th>\n",
       "      <th>micro_jaccard</th>\n",
       "      <th>macro_jaccard</th>\n",
       "      <th>weighted_jaccard</th>\n",
       "      <th>log_loss</th>\n",
       "      <th>neg_brier_loss</th>\n",
       "    </tr>\n",
       "  </thead>\n",
       "  <tbody>\n",
       "    <tr>\n",
       "      <th>0</th>\n",
       "      <td>baseline</td>\n",
       "      <td>2021-12-08 16:44:03</td>\n",
       "      <td>0.889640</td>\n",
       "      <td>0.721326</td>\n",
       "      <td>0.755556</td>\n",
       "      <td>0.442376</td>\n",
       "      <td>0.889640</td>\n",
       "      <td>0.721326</td>\n",
       "      <td>0.889640</td>\n",
       "      <td>0.889640</td>\n",
       "      <td>0.758821</td>\n",
       "      <td>0.878838</td>\n",
       "      <td>0.721326</td>\n",
       "      <td>0.801217</td>\n",
       "      <td>0.645063</td>\n",
       "      <td>0.804134</td>\n",
       "      <td>3.811732</td>\n",
       "      <td>0.078129</td>\n",
       "    </tr>\n",
       "    <tr>\n",
       "      <th>1</th>\n",
       "      <td>variant1.joblib</td>\n",
       "      <td>2021-12-08 16:44:03</td>\n",
       "      <td>0.894144</td>\n",
       "      <td>0.729615</td>\n",
       "      <td>0.777778</td>\n",
       "      <td>0.461420</td>\n",
       "      <td>0.894144</td>\n",
       "      <td>0.729615</td>\n",
       "      <td>0.894144</td>\n",
       "      <td>0.894144</td>\n",
       "      <td>0.768665</td>\n",
       "      <td>0.883784</td>\n",
       "      <td>0.729615</td>\n",
       "      <td>0.808554</td>\n",
       "      <td>0.655957</td>\n",
       "      <td>0.810774</td>\n",
       "      <td>3.656150</td>\n",
       "      <td>0.078934</td>\n",
       "    </tr>\n",
       "    <tr>\n",
       "      <th>2</th>\n",
       "      <td>variant2.joblib</td>\n",
       "      <td>2021-12-08 16:44:03</td>\n",
       "      <td>0.891892</td>\n",
       "      <td>0.722670</td>\n",
       "      <td>0.772727</td>\n",
       "      <td>0.450485</td>\n",
       "      <td>0.891892</td>\n",
       "      <td>0.722670</td>\n",
       "      <td>0.891892</td>\n",
       "      <td>0.891892</td>\n",
       "      <td>0.762015</td>\n",
       "      <td>0.880805</td>\n",
       "      <td>0.722670</td>\n",
       "      <td>0.804878</td>\n",
       "      <td>0.648780</td>\n",
       "      <td>0.806987</td>\n",
       "      <td>3.733940</td>\n",
       "      <td>0.078633</td>\n",
       "    </tr>\n",
       "    <tr>\n",
       "      <th>3</th>\n",
       "      <td>variant3.joblib</td>\n",
       "      <td>2021-12-08 16:44:03</td>\n",
       "      <td>0.889640</td>\n",
       "      <td>0.726927</td>\n",
       "      <td>0.744681</td>\n",
       "      <td>0.445331</td>\n",
       "      <td>0.889640</td>\n",
       "      <td>0.726927</td>\n",
       "      <td>0.889640</td>\n",
       "      <td>0.889640</td>\n",
       "      <td>0.762258</td>\n",
       "      <td>0.879841</td>\n",
       "      <td>0.726927</td>\n",
       "      <td>0.801217</td>\n",
       "      <td>0.648431</td>\n",
       "      <td>0.805029</td>\n",
       "      <td>3.811733</td>\n",
       "      <td>0.077481</td>\n",
       "    </tr>\n",
       "  </tbody>\n",
       "</table>\n",
       "</div>"
      ],
      "text/plain": [
       "          model_id              version  accuracy  balanced_accuracy  \\\n",
       "0         baseline  2021-12-08 16:44:03  0.889640           0.721326   \n",
       "1  variant1.joblib  2021-12-08 16:44:03  0.894144           0.729615   \n",
       "2  variant2.joblib  2021-12-08 16:44:03  0.891892           0.722670   \n",
       "3  variant3.joblib  2021-12-08 16:44:03  0.889640           0.726927   \n",
       "\n",
       "   precision  averaged_precision  micro_recall  macro_recall  weighted_recall  \\\n",
       "0   0.755556            0.442376      0.889640      0.721326         0.889640   \n",
       "1   0.777778            0.461420      0.894144      0.729615         0.894144   \n",
       "2   0.772727            0.450485      0.891892      0.722670         0.891892   \n",
       "3   0.744681            0.445331      0.889640      0.726927         0.889640   \n",
       "\n",
       "   micro_f1  macro_f1  weighted_f1   roc_auc  micro_jaccard  macro_jaccard  \\\n",
       "0  0.889640  0.758821     0.878838  0.721326       0.801217       0.645063   \n",
       "1  0.894144  0.768665     0.883784  0.729615       0.808554       0.655957   \n",
       "2  0.891892  0.762015     0.880805  0.722670       0.804878       0.648780   \n",
       "3  0.889640  0.762258     0.879841  0.726927       0.801217       0.648431   \n",
       "\n",
       "   weighted_jaccard  log_loss  neg_brier_loss  \n",
       "0          0.804134  3.811732        0.078129  \n",
       "1          0.810774  3.656150        0.078934  \n",
       "2          0.806987  3.733940        0.078633  \n",
       "3          0.805029  3.811733        0.077481  "
      ]
     },
     "execution_count": 31,
     "metadata": {},
     "output_type": "execute_result"
    }
   ],
   "source": [
    "mm.metrics_df"
   ]
  },
  {
   "cell_type": "markdown",
   "metadata": {},
   "source": [
    "The dataframe presented above contains all of the watched information for each variant.\n",
    "\n",
    "The metrics dataframe can show less variants than expected due to very similar results. The model monitor always eliminates duplication of information and keeps the first registered model - the original variant - associated to each model monitor version."
   ]
  },
  {
   "cell_type": "markdown",
   "metadata": {},
   "source": [
    "## Selecting the best model\n",
    "\n",
    "It's then convenient, from all of the gathered metrics, select the best model. The model monitor can do so automatically with a default scoring system which weights all mapped metrics equaly."
   ]
  },
  {
   "cell_type": "code",
   "execution_count": 32,
   "metadata": {},
   "outputs": [
    {
     "data": {
      "text/plain": [
       "'variant1.joblib'"
      ]
     },
     "execution_count": 32,
     "metadata": {},
     "output_type": "execute_result"
    }
   ],
   "source": [
    "mm.select_best_model()"
   ]
  },
  {
   "cell_type": "markdown",
   "metadata": {},
   "source": [
    "The best model with the default scoring system is presented. In some situations, however, some metrics are more important than others and the data scientist should have the freedom to modify the scoring system. Guara's model monitor empowers developers to freely change or adapt the scoring system as shown in the next cells."
   ]
  },
  {
   "cell_type": "markdown",
   "metadata": {},
   "source": [
    "## Changing metrics to be used in selection\n",
    "\n",
    "Applications might require specific metric mapping/scoring. To account for these situations, we can select the metrics and their respective weights using the metrics_score_basis object from the initialized ModelMonitor() class/instance:"
   ]
  },
  {
   "cell_type": "code",
   "execution_count": 33,
   "metadata": {},
   "outputs": [
    {
     "data": {
      "text/plain": [
       "{'accuracy': [<function _operator.ge(a, b, /)>, 1],\n",
       " 'balanced_accuracy': [<function _operator.ge(a, b, /)>, 1],\n",
       " 'precision': [<function _operator.ge(a, b, /)>, 1],\n",
       " 'averaged_precision': [<function _operator.ge(a, b, /)>, 1],\n",
       " 'micro_recall': [<function _operator.ge(a, b, /)>, 1],\n",
       " 'macro_recall': [<function _operator.ge(a, b, /)>, 1],\n",
       " 'weighted_recall': [<function _operator.ge(a, b, /)>, 1],\n",
       " 'micro_f1': [<function _operator.ge(a, b, /)>, 1],\n",
       " 'macro_f1': [<function _operator.ge(a, b, /)>, 1],\n",
       " 'weighted_f1': [<function _operator.ge(a, b, /)>, 1],\n",
       " 'roc_auc': [<function _operator.ge(a, b, /)>, 1],\n",
       " 'micro_jaccard': [<function _operator.ge(a, b, /)>, 1],\n",
       " 'macro_jaccard': [<function _operator.ge(a, b, /)>, 1],\n",
       " 'weighted_jaccard': [<function _operator.ge(a, b, /)>, 1],\n",
       " 'log_loss': [<function _operator.le(a, b, /)>, 1],\n",
       " 'neg_brier_loss': [<function _operator.le(a, b, /)>, 1]}"
      ]
     },
     "execution_count": 33,
     "metadata": {},
     "output_type": "execute_result"
    }
   ],
   "source": [
    "mm.metrics_score_basis"
   ]
  },
  {
   "cell_type": "markdown",
   "metadata": {},
   "source": [
    "The user can access the descriptions of each metric and, from the descriptions presented, adjust the scoring system or even select the metrics that should be used in the model monitor."
   ]
  },
  {
   "cell_type": "code",
   "execution_count": 34,
   "metadata": {},
   "outputs": [
    {
     "name": "stdout",
     "output_type": "stream",
     "text": [
      "accuracy\n",
      "In multilabel classification, this function computes subset accuracy:\n",
      "The set of labels predicted for a sample must exactly match the corresponding set of labels in y_true.\n",
      "In binary classification, this function is equal to the jaccard_score function.\n",
      "\n",
      "balanced_accuracy: The balanced accuracy in binary and multiclass classification problems to deal with imbalanced datasets.\n",
      "It is defined as the average of recall obtained on each class.\n",
      "------------------------------------------------------------\n",
      "precision\n",
      "The precision is the ratio tp / (tp + fp) where tp is the number of true positives and fp the number of false positives.\n",
      "The precision is intuitively the ability of the classifier not to label as positive a sample that is negative. The best value is 1 and the worst value is 0.\n",
      "\n",
      "averaged_precision: Compute average precision (AP) from prediction scores.\n",
      "AP summarizes a precision-recall curve as the weighted mean of precisions achieved at each threshold, with the increase in recall from the previous threshold used as the weight\n",
      "------------------------------------------------------------\n",
      "recall\n",
      "The recall is the ratio tp / (tp + fn) where tp is the number of true positives and fn the number of false negatives.\n",
      "The recall is intuitively the ability of the classifier to find all the positive samples.\n",
      "\n",
      "micro_recall: Calculate metrics globally by counting the total true positives, false negatives and false positives.\n",
      "macro_recall: Calculate metrics for each label, and find their unweighted mean. This does not take label imbalance into account.\n",
      "weighted_recall: Calculate metrics for each label, and find their average weighted by support (the number of true instances for each label).\n",
      "------------------------------------------------------------\n",
      "f1_score\n",
      "The F1 score can be interpreted as a harmonic mean of the precision and recall, where an F1 score reaches its best value at 1 and worst score at 0.\n",
      "\n",
      "micro_f1: Calculate metrics globally by counting the total true positives, false negatives and false positives.\n",
      "macro_f1: Calculate metrics for each label, and find their unweighted mean. This does not take label imbalance into account.\n",
      "weighted_f1: Calculate metrics for each label, and find their average weighted by support (the number of true instances for each label).\n",
      "------------------------------------------------------------\n",
      "roc_auc\n",
      "Compute Area Under the Receiver Operating Characteristic Curve (ROC AUC) from prediction scores\n",
      "------------------------------------------------------------\n",
      "jaccard_score\n",
      "The Jaccard index, or Jaccard similarity coefficient, defined as the size of the intersection divided by the size of the union of two label sets.\n",
      "It's used to compare set of predicted labels for a sample to the corresponding set of labels in y_true.\n",
      "\n",
      "micro_jaccard: Calculate metrics globally by counting the total true positives, false negatives and false positives.\n",
      "macro_jaccard: Calculate metrics for each label, and find their unweighted mean. This does not take label imbalance into account.\n",
      "weighted_jaccard: Calculate metrics for each label, and find their average, weighted by support (the number of true instances for each label).\n",
      "------------------------------------------------------------\n",
      "log_loss\n",
      "This is the loss function used in (multinomial) logistic regression and extensions of it such as neural networks.\n",
      "Defined as the negative log-likelihood of a logistic model that returns y_pred probabilities for its training data y_true.\n",
      "------------------------------------------------------------\n",
      "neg_brier_loss\n",
      "The smaller the Brier score loss, the better, hence the naming with “loss”.\n",
      "The Brier score measures the mean squared difference between the predicted probability and the actual outcome.\n",
      "------------------------------------------------------------\n"
     ]
    }
   ],
   "source": [
    "mm.describe_metrics()"
   ]
  },
  {
   "cell_type": "markdown",
   "metadata": {},
   "source": [
    "Updating the metrics score system - improve weights for 'macro_recall' and 'macro_f1' metrics:"
   ]
  },
  {
   "cell_type": "code",
   "execution_count": 35,
   "metadata": {},
   "outputs": [
    {
     "data": {
      "text/plain": [
       "{'accuracy': [<function _operator.ge(a, b, /)>, 1],\n",
       " 'balanced_accuracy': [<function _operator.ge(a, b, /)>, 1],\n",
       " 'precision': [<function _operator.ge(a, b, /)>, 1],\n",
       " 'averaged_precision': [<function _operator.ge(a, b, /)>, 1],\n",
       " 'micro_recall': [<function _operator.ge(a, b, /)>, 1],\n",
       " 'macro_recall': [<function _operator.ge(a, b, /)>, 8],\n",
       " 'weighted_recall': [<function _operator.ge(a, b, /)>, 1],\n",
       " 'micro_f1': [<function _operator.ge(a, b, /)>, 1],\n",
       " 'macro_f1': [<function _operator.ge(a, b, /)>, 5],\n",
       " 'weighted_f1': [<function _operator.ge(a, b, /)>, 1],\n",
       " 'roc_auc': [<function _operator.ge(a, b, /)>, 1],\n",
       " 'micro_jaccard': [<function _operator.ge(a, b, /)>, 1],\n",
       " 'macro_jaccard': [<function _operator.ge(a, b, /)>, 1],\n",
       " 'weighted_jaccard': [<function _operator.ge(a, b, /)>, 1],\n",
       " 'log_loss': [<function _operator.le(a, b, /)>, 1],\n",
       " 'neg_brier_loss': [<function _operator.le(a, b, /)>, 1]}"
      ]
     },
     "execution_count": 35,
     "metadata": {},
     "output_type": "execute_result"
    }
   ],
   "source": [
    "mm.metrics_score_basis['macro_recall'][1] = 8\n",
    "mm.metrics_score_basis['macro_f1'][1] = 5\n",
    "mm.metrics_score_basis"
   ]
  },
  {
   "cell_type": "code",
   "execution_count": 36,
   "metadata": {},
   "outputs": [
    {
     "data": {
      "text/plain": [
       "'variant1.joblib'"
      ]
     },
     "execution_count": 36,
     "metadata": {},
     "output_type": "execute_result"
    }
   ],
   "source": [
    "mm.select_best_model()"
   ]
  },
  {
   "cell_type": "markdown",
   "metadata": {},
   "source": [
    "As the selected variant was superior to the other variants in numerous criteria, including the ones for which we improved the weights, it was again selected as the best variant. This changes in the weight system will, in some cases, result in changes in the variant selection, so this weight modification should be done carefully considering the business needs."
   ]
  },
  {
   "cell_type": "markdown",
   "metadata": {},
   "source": [
    "## Filtering metrics to be used in model selection\n",
    "\n",
    "It's also convenient to control/select the metrics that are going to be used in the model performance monitoring module."
   ]
  },
  {
   "cell_type": "code",
   "execution_count": 37,
   "metadata": {},
   "outputs": [
    {
     "data": {
      "text/plain": [
       "{'accuracy': [<function _operator.ge(a, b, /)>, 1],\n",
       " 'balanced_accuracy': [<function _operator.ge(a, b, /)>, 1],\n",
       " 'precision': [<function _operator.ge(a, b, /)>, 1],\n",
       " 'averaged_precision': [<function _operator.ge(a, b, /)>, 1],\n",
       " 'micro_recall': [<function _operator.ge(a, b, /)>, 1],\n",
       " 'macro_recall': [<function _operator.ge(a, b, /)>, 1],\n",
       " 'weighted_recall': [<function _operator.ge(a, b, /)>, 1],\n",
       " 'micro_f1': [<function _operator.ge(a, b, /)>, 1],\n",
       " 'macro_f1': [<function _operator.ge(a, b, /)>, 1],\n",
       " 'weighted_f1': [<function _operator.ge(a, b, /)>, 1],\n",
       " 'roc_auc': [<function _operator.ge(a, b, /)>, 1],\n",
       " 'micro_jaccard': [<function _operator.ge(a, b, /)>, 1],\n",
       " 'macro_jaccard': [<function _operator.ge(a, b, /)>, 1],\n",
       " 'weighted_jaccard': [<function _operator.ge(a, b, /)>, 1],\n",
       " 'log_loss': [<function _operator.le(a, b, /)>, 1],\n",
       " 'neg_brier_loss': [<function _operator.le(a, b, /)>, 1]}"
      ]
     },
     "execution_count": 37,
     "metadata": {},
     "output_type": "execute_result"
    }
   ],
   "source": [
    "mm.metrics_score_basis['macro_recall'][1] = 1\n",
    "mm.metrics_score_basis['macro_f1'][1] = 1\n",
    "mm.metrics_score_basis"
   ]
  },
  {
   "cell_type": "code",
   "execution_count": 38,
   "metadata": {},
   "outputs": [
    {
     "name": "stdout",
     "output_type": "stream",
     "text": [
      "Updated performance monitor metrics to: \n",
      " ['macro_recall', 'macro_f1']\n"
     ]
    }
   ],
   "source": [
    "mm.select_metrics(metric_list=['macro_recall','macro_f1'])"
   ]
  },
  {
   "cell_type": "code",
   "execution_count": 39,
   "metadata": {},
   "outputs": [],
   "source": [
    "selected_vnt = mm.select_best_model()"
   ]
  },
  {
   "cell_type": "markdown",
   "metadata": {},
   "source": [
    "## Update performance baseline with best model"
   ]
  },
  {
   "cell_type": "code",
   "execution_count": 40,
   "metadata": {},
   "outputs": [
    {
     "name": "stdout",
     "output_type": "stream",
     "text": [
      "Updated model registry baseline to version  variant1.joblib\n",
      "Updated metrics baseline to version  variant1.joblib\n"
     ]
    },
    {
     "name": "stderr",
     "output_type": "stream",
     "text": [
      "\n",
      "A value is trying to be set on a copy of a slice from a DataFrame\n",
      "\n",
      "See the caveats in the documentation: https://pandas.pydata.org/pandas-docs/stable/user_guide/indexing.html#returning-a-view-versus-a-copy\n"
     ]
    }
   ],
   "source": [
    "mm.update_baseline_model(model_id=selected_vnt)"
   ]
  },
  {
   "cell_type": "code",
   "execution_count": 41,
   "metadata": {},
   "outputs": [
    {
     "data": {
      "text/html": [
       "<div>\n",
       "<style scoped>\n",
       "    .dataframe tbody tr th:only-of-type {\n",
       "        vertical-align: middle;\n",
       "    }\n",
       "\n",
       "    .dataframe tbody tr th {\n",
       "        vertical-align: top;\n",
       "    }\n",
       "\n",
       "    .dataframe thead th {\n",
       "        text-align: right;\n",
       "    }\n",
       "</style>\n",
       "<table border=\"1\" class=\"dataframe\">\n",
       "  <thead>\n",
       "    <tr style=\"text-align: right;\">\n",
       "      <th></th>\n",
       "      <th>model_id</th>\n",
       "      <th>version</th>\n",
       "      <th>accuracy</th>\n",
       "      <th>balanced_accuracy</th>\n",
       "      <th>precision</th>\n",
       "      <th>averaged_precision</th>\n",
       "      <th>micro_recall</th>\n",
       "      <th>macro_recall</th>\n",
       "      <th>weighted_recall</th>\n",
       "      <th>micro_f1</th>\n",
       "      <th>macro_f1</th>\n",
       "      <th>weighted_f1</th>\n",
       "      <th>roc_auc</th>\n",
       "      <th>micro_jaccard</th>\n",
       "      <th>macro_jaccard</th>\n",
       "      <th>weighted_jaccard</th>\n",
       "      <th>log_loss</th>\n",
       "      <th>neg_brier_loss</th>\n",
       "    </tr>\n",
       "  </thead>\n",
       "  <tbody>\n",
       "    <tr>\n",
       "      <th>0</th>\n",
       "      <td>2021-12-08 16:44:03</td>\n",
       "      <td>2021-12-08 16:44:03</td>\n",
       "      <td>0.889640</td>\n",
       "      <td>0.721326</td>\n",
       "      <td>0.755556</td>\n",
       "      <td>0.442376</td>\n",
       "      <td>0.889640</td>\n",
       "      <td>0.721326</td>\n",
       "      <td>0.889640</td>\n",
       "      <td>0.889640</td>\n",
       "      <td>0.758821</td>\n",
       "      <td>0.878838</td>\n",
       "      <td>0.721326</td>\n",
       "      <td>0.801217</td>\n",
       "      <td>0.645063</td>\n",
       "      <td>0.804134</td>\n",
       "      <td>3.811732</td>\n",
       "      <td>0.078129</td>\n",
       "    </tr>\n",
       "    <tr>\n",
       "      <th>1</th>\n",
       "      <td>baseline</td>\n",
       "      <td>2021-12-08 16:44:03</td>\n",
       "      <td>0.894144</td>\n",
       "      <td>0.729615</td>\n",
       "      <td>0.777778</td>\n",
       "      <td>0.461420</td>\n",
       "      <td>0.894144</td>\n",
       "      <td>0.729615</td>\n",
       "      <td>0.894144</td>\n",
       "      <td>0.894144</td>\n",
       "      <td>0.768665</td>\n",
       "      <td>0.883784</td>\n",
       "      <td>0.729615</td>\n",
       "      <td>0.808554</td>\n",
       "      <td>0.655957</td>\n",
       "      <td>0.810774</td>\n",
       "      <td>3.656150</td>\n",
       "      <td>0.078934</td>\n",
       "    </tr>\n",
       "    <tr>\n",
       "      <th>2</th>\n",
       "      <td>variant2.joblib</td>\n",
       "      <td>2021-12-08 16:44:03</td>\n",
       "      <td>0.891892</td>\n",
       "      <td>0.722670</td>\n",
       "      <td>0.772727</td>\n",
       "      <td>0.450485</td>\n",
       "      <td>0.891892</td>\n",
       "      <td>0.722670</td>\n",
       "      <td>0.891892</td>\n",
       "      <td>0.891892</td>\n",
       "      <td>0.762015</td>\n",
       "      <td>0.880805</td>\n",
       "      <td>0.722670</td>\n",
       "      <td>0.804878</td>\n",
       "      <td>0.648780</td>\n",
       "      <td>0.806987</td>\n",
       "      <td>3.733940</td>\n",
       "      <td>0.078633</td>\n",
       "    </tr>\n",
       "    <tr>\n",
       "      <th>3</th>\n",
       "      <td>variant3.joblib</td>\n",
       "      <td>2021-12-08 16:44:03</td>\n",
       "      <td>0.889640</td>\n",
       "      <td>0.726927</td>\n",
       "      <td>0.744681</td>\n",
       "      <td>0.445331</td>\n",
       "      <td>0.889640</td>\n",
       "      <td>0.726927</td>\n",
       "      <td>0.889640</td>\n",
       "      <td>0.889640</td>\n",
       "      <td>0.762258</td>\n",
       "      <td>0.879841</td>\n",
       "      <td>0.726927</td>\n",
       "      <td>0.801217</td>\n",
       "      <td>0.648431</td>\n",
       "      <td>0.805029</td>\n",
       "      <td>3.811733</td>\n",
       "      <td>0.077481</td>\n",
       "    </tr>\n",
       "  </tbody>\n",
       "</table>\n",
       "</div>"
      ],
      "text/plain": [
       "              model_id              version  accuracy  balanced_accuracy  \\\n",
       "0  2021-12-08 16:44:03  2021-12-08 16:44:03  0.889640           0.721326   \n",
       "1             baseline  2021-12-08 16:44:03  0.894144           0.729615   \n",
       "2      variant2.joblib  2021-12-08 16:44:03  0.891892           0.722670   \n",
       "3      variant3.joblib  2021-12-08 16:44:03  0.889640           0.726927   \n",
       "\n",
       "   precision  averaged_precision  micro_recall  macro_recall  weighted_recall  \\\n",
       "0   0.755556            0.442376      0.889640      0.721326         0.889640   \n",
       "1   0.777778            0.461420      0.894144      0.729615         0.894144   \n",
       "2   0.772727            0.450485      0.891892      0.722670         0.891892   \n",
       "3   0.744681            0.445331      0.889640      0.726927         0.889640   \n",
       "\n",
       "   micro_f1  macro_f1  weighted_f1   roc_auc  micro_jaccard  macro_jaccard  \\\n",
       "0  0.889640  0.758821     0.878838  0.721326       0.801217       0.645063   \n",
       "1  0.894144  0.768665     0.883784  0.729615       0.808554       0.655957   \n",
       "2  0.891892  0.762015     0.880805  0.722670       0.804878       0.648780   \n",
       "3  0.889640  0.762258     0.879841  0.726927       0.801217       0.648431   \n",
       "\n",
       "   weighted_jaccard  log_loss  neg_brier_loss  \n",
       "0          0.804134  3.811732        0.078129  \n",
       "1          0.810774  3.656150        0.078934  \n",
       "2          0.806987  3.733940        0.078633  \n",
       "3          0.805029  3.811733        0.077481  "
      ]
     },
     "execution_count": 41,
     "metadata": {},
     "output_type": "execute_result"
    }
   ],
   "source": [
    "mm.metrics_df"
   ]
  },
  {
   "cell_type": "markdown",
   "metadata": {},
   "source": [
    "The updated metrics dataframe now has the variant 2 as the new baseline."
   ]
  },
  {
   "cell_type": "markdown",
   "metadata": {},
   "source": [
    "## Update baseline data\n",
    "\n",
    "As the production model is consumed, changes can occurr to the data acquisition and preparation processes. Distribution and conceptual shifts can also occurr. To keep track of these changes, it is very convenient to update the baseline data, with which the variants are tested and compared to the baseline. Even the baseline itself should constantly be confronted to the new data.\n",
    "\n",
    "To update the baseline data, use the ModelMonitor().create_data_baseline function with the new data as features and target arguments. \n",
    "\n",
    "This process ultimately will create new versions in the model registry. The model registry can then be executed over this new dataset and the best variant can be securely selected according to the data and conceptual changes. "
   ]
  },
  {
   "cell_type": "code",
   "execution_count": 42,
   "metadata": {},
   "outputs": [
    {
     "name": "stdout",
     "output_type": "stream",
     "text": [
      "Model performance reference successfully updated with model registry.\n"
     ]
    }
   ],
   "source": [
    "mm.create_data_baseline(X=Xtrain, Y=ytrain, update_metrics=True)"
   ]
  },
  {
   "cell_type": "code",
   "execution_count": 43,
   "metadata": {},
   "outputs": [
    {
     "data": {
      "text/html": [
       "<div>\n",
       "<style scoped>\n",
       "    .dataframe tbody tr th:only-of-type {\n",
       "        vertical-align: middle;\n",
       "    }\n",
       "\n",
       "    .dataframe tbody tr th {\n",
       "        vertical-align: top;\n",
       "    }\n",
       "\n",
       "    .dataframe thead th {\n",
       "        text-align: right;\n",
       "    }\n",
       "</style>\n",
       "<table border=\"1\" class=\"dataframe\">\n",
       "  <thead>\n",
       "    <tr style=\"text-align: right;\">\n",
       "      <th></th>\n",
       "      <th>model_id</th>\n",
       "      <th>version</th>\n",
       "      <th>accuracy</th>\n",
       "      <th>balanced_accuracy</th>\n",
       "      <th>precision</th>\n",
       "      <th>averaged_precision</th>\n",
       "      <th>micro_recall</th>\n",
       "      <th>macro_recall</th>\n",
       "      <th>weighted_recall</th>\n",
       "      <th>micro_f1</th>\n",
       "      <th>macro_f1</th>\n",
       "      <th>weighted_f1</th>\n",
       "      <th>roc_auc</th>\n",
       "      <th>micro_jaccard</th>\n",
       "      <th>macro_jaccard</th>\n",
       "      <th>weighted_jaccard</th>\n",
       "      <th>log_loss</th>\n",
       "      <th>neg_brier_loss</th>\n",
       "    </tr>\n",
       "  </thead>\n",
       "  <tbody>\n",
       "    <tr>\n",
       "      <th>0</th>\n",
       "      <td>2021-12-08 16:44:03</td>\n",
       "      <td>2021-12-08 16:44:03</td>\n",
       "      <td>0.889640</td>\n",
       "      <td>0.721326</td>\n",
       "      <td>0.755556</td>\n",
       "      <td>0.442376</td>\n",
       "      <td>0.889640</td>\n",
       "      <td>0.721326</td>\n",
       "      <td>0.889640</td>\n",
       "      <td>0.889640</td>\n",
       "      <td>0.758821</td>\n",
       "      <td>0.878838</td>\n",
       "      <td>0.721326</td>\n",
       "      <td>0.801217</td>\n",
       "      <td>0.645063</td>\n",
       "      <td>0.804134</td>\n",
       "      <td>3.811732</td>\n",
       "      <td>0.078129</td>\n",
       "    </tr>\n",
       "    <tr>\n",
       "      <th>1</th>\n",
       "      <td>baseline</td>\n",
       "      <td>2021-12-08 16:44:03</td>\n",
       "      <td>0.894144</td>\n",
       "      <td>0.729615</td>\n",
       "      <td>0.777778</td>\n",
       "      <td>0.461420</td>\n",
       "      <td>0.894144</td>\n",
       "      <td>0.729615</td>\n",
       "      <td>0.894144</td>\n",
       "      <td>0.894144</td>\n",
       "      <td>0.768665</td>\n",
       "      <td>0.883784</td>\n",
       "      <td>0.729615</td>\n",
       "      <td>0.808554</td>\n",
       "      <td>0.655957</td>\n",
       "      <td>0.810774</td>\n",
       "      <td>3.656150</td>\n",
       "      <td>0.078934</td>\n",
       "    </tr>\n",
       "    <tr>\n",
       "      <th>2</th>\n",
       "      <td>variant2.joblib</td>\n",
       "      <td>2021-12-08 16:44:03</td>\n",
       "      <td>0.891892</td>\n",
       "      <td>0.722670</td>\n",
       "      <td>0.772727</td>\n",
       "      <td>0.450485</td>\n",
       "      <td>0.891892</td>\n",
       "      <td>0.722670</td>\n",
       "      <td>0.891892</td>\n",
       "      <td>0.891892</td>\n",
       "      <td>0.762015</td>\n",
       "      <td>0.880805</td>\n",
       "      <td>0.722670</td>\n",
       "      <td>0.804878</td>\n",
       "      <td>0.648780</td>\n",
       "      <td>0.806987</td>\n",
       "      <td>3.733940</td>\n",
       "      <td>0.078633</td>\n",
       "    </tr>\n",
       "    <tr>\n",
       "      <th>3</th>\n",
       "      <td>variant3.joblib</td>\n",
       "      <td>2021-12-08 16:44:03</td>\n",
       "      <td>0.889640</td>\n",
       "      <td>0.726927</td>\n",
       "      <td>0.744681</td>\n",
       "      <td>0.445331</td>\n",
       "      <td>0.889640</td>\n",
       "      <td>0.726927</td>\n",
       "      <td>0.889640</td>\n",
       "      <td>0.889640</td>\n",
       "      <td>0.762258</td>\n",
       "      <td>0.879841</td>\n",
       "      <td>0.726927</td>\n",
       "      <td>0.801217</td>\n",
       "      <td>0.648431</td>\n",
       "      <td>0.805029</td>\n",
       "      <td>3.811733</td>\n",
       "      <td>0.077481</td>\n",
       "    </tr>\n",
       "    <tr>\n",
       "      <th>4</th>\n",
       "      <td>2021-12-08 16:44:03</td>\n",
       "      <td>2021-12-08 16:44:23</td>\n",
       "      <td>0.971783</td>\n",
       "      <td>0.913723</td>\n",
       "      <td>0.973094</td>\n",
       "      <td>0.833878</td>\n",
       "      <td>0.971783</td>\n",
       "      <td>0.913723</td>\n",
       "      <td>0.971783</td>\n",
       "      <td>0.971783</td>\n",
       "      <td>0.940177</td>\n",
       "      <td>0.970851</td>\n",
       "      <td>0.913723</td>\n",
       "      <td>0.945115</td>\n",
       "      <td>0.890290</td>\n",
       "      <td>0.944999</td>\n",
       "      <td>0.974573</td>\n",
       "      <td>0.027094</td>\n",
       "    </tr>\n",
       "    <tr>\n",
       "      <th>5</th>\n",
       "      <td>baseline</td>\n",
       "      <td>2021-12-08 16:44:23</td>\n",
       "      <td>0.971219</td>\n",
       "      <td>0.911808</td>\n",
       "      <td>0.972973</td>\n",
       "      <td>0.830614</td>\n",
       "      <td>0.971219</td>\n",
       "      <td>0.911808</td>\n",
       "      <td>0.971219</td>\n",
       "      <td>0.971219</td>\n",
       "      <td>0.938874</td>\n",
       "      <td>0.970240</td>\n",
       "      <td>0.911808</td>\n",
       "      <td>0.944048</td>\n",
       "      <td>0.888106</td>\n",
       "      <td>0.943917</td>\n",
       "      <td>0.994065</td>\n",
       "      <td>0.027725</td>\n",
       "    </tr>\n",
       "    <tr>\n",
       "      <th>6</th>\n",
       "      <td>variant2.joblib</td>\n",
       "      <td>2021-12-08 16:44:23</td>\n",
       "      <td>0.968397</td>\n",
       "      <td>0.903814</td>\n",
       "      <td>0.968037</td>\n",
       "      <td>0.813950</td>\n",
       "      <td>0.968397</td>\n",
       "      <td>0.903814</td>\n",
       "      <td>0.968397</td>\n",
       "      <td>0.968397</td>\n",
       "      <td>0.932528</td>\n",
       "      <td>0.967231</td>\n",
       "      <td>0.903814</td>\n",
       "      <td>0.938731</td>\n",
       "      <td>0.877574</td>\n",
       "      <td>0.938613</td>\n",
       "      <td>1.091522</td>\n",
       "      <td>0.028765</td>\n",
       "    </tr>\n",
       "    <tr>\n",
       "      <th>7</th>\n",
       "      <td>variant3.joblib</td>\n",
       "      <td>2021-12-08 16:44:23</td>\n",
       "      <td>0.959932</td>\n",
       "      <td>0.876663</td>\n",
       "      <td>0.961165</td>\n",
       "      <td>0.764713</td>\n",
       "      <td>0.959932</td>\n",
       "      <td>0.876663</td>\n",
       "      <td>0.959932</td>\n",
       "      <td>0.959932</td>\n",
       "      <td>0.912446</td>\n",
       "      <td>0.957931</td>\n",
       "      <td>0.876663</td>\n",
       "      <td>0.922952</td>\n",
       "      <td>0.845476</td>\n",
       "      <td>0.922660</td>\n",
       "      <td>1.383894</td>\n",
       "      <td>0.032696</td>\n",
       "    </tr>\n",
       "  </tbody>\n",
       "</table>\n",
       "</div>"
      ],
      "text/plain": [
       "              model_id              version  accuracy  balanced_accuracy  \\\n",
       "0  2021-12-08 16:44:03  2021-12-08 16:44:03  0.889640           0.721326   \n",
       "1             baseline  2021-12-08 16:44:03  0.894144           0.729615   \n",
       "2      variant2.joblib  2021-12-08 16:44:03  0.891892           0.722670   \n",
       "3      variant3.joblib  2021-12-08 16:44:03  0.889640           0.726927   \n",
       "4  2021-12-08 16:44:03  2021-12-08 16:44:23  0.971783           0.913723   \n",
       "5             baseline  2021-12-08 16:44:23  0.971219           0.911808   \n",
       "6      variant2.joblib  2021-12-08 16:44:23  0.968397           0.903814   \n",
       "7      variant3.joblib  2021-12-08 16:44:23  0.959932           0.876663   \n",
       "\n",
       "   precision  averaged_precision  micro_recall  macro_recall  weighted_recall  \\\n",
       "0   0.755556            0.442376      0.889640      0.721326         0.889640   \n",
       "1   0.777778            0.461420      0.894144      0.729615         0.894144   \n",
       "2   0.772727            0.450485      0.891892      0.722670         0.891892   \n",
       "3   0.744681            0.445331      0.889640      0.726927         0.889640   \n",
       "4   0.973094            0.833878      0.971783      0.913723         0.971783   \n",
       "5   0.972973            0.830614      0.971219      0.911808         0.971219   \n",
       "6   0.968037            0.813950      0.968397      0.903814         0.968397   \n",
       "7   0.961165            0.764713      0.959932      0.876663         0.959932   \n",
       "\n",
       "   micro_f1  macro_f1  weighted_f1   roc_auc  micro_jaccard  macro_jaccard  \\\n",
       "0  0.889640  0.758821     0.878838  0.721326       0.801217       0.645063   \n",
       "1  0.894144  0.768665     0.883784  0.729615       0.808554       0.655957   \n",
       "2  0.891892  0.762015     0.880805  0.722670       0.804878       0.648780   \n",
       "3  0.889640  0.762258     0.879841  0.726927       0.801217       0.648431   \n",
       "4  0.971783  0.940177     0.970851  0.913723       0.945115       0.890290   \n",
       "5  0.971219  0.938874     0.970240  0.911808       0.944048       0.888106   \n",
       "6  0.968397  0.932528     0.967231  0.903814       0.938731       0.877574   \n",
       "7  0.959932  0.912446     0.957931  0.876663       0.922952       0.845476   \n",
       "\n",
       "   weighted_jaccard  log_loss  neg_brier_loss  \n",
       "0          0.804134  3.811732        0.078129  \n",
       "1          0.810774  3.656150        0.078934  \n",
       "2          0.806987  3.733940        0.078633  \n",
       "3          0.805029  3.811733        0.077481  \n",
       "4          0.944999  0.974573        0.027094  \n",
       "5          0.943917  0.994065        0.027725  \n",
       "6          0.938613  1.091522        0.028765  \n",
       "7          0.922660  1.383894        0.032696  "
      ]
     },
     "execution_count": 43,
     "metadata": {},
     "output_type": "execute_result"
    }
   ],
   "source": [
    "mm.metrics_df"
   ]
  },
  {
   "cell_type": "code",
   "execution_count": 44,
   "metadata": {},
   "outputs": [
    {
     "name": "stdout",
     "output_type": "stream",
     "text": [
      "Updated performance monitor metrics to: \n",
      " ['accuracy', 'precision']\n"
     ]
    }
   ],
   "source": [
    "mm.select_metrics(metric_list=['accuracy','precision'])"
   ]
  },
  {
   "cell_type": "markdown",
   "metadata": {},
   "source": [
    "We can observe on the version column that a new version is now listed. The model selection takes an argument that allows the user to choose upon which version the monitor should select - mm.select_best_model(version='label') - and if the function is called without a version argument, it automatically selects the latest version."
   ]
  },
  {
   "cell_type": "code",
   "execution_count": 45,
   "metadata": {},
   "outputs": [
    {
     "data": {
      "text/plain": [
       "'2021-12-08 16:44:03'"
      ]
     },
     "execution_count": 45,
     "metadata": {},
     "output_type": "execute_result"
    }
   ],
   "source": [
    "mm.select_best_model()"
   ]
  },
  {
   "cell_type": "markdown",
   "metadata": {},
   "source": [
    "As the new version's baseline data is the training data, it's expected to have the original baseline as the best model."
   ]
  },
  {
   "cell_type": "code",
   "execution_count": 46,
   "metadata": {},
   "outputs": [
    {
     "name": "stdout",
     "output_type": "stream",
     "text": [
      "Updated model registry baseline to version  2021-12-08 16:44:03\n",
      "Updated metrics baseline to version  2021-12-08 16:44:03\n"
     ]
    },
    {
     "name": "stderr",
     "output_type": "stream",
     "text": [
      "\n",
      "A value is trying to be set on a copy of a slice from a DataFrame\n",
      "\n",
      "See the caveats in the documentation: https://pandas.pydata.org/pandas-docs/stable/user_guide/indexing.html#returning-a-view-versus-a-copy\n"
     ]
    }
   ],
   "source": [
    "mm.update_baseline_model()"
   ]
  },
  {
   "cell_type": "code",
   "execution_count": 47,
   "metadata": {},
   "outputs": [
    {
     "data": {
      "text/html": [
       "<div>\n",
       "<style scoped>\n",
       "    .dataframe tbody tr th:only-of-type {\n",
       "        vertical-align: middle;\n",
       "    }\n",
       "\n",
       "    .dataframe tbody tr th {\n",
       "        vertical-align: top;\n",
       "    }\n",
       "\n",
       "    .dataframe thead th {\n",
       "        text-align: right;\n",
       "    }\n",
       "</style>\n",
       "<table border=\"1\" class=\"dataframe\">\n",
       "  <thead>\n",
       "    <tr style=\"text-align: right;\">\n",
       "      <th></th>\n",
       "      <th>model_id</th>\n",
       "      <th>version</th>\n",
       "      <th>accuracy</th>\n",
       "      <th>balanced_accuracy</th>\n",
       "      <th>precision</th>\n",
       "      <th>averaged_precision</th>\n",
       "      <th>micro_recall</th>\n",
       "      <th>macro_recall</th>\n",
       "      <th>weighted_recall</th>\n",
       "      <th>micro_f1</th>\n",
       "      <th>macro_f1</th>\n",
       "      <th>weighted_f1</th>\n",
       "      <th>roc_auc</th>\n",
       "      <th>micro_jaccard</th>\n",
       "      <th>macro_jaccard</th>\n",
       "      <th>weighted_jaccard</th>\n",
       "      <th>log_loss</th>\n",
       "      <th>neg_brier_loss</th>\n",
       "    </tr>\n",
       "  </thead>\n",
       "  <tbody>\n",
       "    <tr>\n",
       "      <th>0</th>\n",
       "      <td>baseline</td>\n",
       "      <td>2021-12-08 16:44:03</td>\n",
       "      <td>0.889640</td>\n",
       "      <td>0.721326</td>\n",
       "      <td>0.755556</td>\n",
       "      <td>0.442376</td>\n",
       "      <td>0.889640</td>\n",
       "      <td>0.721326</td>\n",
       "      <td>0.889640</td>\n",
       "      <td>0.889640</td>\n",
       "      <td>0.758821</td>\n",
       "      <td>0.878838</td>\n",
       "      <td>0.721326</td>\n",
       "      <td>0.801217</td>\n",
       "      <td>0.645063</td>\n",
       "      <td>0.804134</td>\n",
       "      <td>3.811732</td>\n",
       "      <td>0.078129</td>\n",
       "    </tr>\n",
       "    <tr>\n",
       "      <th>1</th>\n",
       "      <td>2021-12-08 16:44:23</td>\n",
       "      <td>2021-12-08 16:44:03</td>\n",
       "      <td>0.894144</td>\n",
       "      <td>0.729615</td>\n",
       "      <td>0.777778</td>\n",
       "      <td>0.461420</td>\n",
       "      <td>0.894144</td>\n",
       "      <td>0.729615</td>\n",
       "      <td>0.894144</td>\n",
       "      <td>0.894144</td>\n",
       "      <td>0.768665</td>\n",
       "      <td>0.883784</td>\n",
       "      <td>0.729615</td>\n",
       "      <td>0.808554</td>\n",
       "      <td>0.655957</td>\n",
       "      <td>0.810774</td>\n",
       "      <td>3.656150</td>\n",
       "      <td>0.078934</td>\n",
       "    </tr>\n",
       "    <tr>\n",
       "      <th>2</th>\n",
       "      <td>variant2.joblib</td>\n",
       "      <td>2021-12-08 16:44:03</td>\n",
       "      <td>0.891892</td>\n",
       "      <td>0.722670</td>\n",
       "      <td>0.772727</td>\n",
       "      <td>0.450485</td>\n",
       "      <td>0.891892</td>\n",
       "      <td>0.722670</td>\n",
       "      <td>0.891892</td>\n",
       "      <td>0.891892</td>\n",
       "      <td>0.762015</td>\n",
       "      <td>0.880805</td>\n",
       "      <td>0.722670</td>\n",
       "      <td>0.804878</td>\n",
       "      <td>0.648780</td>\n",
       "      <td>0.806987</td>\n",
       "      <td>3.733940</td>\n",
       "      <td>0.078633</td>\n",
       "    </tr>\n",
       "    <tr>\n",
       "      <th>3</th>\n",
       "      <td>variant3.joblib</td>\n",
       "      <td>2021-12-08 16:44:03</td>\n",
       "      <td>0.889640</td>\n",
       "      <td>0.726927</td>\n",
       "      <td>0.744681</td>\n",
       "      <td>0.445331</td>\n",
       "      <td>0.889640</td>\n",
       "      <td>0.726927</td>\n",
       "      <td>0.889640</td>\n",
       "      <td>0.889640</td>\n",
       "      <td>0.762258</td>\n",
       "      <td>0.879841</td>\n",
       "      <td>0.726927</td>\n",
       "      <td>0.801217</td>\n",
       "      <td>0.648431</td>\n",
       "      <td>0.805029</td>\n",
       "      <td>3.811733</td>\n",
       "      <td>0.077481</td>\n",
       "    </tr>\n",
       "    <tr>\n",
       "      <th>4</th>\n",
       "      <td>baseline</td>\n",
       "      <td>2021-12-08 16:44:23</td>\n",
       "      <td>0.971783</td>\n",
       "      <td>0.913723</td>\n",
       "      <td>0.973094</td>\n",
       "      <td>0.833878</td>\n",
       "      <td>0.971783</td>\n",
       "      <td>0.913723</td>\n",
       "      <td>0.971783</td>\n",
       "      <td>0.971783</td>\n",
       "      <td>0.940177</td>\n",
       "      <td>0.970851</td>\n",
       "      <td>0.913723</td>\n",
       "      <td>0.945115</td>\n",
       "      <td>0.890290</td>\n",
       "      <td>0.944999</td>\n",
       "      <td>0.974573</td>\n",
       "      <td>0.027094</td>\n",
       "    </tr>\n",
       "    <tr>\n",
       "      <th>5</th>\n",
       "      <td>2021-12-08 16:44:23</td>\n",
       "      <td>2021-12-08 16:44:23</td>\n",
       "      <td>0.971219</td>\n",
       "      <td>0.911808</td>\n",
       "      <td>0.972973</td>\n",
       "      <td>0.830614</td>\n",
       "      <td>0.971219</td>\n",
       "      <td>0.911808</td>\n",
       "      <td>0.971219</td>\n",
       "      <td>0.971219</td>\n",
       "      <td>0.938874</td>\n",
       "      <td>0.970240</td>\n",
       "      <td>0.911808</td>\n",
       "      <td>0.944048</td>\n",
       "      <td>0.888106</td>\n",
       "      <td>0.943917</td>\n",
       "      <td>0.994065</td>\n",
       "      <td>0.027725</td>\n",
       "    </tr>\n",
       "    <tr>\n",
       "      <th>6</th>\n",
       "      <td>variant2.joblib</td>\n",
       "      <td>2021-12-08 16:44:23</td>\n",
       "      <td>0.968397</td>\n",
       "      <td>0.903814</td>\n",
       "      <td>0.968037</td>\n",
       "      <td>0.813950</td>\n",
       "      <td>0.968397</td>\n",
       "      <td>0.903814</td>\n",
       "      <td>0.968397</td>\n",
       "      <td>0.968397</td>\n",
       "      <td>0.932528</td>\n",
       "      <td>0.967231</td>\n",
       "      <td>0.903814</td>\n",
       "      <td>0.938731</td>\n",
       "      <td>0.877574</td>\n",
       "      <td>0.938613</td>\n",
       "      <td>1.091522</td>\n",
       "      <td>0.028765</td>\n",
       "    </tr>\n",
       "    <tr>\n",
       "      <th>7</th>\n",
       "      <td>variant3.joblib</td>\n",
       "      <td>2021-12-08 16:44:23</td>\n",
       "      <td>0.959932</td>\n",
       "      <td>0.876663</td>\n",
       "      <td>0.961165</td>\n",
       "      <td>0.764713</td>\n",
       "      <td>0.959932</td>\n",
       "      <td>0.876663</td>\n",
       "      <td>0.959932</td>\n",
       "      <td>0.959932</td>\n",
       "      <td>0.912446</td>\n",
       "      <td>0.957931</td>\n",
       "      <td>0.876663</td>\n",
       "      <td>0.922952</td>\n",
       "      <td>0.845476</td>\n",
       "      <td>0.922660</td>\n",
       "      <td>1.383894</td>\n",
       "      <td>0.032696</td>\n",
       "    </tr>\n",
       "  </tbody>\n",
       "</table>\n",
       "</div>"
      ],
      "text/plain": [
       "              model_id              version  accuracy  balanced_accuracy  \\\n",
       "0             baseline  2021-12-08 16:44:03  0.889640           0.721326   \n",
       "1  2021-12-08 16:44:23  2021-12-08 16:44:03  0.894144           0.729615   \n",
       "2      variant2.joblib  2021-12-08 16:44:03  0.891892           0.722670   \n",
       "3      variant3.joblib  2021-12-08 16:44:03  0.889640           0.726927   \n",
       "4             baseline  2021-12-08 16:44:23  0.971783           0.913723   \n",
       "5  2021-12-08 16:44:23  2021-12-08 16:44:23  0.971219           0.911808   \n",
       "6      variant2.joblib  2021-12-08 16:44:23  0.968397           0.903814   \n",
       "7      variant3.joblib  2021-12-08 16:44:23  0.959932           0.876663   \n",
       "\n",
       "   precision  averaged_precision  micro_recall  macro_recall  weighted_recall  \\\n",
       "0   0.755556            0.442376      0.889640      0.721326         0.889640   \n",
       "1   0.777778            0.461420      0.894144      0.729615         0.894144   \n",
       "2   0.772727            0.450485      0.891892      0.722670         0.891892   \n",
       "3   0.744681            0.445331      0.889640      0.726927         0.889640   \n",
       "4   0.973094            0.833878      0.971783      0.913723         0.971783   \n",
       "5   0.972973            0.830614      0.971219      0.911808         0.971219   \n",
       "6   0.968037            0.813950      0.968397      0.903814         0.968397   \n",
       "7   0.961165            0.764713      0.959932      0.876663         0.959932   \n",
       "\n",
       "   micro_f1  macro_f1  weighted_f1   roc_auc  micro_jaccard  macro_jaccard  \\\n",
       "0  0.889640  0.758821     0.878838  0.721326       0.801217       0.645063   \n",
       "1  0.894144  0.768665     0.883784  0.729615       0.808554       0.655957   \n",
       "2  0.891892  0.762015     0.880805  0.722670       0.804878       0.648780   \n",
       "3  0.889640  0.762258     0.879841  0.726927       0.801217       0.648431   \n",
       "4  0.971783  0.940177     0.970851  0.913723       0.945115       0.890290   \n",
       "5  0.971219  0.938874     0.970240  0.911808       0.944048       0.888106   \n",
       "6  0.968397  0.932528     0.967231  0.903814       0.938731       0.877574   \n",
       "7  0.959932  0.912446     0.957931  0.876663       0.922952       0.845476   \n",
       "\n",
       "   weighted_jaccard  log_loss  neg_brier_loss  \n",
       "0          0.804134  3.811732        0.078129  \n",
       "1          0.810774  3.656150        0.078934  \n",
       "2          0.806987  3.733940        0.078633  \n",
       "3          0.805029  3.811733        0.077481  \n",
       "4          0.944999  0.974573        0.027094  \n",
       "5          0.943917  0.994065        0.027725  \n",
       "6          0.938613  1.091522        0.028765  \n",
       "7          0.922660  1.383894        0.032696  "
      ]
     },
     "execution_count": 47,
     "metadata": {},
     "output_type": "execute_result"
    }
   ],
   "source": [
    "mm.metrics_df"
   ]
  },
  {
   "cell_type": "markdown",
   "metadata": {},
   "source": [
    "## Saving model monitor"
   ]
  },
  {
   "cell_type": "code",
   "execution_count": 48,
   "metadata": {},
   "outputs": [],
   "source": [
    "mm.save_artifacts()"
   ]
  },
  {
   "cell_type": "markdown",
   "metadata": {},
   "source": [
    "## Loading model monitor"
   ]
  },
  {
   "cell_type": "code",
   "execution_count": 49,
   "metadata": {},
   "outputs": [
    {
     "data": {
      "text/html": [
       "<div>\n",
       "<style scoped>\n",
       "    .dataframe tbody tr th:only-of-type {\n",
       "        vertical-align: middle;\n",
       "    }\n",
       "\n",
       "    .dataframe tbody tr th {\n",
       "        vertical-align: top;\n",
       "    }\n",
       "\n",
       "    .dataframe thead th {\n",
       "        text-align: right;\n",
       "    }\n",
       "</style>\n",
       "<table border=\"1\" class=\"dataframe\">\n",
       "  <thead>\n",
       "    <tr style=\"text-align: right;\">\n",
       "      <th></th>\n",
       "      <th>model_id</th>\n",
       "      <th>version</th>\n",
       "      <th>accuracy</th>\n",
       "      <th>balanced_accuracy</th>\n",
       "      <th>precision</th>\n",
       "      <th>averaged_precision</th>\n",
       "      <th>micro_recall</th>\n",
       "      <th>macro_recall</th>\n",
       "      <th>weighted_recall</th>\n",
       "      <th>micro_f1</th>\n",
       "      <th>macro_f1</th>\n",
       "      <th>weighted_f1</th>\n",
       "      <th>roc_auc</th>\n",
       "      <th>micro_jaccard</th>\n",
       "      <th>macro_jaccard</th>\n",
       "      <th>weighted_jaccard</th>\n",
       "      <th>log_loss</th>\n",
       "      <th>neg_brier_loss</th>\n",
       "    </tr>\n",
       "  </thead>\n",
       "  <tbody>\n",
       "    <tr>\n",
       "      <th>0</th>\n",
       "      <td>baseline</td>\n",
       "      <td>2021-12-08 16:44:03</td>\n",
       "      <td>0.889640</td>\n",
       "      <td>0.721326</td>\n",
       "      <td>0.755556</td>\n",
       "      <td>0.442376</td>\n",
       "      <td>0.889640</td>\n",
       "      <td>0.721326</td>\n",
       "      <td>0.889640</td>\n",
       "      <td>0.889640</td>\n",
       "      <td>0.758821</td>\n",
       "      <td>0.878838</td>\n",
       "      <td>0.721326</td>\n",
       "      <td>0.801217</td>\n",
       "      <td>0.645063</td>\n",
       "      <td>0.804134</td>\n",
       "      <td>3.811732</td>\n",
       "      <td>0.078129</td>\n",
       "    </tr>\n",
       "    <tr>\n",
       "      <th>1</th>\n",
       "      <td>2021-12-08 16:44:23</td>\n",
       "      <td>2021-12-08 16:44:03</td>\n",
       "      <td>0.894144</td>\n",
       "      <td>0.729615</td>\n",
       "      <td>0.777778</td>\n",
       "      <td>0.461420</td>\n",
       "      <td>0.894144</td>\n",
       "      <td>0.729615</td>\n",
       "      <td>0.894144</td>\n",
       "      <td>0.894144</td>\n",
       "      <td>0.768665</td>\n",
       "      <td>0.883784</td>\n",
       "      <td>0.729615</td>\n",
       "      <td>0.808554</td>\n",
       "      <td>0.655957</td>\n",
       "      <td>0.810774</td>\n",
       "      <td>3.656150</td>\n",
       "      <td>0.078934</td>\n",
       "    </tr>\n",
       "    <tr>\n",
       "      <th>2</th>\n",
       "      <td>variant2.joblib</td>\n",
       "      <td>2021-12-08 16:44:03</td>\n",
       "      <td>0.891892</td>\n",
       "      <td>0.722670</td>\n",
       "      <td>0.772727</td>\n",
       "      <td>0.450485</td>\n",
       "      <td>0.891892</td>\n",
       "      <td>0.722670</td>\n",
       "      <td>0.891892</td>\n",
       "      <td>0.891892</td>\n",
       "      <td>0.762015</td>\n",
       "      <td>0.880805</td>\n",
       "      <td>0.722670</td>\n",
       "      <td>0.804878</td>\n",
       "      <td>0.648780</td>\n",
       "      <td>0.806987</td>\n",
       "      <td>3.733940</td>\n",
       "      <td>0.078633</td>\n",
       "    </tr>\n",
       "    <tr>\n",
       "      <th>3</th>\n",
       "      <td>variant3.joblib</td>\n",
       "      <td>2021-12-08 16:44:03</td>\n",
       "      <td>0.889640</td>\n",
       "      <td>0.726927</td>\n",
       "      <td>0.744681</td>\n",
       "      <td>0.445331</td>\n",
       "      <td>0.889640</td>\n",
       "      <td>0.726927</td>\n",
       "      <td>0.889640</td>\n",
       "      <td>0.889640</td>\n",
       "      <td>0.762258</td>\n",
       "      <td>0.879841</td>\n",
       "      <td>0.726927</td>\n",
       "      <td>0.801217</td>\n",
       "      <td>0.648431</td>\n",
       "      <td>0.805029</td>\n",
       "      <td>3.811733</td>\n",
       "      <td>0.077481</td>\n",
       "    </tr>\n",
       "    <tr>\n",
       "      <th>4</th>\n",
       "      <td>baseline</td>\n",
       "      <td>2021-12-08 16:44:23</td>\n",
       "      <td>0.971783</td>\n",
       "      <td>0.913723</td>\n",
       "      <td>0.973094</td>\n",
       "      <td>0.833878</td>\n",
       "      <td>0.971783</td>\n",
       "      <td>0.913723</td>\n",
       "      <td>0.971783</td>\n",
       "      <td>0.971783</td>\n",
       "      <td>0.940177</td>\n",
       "      <td>0.970851</td>\n",
       "      <td>0.913723</td>\n",
       "      <td>0.945115</td>\n",
       "      <td>0.890290</td>\n",
       "      <td>0.944999</td>\n",
       "      <td>0.974573</td>\n",
       "      <td>0.027094</td>\n",
       "    </tr>\n",
       "    <tr>\n",
       "      <th>5</th>\n",
       "      <td>2021-12-08 16:44:23</td>\n",
       "      <td>2021-12-08 16:44:23</td>\n",
       "      <td>0.971219</td>\n",
       "      <td>0.911808</td>\n",
       "      <td>0.972973</td>\n",
       "      <td>0.830614</td>\n",
       "      <td>0.971219</td>\n",
       "      <td>0.911808</td>\n",
       "      <td>0.971219</td>\n",
       "      <td>0.971219</td>\n",
       "      <td>0.938874</td>\n",
       "      <td>0.970240</td>\n",
       "      <td>0.911808</td>\n",
       "      <td>0.944048</td>\n",
       "      <td>0.888106</td>\n",
       "      <td>0.943917</td>\n",
       "      <td>0.994065</td>\n",
       "      <td>0.027725</td>\n",
       "    </tr>\n",
       "    <tr>\n",
       "      <th>6</th>\n",
       "      <td>variant2.joblib</td>\n",
       "      <td>2021-12-08 16:44:23</td>\n",
       "      <td>0.968397</td>\n",
       "      <td>0.903814</td>\n",
       "      <td>0.968037</td>\n",
       "      <td>0.813950</td>\n",
       "      <td>0.968397</td>\n",
       "      <td>0.903814</td>\n",
       "      <td>0.968397</td>\n",
       "      <td>0.968397</td>\n",
       "      <td>0.932528</td>\n",
       "      <td>0.967231</td>\n",
       "      <td>0.903814</td>\n",
       "      <td>0.938731</td>\n",
       "      <td>0.877574</td>\n",
       "      <td>0.938613</td>\n",
       "      <td>1.091522</td>\n",
       "      <td>0.028765</td>\n",
       "    </tr>\n",
       "    <tr>\n",
       "      <th>7</th>\n",
       "      <td>variant3.joblib</td>\n",
       "      <td>2021-12-08 16:44:23</td>\n",
       "      <td>0.959932</td>\n",
       "      <td>0.876663</td>\n",
       "      <td>0.961165</td>\n",
       "      <td>0.764713</td>\n",
       "      <td>0.959932</td>\n",
       "      <td>0.876663</td>\n",
       "      <td>0.959932</td>\n",
       "      <td>0.959932</td>\n",
       "      <td>0.912446</td>\n",
       "      <td>0.957931</td>\n",
       "      <td>0.876663</td>\n",
       "      <td>0.922952</td>\n",
       "      <td>0.845476</td>\n",
       "      <td>0.922660</td>\n",
       "      <td>1.383894</td>\n",
       "      <td>0.032696</td>\n",
       "    </tr>\n",
       "  </tbody>\n",
       "</table>\n",
       "</div>"
      ],
      "text/plain": [
       "              model_id              version  accuracy  balanced_accuracy  \\\n",
       "0             baseline  2021-12-08 16:44:03  0.889640           0.721326   \n",
       "1  2021-12-08 16:44:23  2021-12-08 16:44:03  0.894144           0.729615   \n",
       "2      variant2.joblib  2021-12-08 16:44:03  0.891892           0.722670   \n",
       "3      variant3.joblib  2021-12-08 16:44:03  0.889640           0.726927   \n",
       "4             baseline  2021-12-08 16:44:23  0.971783           0.913723   \n",
       "5  2021-12-08 16:44:23  2021-12-08 16:44:23  0.971219           0.911808   \n",
       "6      variant2.joblib  2021-12-08 16:44:23  0.968397           0.903814   \n",
       "7      variant3.joblib  2021-12-08 16:44:23  0.959932           0.876663   \n",
       "\n",
       "   precision  averaged_precision  micro_recall  macro_recall  weighted_recall  \\\n",
       "0   0.755556            0.442376      0.889640      0.721326         0.889640   \n",
       "1   0.777778            0.461420      0.894144      0.729615         0.894144   \n",
       "2   0.772727            0.450485      0.891892      0.722670         0.891892   \n",
       "3   0.744681            0.445331      0.889640      0.726927         0.889640   \n",
       "4   0.973094            0.833878      0.971783      0.913723         0.971783   \n",
       "5   0.972973            0.830614      0.971219      0.911808         0.971219   \n",
       "6   0.968037            0.813950      0.968397      0.903814         0.968397   \n",
       "7   0.961165            0.764713      0.959932      0.876663         0.959932   \n",
       "\n",
       "   micro_f1  macro_f1  weighted_f1   roc_auc  micro_jaccard  macro_jaccard  \\\n",
       "0  0.889640  0.758821     0.878838  0.721326       0.801217       0.645063   \n",
       "1  0.894144  0.768665     0.883784  0.729615       0.808554       0.655957   \n",
       "2  0.891892  0.762015     0.880805  0.722670       0.804878       0.648780   \n",
       "3  0.889640  0.762258     0.879841  0.726927       0.801217       0.648431   \n",
       "4  0.971783  0.940177     0.970851  0.913723       0.945115       0.890290   \n",
       "5  0.971219  0.938874     0.970240  0.911808       0.944048       0.888106   \n",
       "6  0.968397  0.932528     0.967231  0.903814       0.938731       0.877574   \n",
       "7  0.959932  0.912446     0.957931  0.876663       0.922952       0.845476   \n",
       "\n",
       "   weighted_jaccard  log_loss  neg_brier_loss  \n",
       "0          0.804134  3.811732        0.078129  \n",
       "1          0.810774  3.656150        0.078934  \n",
       "2          0.806987  3.733940        0.078633  \n",
       "3          0.805029  3.811733        0.077481  \n",
       "4          0.944999  0.974573        0.027094  \n",
       "5          0.943917  0.994065        0.027725  \n",
       "6          0.938613  1.091522        0.028765  \n",
       "7          0.922660  1.383894        0.032696  "
      ]
     },
     "execution_count": 49,
     "metadata": {},
     "output_type": "execute_result"
    }
   ],
   "source": [
    "mm2 = ModelMonitor(objective='regression')\n",
    "mm2 = mm2.load_artifacts()\n",
    "mm2.metrics_df"
   ]
  }
 ],
 "metadata": {
  "kernelspec": {
   "display_name": "Python 3",
   "language": "python",
   "name": "python3"
  },
  "language_info": {
   "codemirror_mode": {
    "name": "ipython",
    "version": 3
   },
   "file_extension": ".py",
   "mimetype": "text/x-python",
   "name": "python",
   "nbconvert_exporter": "python",
   "pygments_lexer": "ipython3",
   "version": "3.8.5"
  }
 },
 "nbformat": 4,
 "nbformat_minor": 4
}
