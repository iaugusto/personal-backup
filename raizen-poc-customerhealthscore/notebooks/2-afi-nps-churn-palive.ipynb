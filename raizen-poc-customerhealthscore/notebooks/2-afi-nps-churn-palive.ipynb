{
 "cells": [
  {
   "cell_type": "code",
   "execution_count": 1,
   "id": "8b1bb20b-70c7-4f73-acc5-a612aefb8bf5",
   "metadata": {},
   "outputs": [],
   "source": [
    "import pandas as pd\n",
    "\n",
    "pd.set_option('display.max_columns', None)"
   ]
  },
  {
   "cell_type": "markdown",
   "id": "dd2469cf-3878-4e23-b8af-ac6f4b19e3c3",
   "metadata": {},
   "source": [
    "# Import Dataset"
   ]
  },
  {
   "cell_type": "code",
   "execution_count": 2,
   "id": "0293d67a-563f-45c7-a125-51987042e92c",
   "metadata": {},
   "outputs": [],
   "source": [
    "# Importando o dataset com as variáveis do modelo churn \n",
    "churn = pd.read_parquet('../data/raw/3m/churn.parquet')\n",
    "\n",
    "# Importando o dataset com as variáveis do modelo p-alive\n",
    "palive = pd.read_parquet('../data/raw/3m/palive.parquet')\n",
    "\n",
    "# Importando o dataset com as variáveis de costumers e nps (feito pelo Francisco notebook1)\n",
    "nps = pd.read_parquet('../data/stage/3m/customers_nps_ig.parquet')"
   ]
  },
  {
   "cell_type": "code",
   "execution_count": 3,
   "id": "3c1cfb78-f50d-4ae1-9f3d-0d0d62b8d1c4",
   "metadata": {},
   "outputs": [],
   "source": [
    "churn['p_churn'] = churn['p_churn'].fillna(0)\n",
    "churn = churn.drop_duplicates(subset='consumer_id')"
   ]
  },
  {
   "cell_type": "code",
   "execution_count": 4,
   "id": "58eb6e4c-7499-4d95-b01a-7013125b41e2",
   "metadata": {},
   "outputs": [],
   "source": [
    "#2021-11-12\n",
    "#145926 - 1737544 - 709969\n",
    "startdate = pd.to_datetime(\"2021-10-24\").date()\n",
    "enddate = pd.to_datetime(\"2021-10-31\").date()\n",
    "palive = palive[(palive['base_date'] > startdate) & (palive['base_date'] <= enddate)]\n",
    "#palive = palive[palive['base_date'] > startdate]"
   ]
  },
  {
   "cell_type": "code",
   "execution_count": 5,
   "id": "8d17ea99-1a8a-4eb4-9fbc-e4f4b9663a69",
   "metadata": {},
   "outputs": [],
   "source": [
    "nps['nps']  = nps['nps'] .map({0:0,\n",
    "                                   1:0,\n",
    "                                   2:0,\n",
    "                                   3:0,\n",
    "                                   4:0,\n",
    "                                   5:0,\n",
    "                                   6:0,\n",
    "                                   7:0,\n",
    "                                   8:1,\n",
    "                                   9:1,\n",
    "                                   10:1\n",
    "                             },\n",
    "                             na_action=None)"
   ]
  },
  {
   "cell_type": "code",
   "execution_count": 6,
   "id": "76694334-d98b-49dd-876f-4d54f50a2944",
   "metadata": {},
   "outputs": [
    {
     "data": {
      "text/plain": [
       "1    3265\n",
       "0    1797\n",
       "Name: nps, dtype: int64"
      ]
     },
     "execution_count": 6,
     "metadata": {},
     "output_type": "execute_result"
    }
   ],
   "source": [
    "nps['nps'].value_counts()"
   ]
  },
  {
   "cell_type": "code",
   "execution_count": 7,
   "id": "5b76a9bc-c2ee-4db6-999d-e740d8467b1c",
   "metadata": {
    "tags": []
   },
   "outputs": [
    {
     "data": {
      "text/plain": [
       "1715616    1\n",
       "6796461    1\n",
       "7425925    1\n",
       "3969927    1\n",
       "7282242    1\n",
       "          ..\n",
       "6613504    1\n",
       "5553972    1\n",
       "245032     1\n",
       "6325798    1\n",
       "1342034    1\n",
       "Name: consumer_id, Length: 727974, dtype: int64"
      ]
     },
     "execution_count": 7,
     "metadata": {},
     "output_type": "execute_result"
    }
   ],
   "source": [
    "palive['consumer_id'].value_counts()"
   ]
  },
  {
   "cell_type": "code",
   "execution_count": 8,
   "id": "8c424ff3-ac29-481e-994e-c615a8597e88",
   "metadata": {
    "tags": []
   },
   "outputs": [
    {
     "name": "stdout",
     "output_type": "stream",
     "text": [
      "<class 'pandas.core.frame.DataFrame'>\n",
      "Int64Index: 5062 entries, 20663 to 9048056\n",
      "Data columns (total 59 columns):\n",
      " #   Column                          Non-Null Count  Dtype         \n",
      "---  ------                          --------------  -----         \n",
      " 0   consumer_id                     5062 non-null   int64         \n",
      " 1   role_id                         5062 non-null   int64         \n",
      " 2   cpf                             5062 non-null   float64       \n",
      " 3   first_name                      5062 non-null   object        \n",
      " 4   last_name                       5062 non-null   object        \n",
      " 5   email                           5062 non-null   object        \n",
      " 6   birthdate                       5062 non-null   object        \n",
      " 7   zipcode                         4356 non-null   float64       \n",
      " 8   street                          4517 non-null   object        \n",
      " 9   street_number                   4297 non-null   float64       \n",
      " 10  complement                      4443 non-null   object        \n",
      " 11  city                            4517 non-null   object        \n",
      " 12  state                           4517 non-null   object        \n",
      " 13  phonenumber                     5062 non-null   float64       \n",
      " 14  password_hash                   5062 non-null   object        \n",
      " 15  created_at                      5062 non-null   object        \n",
      " 16  updated_at                      5062 non-null   object        \n",
      " 17  eou_synced_at                   799 non-null    object        \n",
      " 18  last_activity_date              5062 non-null   object        \n",
      " 19  completed_at                    4441 non-null   object        \n",
      " 20  paypal_linked_at                914 non-null    object        \n",
      " 21  braintree_id                    752 non-null    object        \n",
      " 22  braintree_token                 701 non-null    object        \n",
      " 23  paypal_id                       3 non-null      object        \n",
      " 24  paypal_billing_agreement        876 non-null    object        \n",
      " 25  paypal_email                    876 non-null    object        \n",
      " 26  paypal_cpf                      833 non-null    float64       \n",
      " 27  paydiant_uri                    0 non-null      object        \n",
      " 28  paydiant_linked_at              0 non-null      object        \n",
      " 29  stone_wallet_id                 0 non-null      object        \n",
      " 30  stone_linked_at                 0 non-null      object        \n",
      " 31  allow_newsletter                5048 non-null   float64       \n",
      " 32  allow_promos                    5062 non-null   int64         \n",
      " 33  paypal_allow_automatic_payment  5062 non-null   int64         \n",
      " 34  allow_automatic_payment         5062 non-null   int64         \n",
      " 35  paypal_subscription_canceled    5062 non-null   int64         \n",
      " 36  active                          5062 non-null   int64         \n",
      " 37  signup_complete                 5062 non-null   int64         \n",
      " 38  legacy_email                    0 non-null      object        \n",
      " 39  legacy_paypal_id                0 non-null      object        \n",
      " 40  legacy_paypal_subscription      0 non-null      object        \n",
      " 41  city_id                         4522 non-null   float64       \n",
      " 42  referral_code                   5062 non-null   object        \n",
      " 43  mercadopago_linked_at           3699 non-null   object        \n",
      " 44  mercadopago_email               3699 non-null   object        \n",
      " 45  mercadopago_id                  3699 non-null   object        \n",
      " 46  mfa_validated                   5062 non-null   object        \n",
      " 47  country                         5062 non-null   object        \n",
      " 48  datalake_dt                     5062 non-null   object        \n",
      " 49  year_ptt                        5062 non-null   int64         \n",
      " 50  month_ptt                       5062 non-null   int64         \n",
      " 51  day_ptt                         5062 non-null   int64         \n",
      " 52  nota_recomendacao_customer      863 non-null    float64       \n",
      " 53  nota_recomendacao_nps           4240 non-null   float64       \n",
      " 54  satisfacao                      4240 non-null   object        \n",
      " 55  sugestao                        4240 non-null   object        \n",
      " 56  created_date_                   4240 non-null   datetime64[ns]\n",
      " 57  modified_date                   4240 non-null   datetime64[ns]\n",
      " 58  nps                             5062 non-null   int64         \n",
      "dtypes: datetime64[ns](2), float64(9), int64(12), object(36)\n",
      "memory usage: 2.3+ MB\n"
     ]
    }
   ],
   "source": [
    "nps.info()"
   ]
  },
  {
   "cell_type": "code",
   "execution_count": 9,
   "id": "712a77dd-a108-4c56-8d2d-a2d4eb9512f2",
   "metadata": {
    "tags": []
   },
   "outputs": [
    {
     "name": "stdout",
     "output_type": "stream",
     "text": [
      "<class 'pandas.core.frame.DataFrame'>\n",
      "Int64Index: 4101417 entries, 0 to 4166750\n",
      "Data columns (total 7 columns):\n",
      " #   Column                    Dtype  \n",
      "---  ------                    -----  \n",
      " 0   consumer_id               int32  \n",
      " 1   ref_date                  object \n",
      " 2   p_churn                   float64\n",
      " 3   status_criticidade_churn  object \n",
      " 4   categoria_motivo          object \n",
      " 5   motivo                    object \n",
      " 6   run_id                    object \n",
      "dtypes: float64(1), int32(1), object(5)\n",
      "memory usage: 234.7+ MB\n"
     ]
    }
   ],
   "source": [
    "churn.info()"
   ]
  },
  {
   "cell_type": "code",
   "execution_count": 10,
   "id": "17ca4f5b-228b-4d66-94fb-07f9309126c6",
   "metadata": {
    "tags": []
   },
   "outputs": [
    {
     "name": "stdout",
     "output_type": "stream",
     "text": [
      "<class 'pandas.core.frame.DataFrame'>\n",
      "Int64Index: 727974 entries, 731162 to 2187376\n",
      "Data columns (total 10 columns):\n",
      " #   Column              Non-Null Count   Dtype  \n",
      "---  ------              --------------   -----  \n",
      " 0   consumer_id         727974 non-null  int64  \n",
      " 1   frequency           727974 non-null  float64\n",
      " 2   recency             727974 non-null  float64\n",
      " 3   T                   727974 non-null  int64  \n",
      " 4   p_currently_alive   727974 non-null  float64\n",
      " 5   p_alive_mean        699640 non-null  float64\n",
      " 6   p_alive_ratio       699640 non-null  float64\n",
      " 7   status_criticidade  727974 non-null  object \n",
      " 8   processing_date     727974 non-null  object \n",
      " 9   base_date           727974 non-null  object \n",
      "dtypes: float64(5), int64(2), object(3)\n",
      "memory usage: 61.1+ MB\n"
     ]
    }
   ],
   "source": [
    "palive.info()"
   ]
  },
  {
   "cell_type": "markdown",
   "id": "9cc44bc3-bc27-4b5d-a75b-a53e139b8a24",
   "metadata": {},
   "source": [
    "# Merge 'nps' + 'churn'"
   ]
  },
  {
   "cell_type": "code",
   "execution_count": 11,
   "id": "04c78203-a0aa-4664-9d6f-7ee976004f4f",
   "metadata": {},
   "outputs": [],
   "source": [
    "# merge entre 'nps' e 'churn'\n",
    "nps_churn = pd.merge(nps, churn, on='consumer_id', how='left')"
   ]
  },
  {
   "cell_type": "code",
   "execution_count": 12,
   "id": "9699a752-400a-427c-9e75-713115bcb258",
   "metadata": {
    "tags": []
   },
   "outputs": [
    {
     "name": "stdout",
     "output_type": "stream",
     "text": [
      "<class 'pandas.core.frame.DataFrame'>\n",
      "Int64Index: 5062 entries, 0 to 5061\n",
      "Data columns (total 65 columns):\n",
      " #   Column                          Non-Null Count  Dtype         \n",
      "---  ------                          --------------  -----         \n",
      " 0   consumer_id                     5062 non-null   int64         \n",
      " 1   role_id                         5062 non-null   int64         \n",
      " 2   cpf                             5062 non-null   float64       \n",
      " 3   first_name                      5062 non-null   object        \n",
      " 4   last_name                       5062 non-null   object        \n",
      " 5   email                           5062 non-null   object        \n",
      " 6   birthdate                       5062 non-null   object        \n",
      " 7   zipcode                         4356 non-null   float64       \n",
      " 8   street                          4517 non-null   object        \n",
      " 9   street_number                   4297 non-null   float64       \n",
      " 10  complement                      4443 non-null   object        \n",
      " 11  city                            4517 non-null   object        \n",
      " 12  state                           4517 non-null   object        \n",
      " 13  phonenumber                     5062 non-null   float64       \n",
      " 14  password_hash                   5062 non-null   object        \n",
      " 15  created_at                      5062 non-null   object        \n",
      " 16  updated_at                      5062 non-null   object        \n",
      " 17  eou_synced_at                   799 non-null    object        \n",
      " 18  last_activity_date              5062 non-null   object        \n",
      " 19  completed_at                    4441 non-null   object        \n",
      " 20  paypal_linked_at                914 non-null    object        \n",
      " 21  braintree_id                    752 non-null    object        \n",
      " 22  braintree_token                 701 non-null    object        \n",
      " 23  paypal_id                       3 non-null      object        \n",
      " 24  paypal_billing_agreement        876 non-null    object        \n",
      " 25  paypal_email                    876 non-null    object        \n",
      " 26  paypal_cpf                      833 non-null    float64       \n",
      " 27  paydiant_uri                    0 non-null      object        \n",
      " 28  paydiant_linked_at              0 non-null      object        \n",
      " 29  stone_wallet_id                 0 non-null      object        \n",
      " 30  stone_linked_at                 0 non-null      object        \n",
      " 31  allow_newsletter                5048 non-null   float64       \n",
      " 32  allow_promos                    5062 non-null   int64         \n",
      " 33  paypal_allow_automatic_payment  5062 non-null   int64         \n",
      " 34  allow_automatic_payment         5062 non-null   int64         \n",
      " 35  paypal_subscription_canceled    5062 non-null   int64         \n",
      " 36  active                          5062 non-null   int64         \n",
      " 37  signup_complete                 5062 non-null   int64         \n",
      " 38  legacy_email                    0 non-null      object        \n",
      " 39  legacy_paypal_id                0 non-null      object        \n",
      " 40  legacy_paypal_subscription      0 non-null      object        \n",
      " 41  city_id                         4522 non-null   float64       \n",
      " 42  referral_code                   5062 non-null   object        \n",
      " 43  mercadopago_linked_at           3699 non-null   object        \n",
      " 44  mercadopago_email               3699 non-null   object        \n",
      " 45  mercadopago_id                  3699 non-null   object        \n",
      " 46  mfa_validated                   5062 non-null   object        \n",
      " 47  country                         5062 non-null   object        \n",
      " 48  datalake_dt                     5062 non-null   object        \n",
      " 49  year_ptt                        5062 non-null   int64         \n",
      " 50  month_ptt                       5062 non-null   int64         \n",
      " 51  day_ptt                         5062 non-null   int64         \n",
      " 52  nota_recomendacao_customer      863 non-null    float64       \n",
      " 53  nota_recomendacao_nps           4240 non-null   float64       \n",
      " 54  satisfacao                      4240 non-null   object        \n",
      " 55  sugestao                        4240 non-null   object        \n",
      " 56  created_date_                   4240 non-null   datetime64[ns]\n",
      " 57  modified_date                   4240 non-null   datetime64[ns]\n",
      " 58  nps                             5062 non-null   int64         \n",
      " 59  ref_date                        4522 non-null   object        \n",
      " 60  p_churn                         4522 non-null   float64       \n",
      " 61  status_criticidade_churn        4522 non-null   object        \n",
      " 62  categoria_motivo                1614 non-null   object        \n",
      " 63  motivo                          1614 non-null   object        \n",
      " 64  run_id                          4522 non-null   object        \n",
      "dtypes: datetime64[ns](2), float64(10), int64(12), object(41)\n",
      "memory usage: 2.5+ MB\n"
     ]
    }
   ],
   "source": [
    "nps_churn.info()"
   ]
  },
  {
   "cell_type": "markdown",
   "id": "f361fc80-ade1-47ee-a207-509bff0408d6",
   "metadata": {},
   "source": [
    "# Merge entre 'nps_churn' + 'palive'"
   ]
  },
  {
   "cell_type": "code",
   "execution_count": 13,
   "id": "3927d247-3a7e-4352-a05c-8326f0f17b2f",
   "metadata": {},
   "outputs": [],
   "source": [
    "# merge entre 'nps' e 'palive'\n",
    "nps_palive = pd.merge(nps_churn, palive, on='consumer_id', how='left')"
   ]
  },
  {
   "cell_type": "code",
   "execution_count": 14,
   "id": "c8747d7a-fada-4243-99fc-05ee4aaaf606",
   "metadata": {
    "tags": []
   },
   "outputs": [
    {
     "name": "stdout",
     "output_type": "stream",
     "text": [
      "<class 'pandas.core.frame.DataFrame'>\n",
      "Int64Index: 5062 entries, 0 to 5061\n",
      "Data columns (total 74 columns):\n",
      " #   Column                          Non-Null Count  Dtype         \n",
      "---  ------                          --------------  -----         \n",
      " 0   consumer_id                     5062 non-null   int64         \n",
      " 1   role_id                         5062 non-null   int64         \n",
      " 2   cpf                             5062 non-null   float64       \n",
      " 3   first_name                      5062 non-null   object        \n",
      " 4   last_name                       5062 non-null   object        \n",
      " 5   email                           5062 non-null   object        \n",
      " 6   birthdate                       5062 non-null   object        \n",
      " 7   zipcode                         4356 non-null   float64       \n",
      " 8   street                          4517 non-null   object        \n",
      " 9   street_number                   4297 non-null   float64       \n",
      " 10  complement                      4443 non-null   object        \n",
      " 11  city                            4517 non-null   object        \n",
      " 12  state                           4517 non-null   object        \n",
      " 13  phonenumber                     5062 non-null   float64       \n",
      " 14  password_hash                   5062 non-null   object        \n",
      " 15  created_at                      5062 non-null   object        \n",
      " 16  updated_at                      5062 non-null   object        \n",
      " 17  eou_synced_at                   799 non-null    object        \n",
      " 18  last_activity_date              5062 non-null   object        \n",
      " 19  completed_at                    4441 non-null   object        \n",
      " 20  paypal_linked_at                914 non-null    object        \n",
      " 21  braintree_id                    752 non-null    object        \n",
      " 22  braintree_token                 701 non-null    object        \n",
      " 23  paypal_id                       3 non-null      object        \n",
      " 24  paypal_billing_agreement        876 non-null    object        \n",
      " 25  paypal_email                    876 non-null    object        \n",
      " 26  paypal_cpf                      833 non-null    float64       \n",
      " 27  paydiant_uri                    0 non-null      object        \n",
      " 28  paydiant_linked_at              0 non-null      object        \n",
      " 29  stone_wallet_id                 0 non-null      object        \n",
      " 30  stone_linked_at                 0 non-null      object        \n",
      " 31  allow_newsletter                5048 non-null   float64       \n",
      " 32  allow_promos                    5062 non-null   int64         \n",
      " 33  paypal_allow_automatic_payment  5062 non-null   int64         \n",
      " 34  allow_automatic_payment         5062 non-null   int64         \n",
      " 35  paypal_subscription_canceled    5062 non-null   int64         \n",
      " 36  active                          5062 non-null   int64         \n",
      " 37  signup_complete                 5062 non-null   int64         \n",
      " 38  legacy_email                    0 non-null      object        \n",
      " 39  legacy_paypal_id                0 non-null      object        \n",
      " 40  legacy_paypal_subscription      0 non-null      object        \n",
      " 41  city_id                         4522 non-null   float64       \n",
      " 42  referral_code                   5062 non-null   object        \n",
      " 43  mercadopago_linked_at           3699 non-null   object        \n",
      " 44  mercadopago_email               3699 non-null   object        \n",
      " 45  mercadopago_id                  3699 non-null   object        \n",
      " 46  mfa_validated                   5062 non-null   object        \n",
      " 47  country                         5062 non-null   object        \n",
      " 48  datalake_dt                     5062 non-null   object        \n",
      " 49  year_ptt                        5062 non-null   int64         \n",
      " 50  month_ptt                       5062 non-null   int64         \n",
      " 51  day_ptt                         5062 non-null   int64         \n",
      " 52  nota_recomendacao_customer      863 non-null    float64       \n",
      " 53  nota_recomendacao_nps           4240 non-null   float64       \n",
      " 54  satisfacao                      4240 non-null   object        \n",
      " 55  sugestao                        4240 non-null   object        \n",
      " 56  created_date_                   4240 non-null   datetime64[ns]\n",
      " 57  modified_date                   4240 non-null   datetime64[ns]\n",
      " 58  nps                             5062 non-null   int64         \n",
      " 59  ref_date                        4522 non-null   object        \n",
      " 60  p_churn                         4522 non-null   float64       \n",
      " 61  status_criticidade_churn        4522 non-null   object        \n",
      " 62  categoria_motivo                1614 non-null   object        \n",
      " 63  motivo                          1614 non-null   object        \n",
      " 64  run_id                          4522 non-null   object        \n",
      " 65  frequency                       3002 non-null   float64       \n",
      " 66  recency                         3002 non-null   float64       \n",
      " 67  T                               3002 non-null   float64       \n",
      " 68  p_currently_alive               3002 non-null   float64       \n",
      " 69  p_alive_mean                    2940 non-null   float64       \n",
      " 70  p_alive_ratio                   2940 non-null   float64       \n",
      " 71  status_criticidade              3002 non-null   object        \n",
      " 72  processing_date                 3002 non-null   object        \n",
      " 73  base_date                       3002 non-null   object        \n",
      "dtypes: datetime64[ns](2), float64(16), int64(12), object(44)\n",
      "memory usage: 2.9+ MB\n"
     ]
    }
   ],
   "source": [
    "nps_palive.info()"
   ]
  },
  {
   "cell_type": "code",
   "execution_count": 16,
   "id": "4735b3a4-7ac1-46b8-afb5-1492ca1d1787",
   "metadata": {},
   "outputs": [],
   "source": [
    "columns = ['consumer_id', 'role_id', 'cpf', 'email',\n",
    "       'birthdate', 'city', 'state', 'phonenumber', 'created_at', 'updated_at',\n",
    "       'eou_synced_at', 'last_activity_date', 'completed_at',\n",
    "       'paypal_linked_at', 'braintree_id', 'braintree_token', 'paypal_id',\n",
    "       'paypal_billing_agreement', 'paypal_email', 'paypal_cpf',\n",
    "       'paydiant_uri', 'paydiant_linked_at', 'stone_wallet_id',\n",
    "       'stone_linked_at', 'allow_newsletter', 'allow_promos',\n",
    "       'paypal_allow_automatic_payment', 'allow_automatic_payment',\n",
    "       'paypal_subscription_canceled', 'active', 'signup_complete',\n",
    "       'legacy_email', 'legacy_paypal_id', 'legacy_paypal_subscription',\n",
    "       'city_id', 'referral_code', 'mercadopago_linked_at',\n",
    "       'mercadopago_email', 'mercadopago_id', 'mfa_validated', 'country',\n",
    "       'nota_recomendacao_customer', 'nota_recomendacao_nps', 'nps',\n",
    "       'p_churn', 'p_currently_alive']"
   ]
  },
  {
   "cell_type": "code",
   "execution_count": 18,
   "id": "c9e4e777-3400-4db5-824d-7b120c5d3a82",
   "metadata": {},
   "outputs": [],
   "source": [
    "nps_palive = nps_palive[columns]"
   ]
  },
  {
   "cell_type": "markdown",
   "id": "5cf38ee1-a918-43e9-83fe-77b354297570",
   "metadata": {},
   "source": [
    "# Salvando"
   ]
  },
  {
   "cell_type": "code",
   "execution_count": 22,
   "id": "439867e1-7157-4225-9094-987d807c75de",
   "metadata": {},
   "outputs": [],
   "source": [
    "#Salvando em Parquet\n",
    "nps_palive.to_parquet('../data/stage/3m/customers_nps_churn_palive.parquet')"
   ]
  },
  {
   "cell_type": "code",
   "execution_count": 7,
   "id": "348c909b-598a-4bdb-b078-c16a1ac420b7",
   "metadata": {},
   "outputs": [],
   "source": []
  }
 ],
 "metadata": {
  "kernelspec": {
   "display_name": "Python 3 (ipykernel)",
   "language": "python",
   "name": "python3"
  },
  "language_info": {
   "codemirror_mode": {
    "name": "ipython",
    "version": 3
   },
   "file_extension": ".py",
   "mimetype": "text/x-python",
   "name": "python",
   "nbconvert_exporter": "python",
   "pygments_lexer": "ipython3",
   "version": "3.7.12"
  }
 },
 "nbformat": 4,
 "nbformat_minor": 5
}
