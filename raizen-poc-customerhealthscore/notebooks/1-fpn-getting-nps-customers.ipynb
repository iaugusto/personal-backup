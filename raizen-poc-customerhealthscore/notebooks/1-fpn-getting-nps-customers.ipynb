{
 "cells": [
  {
   "cell_type": "code",
   "execution_count": 1,
   "id": "fc002197-c027-4962-b239-b1ab570bfaec",
   "metadata": {},
   "outputs": [],
   "source": [
    "import pandas as pd\n",
    "import numpy as np\n",
    "\n",
    "pd.set_option('display.max_columns', None)"
   ]
  },
  {
   "cell_type": "code",
   "execution_count": 3,
   "id": "2dba29f0-e301-4220-b4ad-f8a5f51af1c0",
   "metadata": {},
   "outputs": [],
   "source": [
    "# Import dos datasets a serem utilizados: Customers e NPS\n",
    "\n",
    "# Como visto na sesão '1.1' este dataset 'customer' está com os dtypes ajustados.\n",
    "df_customers = pd.read_parquet('../data/raw/3m/customers.parquet')\n",
    "\n",
    "# Importando o NPS em formato csv (extensão do Excel).\n",
    "df_nps = pd.read_csv('../data/raw/nps/PESQUISA_SATISFACAO_NPS_20211108_151208.csv', delimiter='|',encoding= 'iso-8859-1')\n",
    "# Acima, tivemos de passar o parâmetro 'encoding' pois não foi reconhecido os caracteres especiais (acentos, Ç, ^, ~, ...)\n",
    "\n",
    "# Importando o indique e ganhe\n",
    "df_indique_ganhe = pd.read_parquet('../data/raw/3m/customer_indique_ganhe.parquet')"
   ]
  },
  {
   "cell_type": "code",
   "execution_count": 4,
   "id": "0ac38f8a-a177-428e-8fe4-6f9b6cb83a48",
   "metadata": {},
   "outputs": [],
   "source": [
    "df_indique_ganhe['nota_recomendacao'] = 10"
   ]
  },
  {
   "cell_type": "markdown",
   "id": "b4c7732d-9e34-4aca-be6b-442311efb498",
   "metadata": {},
   "source": [
    " ### Definition of data types"
   ]
  },
  {
   "cell_type": "code",
   "execution_count": 5,
   "id": "2c05d406-9957-4df6-acea-ec3051470fac",
   "metadata": {},
   "outputs": [],
   "source": [
    "# Para o tipo numérico\n",
    "df_nps['NOTA_RECOMENDACAO'] = pd.to_numeric(df_nps['NOTA_RECOMENDACAO'], errors = 'coerce')\n",
    "\n",
    "# Para o tipo datetime\n",
    "df_nps['CREATED_DATE_'] = pd.to_datetime(df_nps['CREATED_DATE_'])\n",
    "df_nps['MODIFIED_DATE_'] = pd.to_datetime(df_nps['MODIFIED_DATE_'])\n",
    "\n",
    "# Para o tipo string\n",
    "df_nps['EMAIL'] = df_nps['EMAIL'].astype(str)\n",
    "df_nps['SATISFACAO'] = df_nps['SATISFACAO'].astype(str)\n",
    "df_nps['SUGESTAO'] = df_nps['SUGESTAO'].astype(str)"
   ]
  },
  {
   "cell_type": "code",
   "execution_count": 6,
   "id": "eb5df6ee-02d0-4be5-8948-1a41ebdafab6",
   "metadata": {},
   "outputs": [],
   "source": [
    "# Para o tipo numérico\n",
    "df_customers['consumer_id'] = pd.to_numeric(df_customers['consumer_id'], errors = 'coerce')\n",
    "df_customers['role_id'] = pd.to_numeric(df_customers['role_id'], errors = 'coerce')\n",
    "df_customers['cpf'] = pd.to_numeric(df_customers['cpf'], errors = 'coerce')\n",
    "df_customers['zipcode'] = pd.to_numeric(df_customers['zipcode'], errors = 'coerce')\n",
    "df_customers['street_number'] = pd.to_numeric(df_customers['street_number'], errors = 'coerce')\n",
    "df_customers['phonenumber'] = pd.to_numeric(df_customers['phonenumber'], errors = 'coerce')\n",
    "df_customers['paypal_cpf'] = pd.to_numeric(df_customers['paypal_cpf'], errors = 'coerce')\n",
    "df_customers['allow_newsletter'] = pd.to_numeric(df_customers['allow_newsletter'], errors = 'coerce')\n",
    "df_customers['allow_promos'] = pd.to_numeric(df_customers['allow_promos'], errors = 'coerce')\n",
    "df_customers['paypal_allow_automatic_payment'] = pd.to_numeric(df_customers['paypal_allow_automatic_payment'], errors = 'coerce')\n",
    "df_customers['allow_automatic_payment'] = pd.to_numeric(df_customers['allow_automatic_payment'], errors = 'coerce')\n",
    "df_customers['paypal_subscription_canceled'] = pd.to_numeric(df_customers['paypal_subscription_canceled'], errors = 'coerce')\n",
    "df_customers['active'] = pd.to_numeric(df_customers['active'], errors = 'coerce')\n",
    "df_customers['signup_complete'] = pd.to_numeric(df_customers['signup_complete'], errors = 'coerce')\n",
    "df_customers['city_id'] = pd.to_numeric(df_customers['city_id'], errors = 'coerce')\n",
    "df_customers['year_ptt'] = pd.to_numeric(df_customers['year_ptt'], errors = 'coerce')\n",
    "df_customers['month_ptt'] = pd.to_numeric(df_customers['month_ptt'], errors = 'coerce')\n",
    "df_customers['day_ptt'] = pd.to_numeric(df_customers['day_ptt'], errors = 'coerce')"
   ]
  },
  {
   "cell_type": "code",
   "execution_count": 7,
   "id": "205e6add-193f-4d37-82be-21aca0a1212a",
   "metadata": {},
   "outputs": [],
   "source": [
    "df_customers = df_customers.drop_duplicates(subset='consumer_id')"
   ]
  },
  {
   "cell_type": "code",
   "execution_count": 8,
   "id": "1c02d0d0-9c7d-413e-ad7d-ccdb0dc89927",
   "metadata": {},
   "outputs": [],
   "source": [
    "df_indique_ganhe['consumer_id'] = pd.to_numeric(df_indique_ganhe['consumer_id'])"
   ]
  },
  {
   "cell_type": "markdown",
   "id": "3b172225-1ed9-4eaf-a132-7656eed17493",
   "metadata": {},
   "source": [
    "### Renaming columns"
   ]
  },
  {
   "cell_type": "code",
   "execution_count": 9,
   "id": "bcfc6e46-f489-4c43-8d28-0c1b019edc88",
   "metadata": {},
   "outputs": [],
   "source": [
    "columns = {\n",
    "    'EMAIL':'email',\n",
    "    'NOTA_RECOMENDACAO':'nota_recomendacao',\n",
    "    'SATISFACAO':'satisfacao',\n",
    "    'SUGESTAO': 'sugestao',\n",
    "    'CREATED_DATE_': 'created_date_',\n",
    "    'MODIFIED_DATE_': 'modified_date'\n",
    "}\n",
    "df_nps = df_nps.rename(columns=columns)"
   ]
  },
  {
   "cell_type": "code",
   "execution_count": 10,
   "id": "364834a5-317f-4645-91ee-ff3e6b7bb2b8",
   "metadata": {},
   "outputs": [
    {
     "data": {
      "text/html": [
       "<div>\n",
       "<style scoped>\n",
       "    .dataframe tbody tr th:only-of-type {\n",
       "        vertical-align: middle;\n",
       "    }\n",
       "\n",
       "    .dataframe tbody tr th {\n",
       "        vertical-align: top;\n",
       "    }\n",
       "\n",
       "    .dataframe thead th {\n",
       "        text-align: right;\n",
       "    }\n",
       "</style>\n",
       "<table border=\"1\" class=\"dataframe\">\n",
       "  <thead>\n",
       "    <tr style=\"text-align: right;\">\n",
       "      <th></th>\n",
       "      <th>email</th>\n",
       "      <th>nota_recomendacao</th>\n",
       "      <th>satisfacao</th>\n",
       "      <th>sugestao</th>\n",
       "      <th>created_date_</th>\n",
       "      <th>modified_date</th>\n",
       "    </tr>\n",
       "  </thead>\n",
       "  <tbody>\n",
       "    <tr>\n",
       "      <th>0</th>\n",
       "      <td>roneyolliiver@hotmail.com</td>\n",
       "      <td>10.0</td>\n",
       "      <td>muito satisfeito</td>\n",
       "      <td>Muito bom, recomendo a todos a mais de 3 anos ...</td>\n",
       "      <td>2020-09-01 14:04:50</td>\n",
       "      <td>2020-09-01 14:04:50</td>\n",
       "    </tr>\n",
       "    <tr>\n",
       "      <th>1</th>\n",
       "      <td>matimbu8@gmail.com</td>\n",
       "      <td>7.0</td>\n",
       "      <td>satisfeito</td>\n",
       "      <td>O atendimento foi ótimo os frentistas me ajudo...</td>\n",
       "      <td>2020-09-01 14:04:52</td>\n",
       "      <td>2020-09-01 14:04:52</td>\n",
       "    </tr>\n",
       "    <tr>\n",
       "      <th>2</th>\n",
       "      <td>tiagofranco31@gmail.com</td>\n",
       "      <td>3.0</td>\n",
       "      <td>insatisfeito</td>\n",
       "      <td>Falhou o pagamento, erro na hora pagar, pouco ...</td>\n",
       "      <td>2020-09-01 14:04:54</td>\n",
       "      <td>2020-09-01 14:04:54</td>\n",
       "    </tr>\n",
       "    <tr>\n",
       "      <th>3</th>\n",
       "      <td>pontepreta.paineiras@gmail.com</td>\n",
       "      <td>10.0</td>\n",
       "      <td>muito satisfeito</td>\n",
       "      <td>Amoooo qdo recebo código de desconto... até ab...</td>\n",
       "      <td>2020-09-01 14:04:55</td>\n",
       "      <td>2020-09-01 14:04:55</td>\n",
       "    </tr>\n",
       "    <tr>\n",
       "      <th>4</th>\n",
       "      <td>machabas@gmail.com</td>\n",
       "      <td>1.0</td>\n",
       "      <td>insatisfeito</td>\n",
       "      <td>Apresentam promoção, quando chego pra abastece...</td>\n",
       "      <td>2020-09-01 14:04:57</td>\n",
       "      <td>2021-04-14 11:25:29</td>\n",
       "    </tr>\n",
       "  </tbody>\n",
       "</table>\n",
       "</div>"
      ],
      "text/plain": [
       "                            email  nota_recomendacao        satisfacao  \\\n",
       "0       roneyolliiver@hotmail.com               10.0  muito satisfeito   \n",
       "1              matimbu8@gmail.com                7.0        satisfeito   \n",
       "2         tiagofranco31@gmail.com                3.0      insatisfeito   \n",
       "3  pontepreta.paineiras@gmail.com               10.0  muito satisfeito   \n",
       "4              machabas@gmail.com                1.0      insatisfeito   \n",
       "\n",
       "                                            sugestao       created_date_  \\\n",
       "0  Muito bom, recomendo a todos a mais de 3 anos ... 2020-09-01 14:04:50   \n",
       "1  O atendimento foi ótimo os frentistas me ajudo... 2020-09-01 14:04:52   \n",
       "2  Falhou o pagamento, erro na hora pagar, pouco ... 2020-09-01 14:04:54   \n",
       "3  Amoooo qdo recebo código de desconto... até ab... 2020-09-01 14:04:55   \n",
       "4  Apresentam promoção, quando chego pra abastece... 2020-09-01 14:04:57   \n",
       "\n",
       "        modified_date  \n",
       "0 2020-09-01 14:04:50  \n",
       "1 2020-09-01 14:04:52  \n",
       "2 2020-09-01 14:04:54  \n",
       "3 2020-09-01 14:04:55  \n",
       "4 2021-04-14 11:25:29  "
      ]
     },
     "execution_count": 10,
     "metadata": {},
     "output_type": "execute_result"
    }
   ],
   "source": [
    "df_nps.head()"
   ]
  },
  {
   "cell_type": "markdown",
   "id": "612fa727-113b-4520-a923-9088ac14f542",
   "metadata": {},
   "source": [
    "### Merging DataFrames"
   ]
  },
  {
   "cell_type": "code",
   "execution_count": 11,
   "id": "92316ec1-e7fd-4e5f-9427-1c076fecbc98",
   "metadata": {},
   "outputs": [],
   "source": [
    "df_customer_ig = df_customers.merge(df_indique_ganhe, on='consumer_id', how='left')"
   ]
  },
  {
   "cell_type": "code",
   "execution_count": 12,
   "id": "1e6fe88c-c59f-4322-b945-7f164db176ba",
   "metadata": {},
   "outputs": [],
   "source": [
    "df_customer_ig_nps = df_customer_ig.merge(df_nps, on='email', how='left', suffixes=('_customer', '_nps'))"
   ]
  },
  {
   "cell_type": "markdown",
   "id": "d810ca65-0ad0-4176-9044-c1dd6348334c",
   "metadata": {},
   "source": [
    "### Filtering final Dataframe"
   ]
  },
  {
   "cell_type": "code",
   "execution_count": 13,
   "id": "712975b8-5f7b-40b9-9411-c782e6e31a04",
   "metadata": {},
   "outputs": [],
   "source": [
    "has_nps_1_mask = df_customer_ig_nps.nota_recomendacao_customer.notna()\n",
    "has_nps_2_mask = df_customer_ig_nps.nota_recomendacao_nps.notna()\n",
    "date_range_mask = df_customer_ig_nps['created_date_'] > '2021-10-24 00:00:00'"
   ]
  },
  {
   "cell_type": "code",
   "execution_count": 14,
   "id": "1fd891a9-3540-46c0-9efd-12862bcc57b9",
   "metadata": {},
   "outputs": [],
   "source": [
    "df_customer_ig_nps = df_customer_ig_nps[has_nps_1_mask | (has_nps_2_mask & date_range_mask)]"
   ]
  },
  {
   "cell_type": "code",
   "execution_count": 15,
   "id": "28a64f11-e0ad-413d-8e8c-39e507b96897",
   "metadata": {},
   "outputs": [],
   "source": [
    "df_customer_ig_nps.loc[:,'nps'] = df_customer_ig_nps['nota_recomendacao_customer'].fillna(df_customer_ig_nps[\"nota_recomendacao_nps\"])"
   ]
  },
  {
   "cell_type": "code",
   "execution_count": 20,
   "id": "da89ccf2-5e40-4125-99fc-70af810b948e",
   "metadata": {},
   "outputs": [
    {
     "data": {
      "text/plain": [
       "(5306, 59)"
      ]
     },
     "execution_count": 20,
     "metadata": {},
     "output_type": "execute_result"
    }
   ],
   "source": [
    "df_customer_ig_nps.shape"
   ]
  },
  {
   "cell_type": "code",
   "execution_count": 25,
   "id": "6d1f19f6-f200-4255-b718-8cf6698faf14",
   "metadata": {},
   "outputs": [],
   "source": [
    "df_customer_ig_nps = df_customer_ig_nps.drop_duplicates(subset='consumer_id')"
   ]
  },
  {
   "cell_type": "code",
   "execution_count": 26,
   "id": "cace69fe-2f06-4d65-9602-1ec00f2610de",
   "metadata": {},
   "outputs": [
    {
     "data": {
      "text/plain": [
       "(5062, 59)"
      ]
     },
     "execution_count": 26,
     "metadata": {},
     "output_type": "execute_result"
    }
   ],
   "source": [
    "df_customer_ig_nps.shape"
   ]
  },
  {
   "cell_type": "markdown",
   "id": "aff165a5-8bfb-48b3-af19-13bf3fe5d916",
   "metadata": {},
   "source": [
    "### Saving final DataFrame"
   ]
  },
  {
   "cell_type": "code",
   "execution_count": 28,
   "id": "ebb3c57c-077a-490f-9c32-b92a0dccb433",
   "metadata": {},
   "outputs": [],
   "source": [
    "df_customer_ig_nps.to_parquet('../data/stage/3m/customers_nps_ig.parquet')"
   ]
  }
 ],
 "metadata": {
  "kernelspec": {
   "display_name": "Python 3 (ipykernel)",
   "language": "python",
   "name": "python3"
  },
  "language_info": {
   "codemirror_mode": {
    "name": "ipython",
    "version": 3
   },
   "file_extension": ".py",
   "mimetype": "text/x-python",
   "name": "python",
   "nbconvert_exporter": "python",
   "pygments_lexer": "ipython3",
   "version": "3.7.12"
  }
 },
 "nbformat": 4,
 "nbformat_minor": 5
}
