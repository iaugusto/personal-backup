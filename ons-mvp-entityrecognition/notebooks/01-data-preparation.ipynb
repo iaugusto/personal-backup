{
 "cells": [
  {
   "cell_type": "code",
   "execution_count": 1,
   "metadata": {},
   "outputs": [],
   "source": [
    "# pip install awswrangler"
   ]
  },
  {
   "cell_type": "code",
   "execution_count": 2,
   "metadata": {},
   "outputs": [
    {
     "name": "stderr",
     "output_type": "stream",
     "text": [
      "WARNING:root:Detected ujson version below 2.0.0. This is not recommended as precision may be lost.\n"
     ]
    }
   ],
   "source": [
    "import os\n",
    "import sys\n",
    "import numpy as np\n",
    "import pandas as pd\n",
    "import awswrangler as wr\n",
    "\n",
    "sys.path.append(os.path.dirname(os.getcwd())+'/src')\n",
    "from preprocess import preprocess_module"
   ]
  },
  {
   "cell_type": "code",
   "execution_count": 3,
   "metadata": {},
   "outputs": [
    {
     "data": {
      "text/plain": [
       "(datetime.datetime(2022, 8, 19, 13, 32, 57, 684765), 'preprocessing module')"
      ]
     },
     "execution_count": 3,
     "metadata": {},
     "output_type": "execute_result"
    }
   ],
   "source": [
    "preproc = preprocess_module()\n",
    "preproc.gen_time, preproc.class_name"
   ]
  },
  {
   "cell_type": "markdown",
   "metadata": {},
   "source": [
    "---\n",
    "## Reading input data"
   ]
  },
  {
   "cell_type": "code",
   "execution_count": 4,
   "metadata": {},
   "outputs": [
    {
     "data": {
      "text/html": [
       "<div>\n",
       "<style scoped>\n",
       "    .dataframe tbody tr th:only-of-type {\n",
       "        vertical-align: middle;\n",
       "    }\n",
       "\n",
       "    .dataframe tbody tr th {\n",
       "        vertical-align: top;\n",
       "    }\n",
       "\n",
       "    .dataframe thead th {\n",
       "        text-align: right;\n",
       "    }\n",
       "</style>\n",
       "<table border=\"1\" class=\"dataframe\">\n",
       "  <thead>\n",
       "    <tr style=\"text-align: right;\">\n",
       "      <th></th>\n",
       "      <th>MpoCentro</th>\n",
       "      <th>Texto Limpo</th>\n",
       "    </tr>\n",
       "  </thead>\n",
       "  <tbody>\n",
       "    <tr>\n",
       "      <th>0</th>\n",
       "      <td>cosr-nco</td>\n",
       "      <td>Estabelecer procedimentos para o controle da t...</td>\n",
       "    </tr>\n",
       "    <tr>\n",
       "      <th>1</th>\n",
       "      <td>cosr-nco</td>\n",
       "      <td>2.1.             Os procedimentos para a reali...</td>\n",
       "    </tr>\n",
       "    <tr>\n",
       "      <th>2</th>\n",
       "      <td>cosr-nco</td>\n",
       "      <td>1. OBJETIVO2....................................</td>\n",
       "    </tr>\n",
       "    <tr>\n",
       "      <th>3</th>\n",
       "      <td>cosr-nco</td>\n",
       "      <td>1. OBJETIVO2....................................</td>\n",
       "    </tr>\n",
       "    <tr>\n",
       "      <th>4</th>\n",
       "      <td>cosr-nco</td>\n",
       "      <td>1. OBJETIVO2....................................</td>\n",
       "    </tr>\n",
       "  </tbody>\n",
       "</table>\n",
       "</div>"
      ],
      "text/plain": [
       "  MpoCentro                                        Texto Limpo\n",
       "0  cosr-nco  Estabelecer procedimentos para o controle da t...\n",
       "1  cosr-nco  2.1.             Os procedimentos para a reali...\n",
       "2  cosr-nco   1. OBJETIVO2....................................\n",
       "3  cosr-nco   1. OBJETIVO2....................................\n",
       "4  cosr-nco   1. OBJETIVO2...................................."
      ]
     },
     "execution_count": 4,
     "metadata": {},
     "output_type": "execute_result"
    }
   ],
   "source": [
    "df_fragments = preproc.get_fragments()\n",
    "df_fragments.head()"
   ]
  },
  {
   "cell_type": "code",
   "execution_count": 9,
   "metadata": {},
   "outputs": [],
   "source": [
    "def regex_subs_fragments(\n",
    "    text\n",
    "    ):\n",
    "    \n",
    "    import regex as re\n",
    "\n",
    "    # seções numéricas\n",
    "    rule_list = []\n",
    "    subsection_max_num = 4\n",
    "    for i in range(subsection_max_num+1, 2,-1):\n",
    "        rule_list.append('[0-9]+.'*i)\n",
    "        rule = '[0-9]+.'*i\n",
    "        rule_list.append(rule[0:-1])\n",
    "\n",
    "    for rule in rule_list:\n",
    "        text = re.sub(f'{rule}', '', text)\n",
    "\n",
    "    # seções alfabéticas\n",
    "    text = re.sub(r'(\\s[abcde]\\)\\s+)','. ',text)\n",
    "    text = re.sub(r'([0-9]\\)\\s+)|([0-9][0-9]\\)\\s+)','. ',text)\n",
    "\n",
    "    # módulos alfanuméricos\n",
    "    text = re.sub(r'(módulo\\s[0-9])|(modulo\\s[0-9])|(submódulo\\s[0-9].[0-9][0-9].)|(submodulo\\s[0-9].[0-9][0-9].)','',text)\n",
    "    text = re.sub(r'(módulo\\s[0-9])|(modulo\\s[0-9])|(submódulo\\s[0-9])|(submodulo\\s[0-9])','',text)\n",
    "    text = re.sub(r'(módulo)|(submódulo)|(modulo)|(submodulo)','',text)\n",
    "\n",
    "    # caracteres especiais\n",
    "    text = re.sub(r'(•)', \"\", text)\n",
    "    text = re.sub(r'(\\s-\\s)', \" \", text)\n",
    "    text = re.sub(r'(-\\s)', \" \", text)\n",
    "\n",
    "    # palavras específicas\n",
    "    text = re.sub(r'((objetivo)[1-9].|(considerações gerais)[1-9].)',(''),text)\n",
    "\n",
    "    # separação de termos - concatenação indevida\n",
    "    text = re.sub(' +', ' ', text)\n",
    "    text = re.sub(r'([a-zzáàâãéèêíïóôõöúçñ][a-zzáàâãéèêíïóôõöúçñ])([0-9])', r'\\1 \\2', text)\n",
    "    text = re.sub(r'([0-9])(energização)', r'\\1 \\2', text)\n",
    "    text = re.sub(r'([0-9])(desenergização)', r'\\1 \\2', text)\n",
    "    text = re.sub(r'([a-rzáàâãéèêíïóôõöúçñ])(energização)', r'\\1 \\2', text)\n",
    "    text = re.sub(r'([t-zzáàâãéèêíïóôõöúçñ])(energização)', r'\\1 \\2', text)\n",
    "    text = re.sub(r'([a-rzáàâãéèêíïóôõöúçñ])(desenergização)', r'\\1 \\2', text)\n",
    "    text = re.sub(r'([t-zzáàâãéèêíïóôõöúçñ])(desenergização)', r'\\1 \\2', text)\n",
    "    text = re.sub(r'([a-zzáàâãéèêíïóôõöúçñ])(manobra)', r'\\1 \\2', text)\n",
    "    text = re.sub(r'([a-zzáàâãéèêíïóôõöúçñ])(lt)', r'\\1 \\2', text)\n",
    "    text = re.sub(r'[^\\S]?(\\(.*?\\))[^\\S]?', r' \\1 ', text)\n",
    "    text = re.sub(r\"([\\w/'+$\\s-]+|[^\\w/'+$\\s-]+)\\s*\", r\"\\1 \", text)\n",
    "    text = re.sub('(&#xa0;)', ' ', text)\n",
    "    text = re.sub('(\\\\xa0)', ' ', text)\n",
    "    text = re.sub('(color:#ffffff)', ' ', text)\n",
    "    text = re.sub('<\\span>', ' ', text)\n",
    "    text = re.sub('\\uf0b7', ' ', text)\n",
    "    text = re.sub('\\uf044', ' ', text)\n",
    "\n",
    "    # substituir padrões de colunas temporárias para separadores\n",
    "    text = re.sub(r'-[0-9][a-z][a-z][a-z][a-z]-[a-z][a-z][a-z]','#',text)\n",
    "    text = re.sub(r'-[0-9][a-z][a-z][a-z][a-z]-[a-z][a-z]','#',text)\n",
    "    text = re.sub(r'[a-z][a-z][a-z][a-z]-[a-z][a-z][a-z]','#',text)\n",
    "    text = re.sub(r'[a-z][a-z][a-z][a-z]-[a-z][a-z]','#',text)\n",
    "    text = re.sub(r'[a-z][a-z][a-z]-[a-z][a-z]','#',text)\n",
    "    text = re.sub(r'chesf (cron)','#',text)\n",
    "    text = re.sub(r'execuçãoprocedimentoitem / [a-z][a-z][a-z]-[a-z][a-z]','#',text)\n",
    "    text = re.sub(r'execuçãoprocedimentoitem / [a-z][a-z][a-z]-[a-z][a-z][a-z]','#',text)\n",
    "    text = re.sub(r'passocoordenaçãocontrolecomando','#',text)\n",
    "    text = re.sub(r'execuçãoprocedimentosobjetivo','#',text)\n",
    "    text = re.sub(r'execuçãoprocedimento','#',text)\n",
    "    text = re.sub('#', '', text)\n",
    "\n",
    "    # remover excesso de espaços\n",
    "    text = re.sub(' +', ' ', text)\n",
    "\n",
    "    # remoção de pontos repetidos\n",
    "    text = text.split('.')\n",
    "    text = [i for i in text if i!='']\n",
    "    text = '.'.join(text)\n",
    "\n",
    "    return text\n",
    "\n",
    "\n",
    "def preprocess_fragments(\n",
    "    df, \n",
    "    col\n",
    "    ):\n",
    "\n",
    "    df['processed'] = df[col].apply(lambda x:regex_subs_fragments(x))\n",
    "\n",
    "    return df"
   ]
  },
  {
   "cell_type": "code",
   "execution_count": 10,
   "metadata": {},
   "outputs": [
    {
     "data": {
      "text/html": [
       "<div>\n",
       "<style scoped>\n",
       "    .dataframe tbody tr th:only-of-type {\n",
       "        vertical-align: middle;\n",
       "    }\n",
       "\n",
       "    .dataframe tbody tr th {\n",
       "        vertical-align: top;\n",
       "    }\n",
       "\n",
       "    .dataframe thead th {\n",
       "        text-align: right;\n",
       "    }\n",
       "</style>\n",
       "<table border=\"1\" class=\"dataframe\">\n",
       "  <thead>\n",
       "    <tr style=\"text-align: right;\">\n",
       "      <th></th>\n",
       "      <th>MpoCentro</th>\n",
       "      <th>Texto Limpo</th>\n",
       "      <th>processed</th>\n",
       "    </tr>\n",
       "  </thead>\n",
       "  <tbody>\n",
       "    <tr>\n",
       "      <th>0</th>\n",
       "      <td>cosr-nco</td>\n",
       "      <td>Estabelecer procedimentos para o controle da t...</td>\n",
       "      <td>Estabelecer procedimentos para o controle da t...</td>\n",
       "    </tr>\n",
       "    <tr>\n",
       "      <th>1</th>\n",
       "      <td>cosr-nco</td>\n",
       "      <td>2.1.             Os procedimentos para a reali...</td>\n",
       "      <td>2 . 1 . Os procedimentos para a realização de ...</td>\n",
       "    </tr>\n",
       "    <tr>\n",
       "      <th>2</th>\n",
       "      <td>cosr-nco</td>\n",
       "      <td>1. OBJETIVO2....................................</td>\n",
       "      <td>1 . OBJETIVO2 . CONSIDERAÇÕES GERAIS3 . PREPA...</td>\n",
       "    </tr>\n",
       "    <tr>\n",
       "      <th>3</th>\n",
       "      <td>cosr-nco</td>\n",
       "      <td>1. OBJETIVO2....................................</td>\n",
       "      <td>1 . OBJETIVO2 . CONSIDERAÇÕES GERAIS3 . PREPA...</td>\n",
       "    </tr>\n",
       "    <tr>\n",
       "      <th>4</th>\n",
       "      <td>cosr-nco</td>\n",
       "      <td>1. OBJETIVO2....................................</td>\n",
       "      <td>1 . OBJETIVO2 . CONSIDERAÇÕES GERAIS3 . PREPA...</td>\n",
       "    </tr>\n",
       "  </tbody>\n",
       "</table>\n",
       "</div>"
      ],
      "text/plain": [
       "  MpoCentro                                        Texto Limpo  \\\n",
       "0  cosr-nco  Estabelecer procedimentos para o controle da t...   \n",
       "1  cosr-nco  2.1.             Os procedimentos para a reali...   \n",
       "2  cosr-nco   1. OBJETIVO2....................................   \n",
       "3  cosr-nco   1. OBJETIVO2....................................   \n",
       "4  cosr-nco   1. OBJETIVO2....................................   \n",
       "\n",
       "                                           processed  \n",
       "0  Estabelecer procedimentos para o controle da t...  \n",
       "1  2 . 1 . Os procedimentos para a realização de ...  \n",
       "2   1 . OBJETIVO2 . CONSIDERAÇÕES GERAIS3 . PREPA...  \n",
       "3   1 . OBJETIVO2 . CONSIDERAÇÕES GERAIS3 . PREPA...  \n",
       "4   1 . OBJETIVO2 . CONSIDERAÇÕES GERAIS3 . PREPA...  "
      ]
     },
     "execution_count": 10,
     "metadata": {},
     "output_type": "execute_result"
    }
   ],
   "source": [
    "df_fragments = preprocess_fragments(df_fragments, 'Texto Limpo')\n",
    "df_fragments.head()"
   ]
  },
  {
   "cell_type": "code",
   "execution_count": 14,
   "metadata": {},
   "outputs": [],
   "source": [
    "test = df_fragments['processed'].iloc[3]"
   ]
  },
  {
   "cell_type": "code",
   "execution_count": 25,
   "metadata": {},
   "outputs": [
    {
     "data": {
      "text/plain": [
       "' 1 . OBJETIVO2 . CONSIDERAÇÕES GERAIS3 . PREPARAÇÃO PARA MANOBRAS EM LINHAS DE TRANSMISSÃO3 . 1 . LT 230 kV UTE Jaguatirica II / Boa Vista Desenergização da LT 230 kV UTE Jaguatirica II / Boa Vista ( ambos os sentidos ) Energização da LT 230 kV UTE Jaguatirica II / Boa Vista 3 . 2 . LT 69 kV Boa Vista / Monte Cristo Desenergização da LT 69 kV Boa Vista / Monte Cristo Energização da LT 69 kV Boa Vista / Monte Cristo 3 . 3 . LT 69 kV Boa Vista / Distrito com derivação para a SE Equatorial e para a UTE Monte Cristo Bloco II Desenergização da LT 69 kV Boa Vista / Distrito com derivação para a SE Equatorial e para a UTE Monte Cristo Bloco II Energização da LT 69 kV Boa Vista / Distrito com derivação para a SE Equatorial e para a UTE Monte Cristo Bloco 23 . 4 . LT 69 kV Boa Vista / Floresta C1 com derivação para SE Satélite Desenergização da LT 69 kV Boa Vista / Floresta C1 com derivação para SE Satélite Energização da LT 69 kV Boa Vista / Floresta C1 com derivação para SE Satélite 3 . 5 . LT 69 kV Boa Vista / Floresta C Desenergização da LT 69 kV Boa Vista / Floresta C Energização da LT 69 kV Boa Vista / Floresta C23 . 6 . LT 69 kV Boa Vista / Centro Desenergização da LT 69 kV Boa Vista / Centro Energização da LT 69 kV Boa Vista / Centro 3 . 7 . LT 69 kV Distrito / Floresta Desenergização da LT 69 kV Distrito / Floresta Energização da LT 69 kV Distrito / Floresta 3 . 8 . LT 69 kV Floresta / Centro Desenergização da LT 69 kV Floresta / Centro Energização da LT 69 kV Floresta / Centro 3 . 9 . LT 69 kV Jacitara / Boa VistaDesenergização da LT 69 kV Jacitara / Boa Vista ( ambos os sentidos ) Energização da LT 69 kV Jacitara / Boa VistaA partir da SE Boa Vista ( sentido único ) 3 . 10 . LT 69 kV LT 69 kV Serra da Lua / Mata Mata Desenergização da LT 69 kV Serra da Lua / Mata Mata ( ambos os sentidos ) Energização da LT 69 kV Serra da Lua / Mata Mata 4 . PREPARAÇÃO PARA MANOBRAS EM TRANSFORMADORES4 . 1 . SE Boa Vista Transformador kV 100 MVA Desenergização do transformador BVTF6-02 ou 03 ou 04 de kV 100 MVA da SE Boa Vista Energização do transformador BVTF6-02 ou 03 ou 04 de kV 100 MVA da SE Boa Vista 4 . 2 . SE Boa Vista – Transformador do Compensador Estático kV 150 MVA Desenergização do transformador BVTF6-06 do Compensador Estático ( -120 / +150 Mvar ) kV 150 MVA da SE Boa Vista Energização do transformador BVTF6-06 do Compensador Estático ( -120 / + 150 MVAR ) kV 150 MVA da SE Boa Vista 4 . 3 . SE Centro Transformador KV 26 , 6 MVA Desenergização do transformador CETF4-01 ou 02 ou 03 de kV 26 , 6 MVA da SE CENTRO Energização do autotransformador CETF4-01 ou 02 ou 03 de kV 26 , 6 MVA da SE CENTRO4 . 4 . SE Distrito Transformador KV 26 , 6 MVA Desenergização do transformador DTTF4-01 ou 02 de kV 26 , 6 MVA da SE Distrito Energização do transformador DTTF4-01 ou 02 de kV 26 , 6 MVA da SE Distrito 4 . 5 . SE Equatorial Transformador KV 26 , 6 MVA Desenergização do transformador EQTFkV 26 , 6 MVA da SE Equatorial Energização do transformador EQTFkV 26 , 6 MVA da SE Equatorial 4 . 6 . SE Floresta Transformador KV 26 , 6 MVA Desenergização do transformador FTTF4-01 ou 02 ou 03 de kV 26 , 6 MVA da SE Floresta Energização do transformador FTTF4-01 ou 02 ou 03 de kV 26 , 6 MVA da SE Floresta 4 . 7 . UTE Monte Cristo II Transformador MDTFKV 31 , 25 MVA Desenergização do transformador MDTFKV 31 , 25 MVA da UTE Monte Cristo II Energização do transformador MDTFKV 31 , 25 MVA da UTE Monte Cristo II4 . 8 . SE Satélite – Transformadores STTF4-01 ou STTF4-02 DE KV 18 , 75 MVA Desenergização do transformador STTF4-01 ou STTF4-02 DE KV – 18 , 75 MVA da SE Satélite Energização do transformador STTF4-01 ou STTF4-02 DE KV – 18 , 75 MVA da SE Satélite 4 . 9 . UTE JAGUATIRICA II Transformador 11BAT10 OU 12BAT10 de kV Desenergização do transformador 11BAT10 OU 12BAT10 de V da UTE JAGUATIRICA II Energização do transformador 11BAT10 OU 12BAT10 de kV da UTE JAGUATIRICA IIOBJETIVOEstabelecer procedimentos para o controle da transmissão , referentes à Preparação para Manobras na Área Roraima , a serem seguidos pelos operadores do COSR-NCO e pela Operação dos Agentes envolvidos . CONSIDERAÇÕES GERAISOs procedimentos para a realização de manobras de desenergização consideram o sistema completo nas instalações envolvidas . Podem constar condições adicionais associadas a desenergização considerando a indisponibilidade de equipamentos . Os procedimentos para a realização de manobras de energização , além do próprio equipamento a ser manobrado , podem considerar mais uma indisponibilidade nas instalações envolvidas . Podem existir procedimentos para energização considerando desligamentos mú ltiplos de circuitos paralelos ou de transformadores que operam em paralelo ; as condições adicionais associadas a essas manobras devem estar especificadas nos itens correspondentes . Constam nesta instrução de operação os procedimentos para manobras de todas as linhas de transmissão e transformadores da Rede de Operação do Sistema Roraima . Para linhas de transmissão e transformadores , pertencentes à Rede de Operação e que são de uso exclusivo da geração ou de funções transmissão de controle de reativos , bem como para os demais equipamentos pertencentes a Rede de Operação , só constam aqueles cujas manobras necessitam de procedimentos específicos de ajustes no sistema . Os procedimentos para desligamento programado ou de urgência de linhas de transmissão e de equipamentos são sempre coordenados pelo ONS . Quando se tratar de manobras programadas , os procedimentos contidos nas recomendações das análises do desligamento prevalecem sobre os procedimentos contidos nesta Instrução de Operação . Os procedimentos para realização de manobras de desenergização devem atender os limites operativos sistêmicos definidos pelo ONS e os limites operativos declarados pelos agentes nos Cadastros de Informações Operacionais de Limites de Equipamentos . O restabelecimento de linhas de transmissão e de equipamentos , bem como sincronismo de unidades geradoras , após desligamentos programado , de urgência ou de emergência , são sempre coordenados pelo ONS . O restabelecimento de linhas de transmissão e equipamentos , após desligamento automático , pode ser realizado com autonomia pela operação da instalação , desde que explicitado nas Instruções de Operação de Instalações . Quando as condições a serem observadas na manobra não estiverem atendidas , a manobra é coordenada pelo ONS . Caso a operação da instalação constate que , durante o procedimento de manobra , exista um fechamento de paralelo , o agente deve informar essa condição ao ONS , para que esse coordene as ações necessárias para o atendimento das condições de fechamento . É prerrogativa dos Centros de Operação do ONS , em função de necessidade da operação do sistema , intervir nas manobras que são realizadas com autonomia pela operação da instalação . Os procedimentos para manobras de linhas de transmissão e equipamentos sistêmicos só podem ser iniciados após autorização do Centro Nacional de Operação do Sistema . É dispensada a autorização para energização de linhas de transmissão e equipamentos sistêmicos quando a operação da instalação tem autonomia para restabelecimento prevista nas Instruções de Operação de Instalação . Para manobras de linhas de transmissão e equipamentos que interligam instalações subordinadas a Centros de Operação do ONS distintos , nos passos referentes às ações de energizar , ligar , desenergizar e desligar , o responsável pela coordenação deve informar a realização da manobra para os demais Centros de Operação envolvidos no procedimento , bem como verificar o atendimento a todos os itens de controle . Os Centros de Operação responsáveis pelo controle do procedimento somente devem solicitar as manobras aos Agentes após a confirmação do atendimento dos itens de controle pelo responsável pela coordenação da manobra . A definição da quantidade de tentativas de energização manual de linhas de transmissão ou de equipamentos , bem como o intervalo entre elas , é de responsabilidade do Agente e consta nos Cadastros de Dados Operacionais de Equipamentos . Tentativas adicionais de energização devem ser solicitadas pelo Agente ao Centro de Operação do ONS . Para a referida autorização , além de buscar obter informações com o Agente , para diagnóstico das possíveis causas do desligamento , o Centro de Operação do ONS leva em consideração as condições operativas do Sistema . Caso seja permitido apenas um sentido para a energização da linha de transmissão e somente o terminal emissor tenha sido aberto , não existindo procedimentos para fechamento apenas desse terminal estando o outro terminal fechado , a linha de transmissão deve ser desenergizada e novamente energizada no único sentido permitido . Caso ocorra abertura de apenas um terminal de um transformador , permanecendo esse energizado pelo outro terminal ( primário ou secundário ) , deve ser procedido o fechamento desse terminal , mesmo em situações em que o transformador esteja energizado por um terminal cuja manobra de energização não é permitida . Nesse caso , devem ser atendidas as restrições constantes na manobra desse equipamento no sentido permitido , observando que as restrições de diferença de tensão devem estar referenciadas ao respectivo terminal ( V , em kV ) . Contudo , a possibilidade desse fechamento é condicionada a confirmação da existência de dispositivo de verificação de sincronismo para esse terminal do transformador . Os transformadores devem ser energizados sem restrição de posição nos comutadores sob carga , ou em posições específicas definidas nos estudos e constantes no item de controle do respectivo transformador . Para o fechamento do segundo terminal , os transformadores devem estar com seus comutadores sob carga em posições equivalentes às dos transformadores já ligados . Os procedimentos para manobras de linhas de transmissão dotadas de reatores de linha fixo consideram esse equipamento conectado , caso contrário , essa informação constará no respectivo procedimento para manobra . Linhas de transmissão com reator fixo devem permanecer desligadas em caso de indisponibilidade do correspondente reator , exceto quando explicitada a possibilidade de energização na indisponibilidade desse . As energizações de linhas de transmissão ou transformadores que operam em paralelo devem ser realizadas após verificação de fluxo de potência ativa nas demais linhas de transmissão ou transformadores que já foram energizados , excetu casos explicitados nesta Instrução de Operação . O relacionamento operacional entre o agente operador e o ONS , para autorização de desligamento ou disponibilização de linhas de transmissão ou equipamentos que interligam instalações subordinadas a dois Centros de Operação do ONS distintos , deve ser efetuado entre o agente operador do equipamento e o Centro de Operação do ONS em cuja área de atuação esteja incluída a respectiva linha de transmissão ou equipamento . A linha de transmissão ou equipamento conectado em instalações onde existe compartilhamento de disjuntores associados à sua manobra deve ser manobrado , preferencialmente , pelos disjuntores do mesmo agente responsável pela operação da linha de transmissão ou equipamento . Cabe ao agente responsável pela operação da linha de transmissão ou equipamento contactar os demais agentes envolvidos , para a realização das manobras necessárias na instalação . Situações específicas devem ser tratadas entre os Agentes envolvidos e o ONS . As restrições que necessitem de desligamento em urgência de linha de transmissão ou equipamentos da Rede de Operação devem ser caracterizadas pelos agentes ao Centro de Operação do ONS . Quando for necessário desligar uma linha de transmissão , reator ou banco de capacitores para controle de tensão , devem ser adotados os critérios para complementação de vãos estabelecidos nas Instruções de Operação Normal . Também devem ser observadas as recomendações para complementação de vãos estabelecidas na intervenção relacionada à linha de transmissão ou equipamento . Quando não for possível atender limitações de defasagem angular para fechamento de anel , o ONS deve coordenar o fechamento de anel , mesmo com violação de ângulo , se houver : carga interrompida ; equipamentos em sobrecarga inadmissível ; níveis de confiabilidade críticos ; níveis de tensão superiores a 110 % ou inferiores a 90 % em relação à tensão nominal . PREPARAÇÃO PARA MANOBRAS EM LINHAS DE TRANSMISSÃOLT 230 kV UTE Jaguatirica II / Boa VistaDesenergização da LT 230 kV UTE Jaguatirica II / Boa Vista ( ambos os sentidos ) Energização da LT 230 kV UTE Jaguatirica II / Boa VistaEnergização iniciando pelo terminal da SE Boa Vista ( Sentido Normal ) Energização iniciando pelo terminal da UTE Jaguatirica II ( Sentido Inverso ) LT 69 kV Boa Vista / Monte CristoDesenergização da LT 69 kV Boa Vista / Monte CristoDesenergização iniciando pelo terminal da SE Boa Vista ( Sentido único ) Energização da LT 69 kV Boa Vista / Monte CristoEnergização iniciando pelo terminal da SE Boa Vista ( Sentido único ) LT 69 kV Boa Vista / Distrito com derivação para a SE Equatorial e para a UTE Monte Cristo Bloco IIDesenergização da LT 69 kV Boa Vista / Distrito com derivação para a SE Equatorial e para a UTE Monte Cristo Bloco IIDesenergização ( AMBOS OS SENTIDOS ) Energização da LT 69 kV Boa Vista / Distrito com derivação para a SE Equatorial e para a UTE Monte Cristo Bloco 2Energização iniciando pelo terminal da SE Boa Vista ( Sentido NORMAL ) Energização iniciando pelo terminal da SE Distrito ( Sentido inverso ) LT 69 kV Boa Vista / Floresta C1 com derivação para SE SatéliteDesenergização da LT 69 kV Boa Vista / Floresta C1 com derivação para SE Satélite Desenergização iniciando pela SE Boa Vista ( Sentido único ) Energização da LT 69 kV Boa Vista / Floresta C1 com derivação para SE SatéliteEnergização iniciando pelo terminal da SE Boa Vista ( Sentido único ) LT 69 kV Boa Vista / Floresta C2Desenergização da LT 69 kV Boa Vista / Floresta C2 Desenergização iniciando pelo terminal da SE Boa Vista ( Sentido único ) Energização da LT 69 kV Boa Vista / Floresta C2 Energização iniciando pelo terminal da SE Boa Vista ( Sentido único ) LT 69 kV Boa Vista / CentroDesenergização da LT 69 kV Boa Vista / CentroDesenergização iniciando pelo terminal da SE Centro ( Sentido único ) Energização da LT 69 kV Boa Vista / CentroEnergização iniciando pelo terminal da SE Boa Vista ( Sentido único ) LT 69 kV Distrito / FlorestaDesenergização da LT 69 kV Distrito / FlorestaDesenergização iniciando pelo terminal da SE Distrito ( Sentido único ) Energização da LT 69 kV Distrito / FlorestaEnergização iniciando pelo terminal da SE Distrito ( Sentido único ) LT 69 kV Floresta / CentroDesenergização da LT 69 kV Floresta / CentroDesenergização iniciando pelo terminal da SE Floresta ( Sentido único ) Energização da LT 69 kV Floresta / CentroEnergização iniciando pelo terminal da SE Floresta ( Sentido único ) LT 69 kV Jacitara / Boa VistaDesenergização da LT 69 kV Jacitara / Boa Vista ( ambos os sentidos ) Energização da LT 69 kV Jacitara / Boa VistaA partir da SE Boa Vista ( sentido único ) LT 69 kV LT 69 kV Serra da Lua / Mata MataDesenergização da LT 69 kV Serra da Lua / Mata Mata ( ambos os sentidos ) Energização da LT 69 kV Serra da Lua / Mata MataA partir da SE Mata Mata ( sentido único ) PREPARAÇÃO PARA MANOBRAS EM TRANSFORMADORES '"
      ]
     },
     "execution_count": 25,
     "metadata": {},
     "output_type": "execute_result"
    }
   ],
   "source": [
    "test"
   ]
  },
  {
   "cell_type": "code",
   "execution_count": 16,
   "metadata": {},
   "outputs": [],
   "source": [
    "import regex as re\n",
    "rule = re.compile('lt', flags=re.IGNORECASE)"
   ]
  },
  {
   "cell_type": "code",
   "execution_count": 34,
   "metadata": {},
   "outputs": [
    {
     "data": {
      "text/plain": [
       "'potência'"
      ]
     },
     "execution_count": 34,
     "metadata": {},
     "output_type": "execute_result"
    }
   ],
   "source": [
    "result = re.search('potência', 'potência', re.IGNORECASE)\n",
    "result[0]"
   ]
  },
  {
   "cell_type": "code",
   "execution_count": 27,
   "metadata": {},
   "outputs": [
    {
     "data": {
      "text/plain": [
       "<regex.Match object; span=(98, 100), match='LT'>"
      ]
     },
     "execution_count": 27,
     "metadata": {},
     "output_type": "execute_result"
    }
   ],
   "source": [
    "result"
   ]
  },
  {
   "cell_type": "code",
   "execution_count": 5,
   "metadata": {},
   "outputs": [],
   "source": [
    "# df_equipments = preproc.get_equipments()\n",
    "# df_equipments.head()"
   ]
  },
  {
   "cell_type": "code",
   "execution_count": 6,
   "metadata": {},
   "outputs": [],
   "source": [
    "# df_equipments_fameq = preproc.get_equipments_fameq()\n",
    "# df_equipments_fameq.head()"
   ]
  },
  {
   "cell_type": "markdown",
   "metadata": {},
   "source": [
    "There is no interesction between guid_tipoequipamentosgi and guid_equipamento:"
   ]
  },
  {
   "cell_type": "code",
   "execution_count": 7,
   "metadata": {},
   "outputs": [],
   "source": [
    "# pd.merge(left=df_equipments, right=df_equipments_fameq, left_on='guid_equipamento', right_on='guid_tipoequipamentosgi', how='inner')"
   ]
  },
  {
   "cell_type": "markdown",
   "metadata": {},
   "source": [
    "---\n",
    "## Preprocessing datasets"
   ]
  },
  {
   "cell_type": "code",
   "execution_count": 8,
   "metadata": {},
   "outputs": [
    {
     "data": {
      "text/html": [
       "<div>\n",
       "<style scoped>\n",
       "    .dataframe tbody tr th:only-of-type {\n",
       "        vertical-align: middle;\n",
       "    }\n",
       "\n",
       "    .dataframe tbody tr th {\n",
       "        vertical-align: top;\n",
       "    }\n",
       "\n",
       "    .dataframe thead th {\n",
       "        text-align: right;\n",
       "    }\n",
       "</style>\n",
       "<table border=\"1\" class=\"dataframe\">\n",
       "  <thead>\n",
       "    <tr style=\"text-align: right;\">\n",
       "      <th></th>\n",
       "      <th>MpoCentro</th>\n",
       "      <th>Texto Limpo</th>\n",
       "      <th>processed</th>\n",
       "    </tr>\n",
       "  </thead>\n",
       "  <tbody>\n",
       "    <tr>\n",
       "      <th>0</th>\n",
       "      <td>cosr-nco</td>\n",
       "      <td>estabelecer procedimentos para o controle da t...</td>\n",
       "      <td>estabelecer procedimentos para o controle da t...</td>\n",
       "    </tr>\n",
       "    <tr>\n",
       "      <th>1</th>\n",
       "      <td>cosr-nco</td>\n",
       "      <td>2.1.             os procedimentos para a reali...</td>\n",
       "      <td>2 . 1 . os procedimentos para a realizacao de ...</td>\n",
       "    </tr>\n",
       "    <tr>\n",
       "      <th>2</th>\n",
       "      <td>cosr-nco</td>\n",
       "      <td>1. objetivo2....................................</td>\n",
       "      <td>1 . . preparacao para manobras em linhas de t...</td>\n",
       "    </tr>\n",
       "    <tr>\n",
       "      <th>3</th>\n",
       "      <td>cosr-nco</td>\n",
       "      <td>1. objetivo2....................................</td>\n",
       "      <td>1 . . preparacao para manobras em linhas de t...</td>\n",
       "    </tr>\n",
       "    <tr>\n",
       "      <th>4</th>\n",
       "      <td>cosr-nco</td>\n",
       "      <td>1. objetivo2....................................</td>\n",
       "      <td>1 . . preparacao para manobras em linhas de t...</td>\n",
       "    </tr>\n",
       "  </tbody>\n",
       "</table>\n",
       "</div>"
      ],
      "text/plain": [
       "  MpoCentro                                        Texto Limpo  \\\n",
       "0  cosr-nco  estabelecer procedimentos para o controle da t...   \n",
       "1  cosr-nco  2.1.             os procedimentos para a reali...   \n",
       "2  cosr-nco   1. objetivo2....................................   \n",
       "3  cosr-nco   1. objetivo2....................................   \n",
       "4  cosr-nco   1. objetivo2....................................   \n",
       "\n",
       "                                           processed  \n",
       "0  estabelecer procedimentos para o controle da t...  \n",
       "1  2 . 1 . os procedimentos para a realizacao de ...  \n",
       "2   1 . . preparacao para manobras em linhas de t...  \n",
       "3   1 . . preparacao para manobras em linhas de t...  \n",
       "4   1 . . preparacao para manobras em linhas de t...  "
      ]
     },
     "execution_count": 8,
     "metadata": {},
     "output_type": "execute_result"
    }
   ],
   "source": [
    "df_fragments = preproc.preprocess_fragments(df_fragments, 'Texto Limpo')\n",
    "df_fragments.head()"
   ]
  },
  {
   "cell_type": "code",
   "execution_count": 9,
   "metadata": {},
   "outputs": [],
   "source": [
    "# df_equipments = preproc.preprocess_equipments(df_equipments, 'nom_longoequipamento')\n",
    "# df_equipments.head()"
   ]
  },
  {
   "cell_type": "markdown",
   "metadata": {},
   "source": [
    "---\n",
    "\n",
    "## Marking input data"
   ]
  },
  {
   "cell_type": "markdown",
   "metadata": {},
   "source": [
    "### Marking equipments"
   ]
  },
  {
   "cell_type": "code",
   "execution_count": 10,
   "metadata": {},
   "outputs": [
    {
     "data": {
      "text/html": [
       "<div>\n",
       "<style scoped>\n",
       "    .dataframe tbody tr th:only-of-type {\n",
       "        vertical-align: middle;\n",
       "    }\n",
       "\n",
       "    .dataframe tbody tr th {\n",
       "        vertical-align: top;\n",
       "    }\n",
       "\n",
       "    .dataframe thead th {\n",
       "        text-align: right;\n",
       "    }\n",
       "</style>\n",
       "<table border=\"1\" class=\"dataframe\">\n",
       "  <thead>\n",
       "    <tr style=\"text-align: right;\">\n",
       "      <th></th>\n",
       "      <th>MpoCentro</th>\n",
       "      <th>Texto Limpo</th>\n",
       "      <th>processed</th>\n",
       "      <th>EQUIPAMENTO</th>\n",
       "    </tr>\n",
       "  </thead>\n",
       "  <tbody>\n",
       "    <tr>\n",
       "      <th>0</th>\n",
       "      <td>cosr-nco</td>\n",
       "      <td>estabelecer procedimentos para o controle da t...</td>\n",
       "      <td>estabelecer procedimentos para o controle da t...</td>\n",
       "      <td>[]</td>\n",
       "    </tr>\n",
       "    <tr>\n",
       "      <th>1</th>\n",
       "      <td>cosr-nco</td>\n",
       "      <td>2.1.             os procedimentos para a reali...</td>\n",
       "      <td>2 . 1 . os procedimentos para a realizacao de ...</td>\n",
       "      <td>[]</td>\n",
       "    </tr>\n",
       "    <tr>\n",
       "      <th>2</th>\n",
       "      <td>cosr-nco</td>\n",
       "      <td>1. objetivo2....................................</td>\n",
       "      <td>1 . . preparacao para manobras em linhas de t...</td>\n",
       "      <td>[lt 69 kv boa vista / monte cristo, lt 230 kv ...</td>\n",
       "    </tr>\n",
       "    <tr>\n",
       "      <th>3</th>\n",
       "      <td>cosr-nco</td>\n",
       "      <td>1. objetivo2....................................</td>\n",
       "      <td>1 . . preparacao para manobras em linhas de t...</td>\n",
       "      <td>[lt 69 kv boa vista / monte cristo, lt 230 kv ...</td>\n",
       "    </tr>\n",
       "    <tr>\n",
       "      <th>4</th>\n",
       "      <td>cosr-nco</td>\n",
       "      <td>1. objetivo2....................................</td>\n",
       "      <td>1 . . preparacao para manobras em linhas de t...</td>\n",
       "      <td>[lt 69 kv boa vista / monte cristo, lt 230 kv ...</td>\n",
       "    </tr>\n",
       "  </tbody>\n",
       "</table>\n",
       "</div>"
      ],
      "text/plain": [
       "  MpoCentro                                        Texto Limpo  \\\n",
       "0  cosr-nco  estabelecer procedimentos para o controle da t...   \n",
       "1  cosr-nco  2.1.             os procedimentos para a reali...   \n",
       "2  cosr-nco   1. objetivo2....................................   \n",
       "3  cosr-nco   1. objetivo2....................................   \n",
       "4  cosr-nco   1. objetivo2....................................   \n",
       "\n",
       "                                           processed  \\\n",
       "0  estabelecer procedimentos para o controle da t...   \n",
       "1  2 . 1 . os procedimentos para a realizacao de ...   \n",
       "2   1 . . preparacao para manobras em linhas de t...   \n",
       "3   1 . . preparacao para manobras em linhas de t...   \n",
       "4   1 . . preparacao para manobras em linhas de t...   \n",
       "\n",
       "                                         EQUIPAMENTO  \n",
       "0                                                 []  \n",
       "1                                                 []  \n",
       "2  [lt 69 kv boa vista / monte cristo, lt 230 kv ...  \n",
       "3  [lt 69 kv boa vista / monte cristo, lt 230 kv ...  \n",
       "4  [lt 69 kv boa vista / monte cristo, lt 230 kv ...  "
      ]
     },
     "execution_count": 10,
     "metadata": {},
     "output_type": "execute_result"
    }
   ],
   "source": [
    "df_fragments_eq = preproc.find_equipments(df=df_fragments, col='processed')\n",
    "df_fragments_eq.astype('str').drop_duplicates(subset=['MpoCentro', 'processed', 'EQUIPAMENTO'], keep='last', inplace=True)\n",
    "df_fragments_eq.head()"
   ]
  },
  {
   "cell_type": "code",
   "execution_count": 10,
   "metadata": {},
   "outputs": [],
   "source": [
    "samples = preproc.create_synthetic_samples(\n",
    "    df_fragments_eq,\n",
    "    entity_col='EQUIPAMENTO',\n",
    "    text_col='processed'\n",
    "    )"
   ]
  },
  {
   "cell_type": "code",
   "execution_count": null,
   "metadata": {},
   "outputs": [],
   "source": [
    "samples.head()"
   ]
  },
  {
   "cell_type": "code",
   "execution_count": null,
   "metadata": {},
   "outputs": [],
   "source": [
    "bucket = 'ons-ds-dev-entityrecognition'\n",
    "samples_equipments_path = f's3://{bucket}/mpo/mvp/data/processed/equipment_samples.parquet'\n",
    "samples.to_parquet(samples_equipments_path, compression='gzip')"
   ]
  },
  {
   "cell_type": "markdown",
   "metadata": {},
   "source": [
    "### Marking manual actions"
   ]
  },
  {
   "cell_type": "code",
   "execution_count": 11,
   "metadata": {},
   "outputs": [
    {
     "data": {
      "text/html": [
       "<div>\n",
       "<style scoped>\n",
       "    .dataframe tbody tr th:only-of-type {\n",
       "        vertical-align: middle;\n",
       "    }\n",
       "\n",
       "    .dataframe tbody tr th {\n",
       "        vertical-align: top;\n",
       "    }\n",
       "\n",
       "    .dataframe thead th {\n",
       "        text-align: right;\n",
       "    }\n",
       "</style>\n",
       "<table border=\"1\" class=\"dataframe\">\n",
       "  <thead>\n",
       "    <tr style=\"text-align: right;\">\n",
       "      <th></th>\n",
       "      <th>termos</th>\n",
       "      <th>actions</th>\n",
       "    </tr>\n",
       "  </thead>\n",
       "  <tbody>\n",
       "    <tr>\n",
       "      <th>0</th>\n",
       "      <td>Limitações impostas pela (nome da IO-OC) atend...</td>\n",
       "      <td>limitações impostas pela</td>\n",
       "    </tr>\n",
       "    <tr>\n",
       "      <th>1</th>\n",
       "      <td>Atender previamente as limitações para a indis...</td>\n",
       "      <td>atender previamente as limitações</td>\n",
       "    </tr>\n",
       "    <tr>\n",
       "      <th>2</th>\n",
       "      <td>Adotar os procedimentos para a indisponibilidade</td>\n",
       "      <td>adotar os procedimentos para a indisponibilidade</td>\n",
       "    </tr>\n",
       "    <tr>\n",
       "      <th>3</th>\n",
       "      <td>Limitações impostas pela indisponibilidade da(...</td>\n",
       "      <td>limitações impostas pela indisponibilidade</td>\n",
       "    </tr>\n",
       "    <tr>\n",
       "      <th>4</th>\n",
       "      <td>Verificar se o somatório dos fluxos nos circui...</td>\n",
       "      <td>verificar o somatório dos fluxos</td>\n",
       "    </tr>\n",
       "  </tbody>\n",
       "</table>\n",
       "</div>"
      ],
      "text/plain": [
       "                                              termos  \\\n",
       "0  Limitações impostas pela (nome da IO-OC) atend...   \n",
       "1  Atender previamente as limitações para a indis...   \n",
       "2   Adotar os procedimentos para a indisponibilidade   \n",
       "3  Limitações impostas pela indisponibilidade da(...   \n",
       "4  Verificar se o somatório dos fluxos nos circui...   \n",
       "\n",
       "                                            actions  \n",
       "0                          limitações impostas pela  \n",
       "1                 atender previamente as limitações  \n",
       "2  adotar os procedimentos para a indisponibilidade  \n",
       "3        limitações impostas pela indisponibilidade  \n",
       "4                  verificar o somatório dos fluxos  "
      ]
     },
     "execution_count": 11,
     "metadata": {},
     "output_type": "execute_result"
    }
   ],
   "source": [
    "df_manualactions = preproc.get_manual_actions(\n",
    "    bucket='ons-ds-dev-entityrecognition',\n",
    "    path='mpo/mvp/data/raw/manual_actions'\n",
    "    )\n",
    "\n",
    "df_manualactions.head()"
   ]
  },
  {
   "cell_type": "code",
   "execution_count": 12,
   "metadata": {},
   "outputs": [
    {
     "data": {
      "text/html": [
       "<div>\n",
       "<style scoped>\n",
       "    .dataframe tbody tr th:only-of-type {\n",
       "        vertical-align: middle;\n",
       "    }\n",
       "\n",
       "    .dataframe tbody tr th {\n",
       "        vertical-align: top;\n",
       "    }\n",
       "\n",
       "    .dataframe thead th {\n",
       "        text-align: right;\n",
       "    }\n",
       "</style>\n",
       "<table border=\"1\" class=\"dataframe\">\n",
       "  <thead>\n",
       "    <tr style=\"text-align: right;\">\n",
       "      <th></th>\n",
       "      <th>termos</th>\n",
       "      <th>actions</th>\n",
       "      <th>processed</th>\n",
       "    </tr>\n",
       "  </thead>\n",
       "  <tbody>\n",
       "    <tr>\n",
       "      <th>0</th>\n",
       "      <td>Limitações impostas pela (nome da IO-OC) atend...</td>\n",
       "      <td>limitações impostas pela</td>\n",
       "      <td>limitacoes impostas pela</td>\n",
       "    </tr>\n",
       "    <tr>\n",
       "      <th>1</th>\n",
       "      <td>Atender previamente as limitações para a indis...</td>\n",
       "      <td>atender previamente as limitações</td>\n",
       "      <td>atender previamente as limitacoes</td>\n",
       "    </tr>\n",
       "    <tr>\n",
       "      <th>2</th>\n",
       "      <td>Adotar os procedimentos para a indisponibilidade</td>\n",
       "      <td>adotar os procedimentos para a indisponibilidade</td>\n",
       "      <td>adotar os procedimentos para a indisponibilidade</td>\n",
       "    </tr>\n",
       "    <tr>\n",
       "      <th>3</th>\n",
       "      <td>Limitações impostas pela indisponibilidade da(...</td>\n",
       "      <td>limitações impostas pela indisponibilidade</td>\n",
       "      <td>limitacoes impostas pela indisponibilidade</td>\n",
       "    </tr>\n",
       "    <tr>\n",
       "      <th>4</th>\n",
       "      <td>Verificar se o somatório dos fluxos nos circui...</td>\n",
       "      <td>verificar o somatório dos fluxos</td>\n",
       "      <td>verificar o somatorio dos fluxos</td>\n",
       "    </tr>\n",
       "  </tbody>\n",
       "</table>\n",
       "</div>"
      ],
      "text/plain": [
       "                                              termos  \\\n",
       "0  Limitações impostas pela (nome da IO-OC) atend...   \n",
       "1  Atender previamente as limitações para a indis...   \n",
       "2   Adotar os procedimentos para a indisponibilidade   \n",
       "3  Limitações impostas pela indisponibilidade da(...   \n",
       "4  Verificar se o somatório dos fluxos nos circui...   \n",
       "\n",
       "                                            actions  \\\n",
       "0                          limitações impostas pela   \n",
       "1                 atender previamente as limitações   \n",
       "2  adotar os procedimentos para a indisponibilidade   \n",
       "3        limitações impostas pela indisponibilidade   \n",
       "4                  verificar o somatório dos fluxos   \n",
       "\n",
       "                                           processed  \n",
       "0                          limitacoes impostas pela   \n",
       "1                 atender previamente as limitacoes   \n",
       "2  adotar os procedimentos para a indisponibilidade   \n",
       "3        limitacoes impostas pela indisponibilidade   \n",
       "4                  verificar o somatorio dos fluxos   "
      ]
     },
     "execution_count": 12,
     "metadata": {},
     "output_type": "execute_result"
    }
   ],
   "source": [
    "df_manualactions = preproc.preprocess_fragments(df_manualactions, 'actions')\n",
    "df_manualactions.head()"
   ]
  },
  {
   "cell_type": "code",
   "execution_count": null,
   "metadata": {},
   "outputs": [],
   "source": [
    "df_fragments_ma = preproc.find_manual_actions(\n",
    "    df_fragments,\n",
    "    df_manualactions\n",
    "    )\n",
    "\n",
    "df_fragments_ma.head()"
   ]
  },
  {
   "cell_type": "markdown",
   "metadata": {},
   "source": [
    "---\n",
    "\n",
    "### Create synthetic samples"
   ]
  },
  {
   "cell_type": "code",
   "execution_count": null,
   "metadata": {},
   "outputs": [],
   "source": [
    "df_fragments_ma.astype('str').drop_duplicates(subset=['MpoCentro', 'processed', 'ACAOMANUAL'], keep='last', inplace=True)\n",
    "samples_manualactions = preproc.create_synthetic_samples(\n",
    "    df_fragments_ma,\n",
    "    entity_col='ACAOMANUAL',\n",
    "    text_col='processed'\n",
    "    )\n",
    "samples_manualactions.head()"
   ]
  },
  {
   "cell_type": "code",
   "execution_count": null,
   "metadata": {},
   "outputs": [],
   "source": [
    "bucket = 'ons-ds-dev-entityrecognition'\n",
    "samples_manualactions_path = f's3://{bucket}/mpo/mvp/data/processed/manualactions_samples.parquet'\n",
    "samples_manualactions.to_parquet(samples_manualactions_path, compression='gzip')"
   ]
  }
 ],
 "metadata": {
  "instance_type": "ml.t3.medium",
  "kernelspec": {
   "display_name": "Python 3 (Data Science)",
   "language": "python",
   "name": "python3__SAGEMAKER_INTERNAL__arn:aws:sagemaker:us-east-1:081325390199:image/datascience-1.0"
  },
  "language_info": {
   "codemirror_mode": {
    "name": "ipython",
    "version": 3
   },
   "file_extension": ".py",
   "mimetype": "text/x-python",
   "name": "python",
   "nbconvert_exporter": "python",
   "pygments_lexer": "ipython3",
   "version": "3.7.10"
  }
 },
 "nbformat": 4,
 "nbformat_minor": 5
}
