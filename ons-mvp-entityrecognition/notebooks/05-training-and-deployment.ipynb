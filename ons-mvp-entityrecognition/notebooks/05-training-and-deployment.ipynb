{
 "cells": [
  {
   "cell_type": "code",
   "execution_count": 1,
   "metadata": {},
   "outputs": [],
   "source": [
    "# pip install awswrangler"
   ]
  },
  {
   "cell_type": "code",
   "execution_count": 2,
   "metadata": {},
   "outputs": [],
   "source": [
    "# pip install spacy && python -m spacy download pt_core_news_sm"
   ]
  },
  {
   "cell_type": "code",
   "execution_count": 3,
   "metadata": {},
   "outputs": [],
   "source": [
    "# !pip install sagemaker-studio-image-build"
   ]
  },
  {
   "cell_type": "code",
   "execution_count": 4,
   "metadata": {},
   "outputs": [],
   "source": [
    "import os\n",
    "import sys\n",
    "import sagemaker\n",
    "from sklearn.pipeline import Pipeline\n",
    "\n",
    "sys.path.append(os.path.dirname(os.getcwd())+'/src')\n",
    "from train import *\n",
    "from preprocess import preprocess_module \n",
    "from feature_engineering import feature_engineering_pipeline"
   ]
  },
  {
   "cell_type": "code",
   "execution_count": 5,
   "metadata": {},
   "outputs": [
    {
     "name": "stdout",
     "output_type": "stream",
     "text": [
      "Initialized training and deployment sequence at 2022-09-06 14:24:47.790316\n"
     ]
    }
   ],
   "source": [
    "stage = 'dev'\n",
    "bucket = f'ons-ds-{stage}-entityrecognition'\n",
    "\n",
    "print(f'Initialized training and deployment sequence at {datetime.now()}')"
   ]
  },
  {
   "cell_type": "markdown",
   "metadata": {},
   "source": [
    "---"
   ]
  },
  {
   "cell_type": "code",
   "execution_count": 6,
   "metadata": {},
   "outputs": [
    {
     "name": "stdout",
     "output_type": "stream",
     "text": [
      "production variant selected: 2022-09-05-22-35-21\n"
     ]
    }
   ],
   "source": [
    "#-------------------------------------------------------------------------\n",
    "#training model for predefined entities   \n",
    "predefined_model_id, predefined_metrics = run_training_pipeline(\n",
    "    bucket=bucket,\n",
    "    model='predefined',\n",
    "    train_from_blank=True\n",
    "    )\n",
    "\n",
    "predefined_metrics = load_metrics_from_s3(\n",
    "    bucket=bucket,\n",
    "    path='mpo/mvp/artifacts/model_info/predefined/metrics.parquet'\n",
    "    )\n",
    "\n",
    "predefined_production_variant = get_production_variant(\n",
    "    predefined_metrics\n",
    "    )\n",
    "\n",
    "predefined_status = check_production_variant_availability(\n",
    "    production_variant=predefined_production_variant\n",
    "    )"
   ]
  },
  {
   "cell_type": "code",
   "execution_count": 7,
   "metadata": {},
   "outputs": [
    {
     "name": "stdout",
     "output_type": "stream",
     "text": [
      "production variant selected: 2022-09-05-22-38-29\n"
     ]
    }
   ],
   "source": [
    "#-------------------------------------------------------------------------\n",
    "#training model for inequalities entities\n",
    "inequalities_model_id, inequalities_metrics = run_training_pipeline(\n",
    "    bucket=bucket,\n",
    "    model='inequalities',\n",
    "    train_from_blank=False\n",
    "    )\n",
    "\n",
    "inequalities_metrics = load_metrics_from_s3(\n",
    "    bucket=bucket,\n",
    "    path='mpo/mvp/artifacts/model_info/inequalities/metrics.parquet'\n",
    "    )\n",
    "\n",
    "inequalities_production_variant = get_production_variant(\n",
    "    inequalities_metrics\n",
    "    )\n",
    "\n",
    "inequalities_status = check_production_variant_availability(\n",
    "    production_variant=inequalities_production_variant\n",
    "    )"
   ]
  },
  {
   "cell_type": "code",
   "execution_count": 8,
   "metadata": {},
   "outputs": [
    {
     "name": "stdout",
     "output_type": "stream",
     "text": [
      "mpo/mvp/artifacts/model/predefined/2022-09-05-22-35-21.zip\n",
      "loaded 2022-09-05-22-35-21\n",
      "mpo/mvp/artifacts/model/inequalities/2022-09-05-22-38-29.zip\n",
      "loaded 2022-09-05-22-38-29\n",
      "uploaded image to ECR\n",
      "Model name: mpo-ner-dev-2022-09-05-22-35-21-2022-09-05-22-38-29\n",
      "Container image: 478704051461.dkr.ecr.us-east-1.amazonaws.com/ons-ds-entity-recognition:latest\n",
      "Model Arn: arn:aws:sagemaker:us-east-1:478704051461:model/mpo-ner-dev-2022-09-05-22-35-21-2022-09-05-22-38-29\n",
      "uploaded sagemaker model: mpo-ner-dev-2022-09-05-22-35-21-2022-09-05-22-38-29\n",
      "Endpoint config name: mpo-ner-dev-endpoint-config\n",
      "Endpoint config Arn: arn:aws:sagemaker:us-east-1:478704051461:endpoint-config/mpo-ner-dev-endpoint-config\n",
      "uploaded sagemaker endpoint configuration: mpo-ner-dev-endpoint-config\n",
      "Endpoint name: mpo-ner-dev-endpoint\n",
      "Endpoint Arn: arn:aws:sagemaker:us-east-1:478704051461:endpoint/mpo-ner-dev-endpoint\n",
      "Endpoint Status: Creating\n",
      "Waiting for mpo-ner-dev-endpoint endpoint to be in service...\n",
      "deployed endpoint: mpo-ner-dev-endpoint\n",
      "deployed new production variant\n",
      "predefined labels:\n",
      "                 model              endpoint              rollout\n",
      "0  2022-09-05-22-35-21  mpo-ner-dev-endpoint  2022-09-06 14:30:37\n",
      "inequalities:\n",
      "                 model              endpoint              rollout\n",
      "0  2022-09-05-22-38-29  mpo-ner-dev-endpoint  2022-09-06 14:30:37\n",
      "cleaned sagemaker model registry\n"
     ]
    }
   ],
   "source": [
    "#-------------------------------------------------------------------------\n",
    "# deployment of new variant(s)\n",
    "if (predefined_status == False) | (inequalities_status==False):\n",
    "\n",
    "    prepare_production_variant(\n",
    "        production_variant=predefined_production_variant,\n",
    "        model='predefined',\n",
    "        bucket=bucket\n",
    "        )\n",
    "\n",
    "    prepare_production_variant(\n",
    "        production_variant=inequalities_production_variant,\n",
    "        model='inequalities',\n",
    "        bucket=bucket\n",
    "        )\n",
    "\n",
    "    deployment_sequence(\n",
    "        predefined_id=predefined_production_variant,\n",
    "        inequalities_id=inequalities_production_variant,\n",
    "        bucket=bucket,\n",
    "        stage=stage\n",
    "        )"
   ]
  },
  {
   "cell_type": "markdown",
   "metadata": {},
   "source": [
    "---"
   ]
  },
  {
   "cell_type": "code",
   "execution_count": 11,
   "metadata": {},
   "outputs": [
    {
     "data": {
      "text/plain": [
       "[{'tipo_entidade': 'USINA', 'entidade': 'UHE Itaipu'},\n",
       " {'tipo_entidade': 'VALOR_COM_UNID.MEDIDA', 'entidade': '60 hz'},\n",
       " {'tipo_entidade': 'SUBESTACAO', 'entidade': 'SE que inicia a'},\n",
       " {'tipo_entidade': 'OPERADOR_MATEMATICO', 'entidade': 'inferior ou igual a'},\n",
       " {'tipo_entidade': 'VALOR_COM_UNID.MEDIDA', 'entidade': '242 kV'},\n",
       " {'tipo_entidade': 'INEQUACAO',\n",
       "  'entidade': 'Tensão da SE que inicia a manobra inferior ou igual a 242 kV'}]"
      ]
     },
     "execution_count": 11,
     "metadata": {},
     "output_type": "execute_result"
    }
   ],
   "source": [
    "import json\n",
    "runtime_sm_client = boto3.client(service_name='sagemaker-runtime')\n",
    "\n",
    "content_type = \"application/json\"\n",
    "request_body = {\"fragmento\": \"A UHE Itaipu 60 hz deve ter a sua geração limitada. Tensão da SE que inicia a manobra inferior ou igual a 242 kV\"}\n",
    "\n",
    "#Serialize data for endpoint\n",
    "data = json.loads(json.dumps(request_body))\n",
    "payload = json.dumps(data)\n",
    "\n",
    "#Endpoint invocation\n",
    "response = runtime_sm_client.invoke_endpoint(\n",
    "    EndpointName='mpo-ner-dev-endpoint',\n",
    "    ContentType=content_type,\n",
    "    Body=payload)\n",
    "\n",
    "#Parse results\n",
    "result = json.loads(response['Body'].read().decode())['entidades']\n",
    "result"
   ]
  },
  {
   "cell_type": "markdown",
   "metadata": {},
   "source": [
    "---"
   ]
  },
  {
   "cell_type": "code",
   "execution_count": 10,
   "metadata": {},
   "outputs": [],
   "source": [
    "delete_endpoint(endpoint_name)"
   ]
  },
  {
   "cell_type": "code",
   "execution_count": 58,
   "metadata": {},
   "outputs": [
    {
     "name": "stdout",
     "output_type": "stream",
     "text": [
      "Configuração de endpoint ons-ds-dev-entity-recognition-endpoint-config excluída com sucesso\n"
     ]
    }
   ],
   "source": [
    "delete_endpoint_configuration(endpoint_config_name)"
   ]
  },
  {
   "cell_type": "code",
   "execution_count": 60,
   "metadata": {},
   "outputs": [
    {
     "name": "stdout",
     "output_type": "stream",
     "text": [
      "Modelo ons-mvp-entity-recognition-model-2022-09-01-13-51-35 excluído com sucesso\n"
     ]
    }
   ],
   "source": [
    "delete_model('ons-mvp-entity-recognition-model-2022-09-01-13-51-35')"
   ]
  }
 ],
 "metadata": {
  "instance_type": "ml.t3.medium",
  "kernelspec": {
   "display_name": "Python 3 (Data Science)",
   "language": "python",
   "name": "python3__SAGEMAKER_INTERNAL__arn:aws:sagemaker:us-east-1:081325390199:image/datascience-1.0"
  },
  "language_info": {
   "codemirror_mode": {
    "name": "ipython",
    "version": 3
   },
   "file_extension": ".py",
   "mimetype": "text/x-python",
   "name": "python",
   "nbconvert_exporter": "python",
   "pygments_lexer": "ipython3",
   "version": "3.7.10"
  }
 },
 "nbformat": 4,
 "nbformat_minor": 5
}
