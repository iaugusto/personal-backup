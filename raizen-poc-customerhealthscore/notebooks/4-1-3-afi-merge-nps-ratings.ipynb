{
 "cells": [
  {
   "cell_type": "markdown",
   "id": "77c48016-3088-49d2-b409-bdce214be018",
   "metadata": {},
   "source": [
    "# Packages import\n",
    "Vamos usar o pacote Pandas"
   ]
  },
  {
   "cell_type": "code",
   "execution_count": 1,
   "id": "f69f4653-eea6-4656-a175-a27744ee9c52",
   "metadata": {},
   "outputs": [],
   "source": [
    "import pandas as pd\n",
    "\n",
    "pd.set_option('display.max_columns', None)"
   ]
  },
  {
   "cell_type": "markdown",
   "id": "a85483e8-c7b3-49e9-9f1d-dcaa37e5ace1",
   "metadata": {
    "tags": []
   },
   "source": [
    "# Dataset import\n",
    "Para esta sesão, será utilizado dois datasets, onde vamos os mesclar de acordo com a primary key: 'transaction_id' e 'ref_date'"
   ]
  },
  {
   "cell_type": "code",
   "execution_count": 2,
   "id": "f1c24704-4bc8-4350-9cc4-65fb4f63736e",
   "metadata": {},
   "outputs": [],
   "source": [
    "# Importando o dataset completo de 'nps' (notebook5)\n",
    "nps = pd.read_parquet('../data/stage/3m/customers_transactions_vouchers.parquet')\n",
    "\n",
    "# Importando o dataset completo de 'ratings' \n",
    "ratings = pd.read_parquet('../data/raw/3m/acelera_prd_ratings.snappy.parquet')"
   ]
  },
  {
   "cell_type": "markdown",
   "id": "e03e4b33-7946-4e9c-8905-5b23297ef24b",
   "metadata": {},
   "source": [
    "# Show datasets\n",
    "Breve visualização dos dados"
   ]
  },
  {
   "cell_type": "code",
   "execution_count": 3,
   "id": "1009fdef-7c6a-4484-b29f-a367ff01c5ea",
   "metadata": {
    "tags": []
   },
   "outputs": [
    {
     "name": "stdout",
     "output_type": "stream",
     "text": [
      "<class 'pandas.core.frame.DataFrame'>\n",
      "Int64Index: 48817 entries, 0 to 48816\n",
      "Data columns (total 94 columns):\n",
      " #   Column                            Non-Null Count  Dtype  \n",
      "---  ------                            --------------  -----  \n",
      " 0   consumer_id                       48817 non-null  int64  \n",
      " 1   role_id                           48817 non-null  int64  \n",
      " 2   cpf                               48817 non-null  float64\n",
      " 3   email                             48817 non-null  object \n",
      " 4   birthdate                         48817 non-null  object \n",
      " 5   city                              44000 non-null  object \n",
      " 6   state                             44000 non-null  object \n",
      " 7   phonenumber                       48817 non-null  float64\n",
      " 8   created_at_nps                    48817 non-null  object \n",
      " 9   updated_at_nps                    48817 non-null  object \n",
      " 10  eou_synced_at                     7236 non-null   object \n",
      " 11  last_activity_date                48817 non-null  object \n",
      " 12  completed_at                      42925 non-null  object \n",
      " 13  paypal_linked_at                  7699 non-null   object \n",
      " 14  braintree_id                      6263 non-null   object \n",
      " 15  braintree_token                   5791 non-null   object \n",
      " 16  paypal_id                         12 non-null     object \n",
      " 17  paypal_billing_agreement          7374 non-null   object \n",
      " 18  paypal_email                      7374 non-null   object \n",
      " 19  paypal_cpf                        7025 non-null   float64\n",
      " 20  paydiant_uri                      0 non-null      object \n",
      " 21  paydiant_linked_at                0 non-null      object \n",
      " 22  stone_wallet_id                   0 non-null      object \n",
      " 23  stone_linked_at                   0 non-null      object \n",
      " 24  allow_newsletter                  48651 non-null  float64\n",
      " 25  allow_promos                      48817 non-null  int64  \n",
      " 26  paypal_allow_automatic_payment    48817 non-null  int64  \n",
      " 27  allow_automatic_payment           48817 non-null  int64  \n",
      " 28  paypal_subscription_canceled      48817 non-null  int64  \n",
      " 29  active                            48817 non-null  int64  \n",
      " 30  signup_complete                   48817 non-null  int64  \n",
      " 31  legacy_email                      0 non-null      object \n",
      " 32  legacy_paypal_id                  0 non-null      object \n",
      " 33  legacy_paypal_subscription        0 non-null      object \n",
      " 34  city_id                           44049 non-null  float64\n",
      " 35  referral_code                     48817 non-null  object \n",
      " 36  mercadopago_linked_at             37477 non-null  object \n",
      " 37  mercadopago_email                 37477 non-null  object \n",
      " 38  mercadopago_id                    37477 non-null  object \n",
      " 39  mfa_validated                     48817 non-null  object \n",
      " 40  country                           48817 non-null  object \n",
      " 41  nota_recomendacao_customer        15925 non-null  float64\n",
      " 42  nota_recomendacao_nps             33865 non-null  float64\n",
      " 43  nps                               48817 non-null  int64  \n",
      " 44  p_churn                           45584 non-null  float64\n",
      " 45  p_currently_alive                 39809 non-null  float64\n",
      " 46  transaction_id                    48775 non-null  float64\n",
      " 47  app_origin                        48775 non-null  float64\n",
      " 48  payable_id                        48775 non-null  float64\n",
      " 49  type                              48775 non-null  object \n",
      " 50  status                            48775 non-null  float64\n",
      " 51  created_at_transactions           48775 non-null  object \n",
      " 52  updated_at_transactions           48775 non-null  object \n",
      " 53  finished_at                       48775 non-null  object \n",
      " 54  payout_status                     46795 non-null  object \n",
      " 55  payment_partner_id                48298 non-null  object \n",
      " 56  payment_option_id                 48294 non-null  object \n",
      " 57  payout_partner_id                 21494 non-null  object \n",
      " 58  payment_status                    48299 non-null  object \n",
      " 59  gross_payment_in_cents            48775 non-null  float64\n",
      " 60  payment_transaction_id            25744 non-null  object \n",
      " 61  gas_type_id                       48416 non-null  object \n",
      " 62  quantity_in_litres                48775 non-null  float32\n",
      " 63  nozzle_id                         48775 non-null  float64\n",
      " 64  price_per_litre                   48775 non-null  float32\n",
      " 65  total_in_cents                    48775 non-null  float64\n",
      " 66  total_discont_in_cents            48775 non-null  float64\n",
      " 67  voucher_id_transactions           19515 non-null  object \n",
      " 68  fueling_status                    48775 non-null  object \n",
      " 69  volume_totalizer                  48416 non-null  float32\n",
      " 70  credit_account_id                 0 non-null      float64\n",
      " 71  credits_transaction_id            571 non-null    float64\n",
      " 72  credits_total_in_cents            48775 non-null  float64\n",
      " 73  reward_id_transactions            21549 non-null  float64\n",
      " 74  reward_discount                   46795 non-null  float64\n",
      " 75  pos_id                            0 non-null      float64\n",
      " 76  accumulated_discount_99_in_cents  48775 non-null  float64\n",
      " 77  voucher_discount                  46795 non-null  float64\n",
      " 78  payout_date                       21495 non-null  object \n",
      " 79  voucher_id_vouchers               18826 non-null  object \n",
      " 80  origin_consumer_id                8947 non-null   object \n",
      " 81  target_consumer_id                18826 non-null  object \n",
      " 82  store_id                          88 non-null     float64\n",
      " 83  reward_id_vouchers                18826 non-null  float64\n",
      " 84  discount_amount                   12639 non-null  object \n",
      " 85  expires_at                        17321 non-null  object \n",
      " 86  redeemed_at                       18826 non-null  object \n",
      " 87  redeem_status                     18826 non-null  object \n",
      " 88  created_at                        18826 non-null  object \n",
      " 89  updated_at                        18826 non-null  object \n",
      " 90  count_voucher                     18826 non-null  object \n",
      " 91  partner_voucher_id                2 non-null      object \n",
      " 92  order_use                         3192 non-null   object \n",
      " 93  voucher_data                      7659 non-null   object \n",
      "dtypes: float32(3), float64(27), int64(9), object(55)\n",
      "memory usage: 34.8+ MB\n"
     ]
    }
   ],
   "source": [
    "# O dataset contém 1969416 de registros e 144 colunas.\n",
    "nps.info(max_cols=161)"
   ]
  },
  {
   "cell_type": "code",
   "execution_count": 4,
   "id": "fa92f6b4-2185-48b3-b6fe-d2774fbc202e",
   "metadata": {
    "tags": []
   },
   "outputs": [
    {
     "name": "stdout",
     "output_type": "stream",
     "text": [
      "<class 'pandas.core.frame.DataFrame'>\n",
      "RangeIndex: 19320837 entries, 0 to 19320836\n",
      "Data columns (total 15 columns):\n",
      " #   Column            Dtype \n",
      "---  ------            ----- \n",
      " 0   rating_id         object\n",
      " 1   consumer_id       object\n",
      " 2   device_model      object\n",
      " 3   transaction_type  object\n",
      " 4   rating_value      object\n",
      " 5   rating_reason     object\n",
      " 6   rating_comment    object\n",
      " 7   ref_id            object\n",
      " 8   created_at        object\n",
      " 9   updated_at        object\n",
      " 10  store_id          object\n",
      " 11  datalake_dt       object\n",
      " 12  year_ptt          object\n",
      " 13  month_ptt         object\n",
      " 14  day_ptt           object\n",
      "dtypes: object(15)\n",
      "memory usage: 2.2+ GB\n"
     ]
    }
   ],
   "source": [
    "# O dataset contém 19M de registros e 15 colunas.\n",
    "ratings.info()"
   ]
  },
  {
   "cell_type": "markdown",
   "id": "a0140816-a5f2-488c-ac81-d2c6368939c6",
   "metadata": {
    "tags": []
   },
   "source": [
    "# Merge ('NPS' + 'Ratings')\n",
    "Para essa mescla será necessário 'transaction_id' e 'ref_date' como primary keys: transaction_id, consumer_id, store_id"
   ]
  },
  {
   "cell_type": "code",
   "execution_count": 3,
   "id": "201707b3-9243-4930-86c9-8f37e1b04bdd",
   "metadata": {},
   "outputs": [],
   "source": [
    "columns = [\n",
    "    'rating_id', 'consumer_id', 'device_model', 'transaction_type',\n",
    "    'rating_value', 'rating_reason', 'rating_comment', 'ref_id',\n",
    "    'created_at', 'updated_at', 'store_id'\n",
    "]\n",
    "ratings = ratings[columns]"
   ]
  },
  {
   "cell_type": "code",
   "execution_count": 4,
   "id": "318c4cce-6dae-4a7e-a750-ecf2771627d6",
   "metadata": {},
   "outputs": [],
   "source": [
    "# Para fazer a mescla, a variável 'on' precisa ter o mesmo dtype em ambos datasets.\n",
    "ratings = ratings.rename(columns={'ref_id': 'transaction_id'})"
   ]
  },
  {
   "cell_type": "code",
   "execution_count": 5,
   "id": "5b2d2278-d36b-4a30-a79f-770ead19eaf3",
   "metadata": {},
   "outputs": [
    {
     "data": {
      "text/plain": [
       "True     19319431\n",
       "False        1406\n",
       "Name: transaction_id, dtype: int64"
      ]
     },
     "execution_count": 5,
     "metadata": {},
     "output_type": "execute_result"
    }
   ],
   "source": [
    "ratings['transaction_id'].notna().value_counts()"
   ]
  },
  {
   "cell_type": "code",
   "execution_count": 6,
   "id": "9adc74ea-0683-45db-b0d6-092ee73a9790",
   "metadata": {},
   "outputs": [],
   "source": [
    "# Alterar o dtype de transaction_id para numerico\n",
    "ratings['transaction_id'] = pd.to_numeric(ratings['transaction_id'], errors = 'coerce')\n",
    "ratings.loc[:,'consumer_id'] = ratings['consumer_id'].astype('int')"
   ]
  },
  {
   "cell_type": "code",
   "execution_count": 7,
   "id": "4a67b032-5065-459e-a4fd-73f20f415495",
   "metadata": {},
   "outputs": [
    {
     "data": {
      "text/plain": [
       "True     19252572\n",
       "False       68265\n",
       "Name: transaction_id, dtype: int64"
      ]
     },
     "execution_count": 7,
     "metadata": {},
     "output_type": "execute_result"
    }
   ],
   "source": [
    "ratings['transaction_id'].notna().value_counts()"
   ]
  },
  {
   "cell_type": "code",
   "execution_count": 8,
   "id": "e9157c7c-6e4b-465f-9410-c6e3b63088bb",
   "metadata": {},
   "outputs": [],
   "source": [
    "ratings = ratings[ratings['transaction_id'].notna()]\n",
    "ratings = ratings[ratings['transaction_id'] != 0]"
   ]
  },
  {
   "cell_type": "code",
   "execution_count": 9,
   "id": "cdcdd9a8-c26d-4f7f-bd60-886c8eac4ffd",
   "metadata": {},
   "outputs": [],
   "source": [
    "ratings.loc[:,'transaction_id'] = ratings['transaction_id'].astype('int')"
   ]
  },
  {
   "cell_type": "code",
   "execution_count": 22,
   "id": "c3a23356-2b6f-4755-8031-bfbf5be6392e",
   "metadata": {},
   "outputs": [],
   "source": [
    "ratings = ratings.drop_duplicates(subset='transaction_id')"
   ]
  },
  {
   "cell_type": "code",
   "execution_count": 23,
   "id": "e0c72361-4ee3-473d-a26c-39b580147e07",
   "metadata": {},
   "outputs": [
    {
     "data": {
      "text/plain": [
       "(48817, 94)"
      ]
     },
     "execution_count": 23,
     "metadata": {},
     "output_type": "execute_result"
    }
   ],
   "source": [
    "nps.shape"
   ]
  },
  {
   "cell_type": "code",
   "execution_count": 24,
   "id": "64c31bd6-0b5e-4366-83fd-3dd0b218092a",
   "metadata": {
    "tags": []
   },
   "outputs": [],
   "source": [
    "# Merge tabelas nps + ratings\n",
    "merge_table = pd.merge(nps, ratings, on=['transaction_id'], how='left', suffixes=('', '_ratings'))"
   ]
  },
  {
   "cell_type": "code",
   "execution_count": 25,
   "id": "36044e31-1d06-4161-a6c0-8303b06a5c09",
   "metadata": {},
   "outputs": [
    {
     "data": {
      "text/plain": [
       "(48817, 104)"
      ]
     },
     "execution_count": 25,
     "metadata": {},
     "output_type": "execute_result"
    }
   ],
   "source": [
    "merge_table.shape"
   ]
  },
  {
   "cell_type": "code",
   "execution_count": 26,
   "id": "3f7dd08d-6c5d-4526-97f1-14a0d84b92da",
   "metadata": {
    "tags": []
   },
   "outputs": [
    {
     "name": "stdout",
     "output_type": "stream",
     "text": [
      "<class 'pandas.core.frame.DataFrame'>\n",
      "Int64Index: 48817 entries, 0 to 48816\n",
      "Data columns (total 104 columns):\n",
      " #    Column                            Non-Null Count  Dtype  \n",
      "---   ------                            --------------  -----  \n",
      " 0    consumer_id                       48817 non-null  int64  \n",
      " 1    role_id                           48817 non-null  int64  \n",
      " 2    cpf                               48817 non-null  float64\n",
      " 3    email                             48817 non-null  object \n",
      " 4    birthdate                         48817 non-null  object \n",
      " 5    city                              44000 non-null  object \n",
      " 6    state                             44000 non-null  object \n",
      " 7    phonenumber                       48817 non-null  float64\n",
      " 8    created_at_nps                    48817 non-null  object \n",
      " 9    updated_at_nps                    48817 non-null  object \n",
      " 10   eou_synced_at                     7236 non-null   object \n",
      " 11   last_activity_date                48817 non-null  object \n",
      " 12   completed_at                      42925 non-null  object \n",
      " 13   paypal_linked_at                  7699 non-null   object \n",
      " 14   braintree_id                      6263 non-null   object \n",
      " 15   braintree_token                   5791 non-null   object \n",
      " 16   paypal_id                         12 non-null     object \n",
      " 17   paypal_billing_agreement          7374 non-null   object \n",
      " 18   paypal_email                      7374 non-null   object \n",
      " 19   paypal_cpf                        7025 non-null   float64\n",
      " 20   paydiant_uri                      0 non-null      object \n",
      " 21   paydiant_linked_at                0 non-null      object \n",
      " 22   stone_wallet_id                   0 non-null      object \n",
      " 23   stone_linked_at                   0 non-null      object \n",
      " 24   allow_newsletter                  48651 non-null  float64\n",
      " 25   allow_promos                      48817 non-null  int64  \n",
      " 26   paypal_allow_automatic_payment    48817 non-null  int64  \n",
      " 27   allow_automatic_payment           48817 non-null  int64  \n",
      " 28   paypal_subscription_canceled      48817 non-null  int64  \n",
      " 29   active                            48817 non-null  int64  \n",
      " 30   signup_complete                   48817 non-null  int64  \n",
      " 31   legacy_email                      0 non-null      object \n",
      " 32   legacy_paypal_id                  0 non-null      object \n",
      " 33   legacy_paypal_subscription        0 non-null      object \n",
      " 34   city_id                           44049 non-null  float64\n",
      " 35   referral_code                     48817 non-null  object \n",
      " 36   mercadopago_linked_at             37477 non-null  object \n",
      " 37   mercadopago_email                 37477 non-null  object \n",
      " 38   mercadopago_id                    37477 non-null  object \n",
      " 39   mfa_validated                     48817 non-null  object \n",
      " 40   country                           48817 non-null  object \n",
      " 41   nota_recomendacao_customer        15925 non-null  float64\n",
      " 42   nota_recomendacao_nps             33865 non-null  float64\n",
      " 43   nps                               48817 non-null  int64  \n",
      " 44   p_churn                           45584 non-null  float64\n",
      " 45   p_currently_alive                 39809 non-null  float64\n",
      " 46   transaction_id                    48775 non-null  float64\n",
      " 47   app_origin                        48775 non-null  float64\n",
      " 48   payable_id                        48775 non-null  float64\n",
      " 49   type                              48775 non-null  object \n",
      " 50   status                            48775 non-null  float64\n",
      " 51   created_at_transactions           48775 non-null  object \n",
      " 52   updated_at_transactions           48775 non-null  object \n",
      " 53   finished_at                       48775 non-null  object \n",
      " 54   payout_status                     46795 non-null  object \n",
      " 55   payment_partner_id                48298 non-null  object \n",
      " 56   payment_option_id                 48294 non-null  object \n",
      " 57   payout_partner_id                 21494 non-null  object \n",
      " 58   payment_status                    48299 non-null  object \n",
      " 59   gross_payment_in_cents            48775 non-null  float64\n",
      " 60   payment_transaction_id            25744 non-null  object \n",
      " 61   gas_type_id                       48416 non-null  object \n",
      " 62   quantity_in_litres                48775 non-null  float32\n",
      " 63   nozzle_id                         48775 non-null  float64\n",
      " 64   price_per_litre                   48775 non-null  float32\n",
      " 65   total_in_cents                    48775 non-null  float64\n",
      " 66   total_discont_in_cents            48775 non-null  float64\n",
      " 67   voucher_id_transactions           19515 non-null  object \n",
      " 68   fueling_status                    48775 non-null  object \n",
      " 69   volume_totalizer                  48416 non-null  float32\n",
      " 70   credit_account_id                 0 non-null      float64\n",
      " 71   credits_transaction_id            571 non-null    float64\n",
      " 72   credits_total_in_cents            48775 non-null  float64\n",
      " 73   reward_id_transactions            21549 non-null  float64\n",
      " 74   reward_discount                   46795 non-null  float64\n",
      " 75   pos_id                            0 non-null      float64\n",
      " 76   accumulated_discount_99_in_cents  48775 non-null  float64\n",
      " 77   voucher_discount                  46795 non-null  float64\n",
      " 78   payout_date                       21495 non-null  object \n",
      " 79   voucher_id_vouchers               18826 non-null  object \n",
      " 80   origin_consumer_id                8947 non-null   object \n",
      " 81   target_consumer_id                18826 non-null  object \n",
      " 82   store_id                          88 non-null     float64\n",
      " 83   reward_id_vouchers                18826 non-null  float64\n",
      " 84   discount_amount                   12639 non-null  object \n",
      " 85   expires_at                        17321 non-null  object \n",
      " 86   redeemed_at                       18826 non-null  object \n",
      " 87   redeem_status                     18826 non-null  object \n",
      " 88   created_at                        18826 non-null  object \n",
      " 89   updated_at                        18826 non-null  object \n",
      " 90   count_voucher                     18826 non-null  object \n",
      " 91   partner_voucher_id                2 non-null      object \n",
      " 92   order_use                         3192 non-null   object \n",
      " 93   voucher_data                      7659 non-null   object \n",
      " 94   rating_id                         23630 non-null  object \n",
      " 95   consumer_id_ratings               23630 non-null  float64\n",
      " 96   device_model                      23630 non-null  object \n",
      " 97   transaction_type                  23630 non-null  object \n",
      " 98   rating_value                      23630 non-null  object \n",
      " 99   rating_reason                     11377 non-null  object \n",
      " 100  rating_comment                    5741 non-null   object \n",
      " 101  created_at_ratings                23630 non-null  object \n",
      " 102  updated_at_ratings                23630 non-null  object \n",
      " 103  store_id_ratings                  18184 non-null  object \n",
      "dtypes: float32(3), float64(28), int64(9), object(64)\n",
      "memory usage: 38.5+ MB\n"
     ]
    }
   ],
   "source": [
    "# Há 1984732 de observações e 174 colunas\n",
    "merge_table.info(max_cols = 174)"
   ]
  },
  {
   "cell_type": "markdown",
   "id": "3780fd23-74f9-4fd1-b603-6657ca584ad8",
   "metadata": {},
   "source": [
    "# Salvando em parquet\n"
   ]
  },
  {
   "cell_type": "code",
   "execution_count": 27,
   "id": "4aebe0c8-670d-4e7e-aa37-f273b44dd4bc",
   "metadata": {},
   "outputs": [],
   "source": [
    "#Salvando em Parquet\n",
    "merge_table.to_parquet('../data/stage/3m/customers_transactions_vouchers_ratings.parquet')"
   ]
  },
  {
   "cell_type": "code",
   "execution_count": 11,
   "id": "9f82d129-70c0-4de7-89b9-27a576d8aef4",
   "metadata": {},
   "outputs": [
    {
     "name": "stdout",
     "output_type": "stream",
     "text": [
      "<class 'pandas.core.frame.DataFrame'>\n",
      "Int64Index: 1984732 entries, 0 to 1984731\n",
      "Columns: 174 entries, consumer_id to day_ptt_ratings\n",
      "dtypes: datetime64[ns](2), float32(3), float64(43), int64(12), object(114)\n",
      "memory usage: 2.6+ GB\n"
     ]
    }
   ],
   "source": [
    "merge_table.info()"
   ]
  },
  {
   "cell_type": "code",
   "execution_count": null,
   "id": "e6388ba4-d704-4dec-ba24-10b2b748a1bb",
   "metadata": {},
   "outputs": [],
   "source": []
  }
 ],
 "metadata": {
  "kernelspec": {
   "display_name": "Python 3 (ipykernel)",
   "language": "python",
   "name": "python3"
  },
  "language_info": {
   "codemirror_mode": {
    "name": "ipython",
    "version": 3
   },
   "file_extension": ".py",
   "mimetype": "text/x-python",
   "name": "python",
   "nbconvert_exporter": "python",
   "pygments_lexer": "ipython3",
   "version": "3.7.12"
  }
 },
 "nbformat": 4,
 "nbformat_minor": 5
}
